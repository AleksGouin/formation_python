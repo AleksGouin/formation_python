{
 "cells": [
  {
   "cell_type": "markdown",
   "metadata": {},
   "source": [
    "# Analyse de données\n",
    "\n",
    "On vous fournit une base déjà reformatée en tableau, qui est un extrait de DSN.\n",
    "Voici la documentation de la DSN : http://www.dsn-info.fr/documentation/dsn_cahier_technique_p3.5.pdf\n",
    "\n",
    "On vous demande de faire la data-prep et de prévoir l'absentéisme."
   ]
  },
  {
   "cell_type": "code",
   "execution_count": 1,
   "metadata": {},
   "outputs": [],
   "source": [
    "import pandas as pd"
   ]
  },
  {
   "cell_type": "code",
   "execution_count": 2,
   "metadata": {},
   "outputs": [],
   "source": [
    "df = pd.read_csv(\"subset_dsn.csv\")"
   ]
  },
  {
   "cell_type": "code",
   "execution_count": 4,
   "metadata": {},
   "outputs": [
    {
     "data": {
      "text/plain": [
       "(2617, 93)"
      ]
     },
     "execution_count": 4,
     "metadata": {},
     "output_type": "execute_result"
    }
   ],
   "source": [
    "df.shape"
   ]
  },
  {
   "cell_type": "markdown",
   "metadata": {},
   "source": [
    "# 1) regarder une ligne"
   ]
  },
  {
   "cell_type": "code",
   "execution_count": 25,
   "metadata": {},
   "outputs": [],
   "source": [
    "colonnes = df.columns"
   ]
  },
  {
   "cell_type": "code",
   "execution_count": 27,
   "metadata": {},
   "outputs": [
    {
     "name": "stdout",
     "output_type": "stream",
     "text": [
      "('S21.G00.40.001', 'Date de début du contrat')\n"
     ]
    }
   ],
   "source": [
    "colone_voulue = 8\n",
    "nom_colonne = colonnes[colone_voulue]\n",
    "print(nom_colonne)"
   ]
  },
  {
   "cell_type": "code",
   "execution_count": null,
   "metadata": {},
   "outputs": [],
   "source": [
    "une_ligne = df.sample()"
   ]
  },
  {
   "cell_type": "code",
   "execution_count": 28,
   "metadata": {},
   "outputs": [
    {
     "name": "stdout",
     "output_type": "stream",
     "text": [
      "['01102017']\n"
     ]
    }
   ],
   "source": [
    "# les dataframes sont composées d'objets de type \"serie\"\n",
    "serie = une_ligne[nom_colonne]\n",
    "# une série contient un tableau de valeur\n",
    "print(serie.values)"
   ]
  },
  {
   "cell_type": "code",
   "execution_count": 16,
   "metadata": {},
   "outputs": [
    {
     "data": {
      "text/plain": [
       "str"
      ]
     },
     "execution_count": 16,
     "metadata": {},
     "output_type": "execute_result"
    }
   ],
   "source": [
    "type(nom_de_colonne)"
   ]
  },
  {
   "cell_type": "code",
   "execution_count": null,
   "metadata": {},
   "outputs": [],
   "source": []
  },
  {
   "cell_type": "code",
   "execution_count": 15,
   "metadata": {
    "scrolled": false
   },
   "outputs": [
    {
     "name": "stdout",
     "output_type": "stream",
     "text": [
      "0 Unnamed: 0 [802]\n",
      "1 Unnamed: 0.1 [802]\n",
      "2 Unnamed: 0.1.1 [802]\n",
      "3 ('S21.G00.30.005', 'Sexe') [1]\n",
      "4 ('S21.G00.30.006', 'Date de naissance') [31081982]\n",
      "5 ('S21.G00.30.020', 'Numéro technique temporaire') [nan]\n",
      "6 ('S21.G00.30.023', 'Embauche') [1]\n",
      "7 ('S21.G00.31.001', 'Date de la modification') [nan]\n",
      "8 ('S21.G00.40.001', 'Date de début du contrat') ['27022017']\n",
      "9 ('S21.G00.40.002', 'Statut du salarié (conventionnel)') ['06']\n",
      "10 ('S21.G00.40.003', 'Code statut catégoriel Retraite Complémentaire obligatoire') ['04']\n",
      "11 ('S21.G00.40.004', 'Code profession et catégorie socioprofessionnelle (PCS-ESE)') ['551A']\n",
      "12 ('S21.G00.40.005', 'Code complément PCS-ESE') [nan]\n",
      "13 ('S21.G00.40.006', \"Libellé de l'emploi\") ['MANUTENTIONNAIRE']\n",
      "14 ('S21.G00.40.007', 'Nature du contrat') ['01']\n",
      "15 ('S21.G00.40.008', 'Dispositif de politique publique et conventionnel') ['99']\n",
      "16 ('S21.G00.40.009', 'Numéro du contrat') [8266833611804748366]\n",
      "17 ('S21.G00.40.010', 'Date de fin prévisionnelle du contrat') [nan]\n",
      "18 ('S21.G00.40.011', 'Unité de mesure de la quotité de travail') ['10']\n",
      "19 ('S21.G00.40.012', \"Quotité de travail de référence de l'entreprise pour la catégorie de salarié\") ['162.50']\n",
      "20 ('S21.G00.40.013', 'Quotité de travail du contrat') ['162.50']\n",
      "21 ('S21.G00.40.014', \"Modalité d'exercice du temps de travail\") ['10']\n",
      "22 ('S21.G00.40.016', 'Complément de base au régime obligatoire') ['99']\n",
      "23 ('S21.G00.40.017', 'Code convention collective applicable') ['1760']\n",
      "24 ('S21.G00.40.018', 'Code régime de base risque maladie') ['200']\n",
      "25 ('S21.G00.40.019', 'Identifiant du lieu de travail') [4850340338228169722]\n",
      "26 ('S21.G00.40.020', 'Code régime de base risque vieillesse') ['200']\n",
      "27 ('S21.G00.40.021', 'Motif de recours') [nan]\n",
      "28 ('S21.G00.40.024', \"Travailleur à l'étranger au sens du code de la Sécurité Sociale\") ['99']\n",
      "29 ('S21.G00.40.026', \"Statut d'emploi du salarié\") ['99']\n",
      "30 ('S21.G00.40.036', 'Code emplois multiples') ['01']\n",
      "31 ('S21.G00.40.037', 'Code employeurs multiples') ['01']\n",
      "32 ('S21.G00.40.039', 'Code régime de base risque accident du travail') ['200']\n",
      "33 ('S21.G00.40.040', 'Code risque accident du travail') ['524XB']\n",
      "34 ('S21.G00.40.041', 'Positionnement dans la convention collective') ['EMPLOYE/TECHNICIEN      COEFFICIENT 00155,00']\n",
      "35 ('S21.G00.40.043', 'Taux de cotisation accident du travail') ['2.77']\n",
      "36 ('S21.G00.40.044', 'Salarié à temps partiel cotisant à temps plein') [nan]\n",
      "37 ('S21.G00.41.001', 'Date de la modification') [nan]\n",
      "38 ('S21.G00.41.003', 'Ancien Code statut catégoriel Retraite Complémentaire obligatoire') [nan]\n",
      "39 ('S21.G00.41.007', 'Ancienne Quotité de travail du contrat') [nan]\n",
      "40 ('S21.G00.41.008', \"Ancienne Modalité d'exercice du temps de travail\") [nan]\n",
      "41 ('S21.G00.41.012', \"SIRET ancien établissement d'affectation\") [0]\n",
      "42 ('S21.G00.41.013', 'Ancien Identifiant du lieu de travail') [nan]\n",
      "43 ('S21.G00.41.019', 'Ancien Code profession et catégorie socioprofessionnelle (PCS-ESE) ') [nan]\n",
      "44 ('S21.G00.41.022', \"Ancienne Quotité de travail de référence de l'entreprise pour la catégorie de salarié\") [nan]\n",
      "45 ('S21.G00.41.027', 'Ancien Salarié à temps partiel cotisant à temps plein') [nan]\n",
      "46 ('S21.G00.50.001', 'Date de versement') ['30092018']\n",
      "47 ('S21.G00.50.002', 'Rémunération nette fiscale') ['1339.20']\n",
      "48 ('S21.G00.50.003', 'Numéro de versement') ['01']\n",
      "49 ('S21.G00.50.004', 'Montant net versé') ['1226.97']\n",
      "50 ('S21.G00.51.001', 'Date de début de période de paie') [\"['01092018', '01092018', '01092018', '01092018', '01092018']\"]\n",
      "51 ('S21.G00.51.002', 'Date de fin de période de paie') [\"['30092018', '30092018', '30092018', '30092018', '30092018']\"]\n",
      "52 ('S21.G00.51.010', 'Numéro du contrat') [8021507954474317089]\n",
      "53 ('S21.G00.51.011', 'Type') [\"['001', '002', '003', '010', '011']\"]\n",
      "54 ('S21.G00.51.012', \"Nombre d'heures\") ['11.83']\n",
      "55 ('S21.G00.51.013', 'Montant') [\"['1637.55', '1637.55', '1637.55', '1498.50', '118.12']\"]\n",
      "56 ('S21.G00.52.001', 'Type') [nan]\n",
      "57 ('S21.G00.52.002', 'Montant') [nan]\n",
      "58 ('S21.G00.52.003', 'Date de début de la période de rattachement') [nan]\n",
      "59 ('S21.G00.52.004', 'Date de fin de la période de rattachement') [nan]\n",
      "60 ('S21.G00.53.001', 'Type') [\"['01', '01', '01', '01', '01']\"]\n",
      "61 ('S21.G00.53.002', 'Mesure') [\"['163.50', '163.50', '163.50', '163.50', '163.50']\"]\n",
      "62 ('S21.G00.53.003', 'Unité de mesure') [\"['10', '10', '10', '10', '10']\"]\n",
      "63 ('S21.G00.54.001', 'Type') ['17']\n",
      "64 ('S21.G00.54.002', 'Montant') ['54.60']\n",
      "65 ('S21.G00.54.003', 'Date de début de période de rattachement') ['01092018']\n",
      "66 ('S21.G00.54.004', 'Date de fin de période de rattachement') ['30092018']\n",
      "67 ('S21.G00.60.001', \"Motif de l'arrêt\") [nan]\n",
      "68 ('S21.G00.60.002', 'Date du dernier jour travaillé') [nan]\n",
      "69 ('S21.G00.60.003', 'Date de fin prévisionnelle') [nan]\n",
      "70 ('S21.G00.60.010', 'Date de la reprise') [nan]\n",
      "71 ('S21.G00.60.011', 'Motif de la reprise') [nan]\n",
      "72 ('S21.G00.62.001', 'Date de fin du contrat') [nan]\n",
      "73 ('S21.G00.62.002', 'Motif de la rupture du contrat') [nan]\n",
      "74 ('S21.G00.62.006', 'Dernier jour travaillé et payé au salaire habituel') [nan]\n",
      "75 ('S21.G00.65.001', 'Motif de suspension') [nan]\n",
      "76 ('S21.G00.65.002', 'Date de début de la suspension') [nan]\n",
      "77 ('S21.G00.65.003', 'Date de fin de la suspension') [nan]\n",
      "78 ('S21.G00.70.004', 'Code option retenue par le salarié') [\"['P00006497101', 'P00004844902']\"]\n",
      "79 ('S21.G00.70.005', 'Code population de rattachement') [\"['001200', '060200']\"]\n",
      "80 ('S21.G00.70.007', \"Nombre d'enfants à charge\") [\"['0', '0']\"]\n",
      "81 ('S21.G00.70.008', \"Nombre d'adultes ayants-droit (conjoint, concubin, ...) \") [\"['0', '0']\"]\n",
      "82 ('S21.G00.70.009', \"Nombre d'ayants-droit\") [\"['0', '0']\"]\n",
      "83 ('S21.G00.70.010', \"Nombre d'ayants-droit autres (ascendants, collatéraux...)\") [\"['0', '0']\"]\n",
      "84 ('S21.G00.70.011', \"Nombre d'enfants ayants-droit\") [\"['0', '0']\"]\n",
      "85 ('S21.G00.70.012', 'Identifiant technique Affiliation') [3459048255974703064]\n",
      "86 ('S21.G00.70.013', 'Identifiant technique Adhésion') [8151159325541050343]\n",
      "87 ('S21.G00.70.014', nan) [nan]\n",
      "88 ('S21.G00.86.001', 'Type') [\"['01', '02']\"]\n",
      "89 ('S21.G00.86.002', 'Unité de mesure') [\"['01', '01']\"]\n",
      "90 ('S21.G00.86.003', 'Valeur') [\"['581', '735']\"]\n",
      "91 ('S21.G00.86.005', 'Numéro du contrat') [6586170110074774951]\n",
      "92 Unnamed: 0.1.1.1 [802]\n"
     ]
    }
   ],
   "source": [
    "for numero_col, nom_de_colonne in enumerate(une_ligne):\n",
    "    serie = une_ligne[nom_de_colonne]\n",
    "    print(numero_col, nom_de_colonne, serie.values)"
   ]
  },
  {
   "cell_type": "code",
   "execution_count": null,
   "metadata": {},
   "outputs": [],
   "source": []
  }
 ],
 "metadata": {
  "kernelspec": {
   "display_name": "Python 3",
   "language": "python",
   "name": "python3"
  },
  "language_info": {
   "codemirror_mode": {
    "name": "ipython",
    "version": 3
   },
   "file_extension": ".py",
   "mimetype": "text/x-python",
   "name": "python",
   "nbconvert_exporter": "python",
   "pygments_lexer": "ipython3",
   "version": "3.6.5"
  }
 },
 "nbformat": 4,
 "nbformat_minor": 2
}
