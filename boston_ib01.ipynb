{
 "cells": [
  {
   "cell_type": "markdown",
   "metadata": {},
   "source": [
    "# -1)  imports"
   ]
  },
  {
   "cell_type": "code",
   "execution_count": 106,
   "metadata": {},
   "outputs": [],
   "source": [
    "import sklearn\n",
    "import pandas           as     pd\n",
    "from   sklearn.datasets import load_boston\n"
   ]
  },
  {
   "cell_type": "markdown",
   "metadata": {},
   "source": [
    "# 0) récupération de data"
   ]
  },
  {
   "cell_type": "code",
   "execution_count": 107,
   "metadata": {},
   "outputs": [
    {
     "data": {
      "text/plain": [
       "((506, 13), (506, 1))"
      ]
     },
     "execution_count": 107,
     "metadata": {},
     "output_type": "execute_result"
    }
   ],
   "source": [
    "boston = load_boston()\n",
    "boston.DESCR # description\n",
    "X = pd.DataFrame(boston.data)\n",
    "Y = pd.DataFrame(boston.target)\n",
    "X.columns = boston.feature_names\n",
    "X.shape, Y.shape"
   ]
  },
  {
   "cell_type": "markdown",
   "metadata": {},
   "source": [
    "# 1) division en jeu de train / test / validation"
   ]
  },
  {
   "cell_type": "code",
   "execution_count": 108,
   "metadata": {},
   "outputs": [
    {
     "name": "stdout",
     "output_type": "stream",
     "text": [
      "80% =  (404, 13) (404, 1)\n",
      "20% =  (102, 13) (102, 1)\n"
     ]
    }
   ],
   "source": [
    "from sklearn.model_selection import train_test_split\n",
    "X_train, X_test, Y_train, Y_test = train_test_split(X, Y, test_size=0.2)\n",
    "print(\"80% = \", X_train.shape,  Y_train.shape)\n",
    "print(\"20% = \", X_test.shape,Y_test.shape)"
   ]
  },
  {
   "cell_type": "markdown",
   "metadata": {},
   "source": [
    "## 1.2) création d'un jeu de validation"
   ]
  },
  {
   "cell_type": "code",
   "execution_count": 109,
   "metadata": {},
   "outputs": [
    {
     "name": "stdout",
     "output_type": "stream",
     "text": [
      "X train  / Y train = (404, 13) (404, 1)\n",
      "X test  / Y test   = (81, 13) (81, 1)\n",
      "X valid / Y valid  = (21, 13) (21, 1)\n"
     ]
    }
   ],
   "source": [
    "X_test, X_validation, Y_test, Y_validation = train_test_split(X_test, Y_test, test_size=0.2)\n",
    "print(\"X train  / Y train =\" , X_train.shape, Y_train.shape)\n",
    "print(\"X test  / Y test   =\" , X_test.shape, Y_test.shape)\n",
    "print(\"X valid / Y valid  =\", X_validation.shape, Y_validation.shape)"
   ]
  },
  {
   "cell_type": "markdown",
   "metadata": {},
   "source": [
    "# 2) modélisation de Y par X"
   ]
  },
  {
   "cell_type": "code",
   "execution_count": 138,
   "metadata": {},
   "outputs": [],
   "source": [
    "import numpy as np"
   ]
  },
  {
   "cell_type": "code",
   "execution_count": 140,
   "metadata": {},
   "outputs": [
    {
     "data": {
      "text/plain": [
       "array([0.        , 0.11111111, 0.22222222, 0.33333333, 0.44444444,\n",
       "       0.55555556, 0.66666667, 0.77777778, 0.88888889, 1.        ])"
      ]
     },
     "execution_count": 140,
     "metadata": {},
     "output_type": "execute_result"
    }
   ],
   "source": []
  },
  {
   "cell_type": "code",
   "execution_count": 143,
   "metadata": {},
   "outputs": [
    {
     "data": {
      "text/html": [
       "<div>\n",
       "<style scoped>\n",
       "    .dataframe tbody tr th:only-of-type {\n",
       "        vertical-align: middle;\n",
       "    }\n",
       "\n",
       "    .dataframe tbody tr th {\n",
       "        vertical-align: top;\n",
       "    }\n",
       "\n",
       "    .dataframe thead th {\n",
       "        text-align: right;\n",
       "    }\n",
       "</style>\n",
       "<table border=\"1\" class=\"dataframe\">\n",
       "  <thead>\n",
       "    <tr style=\"text-align: right;\">\n",
       "      <th></th>\n",
       "      <th>0</th>\n",
       "    </tr>\n",
       "  </thead>\n",
       "  <tbody>\n",
       "    <tr>\n",
       "      <th>elasticnet</th>\n",
       "      <td>0.556643</td>\n",
       "    </tr>\n",
       "    <tr>\n",
       "      <th>lasso</th>\n",
       "      <td>0.549983</td>\n",
       "    </tr>\n",
       "    <tr>\n",
       "      <th>ridge_alpha</th>\n",
       "      <td>0.610058</td>\n",
       "    </tr>\n",
       "    <tr>\n",
       "      <th>ridge_alpha_0.0</th>\n",
       "      <td>0.615142</td>\n",
       "    </tr>\n",
       "    <tr>\n",
       "      <th>ridge_alpha_0.1111111111111111</th>\n",
       "      <td>0.614603</td>\n",
       "    </tr>\n",
       "    <tr>\n",
       "      <th>ridge_alpha_0.2222222222222222</th>\n",
       "      <td>0.614004</td>\n",
       "    </tr>\n",
       "    <tr>\n",
       "      <th>ridge_alpha_0.3333333333333333</th>\n",
       "      <td>0.613386</td>\n",
       "    </tr>\n",
       "    <tr>\n",
       "      <th>ridge_alpha_0.4444444444444444</th>\n",
       "      <td>0.612772</td>\n",
       "    </tr>\n",
       "    <tr>\n",
       "      <th>ridge_alpha_0.5555555555555556</th>\n",
       "      <td>0.612176</td>\n",
       "    </tr>\n",
       "    <tr>\n",
       "      <th>ridge_alpha_0.6666666666666666</th>\n",
       "      <td>0.611605</td>\n",
       "    </tr>\n",
       "    <tr>\n",
       "      <th>ridge_alpha_0.7777777777777777</th>\n",
       "      <td>0.611061</td>\n",
       "    </tr>\n",
       "    <tr>\n",
       "      <th>ridge_alpha_0.8888888888888888</th>\n",
       "      <td>0.610545</td>\n",
       "    </tr>\n",
       "    <tr>\n",
       "      <th>ridge_alpha_1.0</th>\n",
       "      <td>0.610058</td>\n",
       "    </tr>\n",
       "  </tbody>\n",
       "</table>\n",
       "</div>"
      ],
      "text/plain": [
       "                                       0\n",
       "elasticnet                      0.556643\n",
       "lasso                           0.549983\n",
       "ridge_alpha                     0.610058\n",
       "ridge_alpha_0.0                 0.615142\n",
       "ridge_alpha_0.1111111111111111  0.614603\n",
       "ridge_alpha_0.2222222222222222  0.614004\n",
       "ridge_alpha_0.3333333333333333  0.613386\n",
       "ridge_alpha_0.4444444444444444  0.612772\n",
       "ridge_alpha_0.5555555555555556  0.612176\n",
       "ridge_alpha_0.6666666666666666  0.611605\n",
       "ridge_alpha_0.7777777777777777  0.611061\n",
       "ridge_alpha_0.8888888888888888  0.610545\n",
       "ridge_alpha_1.0                 0.610058"
      ]
     },
     "execution_count": 143,
     "metadata": {},
     "output_type": "execute_result"
    }
   ],
   "source": [
    "from sklearn import linear_model\n",
    "algos = { \"lasso\"      : linear_model.Lasso()         ,\n",
    "          \"elasticnet\" : linear_model.ElasticNet()    , \n",
    "          \"ridge_alpha\"      : linear_model.Ridge(),\n",
    "        }\n",
    "for alpha in np.linspace(0,1,10):\n",
    "    algos[\"ridge_alpha_{alpha}\".format(alpha=alpha)] = linear_model.Ridge(alpha=alpha)\n",
    "\n",
    "results = {}\n",
    "for nom_algo in algos.keys():    \n",
    "    algorithme        = algos[nom_algo]\n",
    "    \n",
    "    modele            = algorithme.fit(X_train, Y_train)\n",
    "    score             = modele.score(X_test, Y_test)\n",
    "    results[nom_algo] = score\n",
    "    \n",
    "pd.DataFrame([results]).T"
   ]
  },
  {
   "cell_type": "code",
   "execution_count": 134,
   "metadata": {},
   "outputs": [],
   "source": [
    "algorithme        = algos[nom_algo]"
   ]
  }
 ],
 "metadata": {
  "kernelspec": {
   "display_name": "Python 3",
   "language": "python",
   "name": "python3"
  },
  "language_info": {
   "codemirror_mode": {
    "name": "ipython",
    "version": 3
   },
   "file_extension": ".py",
   "mimetype": "text/x-python",
   "name": "python",
   "nbconvert_exporter": "python",
   "pygments_lexer": "ipython3",
   "version": "3.6.5"
  }
 },
 "nbformat": 4,
 "nbformat_minor": 2
}
