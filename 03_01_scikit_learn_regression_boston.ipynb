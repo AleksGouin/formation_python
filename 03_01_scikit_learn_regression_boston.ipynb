{
 "cells": [
  {
   "cell_type": "markdown",
   "metadata": {},
   "source": [
    "# Scikit Learn"
   ]
  },
  {
   "cell_type": "markdown",
   "metadata": {},
   "source": [
    "# Régression sur le prix des maisons à boston"
   ]
  },
  {
   "cell_type": "markdown",
   "metadata": {},
   "source": [
    "## 1) Import de dataset"
   ]
  },
  {
   "cell_type": "code",
   "execution_count": 1,
   "metadata": {},
   "outputs": [],
   "source": [
    "from sklearn import datasets"
   ]
  },
  {
   "cell_type": "code",
   "execution_count": 2,
   "metadata": {},
   "outputs": [],
   "source": [
    "digits = datasets.load_digits()\n",
    "X = digits.data\n",
    "y = digits.target\n",
    "\n",
    "boston = datasets.load_boston()\n",
    "X = boston[\"data\"]\n",
    "y = boston[\"target\"]\n",
    "\n"
   ]
  },
  {
   "cell_type": "markdown",
   "metadata": {},
   "source": [
    "## 2) separer le jeu d'apprentissage du jeu de test"
   ]
  },
  {
   "cell_type": "code",
   "execution_count": 6,
   "metadata": {},
   "outputs": [],
   "source": [
    "from sklearn.model_selection import train_test_split"
   ]
  },
  {
   "cell_type": "code",
   "execution_count": 3,
   "metadata": {},
   "outputs": [
    {
     "name": "stderr",
     "output_type": "stream",
     "text": [
      "/Applications/anaconda3/lib/python3.7/site-packages/sklearn/cross_validation.py:41: DeprecationWarning: This module was deprecated in version 0.18 in favor of the model_selection module into which all the refactored classes and functions are moved. Also note that the interface of the new CV iterators are different from that of this module. This module will be removed in 0.20.\n",
      "  \"This module will be removed in 0.20.\", DeprecationWarning)\n"
     ]
    }
   ],
   "source": [
    "from sklearn.cross_validation import train_test_split"
   ]
  },
  {
   "cell_type": "code",
   "execution_count": 7,
   "metadata": {},
   "outputs": [],
   "source": [
    "X_train, X_test, y_train, y_test = train_test_split(X, y, test_size=0.33)"
   ]
  },
  {
   "cell_type": "markdown",
   "metadata": {},
   "source": [
    "## 3) Standardiser les valeurs"
   ]
  },
  {
   "cell_type": "code",
   "execution_count": 8,
   "metadata": {},
   "outputs": [],
   "source": [
    "from sklearn.preprocessing import StandardScaler\n",
    "scaler = StandardScaler()\n",
    "scaler.fit(X_train)                 # Il ne faut fiter que sur les data d'entrainement\n",
    "X_train = scaler.transform(X_train)\n",
    "X_test  = scaler.transform(X_test)  # apply same transformation to test data"
   ]
  },
  {
   "cell_type": "markdown",
   "metadata": {},
   "source": [
    "## 4) choisir un algo et le tester\n",
    "exemple : Support Vector Machine"
   ]
  },
  {
   "cell_type": "code",
   "execution_count": 16,
   "metadata": {},
   "outputs": [
    {
     "data": {
      "text/plain": [
       "array([ 0.7002155 ,  0.31447767, -0.44395345])"
      ]
     },
     "execution_count": 16,
     "metadata": {},
     "output_type": "execute_result"
    }
   ],
   "source": [
    "from sklearn import svm\n",
    "svr = svm.SVR(kernel='linear')\n",
    "\n",
    "from sklearn import cross_validation\n",
    "cross_validation.cross_val_score(svr, X, y, n_jobs=-1)"
   ]
  },
  {
   "cell_type": "markdown",
   "metadata": {},
   "source": [
    "## 5) aller au delà des paramètres par défaut avec un grid search"
   ]
  },
  {
   "cell_type": "code",
   "execution_count": 13,
   "metadata": {},
   "outputs": [],
   "source": [
    "from sklearn import cross_validation\n",
    "from sklearn import grid_search\n",
    "parameters = {  'gamma' : [0.01, 0.1, 0.5]           }\n",
    "grid       = grid_search.GridSearchCV(svm.SVR(), parameters, n_jobs=-1)\n",
    "grid.fit(X_train, y_train)\n",
    "print (grid.best_score_, grid.best_estimator_)"
   ]
  },
  {
   "cell_type": "markdown",
   "metadata": {},
   "source": [
    "## 5.1) affiner le grid search"
   ]
  },
  {
   "cell_type": "code",
   "execution_count": 34,
   "metadata": {},
   "outputs": [
    {
     "name": "stdout",
     "output_type": "stream",
     "text": [
      "0.564272956791 SVR(C=1.5, cache_size=200, coef0=0.0, degree=3, epsilon=0.1, gamma=0.1,\n",
      "  kernel='rbf', max_iter=-1, shrinking=True, tol=0.001, verbose=False)\n"
     ]
    }
   ],
   "source": [
    "parameters = {  'C'      : [0.5, 1, 1.5]             ,\n",
    "                'gamma'  : [0.5, 0.1, 0.15]      }\n",
    "grid = grid_search.GridSearchCV(svm.SVR(), parameters, n_jobs=-1)\n",
    "grid.fit(X_train, y_train)\n",
    "print grid.best_score_, grid.best_estimator_"
   ]
  },
  {
   "cell_type": "code",
   "execution_count": 35,
   "metadata": {},
   "outputs": [
    {
     "name": "stdout",
     "output_type": "stream",
     "text": [
      "0.672021351295 SVR(C=2.5, cache_size=200, coef0=0.0, degree=3, epsilon=0.1, gamma=0.05,\n",
      "  kernel='rbf', max_iter=-1, shrinking=True, tol=0.001, verbose=False)\n"
     ]
    }
   ],
   "source": [
    "parameters = {  'C'      : [1.5, 2, 2.5]   ,\n",
    "                'kernel' : ['rbf', 'poly', 'sigmoid'],\n",
    "                'gamma'  : [ 0.05, 0.10, 0.15] }\n",
    "grid = grid_search.GridSearchCV(svm.SVR(), parameters, n_jobs=-1)\n",
    "grid.fit(X_train, y_train)\n",
    "print grid.best_score_, grid.best_estimator_\n"
   ]
  },
  {
   "cell_type": "code",
   "execution_count": 36,
   "metadata": {},
   "outputs": [
    {
     "name": "stdout",
     "output_type": "stream",
     "text": [
      "0.706920845534 SVR(C=4, cache_size=200, coef0=0.0, degree=1, epsilon=0.1, gamma=0.05,\n",
      "  kernel='rbf', max_iter=-1, shrinking=True, tol=0.001, verbose=False)\n"
     ]
    }
   ],
   "source": [
    "parameters = {  'C'       : [2.5, 3, 4]   ,\n",
    "                'kernel'  : ['rbf', 'poly', 'sigmoid'],\n",
    "                'gamma'   : [ 0.01, 0.05, 0.07],\n",
    "                 \"degree\" : [1,3,5]}\n",
    "grid = grid_search.GridSearchCV(svm.SVR(), parameters, n_jobs=-1)\n",
    "grid.fit(X_train, y_train)\n",
    "print grid.best_score_, grid.best_estimator_\n"
   ]
  },
  {
   "cell_type": "code",
   "execution_count": 37,
   "metadata": {},
   "outputs": [
    {
     "name": "stdout",
     "output_type": "stream",
     "text": [
      "0.744120549013 SVR(C=7, cache_size=200, coef0=0.0, degree=1, epsilon=0.1, gamma=0.03,\n",
      "  kernel='rbf', max_iter=-1, shrinking=True, tol=0.001, verbose=False)\n"
     ]
    }
   ],
   "source": [
    "parameters = {  'C'       : [4, 5, 6, 7]   ,\n",
    "                'kernel'  : ['rbf'],\n",
    "                'gamma'   : [ 0.03, 0.05, 0.07],\n",
    "                 \"degree\" : [1,2, 3]}\n",
    "grid = grid_search.GridSearchCV(svm.SVR(), parameters, n_jobs=-1)\n",
    "grid.fit(X_train, y_train)\n",
    "print grid.best_score_, grid.best_estimator_\n"
   ]
  },
  {
   "cell_type": "code",
   "execution_count": 38,
   "metadata": {},
   "outputs": [
    {
     "name": "stdout",
     "output_type": "stream",
     "text": [
      "0.770056777954 SVR(C=15, cache_size=200, coef0=0.0, degree=1, epsilon=0.1, gamma=0.04,\n",
      "  kernel='rbf', max_iter=-1, shrinking=True, tol=0.001, verbose=False)\n"
     ]
    }
   ],
   "source": [
    "parameters = {  'C'       : [7, 10, 15]   ,\n",
    "                'kernel'  : ['rbf'],\n",
    "                'gamma'   : [ 0.02, 0.03, 0.04],\n",
    "                 \"degree\" : [1,2]}\n",
    "grid = grid_search.GridSearchCV(svm.SVR(), parameters, n_jobs=-1)\n",
    "grid.fit(X_train, y_train)\n",
    "print grid.best_score_, grid.best_estimator_\n"
   ]
  },
  {
   "cell_type": "code",
   "execution_count": 39,
   "metadata": {},
   "outputs": [
    {
     "name": "stdout",
     "output_type": "stream",
     "text": [
      "0.779777006678 SVR(C=30, cache_size=200, coef0=0.0, degree=1, epsilon=0.15, gamma=0.03,\n",
      "  kernel='rbf', max_iter=-1, shrinking=True, tol=0.001, verbose=False)\n"
     ]
    }
   ],
   "source": [
    "parameters = {  'C'       : [10, 15, 20, 30]   ,\n",
    "                'kernel'  : ['rbf'],\n",
    "                'gamma'   : [ 0.03],\n",
    "                  \"epsilon\" : [0.01, 0.05, 0.15],\n",
    "                 \"degree\" : [1,2]}\n",
    "grid = grid_search.GridSearchCV(svm.SVR(), parameters, n_jobs=-1)\n",
    "grid.fit(X_train, y_train)\n",
    "print grid.best_score_, grid.best_estimator_\n"
   ]
  },
  {
   "cell_type": "code",
   "execution_count": 40,
   "metadata": {},
   "outputs": [
    {
     "name": "stdout",
     "output_type": "stream",
     "text": [
      "0.803300187581 SVR(C=100, cache_size=200, coef0=0.0, degree=1, epsilon=1, gamma=0.03,\n",
      "  kernel='rbf', max_iter=-1, shrinking=True, tol=0.001, verbose=False)\n"
     ]
    }
   ],
   "source": [
    "parameters = {  'C'       : [30, 50, 100]   ,\n",
    "                'kernel'  : ['rbf'],\n",
    "                'gamma'   : [ 0.03],\n",
    "                  \"epsilon\" : [0.01, 0.05, 0.15, 0.5, 0.9, 1],\n",
    "                 \"degree\" : [1,2]}\n",
    "grid = grid_search.GridSearchCV(svm.SVR(), parameters, n_jobs=-1)\n",
    "grid.fit(X_train, y_train)\n",
    "print grid.best_score_, grid.best_estimator_\n"
   ]
  },
  {
   "cell_type": "code",
   "execution_count": 41,
   "metadata": {},
   "outputs": [
    {
     "name": "stdout",
     "output_type": "stream",
     "text": [
      "0.812370067012 SVR(C=260, cache_size=200, coef0=0.0, degree=1, epsilon=2.5, gamma=0.03,\n",
      "  kernel='rbf', max_iter=-1, shrinking=True, tol=0.001, verbose=False)\n"
     ]
    }
   ],
   "source": [
    "parameters = {  'C'       : [190, 200, 250, 260]   ,\n",
    "                'kernel'  : ['rbf'],\n",
    "                'gamma'   : [ 0.03],\n",
    "                  \"epsilon\" : [1.5, 2, 2.5],\n",
    "                 \"degree\" : [1,2]}\n",
    "grid = grid_search.GridSearchCV(svm.SVR(), parameters, n_jobs=-1)\n",
    "grid.fit(X_train, y_train)\n",
    "print grid.best_score_, grid.best_estimator_\n"
   ]
  },
  {
   "cell_type": "markdown",
   "metadata": {},
   "source": [
    "# On aurait pu faire une fonction de test : "
   ]
  },
  {
   "cell_type": "code",
   "execution_count": 38,
   "metadata": {},
   "outputs": [],
   "source": [
    "def test_hyperparametres(hyperparametres):\n",
    "    grid       = grid_search.GridSearchCV(svm.SVR(), hyperparametres, n_jobs=-1)\n",
    "    grid.fit(X_train, y_train)\n",
    "    print (grid.best_score_, grid.best_estimator_)    \n",
    "    return grid.best_score_, grid.best_estimator_\n",
    "    "
   ]
  },
  {
   "cell_type": "code",
   "execution_count": 39,
   "metadata": {},
   "outputs": [
    {
     "name": "stdout",
     "output_type": "stream",
     "text": [
      "0.8393228851541024 SVR(C=200, cache_size=200, coef0=0.0, degree=3, epsilon=0.1, gamma=0.015,\n",
      "  kernel='rbf', max_iter=-1, shrinking=True, tol=0.001, verbose=False)\n"
     ]
    },
    {
     "data": {
      "text/plain": [
       "(0.8393228851541024,\n",
       " SVR(C=200, cache_size=200, coef0=0.0, degree=3, epsilon=0.1, gamma=0.015,\n",
       "   kernel='rbf', max_iter=-1, shrinking=True, tol=0.001, verbose=False))"
      ]
     },
     "execution_count": 39,
     "metadata": {},
     "output_type": "execute_result"
    }
   ],
   "source": [
    "hyperparametres = {  'gamma' : [0.01, 0.1, 0.5, 0.015]          ,\n",
    "                  \"kernel\" : ['linear', 'poly', 'rbf', 'sigmoid',  ],\n",
    "                  \"C\" : [105, 200]}\n",
    "test_hyperparametres(hyperparametres)"
   ]
  },
  {
   "cell_type": "code",
   "execution_count": 43,
   "metadata": {},
   "outputs": [],
   "source": [
    "from sklearn.linear_model import Lasso"
   ]
  },
  {
   "cell_type": "code",
   "execution_count": 80,
   "metadata": {},
   "outputs": [],
   "source": [
    "def test_hyperparametres(algo, hyperparametres):\n",
    "    grid       = grid_search.GridSearchCV(algo, hyperparametres, n_jobs=-1)\n",
    "    grid.fit(X_train, y_train)\n",
    "    print (grid.best_score_, grid.best_estimator_)    \n",
    "    return grid.best_score_, grid.best_estimator_\n"
   ]
  },
  {
   "cell_type": "code",
   "execution_count": 88,
   "metadata": {
    "scrolled": true
   },
   "outputs": [
    {
     "name": "stdout",
     "output_type": "stream",
     "text": [
      "0.7102394048117638 Lasso(alpha=0.1, copy_X=True, fit_intercept=True, max_iter=1000,\n",
      "   normalize=False, positive=False, precompute=False, random_state=None,\n",
      "   selection='cyclic', tol=0.0001, warm_start=False)\n"
     ]
    }
   ],
   "source": [
    "algo = Lasso()\n",
    "params = {\"max_iter\" : [ 1000],\n",
    "         \"alpha\" : [0.1], \n",
    "         \"selection\": [\"random\", \"cyclic\"]}\n",
    "grid       = grid_search.GridSearchCV(algo, params, n_jobs=-1)\n",
    "grid.fit(X_train, y_train)\n",
    "print (grid.best_score_, grid.best_estimator_)    \n"
   ]
  },
  {
   "cell_type": "markdown",
   "metadata": {},
   "source": [
    "# Import de xgboost"
   ]
  },
  {
   "cell_type": "code",
   "execution_count": 42,
   "metadata": {},
   "outputs": [
    {
     "name": "stdout",
     "output_type": "stream",
     "text": [
      "\r\n",
      "Usage:   \r\n",
      "  pip install [options] <requirement specifier> [package-index-options] ...\r\n",
      "  pip install [options] -r <requirements file> [package-index-options] ...\r\n",
      "  pip install [options] [-e] <vcs project url> ...\r\n",
      "  pip install [options] [-e] <local project path> ...\r\n",
      "  pip install [options] <archive url/path> ...\r\n",
      "\r\n",
      "no such option: -y\r\n"
     ]
    }
   ],
   "source": [
    "!pip install xgboost"
   ]
  },
  {
   "cell_type": "code",
   "execution_count": 89,
   "metadata": {},
   "outputs": [],
   "source": [
    "from xgboost import XGBRegressor\n",
    "\n",
    "algo = XGBRegressor()"
   ]
  },
  {
   "cell_type": "code",
   "execution_count": 102,
   "metadata": {},
   "outputs": [
    {
     "data": {
      "text/plain": [
       "str"
      ]
     },
     "execution_count": 102,
     "metadata": {},
     "output_type": "execute_result"
    }
   ],
   "source": [
    "type(default_value)"
   ]
  },
  {
   "cell_type": "code",
   "execution_count": 106,
   "metadata": {},
   "outputs": [],
   "source": [
    "default_value"
   ]
  },
  {
   "cell_type": "code",
   "execution_count": 114,
   "metadata": {},
   "outputs": [
    {
     "name": "stdout",
     "output_type": "stream",
     "text": [
      "base_score 0.5 [0.45, 0.5, 0.55]\n",
      "booster gbtree [0.45, 0.5, 0.55]\n",
      "colsample_bylevel 1 [-1, 1, 3]\n",
      "colsample_bytree 1 [-1, 1, 3]\n",
      "learning_rate 0.1 [0.09, 0.1, 0.11000000000000001]\n",
      "max_depth 3 [-3, 3, 9]\n",
      "min_child_weight 1 [-1, 1, 3]\n",
      "n_estimators 100 [-100, 100, 300]\n",
      "n_jobs 1 [-1, 1, 3]\n",
      "objective reg:linear [-1, 1, 3]\n",
      "reg_lambda 1 [-1, 1, 3]\n",
      "scale_pos_weight 1 [-1, 1, 3]\n",
      "silent True [True, False]\n",
      "subsample 1 [-1, 1, 3]\n"
     ]
    }
   ],
   "source": [
    "default_hyperparameters = algo.get_params()\n",
    "espace_de_Recherche = {}\n",
    "for i, hyperparam in enumerate(default_hyperparameters):\n",
    "    default_value = default_hyperparameters[hyperparam]\n",
    "    if default_value:\n",
    "        if type(default_value) == int:\n",
    "            delta = default_value * 2\n",
    "            valeurs_de_recherches = [default_value-delta,default_value, default_value+ delta]\n",
    "        if type(default_value) == float:\n",
    "            delta = default_value * 0.1\n",
    "            valeurs_de_recherches = [default_value-delta,default_value, default_value+ delta]\n",
    "        if type(default_value) == bool:\n",
    "            valeurs_de_recherches = [True, False]\n",
    "        espace_de_Recherche[hyperparam]=valeurs_de_recherches\n",
    "        print(hyperparam, default_value, valeurs_de_recherches)\n",
    "espace_de_Recherche[\"n_jobs\"]=[-1]"
   ]
  },
  {
   "cell_type": "code",
   "execution_count": 115,
   "metadata": {},
   "outputs": [],
   "source": [
    "def test_hyperparametres(algo, hyperparametres):\n",
    "    grid       = grid_search.GridSearchCV(algo, hyperparametres, n_jobs=-1)\n",
    "    grid.fit(X_train, y_train)\n",
    "    print (grid.best_score_, grid.best_estimator_)    \n",
    "    return grid.best_score_, grid.best_estimator_\n"
   ]
  },
  {
   "cell_type": "code",
   "execution_count": 156,
   "metadata": {},
   "outputs": [
    {
     "name": "stdout",
     "output_type": "stream",
     "text": [
      "0.8674334701155907 XGBRegressor(base_score=0.5, booster='gbtree', colsample_bylevel=1,\n",
      "       colsample_bytree=1, gamma=1.2, learning_rate=0.1, max_delta_step=0,\n",
      "       max_depth=5, min_child_weight=1, missing=None, n_estimators=100,\n",
      "       n_jobs=1, nthread=None, objective='reg:linear', random_state=0,\n",
      "       reg_alpha=0, reg_lambda=1, scale_pos_weight=1, seed=None,\n",
      "       silent=True, subsample=1)\n"
     ]
    },
    {
     "data": {
      "text/plain": [
       "(0.8674334701155907,\n",
       " XGBRegressor(base_score=0.5, booster='gbtree', colsample_bylevel=1,\n",
       "        colsample_bytree=1, gamma=1.2, learning_rate=0.1, max_delta_step=0,\n",
       "        max_depth=5, min_child_weight=1, missing=None, n_estimators=100,\n",
       "        n_jobs=1, nthread=None, objective='reg:linear', random_state=0,\n",
       "        reg_alpha=0, reg_lambda=1, scale_pos_weight=1, seed=None,\n",
       "        silent=True, subsample=1))"
      ]
     },
     "execution_count": 156,
     "metadata": {},
     "output_type": "execute_result"
    }
   ],
   "source": [
    "espace_de_Recherche = {\n",
    "    \"max_depth\" : [1,5,10],\n",
    "    \"gamma\" : [0.5, 1, 1.1, 1.2, 1.5]\n",
    "}\n",
    "test_hyperparametres(XGBRegressor(), espace_de_Recherche)"
   ]
  },
  {
   "cell_type": "code",
   "execution_count": 123,
   "metadata": {},
   "outputs": [
    {
     "data": {
      "text/plain": [
       "0.8395298044638779"
      ]
     },
     "execution_count": 123,
     "metadata": {},
     "output_type": "execute_result"
    }
   ],
   "source": [
    "modele = algo.fit(X_train, y_train)\n",
    "\n",
    "modele.score(X_test, y_test)"
   ]
  },
  {
   "cell_type": "markdown",
   "metadata": {},
   "source": [
    "# 6) tester tous les algorithmes"
   ]
  },
  {
   "cell_type": "code",
   "execution_count": 129,
   "metadata": {},
   "outputs": [],
   "source": [
    "def get_sklearn_algorithms(verbose = False):\n",
    "    \"\"\"\n",
    "    Explore all submodule of sklearn and fetch functions having a 'fit' attribute.\n",
    "    \n",
    "    Be careful : some functions are not models (ex : crossvalidators)\n",
    "    Parameters :\n",
    "        debug = print or not stuff on console\n",
    "    Return :\n",
    "        dict : { module : [ fit_functions] }\n",
    "    \"\"\"\n",
    "    from collections import defaultdict\n",
    "    import importlib\n",
    "    import sklearn\n",
    "    algos = defaultdict(list)\n",
    "    if verbose : print (dir(sklearn))\n",
    "    for nom_module in dir(sklearn):    \n",
    "        if verbose : print (nom_module)\n",
    "        try:\n",
    "            to_import = \"sklearn.%s\"%nom_module\n",
    "            module    = importlib.import_module(to_import)\n",
    "            for nom_fonction in dir(module):\n",
    "                fonction = getattr(module, nom_fonction)\n",
    "                if hasattr(fonction, \"fit\"):\n",
    "                    if verbose : print (\" nom algorithme  = \", nom_fonction)\n",
    "                    algos[nom_module].append(fonction)                                            \n",
    "        except Exception as e:\n",
    "            if verbose : print( e)\n",
    "        if verbose: print (\"=\"*30)\n",
    "    return algos"
   ]
  },
  {
   "cell_type": "code",
   "execution_count": 131,
   "metadata": {},
   "outputs": [
    {
     "data": {
      "text/plain": [
       "defaultdict(list,\n",
       "            {'feature_extraction': [sklearn.feature_extraction.dict_vectorizer.DictVectorizer,\n",
       "              sklearn.feature_extraction.hashing.FeatureHasher],\n",
       "             'feature_selection': [sklearn.feature_selection.univariate_selection.GenericUnivariateSelect,\n",
       "              sklearn.feature_selection.rfe.RFE,\n",
       "              sklearn.feature_selection.rfe.RFECV,\n",
       "              sklearn.feature_selection.univariate_selection.SelectFdr,\n",
       "              sklearn.feature_selection.univariate_selection.SelectFpr,\n",
       "              sklearn.feature_selection.from_model.SelectFromModel,\n",
       "              sklearn.feature_selection.univariate_selection.SelectFwe,\n",
       "              sklearn.feature_selection.univariate_selection.SelectKBest,\n",
       "              sklearn.feature_selection.univariate_selection.SelectPercentile,\n",
       "              sklearn.feature_selection.variance_threshold.VarianceThreshold],\n",
       "             'gaussian_process': [sklearn.gaussian_process.gaussian_process.GaussianProcess,\n",
       "              sklearn.gaussian_process.gpc.GaussianProcessClassifier,\n",
       "              sklearn.gaussian_process.gpr.GaussianProcessRegressor],\n",
       "             'grid_search': [sklearn.grid_search.GridSearchCV,\n",
       "              sklearn.grid_search.RandomizedSearchCV],\n",
       "             'linear_model': [sklearn.linear_model.bayes.ARDRegression,\n",
       "              sklearn.linear_model.bayes.BayesianRidge,\n",
       "              sklearn.linear_model.coordinate_descent.ElasticNet,\n",
       "              sklearn.linear_model.coordinate_descent.ElasticNetCV,\n",
       "              sklearn.linear_model.huber.HuberRegressor,\n",
       "              sklearn.linear_model.least_angle.Lars,\n",
       "              sklearn.linear_model.least_angle.LarsCV,\n",
       "              sklearn.linear_model.coordinate_descent.Lasso,\n",
       "              sklearn.linear_model.coordinate_descent.LassoCV,\n",
       "              sklearn.linear_model.least_angle.LassoLars,\n",
       "              sklearn.linear_model.least_angle.LassoLarsCV,\n",
       "              sklearn.linear_model.least_angle.LassoLarsIC,\n",
       "              sklearn.linear_model.base.LinearRegression,\n",
       "              sklearn.linear_model.logistic.LogisticRegression,\n",
       "              sklearn.linear_model.logistic.LogisticRegressionCV,\n",
       "              sklearn.linear_model.coordinate_descent.MultiTaskElasticNet,\n",
       "              sklearn.linear_model.coordinate_descent.MultiTaskElasticNetCV,\n",
       "              sklearn.linear_model.coordinate_descent.MultiTaskLasso,\n",
       "              sklearn.linear_model.coordinate_descent.MultiTaskLassoCV,\n",
       "              sklearn.linear_model.omp.OrthogonalMatchingPursuit,\n",
       "              sklearn.linear_model.omp.OrthogonalMatchingPursuitCV,\n",
       "              sklearn.linear_model.passive_aggressive.PassiveAggressiveClassifier,\n",
       "              sklearn.linear_model.passive_aggressive.PassiveAggressiveRegressor,\n",
       "              sklearn.linear_model.perceptron.Perceptron,\n",
       "              sklearn.linear_model.ransac.RANSACRegressor,\n",
       "              sklearn.linear_model.randomized_l1.RandomizedLasso,\n",
       "              sklearn.linear_model.randomized_l1.RandomizedLogisticRegression,\n",
       "              sklearn.linear_model.ridge.Ridge,\n",
       "              sklearn.linear_model.ridge.RidgeCV,\n",
       "              sklearn.linear_model.ridge.RidgeClassifier,\n",
       "              sklearn.linear_model.ridge.RidgeClassifierCV,\n",
       "              sklearn.linear_model.stochastic_gradient.SGDClassifier,\n",
       "              sklearn.linear_model.stochastic_gradient.SGDRegressor,\n",
       "              sklearn.linear_model.theil_sen.TheilSenRegressor],\n",
       "             'model_selection': [sklearn.model_selection._search.GridSearchCV,\n",
       "              sklearn.model_selection._search.RandomizedSearchCV],\n",
       "             'multiclass': [sklearn.preprocessing.label.LabelBinarizer,\n",
       "              sklearn.multiclass.OneVsOneClassifier,\n",
       "              sklearn.multiclass.OneVsRestClassifier,\n",
       "              sklearn.multiclass.OutputCodeClassifier,\n",
       "              sklearn.multiclass._ConstantPredictor],\n",
       "             'neighbors': [sklearn.neighbors.classification.KNeighborsClassifier,\n",
       "              sklearn.neighbors.regression.KNeighborsRegressor,\n",
       "              sklearn.neighbors.kde.KernelDensity,\n",
       "              sklearn.neighbors.approximate.LSHForest,\n",
       "              sklearn.neighbors.lof.LocalOutlierFactor,\n",
       "              sklearn.neighbors.nearest_centroid.NearestCentroid,\n",
       "              sklearn.neighbors.unsupervised.NearestNeighbors,\n",
       "              sklearn.neighbors.classification.RadiusNeighborsClassifier,\n",
       "              sklearn.neighbors.regression.RadiusNeighborsRegressor],\n",
       "             'preprocessing': [sklearn.preprocessing.data.Binarizer,\n",
       "              sklearn.preprocessing._function_transformer.FunctionTransformer,\n",
       "              sklearn.preprocessing.imputation.Imputer,\n",
       "              sklearn.preprocessing.data.KernelCenterer,\n",
       "              sklearn.preprocessing.label.LabelBinarizer,\n",
       "              sklearn.preprocessing.label.LabelEncoder,\n",
       "              sklearn.preprocessing.data.MaxAbsScaler,\n",
       "              sklearn.preprocessing.data.MinMaxScaler,\n",
       "              sklearn.preprocessing.label.MultiLabelBinarizer,\n",
       "              sklearn.preprocessing.data.Normalizer,\n",
       "              sklearn.preprocessing.data.OneHotEncoder,\n",
       "              sklearn.preprocessing.data.PolynomialFeatures,\n",
       "              sklearn.preprocessing.data.QuantileTransformer,\n",
       "              sklearn.preprocessing.data.RobustScaler,\n",
       "              sklearn.preprocessing.data.StandardScaler],\n",
       "             'random_projection': [sklearn.random_projection.BaseRandomProjection,\n",
       "              sklearn.random_projection.GaussianRandomProjection,\n",
       "              sklearn.random_projection.SparseRandomProjection],\n",
       "             'svm': [sklearn.svm.classes.LinearSVC,\n",
       "              sklearn.svm.classes.LinearSVR,\n",
       "              sklearn.svm.classes.NuSVC,\n",
       "              sklearn.svm.classes.NuSVR,\n",
       "              sklearn.svm.classes.OneClassSVM,\n",
       "              sklearn.svm.classes.SVC,\n",
       "              sklearn.svm.classes.SVR,\n",
       "              <module 'sklearn.svm.libsvm' from '/Applications/anaconda3/lib/python3.7/site-packages/sklearn/svm/libsvm.cpython-37m-darwin.so'>]})"
      ]
     },
     "execution_count": 131,
     "metadata": {},
     "output_type": "execute_result"
    }
   ],
   "source": [
    "algos = get_sklearn_algorithms()\n",
    "algos"
   ]
  },
  {
   "cell_type": "markdown",
   "metadata": {},
   "source": [
    "## Liste les algorithmes"
   ]
  },
  {
   "cell_type": "code",
   "execution_count": 133,
   "metadata": {},
   "outputs": [
    {
     "name": "stdout",
     "output_type": "stream",
     "text": [
      "\n",
      "===> feature_extraction\n",
      "DictVectorizer,FeatureHasher\n",
      "\n",
      "===> feature_selection\n",
      "GenericUnivariateSelect,RFE,RFECV,SelectFdr,SelectFpr,SelectFromModel,SelectFwe,SelectKBest,SelectPercentile,VarianceThreshold\n",
      "\n",
      "===> gaussian_process\n",
      "GaussianProcess,GaussianProcessClassifier,GaussianProcessRegressor\n",
      "\n",
      "===> grid_search\n",
      "GridSearchCV,RandomizedSearchCV\n",
      "\n",
      "===> linear_model\n",
      "ARDRegression,BayesianRidge,ElasticNet,ElasticNetCV,HuberRegressor,Lars,LarsCV,Lasso,LassoCV,LassoLars,LassoLarsCV,LassoLarsIC,LinearRegression,LogisticRegression,LogisticRegressionCV,MultiTaskElasticNet,MultiTaskElasticNetCV,MultiTaskLasso,MultiTaskLassoCV,OrthogonalMatchingPursuit,OrthogonalMatchingPursuitCV,PassiveAggressiveClassifier,PassiveAggressiveRegressor,Perceptron,RANSACRegressor,RandomizedLasso,RandomizedLogisticRegression,Ridge,RidgeCV,RidgeClassifier,RidgeClassifierCV,SGDClassifier,SGDRegressor,TheilSenRegressor\n",
      "\n",
      "===> model_selection\n",
      "GridSearchCV,RandomizedSearchCV\n",
      "\n",
      "===> multiclass\n",
      "LabelBinarizer,OneVsOneClassifier,OneVsRestClassifier,OutputCodeClassifier,_ConstantPredictor\n",
      "\n",
      "===> neighbors\n",
      "KNeighborsClassifier,KNeighborsRegressor,KernelDensity,LSHForest,LocalOutlierFactor,NearestCentroid,NearestNeighbors,RadiusNeighborsClassifier,RadiusNeighborsRegressor\n",
      "\n",
      "===> preprocessing\n",
      "Binarizer,FunctionTransformer,Imputer,KernelCenterer,LabelBinarizer,LabelEncoder,MaxAbsScaler,MinMaxScaler,MultiLabelBinarizer,Normalizer,OneHotEncoder,PolynomialFeatures,QuantileTransformer,RobustScaler,StandardScaler\n",
      "\n",
      "===> random_projection\n",
      "BaseRandomProjection,GaussianRandomProjection,SparseRandomProjection\n",
      "\n",
      "===> svm\n",
      "LinearSVC,LinearSVR,NuSVC,NuSVR,OneClassSVM,SVC,SVR,so\n"
     ]
    }
   ],
   "source": [
    "algos = get_sklearn_algorithms()\n",
    "for key in algos.keys():\n",
    "    print (\"\\n===>\",key)\n",
    "    algos_ = []\n",
    "    for algo in algos[key]:\n",
    "        classe_algo = str(algo)\n",
    "        nom_algo    = classe_algo[str(classe_algo).rfind(\".\")+1:str(classe_algo).rfind(\"'\")]\n",
    "        algos_.append(nom_algo)\n",
    "    print (\",\".join(algos_))"
   ]
  },
  {
   "cell_type": "markdown",
   "metadata": {},
   "source": [
    "## supprimer les warnings dans jupyter"
   ]
  },
  {
   "cell_type": "code",
   "execution_count": 134,
   "metadata": {},
   "outputs": [],
   "source": [
    "import warnings\n",
    "warnings.filterwarnings(\"ignore\", category=DeprecationWarning) "
   ]
  },
  {
   "cell_type": "markdown",
   "metadata": {},
   "source": [
    "## Utiliser chaque algo et conserver les performances"
   ]
  },
  {
   "cell_type": "code",
   "execution_count": 135,
   "metadata": {
    "scrolled": false
   },
   "outputs": [
    {
     "name": "stdout",
     "output_type": "stream",
     "text": [
      "Transforms lists of featu\n",
      "'numpy.ndarray' object has no attribute 'items'\n",
      "==============================\n",
      "Implements feature hashin\n",
      "'FeatureHasher' object has no attribute 'score'\n",
      "==============================\n",
      "Univariate feature select\n",
      "'GenericUnivariateSelect' object has no attribute \n",
      "==============================\n",
      "__init__() missing 1 required positional argument:\n",
      "==============================\n",
      "__init__() missing 1 required positional argument:\n",
      "==============================\n",
      "Filter\n",
      "'SelectFdr' object has no attribute 'score'\n",
      "==============================\n",
      "Filter\n",
      "'SelectFpr' object has no attribute 'score'\n",
      "==============================\n",
      "__init__() missing 1 required positional argument:\n",
      "==============================\n",
      "Filter\n",
      "'SelectFwe' object has no attribute 'score'\n",
      "==============================\n",
      "Select features according\n",
      "'SelectKBest' object has no attribute 'score'\n",
      "==============================\n",
      "Select features according\n",
      "'SelectPercentile' object has no attribute 'score'\n",
      "==============================\n",
      "Feature selector that rem\n",
      "'VarianceThreshold' object has no attribute 'score\n",
      "==============================\n",
      "The legacy Gaussian Proce\n",
      "0.4818421564241594\n",
      "==============================\n",
      "Gaussian process classifi\n",
      "Algo de classification\n",
      "==============================\n",
      "Gaussian process regressi\n",
      "0.25150130551331884\n",
      "==============================\n",
      "__init__() missing 2 required positional arguments\n",
      "==============================\n",
      "__init__() missing 2 required positional arguments\n",
      "==============================\n",
      "Bayesian ARD regression.\n",
      "0.7566956549272261\n",
      "==============================\n",
      "Bayesian ridge regression\n",
      "0.7539036234085391\n",
      "==============================\n",
      "Linear regression with co\n",
      "0.6609667564060987\n",
      "==============================\n",
      "Elastic Net model with it\n",
      "0.7544995272606819\n",
      "==============================\n",
      "Linear regression model t\n",
      "0.7438393206704702\n",
      "==============================\n",
      "Least Angle Regression mo\n",
      "0.7548182717417403\n",
      "==============================\n",
      "Cross-validated Least Ang\n",
      "0.7549941450039831\n",
      "==============================\n",
      "Linear Model trained with\n",
      "0.6880555246483908\n",
      "==============================\n",
      "Lasso linear model with i\n",
      "0.754971180453359\n",
      "==============================\n",
      "Lasso model fit with Leas\n",
      "-0.0025615661179467786\n",
      "==============================\n",
      "Cross-validated Lasso, us\n",
      "0.7549425278973078\n",
      "==============================\n",
      "Lasso model fit with Lars\n",
      "0.7551105094008397\n",
      "==============================\n",
      "Ordinary least squar\n",
      "0.7548182717417403\n",
      "==============================\n",
      "Logistic Regression (aka\n",
      "Algo de classification\n",
      "==============================\n",
      "Logistic Regression CV (a\n",
      "Algo de classification\n",
      "==============================\n",
      "Multi-task ElasticNet mod\n",
      "For mono-task outputs, use ElasticNet\n",
      "==============================\n",
      "Multi-task L1/L2 ElasticN\n",
      "For mono-task outputs, use ElasticNetCV\n",
      "==============================\n",
      "Multi-task Lasso model tr\n",
      "For mono-task outputs, use ElasticNet\n",
      "==============================\n",
      "Multi-task L1/L2 Lasso wi\n",
      "For mono-task outputs, use LassoCV\n",
      "==============================\n",
      "Orthogonal Matching Pursu\n",
      "0.5636278772678116\n",
      "==============================\n",
      "Cross-validated Orthogona\n",
      "0.7145724160031293\n",
      "==============================\n",
      "Passive Aggressive Classi\n",
      "Algo de classification\n",
      "==============================\n",
      "Passive Aggressive Regres\n",
      "0.6055960898493726\n",
      "==============================\n",
      "Perceptron\n",
      "\n",
      "    Read more\n",
      "Algo de classification\n",
      "==============================\n",
      "RANSAC (RANdom SAmple Con\n",
      "0.6316921774433296\n",
      "==============================\n",
      "Randomized Lasso.\n",
      "\n",
      "    Ra\n"
     ]
    },
    {
     "name": "stderr",
     "output_type": "stream",
     "text": [
      "/Applications/anaconda3/lib/python3.7/site-packages/sklearn/linear_model/stochastic_gradient.py:128: FutureWarning: max_iter and tol parameters have been added in <class 'sklearn.linear_model.passive_aggressive.PassiveAggressiveClassifier'> in 0.19. If both are left unset, they default to max_iter=5 and tol=None. If tol is not None, max_iter defaults to max_iter=1000. From 0.21, default max_iter will be 1000, and default tol will be 1e-3.\n",
      "  \"and default tol will be 1e-3.\" % type(self), FutureWarning)\n",
      "/Applications/anaconda3/lib/python3.7/site-packages/sklearn/linear_model/stochastic_gradient.py:128: FutureWarning: max_iter and tol parameters have been added in <class 'sklearn.linear_model.passive_aggressive.PassiveAggressiveRegressor'> in 0.19. If both are left unset, they default to max_iter=5 and tol=None. If tol is not None, max_iter defaults to max_iter=1000. From 0.21, default max_iter will be 1000, and default tol will be 1e-3.\n",
      "  \"and default tol will be 1e-3.\" % type(self), FutureWarning)\n",
      "/Applications/anaconda3/lib/python3.7/site-packages/sklearn/linear_model/stochastic_gradient.py:128: FutureWarning: max_iter and tol parameters have been added in <class 'sklearn.linear_model.perceptron.Perceptron'> in 0.19. If both are left unset, they default to max_iter=5 and tol=None. If tol is not None, max_iter defaults to max_iter=1000. From 0.21, default max_iter will be 1000, and default tol will be 1e-3.\n",
      "  \"and default tol will be 1e-3.\" % type(self), FutureWarning)\n"
     ]
    },
    {
     "name": "stdout",
     "output_type": "stream",
     "text": [
      "'RandomizedLasso' object has no attribute 'score'\n",
      "==============================\n",
      "Randomized Logistic Regre\n",
      "Algo de classification\n",
      "==============================\n",
      "Linear least squares with\n",
      "0.7547479499392641\n",
      "==============================\n",
      "Ridge regression with bui\n",
      "0.753026064033575\n",
      "==============================\n",
      "Classifier using Ridge re\n",
      "Algo de classification\n",
      "==============================\n",
      "Ridge classifier with bui\n",
      "Algo de classification\n",
      "==============================\n",
      "Linear classifiers (SVM,\n",
      "Algo de classification\n",
      "==============================\n",
      "Linear model fitted by mi\n",
      "0.7373250556234119\n",
      "==============================\n",
      "Theil-Sen Estimator\n"
     ]
    },
    {
     "name": "stderr",
     "output_type": "stream",
     "text": [
      "/Applications/anaconda3/lib/python3.7/site-packages/sklearn/linear_model/stochastic_gradient.py:128: FutureWarning: max_iter and tol parameters have been added in <class 'sklearn.linear_model.stochastic_gradient.SGDClassifier'> in 0.19. If both are left unset, they default to max_iter=5 and tol=None. If tol is not None, max_iter defaults to max_iter=1000. From 0.21, default max_iter will be 1000, and default tol will be 1e-3.\n",
      "  \"and default tol will be 1e-3.\" % type(self), FutureWarning)\n",
      "/Applications/anaconda3/lib/python3.7/site-packages/sklearn/linear_model/stochastic_gradient.py:128: FutureWarning: max_iter and tol parameters have been added in <class 'sklearn.linear_model.stochastic_gradient.SGDRegressor'> in 0.19. If both are left unset, they default to max_iter=5 and tol=None. If tol is not None, max_iter defaults to max_iter=1000. From 0.21, default max_iter will be 1000, and default tol will be 1e-3.\n",
      "  \"and default tol will be 1e-3.\" % type(self), FutureWarning)\n"
     ]
    },
    {
     "name": "stdout",
     "output_type": "stream",
     "text": [
      "0.5801127497177181\n",
      "==============================\n",
      "__init__() missing 2 required positional arguments\n",
      "==============================\n",
      "__init__() missing 2 required positional arguments\n",
      "==============================\n",
      "Binarize labels in a one-\n",
      "fit() takes 2 positional arguments but 3 were give\n",
      "==============================\n",
      "__init__() missing 1 required positional argument:\n",
      "==============================\n",
      "__init__() missing 1 required positional argument:\n",
      "==============================\n",
      "__init__() missing 1 required positional argument:\n",
      "==============================\n",
      "'NoneType' object has no attribute 'find'\n",
      "==============================\n",
      "Classifier implementing t\n",
      "Algo de classification\n",
      "==============================\n",
      "Regression based on k-nea\n",
      "0.6865615046809649\n",
      "==============================\n",
      "Kernel Density Estimation\n",
      "-2644.846806065456\n",
      "==============================\n",
      "Performs approximate near\n",
      "'LSHForest' object has no attribute 'score'\n",
      "==============================\n",
      "Unsupervised Outlier Dete\n",
      "'LocalOutlierFactor' object has no attribute 'scor\n",
      "==============================\n",
      "Nearest centroid classifi\n",
      "Algo de classification\n",
      "==============================\n",
      "Unsupervised learner for\n",
      "'NearestNeighbors' object has no attribute 'score'\n",
      "==============================\n",
      "Classifier implementing a\n",
      "Algo de classification\n",
      "==============================\n",
      "Regression based on neigh\n",
      "Input contains NaN, infinity or a value too large \n",
      "==============================\n",
      "Binarize data (set featur\n",
      "'Binarizer' object has no attribute 'score'\n",
      "==============================\n",
      "Constructs a transformer\n",
      "'FunctionTransformer' object has no attribute 'sco\n",
      "==============================\n",
      "Imputation transformer fo\n",
      "'Imputer' object has no attribute 'score'\n",
      "==============================\n",
      "Center a kernel matrix\n",
      "'KernelCenterer' object has no attribute 'score'\n",
      "==============================\n",
      "Binarize labels in a one-\n",
      "fit() takes 2 positional arguments but 3 were give\n",
      "==============================\n",
      "Encode labels with value\n",
      "fit() takes 2 positional arguments but 3 were give\n",
      "==============================\n",
      "Scale each feature by its\n",
      "'MaxAbsScaler' object has no attribute 'score'\n",
      "==============================\n",
      "Transforms features by sc\n",
      "'MinMaxScaler' object has no attribute 'score'\n",
      "==============================\n",
      "Transform between iterabl\n",
      "fit() takes 2 positional arguments but 3 were give\n",
      "==============================\n",
      "Normalize samples individ\n",
      "'Normalizer' object has no attribute 'score'\n",
      "==============================\n",
      "Encode categorical intege\n",
      "X needs to contain only non-negative integers.\n",
      "==============================\n",
      "Generate polynomial and i\n",
      "'PolynomialFeatures' object has no attribute 'scor\n",
      "==============================\n",
      "Transform features using\n",
      "'QuantileTransformer' object has no attribute 'sco\n",
      "==============================\n",
      "Scale features using stat\n",
      "'RobustScaler' object has no attribute 'score'\n",
      "==============================\n",
      "Standardize features by r\n",
      "'StandardScaler' object has no attribute 'score'\n",
      "==============================\n",
      "Can't instantiate abstract class BaseRandomProject\n",
      "==============================\n",
      "Reduce dimensionality thr\n",
      "eps=0.100000 and n_samples=339 lead to a target di\n",
      "==============================\n",
      "Reduce dimensionality thr\n",
      "eps=0.100000 and n_samples=339 lead to a target di\n",
      "==============================\n",
      "Linear Support Vector Cla\n",
      "Algo de classification\n",
      "==============================\n",
      "Linear Support Vector Reg\n",
      "0.7317443350497748\n",
      "==============================\n",
      "Nu-Support Vector Classif\n",
      "Algo de classification\n",
      "==============================\n",
      "Nu Support Vector Regress\n",
      "0.6306184002269496\n",
      "==============================\n",
      "Unsupervised Outlier Dete\n",
      "'OneClassSVM' object has no attribute 'score'\n",
      "==============================\n",
      "C-Support Vector Classifi\n",
      "Algo de classification\n",
      "==============================\n",
      "Epsilon-Support Vector Re\n",
      "0.6531677129259634\n",
      "==============================\n",
      "'module' object is not callable\n",
      "==============================\n"
     ]
    },
    {
     "name": "stderr",
     "output_type": "stream",
     "text": [
      "/Applications/anaconda3/lib/python3.7/site-packages/sklearn/random_projection.py:378: DataDimensionalityWarning: The number of components is higher than the number of features: n_features < n_components (13 < 32).The dimensionality of the problem will not be reduced.\n",
      "  DataDimensionalityWarning)\n",
      "/Applications/anaconda3/lib/python3.7/site-packages/scipy/stats/stats.py:1713: FutureWarning: Using a non-tuple sequence for multidimensional indexing is deprecated; use `arr[tuple(seq)]` instead of `arr[seq]`. In the future this will be interpreted as an array index, `arr[np.array(seq)]`, which will result either in an error or a different result.\n",
      "  return np.add.reduce(sorted[indexer] * weights, axis=axis) / sumval\n",
      "/Applications/anaconda3/lib/python3.7/site-packages/numpy/core/fromnumeric.py:2920: RuntimeWarning: Mean of empty slice.\n",
      "  out=out, **kwargs)\n",
      "/Applications/anaconda3/lib/python3.7/site-packages/numpy/core/_methods.py:78: RuntimeWarning: invalid value encountered in true_divide\n",
      "  ret, rcount, out=ret, casting='unsafe', subok=False)\n"
     ]
    }
   ],
   "source": [
    "performances               = {}\n",
    "modeles_a_tester           = []\n",
    "classes_de_models_a_tester = algos.keys()\n",
    "best_algorithm = 0\n",
    "best_perf = 0\n",
    "for classe_de_models in classes_de_models_a_tester:\n",
    "    modeles_a_tester.extend(algos[classe_de_models])\n",
    "    \n",
    "for pointeur_vers_algo in modeles_a_tester:\n",
    "    try:\n",
    "        algorithme = pointeur_vers_algo()\n",
    "        doc        = algorithme.__doc__\n",
    "        name       = doc[:min(doc.find(\":\"), 25)].strip()\n",
    "        print (name)\n",
    "        algorithme.fit(X_train, y_train)\n",
    "        performance = algorithme.score(X_test, y_test)\n",
    "        print (performance)\n",
    "        if performance >  best_perf:\n",
    "            best_algorithm = algorithme\n",
    "            best_perf = performance\n",
    "            \n",
    "        if 0<performance and performance<1:\n",
    "            performances[name] = [performance]\n",
    "    except Exception as e:\n",
    "        if \"label\" in str(e): print (\"Algo de classification\")\n",
    "        else                : print (str(e)[:50])\n",
    "    print (\"=\"*30)\n",
    "    "
   ]
  },
  {
   "cell_type": "markdown",
   "metadata": {},
   "source": [
    "## meilleur algo"
   ]
  },
  {
   "cell_type": "code",
   "execution_count": 137,
   "metadata": {},
   "outputs": [
    {
     "data": {
      "text/plain": [
       "(ARDRegression(alpha_1=1e-06, alpha_2=1e-06, compute_score=False, copy_X=True,\n",
       "        fit_intercept=True, lambda_1=1e-06, lambda_2=1e-06, n_iter=300,\n",
       "        normalize=False, threshold_lambda=10000.0, tol=0.001, verbose=False),\n",
       " 0.7566956549272261)"
      ]
     },
     "execution_count": 137,
     "metadata": {},
     "output_type": "execute_result"
    }
   ],
   "source": [
    "best_algorithm, best_perf"
   ]
  },
  {
   "cell_type": "markdown",
   "metadata": {},
   "source": [
    "## Performances de chaque algo :"
   ]
  },
  {
   "cell_type": "code",
   "execution_count": 138,
   "metadata": {},
   "outputs": [
    {
     "data": {
      "text/plain": [
       "{'The legacy Gaussian Proce': [0.4818421564241594],\n",
       " 'Gaussian process regressi': [0.25150130551331884],\n",
       " 'Bayesian ARD regression.': [0.7566956549272261],\n",
       " 'Bayesian ridge regression': [0.7539036234085391],\n",
       " 'Linear regression with co': [0.6609667564060987],\n",
       " 'Elastic Net model with it': [0.7544995272606819],\n",
       " 'Linear regression model t': [0.7438393206704702],\n",
       " 'Least Angle Regression mo': [0.7548182717417403],\n",
       " 'Cross-validated Least Ang': [0.7549941450039831],\n",
       " 'Linear Model trained with': [0.6880555246483908],\n",
       " 'Lasso linear model with i': [0.754971180453359],\n",
       " 'Cross-validated Lasso, us': [0.7549425278973078],\n",
       " 'Lasso model fit with Lars': [0.7551105094008397],\n",
       " 'Ordinary least squar': [0.7548182717417403],\n",
       " 'Orthogonal Matching Pursu': [0.5636278772678116],\n",
       " 'Cross-validated Orthogona': [0.7145724160031293],\n",
       " 'Passive Aggressive Regres': [0.6055960898493726],\n",
       " 'RANSAC (RANdom SAmple Con': [0.6316921774433296],\n",
       " 'Linear least squares with': [0.7547479499392641],\n",
       " 'Ridge regression with bui': [0.753026064033575],\n",
       " 'Linear model fitted by mi': [0.7373250556234119],\n",
       " 'Theil-Sen Estimator': [0.5801127497177181],\n",
       " 'Regression based on k-nea': [0.6865615046809649],\n",
       " 'Linear Support Vector Reg': [0.7317443350497748],\n",
       " 'Nu Support Vector Regress': [0.6306184002269496],\n",
       " 'Epsilon-Support Vector Re': [0.6531677129259634]}"
      ]
     },
     "execution_count": 138,
     "metadata": {},
     "output_type": "execute_result"
    }
   ],
   "source": [
    "performances"
   ]
  },
  {
   "cell_type": "markdown",
   "metadata": {},
   "source": [
    "## on manipule les performances via panda"
   ]
  },
  {
   "cell_type": "code",
   "execution_count": 140,
   "metadata": {},
   "outputs": [],
   "source": [
    "import pandas as pd"
   ]
  },
  {
   "cell_type": "code",
   "execution_count": 141,
   "metadata": {},
   "outputs": [],
   "source": [
    "df = pd.DataFrame(performances).T"
   ]
  },
  {
   "cell_type": "code",
   "execution_count": 142,
   "metadata": {},
   "outputs": [],
   "source": [
    "col_name = \"performance\"\n",
    "df.columns = [col_name]"
   ]
  },
  {
   "cell_type": "code",
   "execution_count": 143,
   "metadata": {},
   "outputs": [],
   "source": [
    "sort_values(col_name)"
   ]
  },
  {
   "cell_type": "code",
   "execution_count": 144,
   "metadata": {},
   "outputs": [
    {
     "data": {
      "text/html": [
       "<div>\n",
       "<style scoped>\n",
       "    .dataframe tbody tr th:only-of-type {\n",
       "        vertical-align: middle;\n",
       "    }\n",
       "\n",
       "    .dataframe tbody tr th {\n",
       "        vertical-align: top;\n",
       "    }\n",
       "\n",
       "    .dataframe thead th {\n",
       "        text-align: right;\n",
       "    }\n",
       "</style>\n",
       "<table border=\"1\" class=\"dataframe\">\n",
       "  <thead>\n",
       "    <tr style=\"text-align: right;\">\n",
       "      <th></th>\n",
       "      <th>performance</th>\n",
       "    </tr>\n",
       "  </thead>\n",
       "  <tbody>\n",
       "    <tr>\n",
       "      <th>Gaussian process regressi</th>\n",
       "      <td>0.251501</td>\n",
       "    </tr>\n",
       "    <tr>\n",
       "      <th>The legacy Gaussian Proce</th>\n",
       "      <td>0.481842</td>\n",
       "    </tr>\n",
       "    <tr>\n",
       "      <th>Orthogonal Matching Pursu</th>\n",
       "      <td>0.563628</td>\n",
       "    </tr>\n",
       "    <tr>\n",
       "      <th>Theil-Sen Estimator</th>\n",
       "      <td>0.580113</td>\n",
       "    </tr>\n",
       "    <tr>\n",
       "      <th>Passive Aggressive Regres</th>\n",
       "      <td>0.605596</td>\n",
       "    </tr>\n",
       "    <tr>\n",
       "      <th>Nu Support Vector Regress</th>\n",
       "      <td>0.630618</td>\n",
       "    </tr>\n",
       "    <tr>\n",
       "      <th>RANSAC (RANdom SAmple Con</th>\n",
       "      <td>0.631692</td>\n",
       "    </tr>\n",
       "    <tr>\n",
       "      <th>Epsilon-Support Vector Re</th>\n",
       "      <td>0.653168</td>\n",
       "    </tr>\n",
       "    <tr>\n",
       "      <th>Linear regression with co</th>\n",
       "      <td>0.660967</td>\n",
       "    </tr>\n",
       "    <tr>\n",
       "      <th>Regression based on k-nea</th>\n",
       "      <td>0.686562</td>\n",
       "    </tr>\n",
       "    <tr>\n",
       "      <th>Linear Model trained with</th>\n",
       "      <td>0.688056</td>\n",
       "    </tr>\n",
       "    <tr>\n",
       "      <th>Cross-validated Orthogona</th>\n",
       "      <td>0.714572</td>\n",
       "    </tr>\n",
       "    <tr>\n",
       "      <th>Linear Support Vector Reg</th>\n",
       "      <td>0.731744</td>\n",
       "    </tr>\n",
       "    <tr>\n",
       "      <th>Linear model fitted by mi</th>\n",
       "      <td>0.737325</td>\n",
       "    </tr>\n",
       "    <tr>\n",
       "      <th>Linear regression model t</th>\n",
       "      <td>0.743839</td>\n",
       "    </tr>\n",
       "    <tr>\n",
       "      <th>Ridge regression with bui</th>\n",
       "      <td>0.753026</td>\n",
       "    </tr>\n",
       "    <tr>\n",
       "      <th>Bayesian ridge regression</th>\n",
       "      <td>0.753904</td>\n",
       "    </tr>\n",
       "    <tr>\n",
       "      <th>Elastic Net model with it</th>\n",
       "      <td>0.754500</td>\n",
       "    </tr>\n",
       "    <tr>\n",
       "      <th>Linear least squares with</th>\n",
       "      <td>0.754748</td>\n",
       "    </tr>\n",
       "    <tr>\n",
       "      <th>Ordinary least squar</th>\n",
       "      <td>0.754818</td>\n",
       "    </tr>\n",
       "    <tr>\n",
       "      <th>Least Angle Regression mo</th>\n",
       "      <td>0.754818</td>\n",
       "    </tr>\n",
       "    <tr>\n",
       "      <th>Cross-validated Lasso, us</th>\n",
       "      <td>0.754943</td>\n",
       "    </tr>\n",
       "    <tr>\n",
       "      <th>Lasso linear model with i</th>\n",
       "      <td>0.754971</td>\n",
       "    </tr>\n",
       "    <tr>\n",
       "      <th>Cross-validated Least Ang</th>\n",
       "      <td>0.754994</td>\n",
       "    </tr>\n",
       "    <tr>\n",
       "      <th>Lasso model fit with Lars</th>\n",
       "      <td>0.755111</td>\n",
       "    </tr>\n",
       "    <tr>\n",
       "      <th>Bayesian ARD regression.</th>\n",
       "      <td>0.756696</td>\n",
       "    </tr>\n",
       "  </tbody>\n",
       "</table>\n",
       "</div>"
      ],
      "text/plain": [
       "                           performance\n",
       "Gaussian process regressi     0.251501\n",
       "The legacy Gaussian Proce     0.481842\n",
       "Orthogonal Matching Pursu     0.563628\n",
       "Theil-Sen Estimator           0.580113\n",
       "Passive Aggressive Regres     0.605596\n",
       "Nu Support Vector Regress     0.630618\n",
       "RANSAC (RANdom SAmple Con     0.631692\n",
       "Epsilon-Support Vector Re     0.653168\n",
       "Linear regression with co     0.660967\n",
       "Regression based on k-nea     0.686562\n",
       "Linear Model trained with     0.688056\n",
       "Cross-validated Orthogona     0.714572\n",
       "Linear Support Vector Reg     0.731744\n",
       "Linear model fitted by mi     0.737325\n",
       "Linear regression model t     0.743839\n",
       "Ridge regression with bui     0.753026\n",
       "Bayesian ridge regression     0.753904\n",
       "Elastic Net model with it     0.754500\n",
       "Linear least squares with     0.754748\n",
       "Ordinary least squar          0.754818\n",
       "Least Angle Regression mo     0.754818\n",
       "Cross-validated Lasso, us     0.754943\n",
       "Lasso linear model with i     0.754971\n",
       "Cross-validated Least Ang     0.754994\n",
       "Lasso model fit with Lars     0.755111\n",
       "Bayesian ARD regression.      0.756696"
      ]
     },
     "execution_count": 144,
     "metadata": {},
     "output_type": "execute_result"
    }
   ],
   "source": [
    "df"
   ]
  },
  {
   "cell_type": "markdown",
   "metadata": {},
   "source": [
    "## calcul des gains de performance d'un algo l'autre"
   ]
  },
  {
   "cell_type": "code",
   "execution_count": 147,
   "metadata": {},
   "outputs": [],
   "source": [
    "liste_des_performances = df.performance.values\n",
    "gains = [0]\n",
    "for indice, performance in enumerate(liste_des_performances):\n",
    "    if indice>0:\n",
    "        previous_value = liste_des_performances[indice-1]\n",
    "        current_value  = liste_des_performances[indice]\n",
    "        gain = (current_value - previous_value) / previous_value\n",
    "        gains.append(round(gain*100, 2))\n",
    "df[\"gains\"] = gains"
   ]
  },
  {
   "cell_type": "code",
   "execution_count": 149,
   "metadata": {},
   "outputs": [],
   "source": [
    "#"
   ]
  },
  {
   "cell_type": "code",
   "execution_count": 150,
   "metadata": {},
   "outputs": [
    {
     "data": {
      "text/html": [
       "<div>\n",
       "<style scoped>\n",
       "    .dataframe tbody tr th:only-of-type {\n",
       "        vertical-align: middle;\n",
       "    }\n",
       "\n",
       "    .dataframe tbody tr th {\n",
       "        vertical-align: top;\n",
       "    }\n",
       "\n",
       "    .dataframe thead th {\n",
       "        text-align: right;\n",
       "    }\n",
       "</style>\n",
       "<table border=\"1\" class=\"dataframe\">\n",
       "  <thead>\n",
       "    <tr style=\"text-align: right;\">\n",
       "      <th></th>\n",
       "      <th>performance</th>\n",
       "      <th>gains</th>\n",
       "    </tr>\n",
       "  </thead>\n",
       "  <tbody>\n",
       "    <tr>\n",
       "      <th>Gaussian process regressi</th>\n",
       "      <td>0.251501</td>\n",
       "      <td>0.00</td>\n",
       "    </tr>\n",
       "    <tr>\n",
       "      <th>The legacy Gaussian Proce</th>\n",
       "      <td>0.481842</td>\n",
       "      <td>91.59</td>\n",
       "    </tr>\n",
       "    <tr>\n",
       "      <th>Orthogonal Matching Pursu</th>\n",
       "      <td>0.563628</td>\n",
       "      <td>16.97</td>\n",
       "    </tr>\n",
       "    <tr>\n",
       "      <th>Theil-Sen Estimator</th>\n",
       "      <td>0.580113</td>\n",
       "      <td>2.92</td>\n",
       "    </tr>\n",
       "    <tr>\n",
       "      <th>Passive Aggressive Regres</th>\n",
       "      <td>0.605596</td>\n",
       "      <td>4.39</td>\n",
       "    </tr>\n",
       "    <tr>\n",
       "      <th>Nu Support Vector Regress</th>\n",
       "      <td>0.630618</td>\n",
       "      <td>4.13</td>\n",
       "    </tr>\n",
       "    <tr>\n",
       "      <th>RANSAC (RANdom SAmple Con</th>\n",
       "      <td>0.631692</td>\n",
       "      <td>0.17</td>\n",
       "    </tr>\n",
       "    <tr>\n",
       "      <th>Epsilon-Support Vector Re</th>\n",
       "      <td>0.653168</td>\n",
       "      <td>3.40</td>\n",
       "    </tr>\n",
       "    <tr>\n",
       "      <th>Linear regression with co</th>\n",
       "      <td>0.660967</td>\n",
       "      <td>1.19</td>\n",
       "    </tr>\n",
       "    <tr>\n",
       "      <th>Regression based on k-nea</th>\n",
       "      <td>0.686562</td>\n",
       "      <td>3.87</td>\n",
       "    </tr>\n",
       "    <tr>\n",
       "      <th>Linear Model trained with</th>\n",
       "      <td>0.688056</td>\n",
       "      <td>0.22</td>\n",
       "    </tr>\n",
       "    <tr>\n",
       "      <th>Cross-validated Orthogona</th>\n",
       "      <td>0.714572</td>\n",
       "      <td>3.85</td>\n",
       "    </tr>\n",
       "    <tr>\n",
       "      <th>Linear Support Vector Reg</th>\n",
       "      <td>0.731744</td>\n",
       "      <td>2.40</td>\n",
       "    </tr>\n",
       "    <tr>\n",
       "      <th>Linear model fitted by mi</th>\n",
       "      <td>0.737325</td>\n",
       "      <td>0.76</td>\n",
       "    </tr>\n",
       "    <tr>\n",
       "      <th>Linear regression model t</th>\n",
       "      <td>0.743839</td>\n",
       "      <td>0.88</td>\n",
       "    </tr>\n",
       "    <tr>\n",
       "      <th>Ridge regression with bui</th>\n",
       "      <td>0.753026</td>\n",
       "      <td>1.24</td>\n",
       "    </tr>\n",
       "    <tr>\n",
       "      <th>Bayesian ridge regression</th>\n",
       "      <td>0.753904</td>\n",
       "      <td>0.12</td>\n",
       "    </tr>\n",
       "    <tr>\n",
       "      <th>Elastic Net model with it</th>\n",
       "      <td>0.754500</td>\n",
       "      <td>0.08</td>\n",
       "    </tr>\n",
       "    <tr>\n",
       "      <th>Linear least squares with</th>\n",
       "      <td>0.754748</td>\n",
       "      <td>0.03</td>\n",
       "    </tr>\n",
       "    <tr>\n",
       "      <th>Ordinary least squar</th>\n",
       "      <td>0.754818</td>\n",
       "      <td>0.01</td>\n",
       "    </tr>\n",
       "    <tr>\n",
       "      <th>Least Angle Regression mo</th>\n",
       "      <td>0.754818</td>\n",
       "      <td>0.00</td>\n",
       "    </tr>\n",
       "    <tr>\n",
       "      <th>Cross-validated Lasso, us</th>\n",
       "      <td>0.754943</td>\n",
       "      <td>0.02</td>\n",
       "    </tr>\n",
       "    <tr>\n",
       "      <th>Lasso linear model with i</th>\n",
       "      <td>0.754971</td>\n",
       "      <td>0.00</td>\n",
       "    </tr>\n",
       "    <tr>\n",
       "      <th>Cross-validated Least Ang</th>\n",
       "      <td>0.754994</td>\n",
       "      <td>0.00</td>\n",
       "    </tr>\n",
       "    <tr>\n",
       "      <th>Lasso model fit with Lars</th>\n",
       "      <td>0.755111</td>\n",
       "      <td>0.02</td>\n",
       "    </tr>\n",
       "    <tr>\n",
       "      <th>Bayesian ARD regression.</th>\n",
       "      <td>0.756696</td>\n",
       "      <td>0.21</td>\n",
       "    </tr>\n",
       "  </tbody>\n",
       "</table>\n",
       "</div>"
      ],
      "text/plain": [
       "                           performance  gains\n",
       "Gaussian process regressi     0.251501   0.00\n",
       "The legacy Gaussian Proce     0.481842  91.59\n",
       "Orthogonal Matching Pursu     0.563628  16.97\n",
       "Theil-Sen Estimator           0.580113   2.92\n",
       "Passive Aggressive Regres     0.605596   4.39\n",
       "Nu Support Vector Regress     0.630618   4.13\n",
       "RANSAC (RANdom SAmple Con     0.631692   0.17\n",
       "Epsilon-Support Vector Re     0.653168   3.40\n",
       "Linear regression with co     0.660967   1.19\n",
       "Regression based on k-nea     0.686562   3.87\n",
       "Linear Model trained with     0.688056   0.22\n",
       "Cross-validated Orthogona     0.714572   3.85\n",
       "Linear Support Vector Reg     0.731744   2.40\n",
       "Linear model fitted by mi     0.737325   0.76\n",
       "Linear regression model t     0.743839   0.88\n",
       "Ridge regression with bui     0.753026   1.24\n",
       "Bayesian ridge regression     0.753904   0.12\n",
       "Elastic Net model with it     0.754500   0.08\n",
       "Linear least squares with     0.754748   0.03\n",
       "Ordinary least squar          0.754818   0.01\n",
       "Least Angle Regression mo     0.754818   0.00\n",
       "Cross-validated Lasso, us     0.754943   0.02\n",
       "Lasso linear model with i     0.754971   0.00\n",
       "Cross-validated Least Ang     0.754994   0.00\n",
       "Lasso model fit with Lars     0.755111   0.02\n",
       "Bayesian ARD regression.      0.756696   0.21"
      ]
     },
     "execution_count": 150,
     "metadata": {},
     "output_type": "execute_result"
    }
   ],
   "source": [
    "df"
   ]
  },
  {
   "cell_type": "markdown",
   "metadata": {},
   "source": [
    "## Tracer les performances par algo"
   ]
  },
  {
   "cell_type": "code",
   "execution_count": 151,
   "metadata": {},
   "outputs": [],
   "source": [
    "%matplotlib inline\n",
    "import matplotlib.pyplot as plt\n",
    "import matplotlib.ticker as ticker"
   ]
  },
  {
   "cell_type": "code",
   "execution_count": 153,
   "metadata": {},
   "outputs": [],
   "source": [
    "df = df.drop(\"gains\", axis=1)"
   ]
  },
  {
   "cell_type": "code",
   "execution_count": 154,
   "metadata": {},
   "outputs": [
    {
     "data": {
      "image/png": "[encoded data removed]",
      "text/plain": [
       "<Figure size 432x288 with 1 Axes>"
      ]
     },
     "metadata": {
      "needs_background": "light"
     },
     "output_type": "display_data"
    }
   ],
   "source": [
    "df = df.sort_values(col_name)\n",
    "ax = df.plot(rot=45, x_compat=True)"
   ]
  },
  {
   "cell_type": "markdown",
   "metadata": {},
   "source": [
    "### Augmentation du nombre de légend"
   ]
  },
  {
   "cell_type": "code",
   "execution_count": 155,
   "metadata": {},
   "outputs": [
    {
     "data": {
      "image/png": "[encoded data removed]",
      "text/plain": [
       "<Figure size 432x288 with 1 Axes>"
      ]
     },
     "metadata": {
      "needs_background": "light"
     },
     "output_type": "display_data"
    }
   ],
   "source": [
    "df = df.sort_values(col_name)\n",
    "ax = df.plot(rot=90, x_compat=True)\n",
    "ax.xaxis.set_ticklabels(df.index)\n",
    "ax.xaxis.set_major_locator(ticker.MultipleLocator(1))"
   ]
  },
  {
   "cell_type": "markdown",
   "metadata": {},
   "source": [
    "### Rotation des infos sur x, et image plus large"
   ]
  },
  {
   "cell_type": "code",
   "execution_count": 62,
   "metadata": {},
   "outputs": [
    {
     "data": {
      "text/plain": [
       "<matplotlib.axes._subplots.AxesSubplot at 0x1138d4f50>"
      ]
     },
     "execution_count": 62,
     "metadata": {},
     "output_type": "execute_result"
    },
    {
     "data": {
      "image/png": "[encoded data removed]",
      "text/plain": [
       "<matplotlib.figure.Figure at 0x113857290>"
      ]
     },
     "metadata": {},
     "output_type": "display_data"
    }
   ],
   "source": [
    "fig , axes = plt.subplots(1,1)\n",
    "fig.set_size_inches(9,3)\n",
    "df = df.sort_values(col_name )\n",
    "axes.xaxis.set_ticklabels(df.index)\n",
    "axes.xaxis.set_major_locator(ticker.MultipleLocator(1))\n",
    "df.plot(rot=45, ax=axes)\n"
   ]
  },
  {
   "cell_type": "markdown",
   "metadata": {},
   "source": [
    "### affichage en barre"
   ]
  },
  {
   "cell_type": "code",
   "execution_count": 63,
   "metadata": {},
   "outputs": [
    {
     "data": {
      "text/plain": [
       "<matplotlib.axes._subplots.AxesSubplot at 0x113899b90>"
      ]
     },
     "execution_count": 63,
     "metadata": {},
     "output_type": "execute_result"
    },
    {
     "data": {
      "image/png": "[encoded data removed]",
      "text/plain": [
       "<matplotlib.figure.Figure at 0x113662f10>"
      ]
     },
     "metadata": {},
     "output_type": "display_data"
    }
   ],
   "source": [
    "fig , axes = plt.subplots(1,1)\n",
    "fig.set_size_inches(9,3)\n",
    "df = df.sort_values(col_name )\n",
    "axes.xaxis.set_ticklabels(df.index)\n",
    "axes.xaxis.set_major_locator(ticker.MultipleLocator(1))\n",
    "df.plot(kind='bar', rot=90, ax=axes)"
   ]
  },
  {
   "cell_type": "markdown",
   "metadata": {},
   "source": [
    "## on rajoute la perforamnce dans les labels"
   ]
  },
  {
   "cell_type": "code",
   "execution_count": 64,
   "metadata": {
    "scrolled": true
   },
   "outputs": [
    {
     "data": {
      "image/png": "[encoded data removed]",
      "text/plain": [
       "<matplotlib.figure.Figure at 0x113970ad0>"
      ]
     },
     "metadata": {},
     "output_type": "display_data"
    }
   ],
   "source": [
    "new_labels = []\n",
    "for i, index in enumerate(df.index):\n",
    "    new_label = \"%s (%.2f)\"%(index,df.performance[i])\n",
    "    new_labels.append(new_label.replace(\"\\n\", \" \"))\n",
    "    \n",
    "fig , axes = plt.subplots(1,1)\n",
    "df.index = new_labels\n",
    "fig.set_size_inches(15,8)\n",
    "fig.subplots_adjust(left=0.65)\n",
    "df.sort_values(col_name).plot(kind='barh', ax=axes)\n",
    "axes.xaxis.set_major_locator(ticker.MultipleLocator(1))\n",
    "\n",
    "pass"
   ]
  },
  {
   "cell_type": "markdown",
   "metadata": {},
   "source": [
    "# 7) which scoring function ?"
   ]
  },
  {
   "cell_type": "markdown",
   "metadata": {},
   "source": [
    "## on récupère les fonctions de score"
   ]
  },
  {
   "cell_type": "code",
   "execution_count": 65,
   "metadata": {
    "collapsed": true
   },
   "outputs": [],
   "source": [
    "def get_sklearn_score_functions(verbose = False):\n",
    "    \"\"\"\n",
    "    Explore all submodule of sklearn and fetch functions named as 'score'.\n",
    "    \n",
    "    Parameters :\n",
    "        debug = print or not stuff on console\n",
    "    Return :\n",
    "        dict : { module : [ score_functions] }\n",
    "    \"\"\"\n",
    "    from collections import defaultdict\n",
    "    import importlib\n",
    "    import sklearn\n",
    "    algos = defaultdict(list)\n",
    "    if verbose : print dir(sklearn)\n",
    "    for nom_module in dir(sklearn):    \n",
    "        if verbose : print nom_module\n",
    "        try:\n",
    "            to_import = \"sklearn.%s\"%nom_module\n",
    "            module    = importlib.import_module(to_import)\n",
    "            for nom_fonction in dir(module):\n",
    "                fonction = getattr(module, nom_fonction)\n",
    "                if \"score\" in nom_fonction:\n",
    "                    algos[nom_module].append(fonction)                                            \n",
    "        except Exception as e:\n",
    "            if verbose : print e\n",
    "        if verbose: print \"=\"*30\n",
    "    return algos"
   ]
  },
  {
   "cell_type": "code",
   "execution_count": 66,
   "metadata": {},
   "outputs": [],
   "source": [
    "scoring_modules = get_sklearn_score_functions(False)"
   ]
  },
  {
   "cell_type": "code",
   "execution_count": 67,
   "metadata": {},
   "outputs": [
    {
     "data": {
      "text/plain": [
       "['grid_search', 'metrics', 'cross_validation']"
      ]
     },
     "execution_count": 67,
     "metadata": {},
     "output_type": "execute_result"
    }
   ],
   "source": [
    "scoring_modules.keys()"
   ]
  },
  {
   "cell_type": "markdown",
   "metadata": {},
   "source": [
    "## on s'intéresse aux métriques"
   ]
  },
  {
   "cell_type": "code",
   "execution_count": 68,
   "metadata": {},
   "outputs": [
    {
     "data": {
      "text/plain": [
       "[<function sklearn.metrics.classification.accuracy_score>,\n",
       " <function sklearn.metrics.cluster.supervised.adjusted_mutual_info_score>,\n",
       " <function sklearn.metrics.cluster.supervised.adjusted_rand_score>,\n",
       " <function sklearn.metrics.ranking.average_precision_score>,\n",
       " <function sklearn.metrics.classification.brier_score_loss>,\n",
       " <function sklearn.metrics.classification.cohen_kappa_score>,\n",
       " <function sklearn.metrics.cluster.supervised.completeness_score>,\n",
       " <function sklearn.metrics.cluster.bicluster.consensus_score>,\n",
       " <function sklearn.metrics.regression.explained_variance_score>,\n",
       " <function sklearn.metrics.classification.f1_score>,\n",
       " <function sklearn.metrics.classification.fbeta_score>,\n",
       " <function sklearn.metrics.scorer.get_scorer>,\n",
       " <function sklearn.metrics.cluster.supervised.homogeneity_score>,\n",
       " <function sklearn.metrics.classification.jaccard_similarity_score>,\n",
       " <function sklearn.metrics.ranking.label_ranking_average_precision_score>,\n",
       " <function sklearn.metrics.scorer.make_scorer>,\n",
       " <function sklearn.metrics.cluster.supervised.mutual_info_score>,\n",
       " <function sklearn.metrics.cluster.supervised.normalized_mutual_info_score>,\n",
       " <function sklearn.metrics.classification.precision_recall_fscore_support>,\n",
       " <function sklearn.metrics.classification.precision_score>,\n",
       " <function sklearn.metrics.regression.r2_score>,\n",
       " <function sklearn.metrics.classification.recall_score>,\n",
       " <function sklearn.metrics.ranking.roc_auc_score>,\n",
       " <module 'sklearn.metrics.scorer' from '/Users/romain/anaconda/lib/python2.7/site-packages/sklearn/metrics/scorer.pyc'>,\n",
       " <function sklearn.metrics.cluster.unsupervised.silhouette_score>,\n",
       " <function sklearn.metrics.cluster.supervised.v_measure_score>]"
      ]
     },
     "execution_count": 68,
     "metadata": {},
     "output_type": "execute_result"
    }
   ],
   "source": [
    "scoring_modules[\"metrics\"]"
   ]
  },
  {
   "cell_type": "markdown",
   "metadata": {},
   "source": [
    "# 8) tester les métriques sur un algo"
   ]
  },
  {
   "cell_type": "code",
   "execution_count": 69,
   "metadata": {},
   "outputs": [],
   "source": [
    "from sklearn.ensemble import BaggingRegressor"
   ]
  },
  {
   "cell_type": "markdown",
   "metadata": {},
   "source": [
    "# 8.1) l'algo a des performances variables"
   ]
  },
  {
   "cell_type": "code",
   "execution_count": 70,
   "metadata": {},
   "outputs": [
    {
     "name": "stdout",
     "output_type": "stream",
     "text": [
      "0 0.875152694243\n",
      "1 0.886705676437\n",
      "2 0.889211326493\n",
      "3 0.869657209423\n",
      "4 0.839075125445\n",
      "5 0.885239421773\n",
      "6 0.881646659982\n",
      "7 0.877158219726\n",
      "8 0.8689677812\n",
      "9 0.883690176553\n"
     ]
    }
   ],
   "source": [
    "performances = {}\n",
    "for i in range(10):\n",
    "    algorithme = BaggingRegressor()\n",
    "    algorithme.fit(X_train, y_train)\n",
    "    performance = algorithme.score(X_test, y_test)\n",
    "    print i, performance\n",
    "    performances[i] = [performance]"
   ]
  },
  {
   "cell_type": "code",
   "execution_count": 71,
   "metadata": {},
   "outputs": [
    {
     "data": {
      "text/plain": [
       "<matplotlib.axes._subplots.AxesSubplot at 0x1135aedd0>"
      ]
     },
     "execution_count": 71,
     "metadata": {},
     "output_type": "execute_result"
    },
    {
     "data": {
      "image/png": "[encoded data removed]",
      "text/plain": [
       "<matplotlib.figure.Figure at 0x1135ae7d0>"
      ]
     },
     "metadata": {},
     "output_type": "display_data"
    }
   ],
   "source": [
    "pd.DataFrame.from_dict(performances).T.plot()"
   ]
  },
  {
   "cell_type": "markdown",
   "metadata": {},
   "source": [
    "## On peut calculer diverses métriques"
   ]
  },
  {
   "cell_type": "code",
   "execution_count": 72,
   "metadata": {},
   "outputs": [],
   "source": [
    "y_pred = algorithme.predict(X_test)"
   ]
  },
  {
   "cell_type": "code",
   "execution_count": 75,
   "metadata": {},
   "outputs": [
    {
     "name": "stdout",
     "output_type": "stream",
     "text": [
      "adjusted_mutual_info_score  =>  -0.00102189425976\n",
      "adjusted_rand_score  =>  -0.000413061171917\n",
      "completeness_score  =>  0.916946313301\n",
      "explained_variance_score  =>  0.88384552252\n",
      "homogeneity_score  =>  0.994695735047\n",
      "mutual_info_score  =>  4.67009039306\n",
      "normalized_mutual_info_score  =>  0.955030149842\n",
      "r2_score  =>  0.883690176553\n",
      "v_measure_score  =>  0.954239929903\n"
     ]
    }
   ],
   "source": [
    "score_par_metric = {}\n",
    "for scoring_function in scoring_modules[\"metrics\"]:\n",
    "    try:\n",
    "        info         = str(scoring_function)\n",
    "        nom_metrique = info[info.find(\" \"):info.find(\" at \")].strip()\n",
    "        score_algo   = scoring_function(y_test, y_pred)\n",
    "        score_par_metric[nom_metrique] =  [score_algo]\n",
    "        print nom_metrique, \" => \", score_algo\n",
    "    except:\n",
    "        pass"
   ]
  },
  {
   "cell_type": "markdown",
   "metadata": {},
   "source": [
    "## on les manipule dans une dataframe pandas"
   ]
  },
  {
   "cell_type": "code",
   "execution_count": 78,
   "metadata": {},
   "outputs": [],
   "source": [
    "df_metriques = pd.DataFrame.from_dict(score_par_metric).T"
   ]
  },
  {
   "cell_type": "code",
   "execution_count": 79,
   "metadata": {},
   "outputs": [
    {
     "data": {
      "text/html": [
       "<div>\n",
       "<table border=\"1\" class=\"dataframe\">\n",
       "  <thead>\n",
       "    <tr style=\"text-align: right;\">\n",
       "      <th></th>\n",
       "      <th>score</th>\n",
       "    </tr>\n",
       "  </thead>\n",
       "  <tbody>\n",
       "    <tr>\n",
       "      <th>adjusted_mutual_info_score</th>\n",
       "      <td>-0.001022</td>\n",
       "    </tr>\n",
       "    <tr>\n",
       "      <th>adjusted_rand_score</th>\n",
       "      <td>-0.000413</td>\n",
       "    </tr>\n",
       "    <tr>\n",
       "      <th>r2_score</th>\n",
       "      <td>0.883690</td>\n",
       "    </tr>\n",
       "    <tr>\n",
       "      <th>explained_variance_score</th>\n",
       "      <td>0.883846</td>\n",
       "    </tr>\n",
       "    <tr>\n",
       "      <th>completeness_score</th>\n",
       "      <td>0.916946</td>\n",
       "    </tr>\n",
       "    <tr>\n",
       "      <th>v_measure_score</th>\n",
       "      <td>0.954240</td>\n",
       "    </tr>\n",
       "    <tr>\n",
       "      <th>normalized_mutual_info_score</th>\n",
       "      <td>0.955030</td>\n",
       "    </tr>\n",
       "    <tr>\n",
       "      <th>homogeneity_score</th>\n",
       "      <td>0.994696</td>\n",
       "    </tr>\n",
       "    <tr>\n",
       "      <th>mutual_info_score</th>\n",
       "      <td>4.670090</td>\n",
       "    </tr>\n",
       "  </tbody>\n",
       "</table>\n",
       "</div>"
      ],
      "text/plain": [
       "                                 score\n",
       "adjusted_mutual_info_score   -0.001022\n",
       "adjusted_rand_score          -0.000413\n",
       "r2_score                      0.883690\n",
       "explained_variance_score      0.883846\n",
       "completeness_score            0.916946\n",
       "v_measure_score               0.954240\n",
       "normalized_mutual_info_score  0.955030\n",
       "homogeneity_score             0.994696\n",
       "mutual_info_score             4.670090"
      ]
     },
     "execution_count": 79,
     "metadata": {},
     "output_type": "execute_result"
    }
   ],
   "source": [
    "colonne_de_score = \"score\"\n",
    "df_metriques.columns = [colonne_de_score]\n",
    "df_metriques.sort_values(colonne_de_score)"
   ]
  },
  {
   "cell_type": "markdown",
   "metadata": {},
   "source": [
    "## on peut les dessiner"
   ]
  },
  {
   "cell_type": "code",
   "execution_count": 80,
   "metadata": {},
   "outputs": [
    {
     "data": {
      "text/plain": [
       "<matplotlib.axes._subplots.AxesSubplot at 0x1134ec910>"
      ]
     },
     "execution_count": 80,
     "metadata": {},
     "output_type": "execute_result"
    },
    {
     "data": {
      "image/png": "[encoded data removed]",
      "text/plain": [
       "<matplotlib.figure.Figure at 0x11455a850>"
      ]
     },
     "metadata": {},
     "output_type": "display_data"
    }
   ],
   "source": [
    "df_metriques.sort_values(by=colonne_de_score).plot(kind=\"barh\")"
   ]
  },
  {
   "cell_type": "markdown",
   "metadata": {},
   "source": [
    "# on s'intéresse en général au r2 et à la variance expliquée"
   ]
  }
 ],
 "metadata": {
  "kernelspec": {
   "display_name": "Python 3",
   "language": "python",
   "name": "python3"
  },
  "language_info": {
   "codemirror_mode": {
    "name": "ipython",
    "version": 3
   },
   "file_extension": ".py",
   "mimetype": "text/x-python",
   "name": "python",
   "nbconvert_exporter": "python",
   "pygments_lexer": "ipython3",
   "version": "3.7.0"
  }
 },
 "nbformat": 4,
 "nbformat_minor": 1
}
