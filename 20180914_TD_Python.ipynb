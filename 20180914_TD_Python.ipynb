{
 "cells": [
  {
   "cell_type": "code",
   "execution_count": 3,
   "metadata": {},
   "outputs": [
    {
     "name": "stdout",
     "output_type": "stream",
     "text": [
      "On branch master\r\n",
      "Your branch is up to date with 'origin/master'.\r\n",
      "\r\n",
      "Changes not staged for commit:\r\n",
      "  (use \"git add/rm <file>...\" to update what will be committed)\r\n",
      "  (use \"git checkout -- <file>...\" to discard changes in working directory)\r\n",
      "\r\n",
      "\t\u001b[31mmodified:   20180914_TD_Python.ipynb\u001b[m\r\n",
      "\t\u001b[31mdeleted:    accidents_corporels_de_la_circulation.ipynb\u001b[m\r\n",
      "\r\n",
      "Untracked files:\r\n",
      "  (use \"git add <file>...\" to include in what will be committed)\r\n",
      "\r\n",
      "\t\u001b[31m.ipynb_checkpoints/\u001b[m\r\n",
      "\t\u001b[31mUntitled1.ipynb\u001b[m\r\n",
      "\r\n",
      "no changes added to commit (use \"git add\" and/or \"git commit -a\")\r\n"
     ]
    }
   ],
   "source": [
    "!git status"
   ]
  },
  {
   "cell_type": "markdown",
   "metadata": {},
   "source": [
    "# Base de données accidents corporels de la circulation\n",
    "https://www.data.gouv.fr/fr/datasets/base-de-donnees-accidents-corporels-de-la-circulation/\n",
    "\n",
    "Ce jeu de données provient d'un service public certifié\n",
    " NEC MERGITUR\n",
    "Pour chaque accident corporel (soit un accident survenu sur une voie ouverte à la circulation publique, impliquant au moins un véhicule et ayant fait au moins une victime ayant nécessité des soins), des saisies d’information décrivant l’accident sont effectuées par l’unité des forces de l’ordre (police, gendarmerie, etc.) qui est intervenue sur le lieu de l’accident. Ces saisies sont rassemblées dans une fiche intitulée bulletin d’analyse des accidents corporels. L’ensemble de ces fiches constitue le fichier national des accidents corporels de la circulation dit \" Fichier BAAC \" administré par l’Observatoire national interministériel de la sécurité routière \"ONISR\".\n",
    "\n",
    "Les bases de données, extraites du fichier BAAC, répertorient l'intégralité des accidents corporels de la circulation intervenus durant une année précise en France métropolitaine ainsi que les départements d’Outre-mer (Guadeloupe, Guyane, Martinique, La Réunion et Mayotte depuis 2012) avec une description simplifiée. Cela comprend des informations de localisation de l’accident, telles que renseignées ainsi que des informations concernant les caractéristiques de l’accident et son lieu, les véhicules impliqués et leurs victimes.\n",
    "\n",
    "Par rapport aux bases de données agrégées 2005-2010 et 2006-2011 actuellement disponibles sur le site www.data.gouv.fr, les bases de données de 2005 à 2016 sont désormais annuelles et composées de 4 fichiers (Caractéristiques – Lieux – Véhicules – Usagers ) au format csv.\n",
    "\n",
    "Ces bases occultent néanmoins certaines données spécifiques relatives aux usagers et aux véhicules et à leur comportement dans la mesure où la divulgation de ces données porterait atteinte à la protection de la vie privée des personnes physiques aisément identifiables ou ferait apparaître le comportement de telles personnes alors que la divulgation de ce comportement pourrait leur porter préjudice (avis de la CADA – 2 janvier 2012)."
   ]
  },
  {
   "cell_type": "code",
   "execution_count": 4,
   "metadata": {},
   "outputs": [],
   "source": [
    "%matplotlib inline"
   ]
  },
  {
   "cell_type": "code",
   "execution_count": 5,
   "metadata": {},
   "outputs": [],
   "source": [
    "import pandas as pd"
   ]
  },
  {
   "cell_type": "markdown",
   "metadata": {},
   "source": [
    "# Téléchargement de la documentation\n",
    "https://www.data.gouv.fr/fr/datasets/r/36496bab-a042-47bf-b08b-3c7467f2bddf"
   ]
  },
  {
   "cell_type": "markdown",
   "metadata": {},
   "source": [
    "# Téléchargements des données\n",
    "https://www.data.gouv.fr/fr/datasets/r/be2191a6-a7cd-446f-a9fc-8d698688eb9e\n",
    "\n",
    "https://www.data.gouv.fr/fr/datasets/r/e4c6f4fe-7c68-4a1d-9bb6-b0f1f5d45526\n",
    "\n",
    "https://www.data.gouv.fr/fr/datasets/r/08b77510-39c4-4761-bf02-19457264790f\n",
    "\n",
    "https://www.data.gouv.fr/fr/datasets/r/96aadc9f-0b55-4e9a-a70e-c627ed97e6f7\n"
   ]
  },
  {
   "cell_type": "code",
   "execution_count": 6,
   "metadata": {},
   "outputs": [],
   "source": [
    "import pandas as pd"
   ]
  },
  {
   "cell_type": "code",
   "execution_count": 7,
   "metadata": {},
   "outputs": [],
   "source": [
    "types_des_colonnes ={\"hrmn\" : str }"
   ]
  },
  {
   "cell_type": "code",
   "execution_count": 8,
   "metadata": {},
   "outputs": [],
   "source": [
    "path = \"https://www.data.gouv.fr/fr/datasets/r/96aadc9f-0b55-4e9a-a70e-c627ed97e6f7\"\n",
    "df = pd.read_csv(path, encoding=\"latin1\", dtype=types_des_colonnes)"
   ]
  },
  {
   "cell_type": "code",
   "execution_count": 9,
   "metadata": {},
   "outputs": [
    {
     "data": {
      "text/html": [
       "<div>\n",
       "<table border=\"1\" class=\"dataframe\">\n",
       "  <thead>\n",
       "    <tr style=\"text-align: right;\">\n",
       "      <th></th>\n",
       "      <th>Num_Acc</th>\n",
       "      <th>an</th>\n",
       "      <th>mois</th>\n",
       "      <th>jour</th>\n",
       "      <th>hrmn</th>\n",
       "      <th>lum</th>\n",
       "      <th>agg</th>\n",
       "      <th>int</th>\n",
       "      <th>atm</th>\n",
       "      <th>col</th>\n",
       "      <th>com</th>\n",
       "      <th>adr</th>\n",
       "      <th>gps</th>\n",
       "      <th>lat</th>\n",
       "      <th>long</th>\n",
       "      <th>dep</th>\n",
       "    </tr>\n",
       "  </thead>\n",
       "  <tbody>\n",
       "    <tr>\n",
       "      <th>0</th>\n",
       "      <td>201600000001</td>\n",
       "      <td>16</td>\n",
       "      <td>2</td>\n",
       "      <td>1</td>\n",
       "      <td>1445</td>\n",
       "      <td>1</td>\n",
       "      <td>2</td>\n",
       "      <td>1</td>\n",
       "      <td>8</td>\n",
       "      <td>3.0</td>\n",
       "      <td>5</td>\n",
       "      <td>46, rue Sonneville</td>\n",
       "      <td>M</td>\n",
       "      <td>0.0</td>\n",
       "      <td>0.0</td>\n",
       "      <td>590</td>\n",
       "    </tr>\n",
       "    <tr>\n",
       "      <th>1</th>\n",
       "      <td>201600000002</td>\n",
       "      <td>16</td>\n",
       "      <td>3</td>\n",
       "      <td>16</td>\n",
       "      <td>1800</td>\n",
       "      <td>1</td>\n",
       "      <td>2</td>\n",
       "      <td>6</td>\n",
       "      <td>1</td>\n",
       "      <td>6.0</td>\n",
       "      <td>5</td>\n",
       "      <td>1a rue du cimetiÃ¨re</td>\n",
       "      <td>M</td>\n",
       "      <td>0.0</td>\n",
       "      <td>0.0</td>\n",
       "      <td>590</td>\n",
       "    </tr>\n",
       "    <tr>\n",
       "      <th>2</th>\n",
       "      <td>201600000003</td>\n",
       "      <td>16</td>\n",
       "      <td>7</td>\n",
       "      <td>13</td>\n",
       "      <td>1900</td>\n",
       "      <td>1</td>\n",
       "      <td>1</td>\n",
       "      <td>1</td>\n",
       "      <td>1</td>\n",
       "      <td>6.0</td>\n",
       "      <td>11</td>\n",
       "      <td>NaN</td>\n",
       "      <td>M</td>\n",
       "      <td>0.0</td>\n",
       "      <td>0.0</td>\n",
       "      <td>590</td>\n",
       "    </tr>\n",
       "    <tr>\n",
       "      <th>3</th>\n",
       "      <td>201600000004</td>\n",
       "      <td>16</td>\n",
       "      <td>8</td>\n",
       "      <td>15</td>\n",
       "      <td>1930</td>\n",
       "      <td>2</td>\n",
       "      <td>2</td>\n",
       "      <td>1</td>\n",
       "      <td>7</td>\n",
       "      <td>3.0</td>\n",
       "      <td>477</td>\n",
       "      <td>52 rue victor hugo</td>\n",
       "      <td>M</td>\n",
       "      <td>0.0</td>\n",
       "      <td>0.0</td>\n",
       "      <td>590</td>\n",
       "    </tr>\n",
       "    <tr>\n",
       "      <th>4</th>\n",
       "      <td>201600000005</td>\n",
       "      <td>16</td>\n",
       "      <td>12</td>\n",
       "      <td>23</td>\n",
       "      <td>1100</td>\n",
       "      <td>1</td>\n",
       "      <td>2</td>\n",
       "      <td>3</td>\n",
       "      <td>1</td>\n",
       "      <td>3.0</td>\n",
       "      <td>11</td>\n",
       "      <td>rue Joliot curie</td>\n",
       "      <td>M</td>\n",
       "      <td>0.0</td>\n",
       "      <td>0.0</td>\n",
       "      <td>590</td>\n",
       "    </tr>\n",
       "  </tbody>\n",
       "</table>\n",
       "</div>"
      ],
      "text/plain": [
       "        Num_Acc  an  mois  jour  hrmn  lum  agg  int  atm  col  com  \\\n",
       "0  201600000001  16     2     1  1445    1    2    1    8  3.0    5   \n",
       "1  201600000002  16     3    16  1800    1    2    6    1  6.0    5   \n",
       "2  201600000003  16     7    13  1900    1    1    1    1  6.0   11   \n",
       "3  201600000004  16     8    15  1930    2    2    1    7  3.0  477   \n",
       "4  201600000005  16    12    23  1100    1    2    3    1  3.0   11   \n",
       "\n",
       "                    adr gps  lat  long  dep  \n",
       "0    46, rue Sonneville   M  0.0   0.0  590  \n",
       "1  1a rue du cimetiÃ¨re   M  0.0   0.0  590  \n",
       "2                   NaN   M  0.0   0.0  590  \n",
       "3    52 rue victor hugo   M  0.0   0.0  590  \n",
       "4      rue Joliot curie   M  0.0   0.0  590  "
      ]
     },
     "execution_count": 9,
     "metadata": {},
     "output_type": "execute_result"
    }
   ],
   "source": [
    "df.head()"
   ]
  },
  {
   "cell_type": "code",
   "execution_count": 10,
   "metadata": {},
   "outputs": [
    {
     "data": {
      "text/plain": [
       "Num_Acc      int64\n",
       "an           int64\n",
       "mois         int64\n",
       "jour         int64\n",
       "hrmn        object\n",
       "lum          int64\n",
       "agg          int64\n",
       "int          int64\n",
       "atm          int64\n",
       "col        float64\n",
       "com          int64\n",
       "adr         object\n",
       "gps         object\n",
       "lat        float64\n",
       "long       float64\n",
       "dep          int64\n",
       "dtype: object"
      ]
     },
     "execution_count": 10,
     "metadata": {},
     "output_type": "execute_result"
    }
   ],
   "source": [
    "df.dtypes"
   ]
  },
  {
   "cell_type": "code",
   "execution_count": 13,
   "metadata": {},
   "outputs": [],
   "source": [
    "def make_string_4_car(string):\n",
    "    while len(string)<4:\n",
    "        string = \"0\" + string\n",
    "    return string"
   ]
  },
  {
   "cell_type": "code",
   "execution_count": 14,
   "metadata": {},
   "outputs": [],
   "source": [
    "def test_make_string_4_car():\n",
    "    \n",
    "    function = make_string_4_car\n",
    "    input_ = \"4\"\n",
    "    expected_output = \"0004\"\n",
    "    assert(function(input_) == expected_output)\n",
    "    \n",
    "    input_ = \"0004\"\n",
    "    expected_output = \"0004\"\n",
    "    assert(function(input_) == expected_output)\n",
    "    \n",
    "test_make_string_4_car()"
   ]
  },
  {
   "cell_type": "code",
   "execution_count": 20,
   "metadata": {},
   "outputs": [],
   "source": [
    "df.hrmn = df.hrmn.map(make_string_4_car)"
   ]
  },
  {
   "cell_type": "markdown",
   "metadata": {},
   "source": [
    "# Matplotlib : la librairie standard est originale de python"
   ]
  },
  {
   "cell_type": "code",
   "execution_count": 40,
   "metadata": {},
   "outputs": [
    {
     "data": {
      "text/plain": [
       "<matplotlib.axes._subplots.AxesSubplot at 0x11c57c198>"
      ]
     },
     "execution_count": 40,
     "metadata": {},
     "output_type": "execute_result"
    },
    {
     "data": {
      "image/png": "[encoded data removed]",
      "text/plain": [
       "<Figure size 2160x720 with 1 Axes>"
      ]
     },
     "metadata": {},
     "output_type": "display_data"
    }
   ],
   "source": [
    "title = \"Nombre d'accidents par heure:min de la journée\"\n",
    "_ = df.groupby(\"hrmn\")[\"Num_Acc\"].count()\n",
    "_.plot(title=title, figsize=(30,10))"
   ]
  },
  {
   "cell_type": "markdown",
   "metadata": {},
   "source": [
    "# Syntaxe d'extraction d'élèments en fin ou début de tableau => [:]"
   ]
  },
  {
   "cell_type": "code",
   "execution_count": 53,
   "metadata": {},
   "outputs": [
    {
     "data": {
      "text/plain": [
       "'ceci est un tableau de caractèr'"
      ]
     },
     "execution_count": 53,
     "metadata": {},
     "output_type": "execute_result"
    }
   ],
   "source": [
    "\n",
    "\"ceci est un tableau de caractères\"[-2:]\n",
    "\"ceci est un tableau de caractères\"[:-2]\n"
   ]
  },
  {
   "cell_type": "code",
   "execution_count": 56,
   "metadata": {},
   "outputs": [],
   "source": [
    "df[\"is_in_quart_d_heure\"] = df.hrmn.map(lambda x: x[-2:] in [\"00\", \"15\", \"30\", \"45\"])"
   ]
  },
  {
   "cell_type": "code",
   "execution_count": 57,
   "metadata": {},
   "outputs": [
    {
     "data": {
      "text/plain": [
       "33916"
      ]
     },
     "execution_count": 57,
     "metadata": {},
     "output_type": "execute_result"
    }
   ],
   "source": [
    "df.is_in_quart_d_heure.sum()"
   ]
  },
  {
   "cell_type": "markdown",
   "metadata": {},
   "source": [
    "# Bokeh : la nouvelle librairie d'analyse de données"
   ]
  },
  {
   "cell_type": "code",
   "execution_count": 118,
   "metadata": {},
   "outputs": [
    {
     "data": {
      "text/html": [
       "\n",
       "    <div class=\"bk-root\">\n",
       "        <a href=\"https://bokeh.pydata.org\" target=\"_blank\" class=\"bk-logo bk-logo-small bk-logo-notebook\"></a>\n",
       "        <span id=\"85b36596-3646-406c-876f-177c5856875c\">Loading BokehJS ...</span>\n",
       "    </div>"
      ]
     },
     "metadata": {},
     "output_type": "display_data"
    },
    {
     "data": {
      "application/javascript": [
       "\n",
       "(function(root) {\n",
       "  function now() {\n",
       "    return new Date();\n",
       "  }\n",
       "\n",
       "  var force = true;\n",
       "\n",
       "  if (typeof (root._bokeh_onload_callbacks) === \"undefined\" || force === true) {\n",
       "    root._bokeh_onload_callbacks = [];\n",
       "    root._bokeh_is_loading = undefined;\n",
       "  }\n",
       "\n",
       "  var JS_MIME_TYPE = 'application/javascript';\n",
       "  var HTML_MIME_TYPE = 'text/html';\n",
       "  var EXEC_MIME_TYPE = 'application/vnd.bokehjs_exec.v0+json';\n",
       "  var CLASS_NAME = 'output_bokeh rendered_html';\n",
       "\n",
       "  /**\n",
       "   * Render data to the DOM node\n",
       "   */\n",
       "  function render(props, node) {\n",
       "    var script = document.createElement(\"script\");\n",
       "    node.appendChild(script);\n",
       "  }\n",
       "\n",
       "  /**\n",
       "   * Handle when an output is cleared or removed\n",
       "   */\n",
       "  function handleClearOutput(event, handle) {\n",
       "    var cell = handle.cell;\n",
       "\n",
       "    var id = cell.output_area._bokeh_element_id;\n",
       "    var server_id = cell.output_area._bokeh_server_id;\n",
       "    // Clean up Bokeh references\n",
       "    if (id != null && id in Bokeh.index) {\n",
       "      Bokeh.index[id].model.document.clear();\n",
       "      delete Bokeh.index[id];\n",
       "    }\n",
       "\n",
       "    if (server_id !== undefined) {\n",
       "      // Clean up Bokeh references\n",
       "      var cmd = \"from bokeh.io.state import curstate; print(curstate().uuid_to_server['\" + server_id + \"'].get_sessions()[0].document.roots[0]._id)\";\n",
       "      cell.notebook.kernel.execute(cmd, {\n",
       "        iopub: {\n",
       "          output: function(msg) {\n",
       "            var id = msg.content.text.trim();\n",
       "            if (id in Bokeh.index) {\n",
       "              Bokeh.index[id].model.document.clear();\n",
       "              delete Bokeh.index[id];\n",
       "            }\n",
       "          }\n",
       "        }\n",
       "      });\n",
       "      // Destroy server and session\n",
       "      var cmd = \"import bokeh.io.notebook as ion; ion.destroy_server('\" + server_id + \"')\";\n",
       "      cell.notebook.kernel.execute(cmd);\n",
       "    }\n",
       "  }\n",
       "\n",
       "  /**\n",
       "   * Handle when a new output is added\n",
       "   */\n",
       "  function handleAddOutput(event, handle) {\n",
       "    var output_area = handle.output_area;\n",
       "    var output = handle.output;\n",
       "\n",
       "    // limit handleAddOutput to display_data with EXEC_MIME_TYPE content only\n",
       "    if ((output.output_type != \"display_data\") || (!output.data.hasOwnProperty(EXEC_MIME_TYPE))) {\n",
       "      return\n",
       "    }\n",
       "\n",
       "    var toinsert = output_area.element.find(\".\" + CLASS_NAME.split(' ')[0]);\n",
       "\n",
       "    if (output.metadata[EXEC_MIME_TYPE][\"id\"] !== undefined) {\n",
       "      toinsert[toinsert.length - 1].firstChild.textContent = output.data[JS_MIME_TYPE];\n",
       "      // store reference to embed id on output_area\n",
       "      output_area._bokeh_element_id = output.metadata[EXEC_MIME_TYPE][\"id\"];\n",
       "    }\n",
       "    if (output.metadata[EXEC_MIME_TYPE][\"server_id\"] !== undefined) {\n",
       "      var bk_div = document.createElement(\"div\");\n",
       "      bk_div.innerHTML = output.data[HTML_MIME_TYPE];\n",
       "      var script_attrs = bk_div.children[0].attributes;\n",
       "      for (var i = 0; i < script_attrs.length; i++) {\n",
       "        toinsert[toinsert.length - 1].firstChild.setAttribute(script_attrs[i].name, script_attrs[i].value);\n",
       "      }\n",
       "      // store reference to server id on output_area\n",
       "      output_area._bokeh_server_id = output.metadata[EXEC_MIME_TYPE][\"server_id\"];\n",
       "    }\n",
       "  }\n",
       "\n",
       "  function register_renderer(events, OutputArea) {\n",
       "\n",
       "    function append_mime(data, metadata, element) {\n",
       "      // create a DOM node to render to\n",
       "      var toinsert = this.create_output_subarea(\n",
       "        metadata,\n",
       "        CLASS_NAME,\n",
       "        EXEC_MIME_TYPE\n",
       "      );\n",
       "      this.keyboard_manager.register_events(toinsert);\n",
       "      // Render to node\n",
       "      var props = {data: data, metadata: metadata[EXEC_MIME_TYPE]};\n",
       "      render(props, toinsert[toinsert.length - 1]);\n",
       "      element.append(toinsert);\n",
       "      return toinsert\n",
       "    }\n",
       "\n",
       "    /* Handle when an output is cleared or removed */\n",
       "    events.on('clear_output.CodeCell', handleClearOutput);\n",
       "    events.on('delete.Cell', handleClearOutput);\n",
       "\n",
       "    /* Handle when a new output is added */\n",
       "    events.on('output_added.OutputArea', handleAddOutput);\n",
       "\n",
       "    /**\n",
       "     * Register the mime type and append_mime function with output_area\n",
       "     */\n",
       "    OutputArea.prototype.register_mime_type(EXEC_MIME_TYPE, append_mime, {\n",
       "      /* Is output safe? */\n",
       "      safe: true,\n",
       "      /* Index of renderer in `output_area.display_order` */\n",
       "      index: 0\n",
       "    });\n",
       "  }\n",
       "\n",
       "  // register the mime type if in Jupyter Notebook environment and previously unregistered\n",
       "  if (root.Jupyter !== undefined) {\n",
       "    var events = require('base/js/events');\n",
       "    var OutputArea = require('notebook/js/outputarea').OutputArea;\n",
       "\n",
       "    if (OutputArea.prototype.mime_types().indexOf(EXEC_MIME_TYPE) == -1) {\n",
       "      register_renderer(events, OutputArea);\n",
       "    }\n",
       "  }\n",
       "\n",
       "  \n",
       "  if (typeof (root._bokeh_timeout) === \"undefined\" || force === true) {\n",
       "    root._bokeh_timeout = Date.now() + 5000;\n",
       "    root._bokeh_failed_load = false;\n",
       "  }\n",
       "\n",
       "  var NB_LOAD_WARNING = {'data': {'text/html':\n",
       "     \"<div style='background-color: #fdd'>\\n\"+\n",
       "     \"<p>\\n\"+\n",
       "     \"BokehJS does not appear to have successfully loaded. If loading BokehJS from CDN, this \\n\"+\n",
       "     \"may be due to a slow or bad network connection. Possible fixes:\\n\"+\n",
       "     \"</p>\\n\"+\n",
       "     \"<ul>\\n\"+\n",
       "     \"<li>re-rerun `output_notebook()` to attempt to load from CDN again, or</li>\\n\"+\n",
       "     \"<li>use INLINE resources instead, as so:</li>\\n\"+\n",
       "     \"</ul>\\n\"+\n",
       "     \"<code>\\n\"+\n",
       "     \"from bokeh.resources import INLINE\\n\"+\n",
       "     \"output_notebook(resources=INLINE)\\n\"+\n",
       "     \"</code>\\n\"+\n",
       "     \"</div>\"}};\n",
       "\n",
       "  function display_loaded() {\n",
       "    var el = document.getElementById(\"85b36596-3646-406c-876f-177c5856875c\");\n",
       "    if (el != null) {\n",
       "      el.textContent = \"BokehJS is loading...\";\n",
       "    }\n",
       "    if (root.Bokeh !== undefined) {\n",
       "      if (el != null) {\n",
       "        el.textContent = \"BokehJS \" + root.Bokeh.version + \" successfully loaded.\";\n",
       "      }\n",
       "    } else if (Date.now() < root._bokeh_timeout) {\n",
       "      setTimeout(display_loaded, 100)\n",
       "    }\n",
       "  }\n",
       "\n",
       "\n",
       "  function run_callbacks() {\n",
       "    try {\n",
       "      root._bokeh_onload_callbacks.forEach(function(callback) { callback() });\n",
       "    }\n",
       "    finally {\n",
       "      delete root._bokeh_onload_callbacks\n",
       "    }\n",
       "    console.info(\"Bokeh: all callbacks have finished\");\n",
       "  }\n",
       "\n",
       "  function load_libs(js_urls, callback) {\n",
       "    root._bokeh_onload_callbacks.push(callback);\n",
       "    if (root._bokeh_is_loading > 0) {\n",
       "      console.log(\"Bokeh: BokehJS is being loaded, scheduling callback at\", now());\n",
       "      return null;\n",
       "    }\n",
       "    if (js_urls == null || js_urls.length === 0) {\n",
       "      run_callbacks();\n",
       "      return null;\n",
       "    }\n",
       "    console.log(\"Bokeh: BokehJS not loaded, scheduling load and callback at\", now());\n",
       "    root._bokeh_is_loading = js_urls.length;\n",
       "    for (var i = 0; i < js_urls.length; i++) {\n",
       "      var url = js_urls[i];\n",
       "      var s = document.createElement('script');\n",
       "      s.src = url;\n",
       "      s.async = false;\n",
       "      s.onreadystatechange = s.onload = function() {\n",
       "        root._bokeh_is_loading--;\n",
       "        if (root._bokeh_is_loading === 0) {\n",
       "          console.log(\"Bokeh: all BokehJS libraries loaded\");\n",
       "          run_callbacks()\n",
       "        }\n",
       "      };\n",
       "      s.onerror = function() {\n",
       "        console.warn(\"failed to load library \" + url);\n",
       "      };\n",
       "      console.log(\"Bokeh: injecting script tag for BokehJS library: \", url);\n",
       "      document.getElementsByTagName(\"head\")[0].appendChild(s);\n",
       "    }\n",
       "  };var element = document.getElementById(\"85b36596-3646-406c-876f-177c5856875c\");\n",
       "  if (element == null) {\n",
       "    console.log(\"Bokeh: ERROR: autoload.js configured with elementid '85b36596-3646-406c-876f-177c5856875c' but no matching script tag was found. \")\n",
       "    return false;\n",
       "  }\n",
       "\n",
       "  var js_urls = [\"https://cdn.pydata.org/bokeh/release/bokeh-0.13.0.min.js\", \"https://cdn.pydata.org/bokeh/release/bokeh-widgets-0.13.0.min.js\", \"https://cdn.pydata.org/bokeh/release/bokeh-tables-0.13.0.min.js\", \"https://cdn.pydata.org/bokeh/release/bokeh-gl-0.13.0.min.js\"];\n",
       "\n",
       "  var inline_js = [\n",
       "    function(Bokeh) {\n",
       "      Bokeh.set_log_level(\"info\");\n",
       "    },\n",
       "    \n",
       "    function(Bokeh) {\n",
       "      \n",
       "    },\n",
       "    function(Bokeh) {\n",
       "      console.log(\"Bokeh: injecting CSS: https://cdn.pydata.org/bokeh/release/bokeh-0.13.0.min.css\");\n",
       "      Bokeh.embed.inject_css(\"https://cdn.pydata.org/bokeh/release/bokeh-0.13.0.min.css\");\n",
       "      console.log(\"Bokeh: injecting CSS: https://cdn.pydata.org/bokeh/release/bokeh-widgets-0.13.0.min.css\");\n",
       "      Bokeh.embed.inject_css(\"https://cdn.pydata.org/bokeh/release/bokeh-widgets-0.13.0.min.css\");\n",
       "      console.log(\"Bokeh: injecting CSS: https://cdn.pydata.org/bokeh/release/bokeh-tables-0.13.0.min.css\");\n",
       "      Bokeh.embed.inject_css(\"https://cdn.pydata.org/bokeh/release/bokeh-tables-0.13.0.min.css\");\n",
       "    }\n",
       "  ];\n",
       "\n",
       "  function run_inline_js() {\n",
       "    \n",
       "    if ((root.Bokeh !== undefined) || (force === true)) {\n",
       "      for (var i = 0; i < inline_js.length; i++) {\n",
       "        inline_js[i].call(root, root.Bokeh);\n",
       "      }if (force === true) {\n",
       "        display_loaded();\n",
       "      }} else if (Date.now() < root._bokeh_timeout) {\n",
       "      setTimeout(run_inline_js, 100);\n",
       "    } else if (!root._bokeh_failed_load) {\n",
       "      console.log(\"Bokeh: BokehJS failed to load within specified timeout.\");\n",
       "      root._bokeh_failed_load = true;\n",
       "    } else if (force !== true) {\n",
       "      var cell = $(document.getElementById(\"85b36596-3646-406c-876f-177c5856875c\")).parents('.cell').data().cell;\n",
       "      cell.output_area.append_execute_result(NB_LOAD_WARNING)\n",
       "    }\n",
       "\n",
       "  }\n",
       "\n",
       "  if (root._bokeh_is_loading === 0) {\n",
       "    console.log(\"Bokeh: BokehJS loaded, going straight to plotting\");\n",
       "    run_inline_js();\n",
       "  } else {\n",
       "    load_libs(js_urls, function() {\n",
       "      console.log(\"Bokeh: BokehJS plotting callback run at\", now());\n",
       "      run_inline_js();\n",
       "    });\n",
       "  }\n",
       "}(window));"
      ],
      "application/vnd.bokehjs_load.v0+json": "\n(function(root) {\n  function now() {\n    return new Date();\n  }\n\n  var force = true;\n\n  if (typeof (root._bokeh_onload_callbacks) === \"undefined\" || force === true) {\n    root._bokeh_onload_callbacks = [];\n    root._bokeh_is_loading = undefined;\n  }\n\n  \n\n  \n  if (typeof (root._bokeh_timeout) === \"undefined\" || force === true) {\n    root._bokeh_timeout = Date.now() + 5000;\n    root._bokeh_failed_load = false;\n  }\n\n  var NB_LOAD_WARNING = {'data': {'text/html':\n     \"<div style='background-color: #fdd'>\\n\"+\n     \"<p>\\n\"+\n     \"BokehJS does not appear to have successfully loaded. If loading BokehJS from CDN, this \\n\"+\n     \"may be due to a slow or bad network connection. Possible fixes:\\n\"+\n     \"</p>\\n\"+\n     \"<ul>\\n\"+\n     \"<li>re-rerun `output_notebook()` to attempt to load from CDN again, or</li>\\n\"+\n     \"<li>use INLINE resources instead, as so:</li>\\n\"+\n     \"</ul>\\n\"+\n     \"<code>\\n\"+\n     \"from bokeh.resources import INLINE\\n\"+\n     \"output_notebook(resources=INLINE)\\n\"+\n     \"</code>\\n\"+\n     \"</div>\"}};\n\n  function display_loaded() {\n    var el = document.getElementById(\"85b36596-3646-406c-876f-177c5856875c\");\n    if (el != null) {\n      el.textContent = \"BokehJS is loading...\";\n    }\n    if (root.Bokeh !== undefined) {\n      if (el != null) {\n        el.textContent = \"BokehJS \" + root.Bokeh.version + \" successfully loaded.\";\n      }\n    } else if (Date.now() < root._bokeh_timeout) {\n      setTimeout(display_loaded, 100)\n    }\n  }\n\n\n  function run_callbacks() {\n    try {\n      root._bokeh_onload_callbacks.forEach(function(callback) { callback() });\n    }\n    finally {\n      delete root._bokeh_onload_callbacks\n    }\n    console.info(\"Bokeh: all callbacks have finished\");\n  }\n\n  function load_libs(js_urls, callback) {\n    root._bokeh_onload_callbacks.push(callback);\n    if (root._bokeh_is_loading > 0) {\n      console.log(\"Bokeh: BokehJS is being loaded, scheduling callback at\", now());\n      return null;\n    }\n    if (js_urls == null || js_urls.length === 0) {\n      run_callbacks();\n      return null;\n    }\n    console.log(\"Bokeh: BokehJS not loaded, scheduling load and callback at\", now());\n    root._bokeh_is_loading = js_urls.length;\n    for (var i = 0; i < js_urls.length; i++) {\n      var url = js_urls[i];\n      var s = document.createElement('script');\n      s.src = url;\n      s.async = false;\n      s.onreadystatechange = s.onload = function() {\n        root._bokeh_is_loading--;\n        if (root._bokeh_is_loading === 0) {\n          console.log(\"Bokeh: all BokehJS libraries loaded\");\n          run_callbacks()\n        }\n      };\n      s.onerror = function() {\n        console.warn(\"failed to load library \" + url);\n      };\n      console.log(\"Bokeh: injecting script tag for BokehJS library: \", url);\n      document.getElementsByTagName(\"head\")[0].appendChild(s);\n    }\n  };var element = document.getElementById(\"85b36596-3646-406c-876f-177c5856875c\");\n  if (element == null) {\n    console.log(\"Bokeh: ERROR: autoload.js configured with elementid '85b36596-3646-406c-876f-177c5856875c' but no matching script tag was found. \")\n    return false;\n  }\n\n  var js_urls = [\"https://cdn.pydata.org/bokeh/release/bokeh-0.13.0.min.js\", \"https://cdn.pydata.org/bokeh/release/bokeh-widgets-0.13.0.min.js\", \"https://cdn.pydata.org/bokeh/release/bokeh-tables-0.13.0.min.js\", \"https://cdn.pydata.org/bokeh/release/bokeh-gl-0.13.0.min.js\"];\n\n  var inline_js = [\n    function(Bokeh) {\n      Bokeh.set_log_level(\"info\");\n    },\n    \n    function(Bokeh) {\n      \n    },\n    function(Bokeh) {\n      console.log(\"Bokeh: injecting CSS: https://cdn.pydata.org/bokeh/release/bokeh-0.13.0.min.css\");\n      Bokeh.embed.inject_css(\"https://cdn.pydata.org/bokeh/release/bokeh-0.13.0.min.css\");\n      console.log(\"Bokeh: injecting CSS: https://cdn.pydata.org/bokeh/release/bokeh-widgets-0.13.0.min.css\");\n      Bokeh.embed.inject_css(\"https://cdn.pydata.org/bokeh/release/bokeh-widgets-0.13.0.min.css\");\n      console.log(\"Bokeh: injecting CSS: https://cdn.pydata.org/bokeh/release/bokeh-tables-0.13.0.min.css\");\n      Bokeh.embed.inject_css(\"https://cdn.pydata.org/bokeh/release/bokeh-tables-0.13.0.min.css\");\n    }\n  ];\n\n  function run_inline_js() {\n    \n    if ((root.Bokeh !== undefined) || (force === true)) {\n      for (var i = 0; i < inline_js.length; i++) {\n        inline_js[i].call(root, root.Bokeh);\n      }if (force === true) {\n        display_loaded();\n      }} else if (Date.now() < root._bokeh_timeout) {\n      setTimeout(run_inline_js, 100);\n    } else if (!root._bokeh_failed_load) {\n      console.log(\"Bokeh: BokehJS failed to load within specified timeout.\");\n      root._bokeh_failed_load = true;\n    } else if (force !== true) {\n      var cell = $(document.getElementById(\"85b36596-3646-406c-876f-177c5856875c\")).parents('.cell').data().cell;\n      cell.output_area.append_execute_result(NB_LOAD_WARNING)\n    }\n\n  }\n\n  if (root._bokeh_is_loading === 0) {\n    console.log(\"Bokeh: BokehJS loaded, going straight to plotting\");\n    run_inline_js();\n  } else {\n    load_libs(js_urls, function() {\n      console.log(\"Bokeh: BokehJS plotting callback run at\", now());\n      run_inline_js();\n    });\n  }\n}(window));"
     },
     "metadata": {},
     "output_type": "display_data"
    }
   ],
   "source": [
    "from bokeh.plotting import figure, show\n",
    "from bokeh.io import output_notebook\n",
    "from bokeh.transform import linear_cmap\n",
    "from bokeh.palettes import Spectral6\n",
    "output_notebook()"
   ]
  },
  {
   "cell_type": "code",
   "execution_count": 120,
   "metadata": {},
   "outputs": [],
   "source": [
    "_       = df.groupby(\"hrmn\")[\"Num_Acc\"].count()\n",
    "_2      = _.reset_index()\n",
    "_2.hrmn = _2.hrmn.map(int)"
   ]
  },
  {
   "cell_type": "code",
   "execution_count": 121,
   "metadata": {},
   "outputs": [],
   "source": [
    "x_y          = (\"(x,y)\" , \"($x, $y)\")\n",
    "hrmn_num_Acc = (\"hrmn, num_acc\", \"@hrmn : @Num_Acc\")\n",
    "tooltips     = [ hrmn_num_Acc] "
   ]
  },
  {
   "cell_type": "code",
   "execution_count": 122,
   "metadata": {},
   "outputs": [],
   "source": [
    "mapper = linear_cmap(field_name = \"Num_Acc\", \n",
    "                     palette    = Spectral6 ,\n",
    "                     low        = min(_2.Num_Acc) ,\n",
    "                     high       = max(_2.Num_Acc))"
   ]
  },
  {
   "cell_type": "code",
   "execution_count": 123,
   "metadata": {},
   "outputs": [
    {
     "data": {
      "text/html": [
       "\n",
       "\n",
       "\n",
       "\n",
       "\n",
       "\n",
       "  <div class=\"bk-root\" id=\"dac80300-c42c-426d-92f6-5c6b80d3f054\"></div>\n"
      ]
     },
     "metadata": {},
     "output_type": "display_data"
    },
    {
     "data": {
      "application/javascript": [
       "(function(root) {\n",
       "  function embed_document(root) {\n",
       "    \n",
       "  var docs_json = {\"b2d8ef37-d1e5-45d0-b8c9-b71f55e829f6\":{\"roots\":{\"references\":[{\"attributes\":{},\"id\":\"9cf100ba-a17e-4791-800e-e29d372623a9\",\"type\":\"HelpTool\"},{\"attributes\":{\"callback\":null,\"renderers\":\"auto\",\"tooltips\":[[\"hrmn, num_acc\",\"@hrmn : @Num_Acc\"]]},\"id\":\"b62f47fd-f844-45d9-b836-6fb968e4ad49\",\"type\":\"HoverTool\"},{\"attributes\":{},\"id\":\"0123a78f-18f1-4b88-aed7-41d1f8e7f1d3\",\"type\":\"BasicTickFormatter\"},{\"attributes\":{\"formatter\":{\"id\":\"0123a78f-18f1-4b88-aed7-41d1f8e7f1d3\",\"type\":\"BasicTickFormatter\"},\"plot\":{\"id\":\"66ad2b7e-0b0f-4d1c-b0e0-0dca02ceeb00\",\"subtype\":\"Figure\",\"type\":\"Plot\"},\"ticker\":{\"id\":\"cfbf779d-9182-4fec-9305-71f6551d954c\",\"type\":\"BasicTicker\"}},\"id\":\"b04aa290-098b-41a7-889f-d3d55559f979\",\"type\":\"LinearAxis\"},{\"attributes\":{},\"id\":\"7747fcc2-aeb8-46f4-84cc-c06856b22a30\",\"type\":\"LinearScale\"},{\"attributes\":{},\"id\":\"e87f526f-2bd4-45b3-bb17-3efaa3f0fd08\",\"type\":\"BasicTicker\"},{\"attributes\":{},\"id\":\"afbcde35-8b47-46d4-8f23-20192329f982\",\"type\":\"LinearScale\"},{\"attributes\":{},\"id\":\"d47b71a1-4a8a-4c58-ba81-1ab839d49667\",\"type\":\"Selection\"},{\"attributes\":{},\"id\":\"454533cc-771a-43cc-88e9-7edd9cd8e8ec\",\"type\":\"PanTool\"},{\"attributes\":{\"plot\":{\"id\":\"66ad2b7e-0b0f-4d1c-b0e0-0dca02ceeb00\",\"subtype\":\"Figure\",\"type\":\"Plot\"},\"ticker\":{\"id\":\"cfbf779d-9182-4fec-9305-71f6551d954c\",\"type\":\"BasicTicker\"}},\"id\":\"30190ea5-979d-4476-9eaa-00f2626d3807\",\"type\":\"Grid\"},{\"attributes\":{\"active_drag\":\"auto\",\"active_inspect\":\"auto\",\"active_multi\":null,\"active_scroll\":\"auto\",\"active_tap\":\"auto\",\"tools\":[{\"id\":\"454533cc-771a-43cc-88e9-7edd9cd8e8ec\",\"type\":\"PanTool\"},{\"id\":\"71909264-95f7-42e1-90ef-2839a81d5309\",\"type\":\"WheelZoomTool\"},{\"id\":\"99f8842c-b12e-4d47-b935-ecf488c2489b\",\"type\":\"BoxZoomTool\"},{\"id\":\"f4bef362-704a-4937-a596-add33cdfd2d2\",\"type\":\"SaveTool\"},{\"id\":\"80e94a03-9528-48fc-aede-777f03c6aa32\",\"type\":\"ResetTool\"},{\"id\":\"9cf100ba-a17e-4791-800e-e29d372623a9\",\"type\":\"HelpTool\"},{\"id\":\"b62f47fd-f844-45d9-b836-6fb968e4ad49\",\"type\":\"HoverTool\"}]},\"id\":\"d92d2c02-e21d-4a89-a569-0764acd9eb1a\",\"type\":\"Toolbar\"},{\"attributes\":{},\"id\":\"f4bef362-704a-4937-a596-add33cdfd2d2\",\"type\":\"SaveTool\"},{\"attributes\":{},\"id\":\"53340781-5cbf-40ab-9914-709f6f68b264\",\"type\":\"UnionRenderers\"},{\"attributes\":{\"overlay\":{\"id\":\"beaf0436-cbf5-4166-bd6d-4262c13f501b\",\"type\":\"BoxAnnotation\"}},\"id\":\"99f8842c-b12e-4d47-b935-ecf488c2489b\",\"type\":\"BoxZoomTool\"},{\"attributes\":{\"fill_color\":{\"field\":\"Num_Acc\",\"transform\":{\"id\":\"14ad41de-6567-4bda-9437-50f6da0f44d3\",\"type\":\"LinearColorMapper\"}},\"line_color\":{\"field\":\"Num_Acc\",\"transform\":{\"id\":\"14ad41de-6567-4bda-9437-50f6da0f44d3\",\"type\":\"LinearColorMapper\"}},\"x\":{\"field\":\"hrmn\"},\"y\":{\"field\":\"Num_Acc\"}},\"id\":\"baafc268-c36d-4dbe-9865-35c6d961df9b\",\"type\":\"Circle\"},{\"attributes\":{},\"id\":\"a6ba619b-765f-4453-96ea-db94a232f35f\",\"type\":\"BasicTickFormatter\"},{\"attributes\":{\"fill_alpha\":{\"value\":0.1},\"fill_color\":{\"value\":\"#1f77b4\"},\"line_alpha\":{\"value\":0.1},\"line_color\":{\"value\":\"#1f77b4\"},\"x\":{\"field\":\"hrmn\"},\"y\":{\"field\":\"Num_Acc\"}},\"id\":\"30e2fa0f-379f-4fa1-b86a-9d569e36e998\",\"type\":\"Circle\"},{\"attributes\":{\"below\":[{\"id\":\"b04aa290-098b-41a7-889f-d3d55559f979\",\"type\":\"LinearAxis\"}],\"left\":[{\"id\":\"672c6e83-0fca-47a2-97ee-88f564d4d29c\",\"type\":\"LinearAxis\"}],\"renderers\":[{\"id\":\"b04aa290-098b-41a7-889f-d3d55559f979\",\"type\":\"LinearAxis\"},{\"id\":\"30190ea5-979d-4476-9eaa-00f2626d3807\",\"type\":\"Grid\"},{\"id\":\"672c6e83-0fca-47a2-97ee-88f564d4d29c\",\"type\":\"LinearAxis\"},{\"id\":\"ed7dabbf-5f75-4a2c-b029-b30cd4a0838a\",\"type\":\"Grid\"},{\"id\":\"beaf0436-cbf5-4166-bd6d-4262c13f501b\",\"type\":\"BoxAnnotation\"},{\"id\":\"462cd864-ce7d-4047-8ba2-62eb1677b2ee\",\"type\":\"GlyphRenderer\"}],\"title\":{\"id\":\"0be75167-ad77-4f93-b454-010bd6a5467e\",\"type\":\"Title\"},\"toolbar\":{\"id\":\"d92d2c02-e21d-4a89-a569-0764acd9eb1a\",\"type\":\"Toolbar\"},\"x_range\":{\"id\":\"2087263f-3fa4-4ce3-ae8e-f7258c5e6772\",\"type\":\"DataRange1d\"},\"x_scale\":{\"id\":\"afbcde35-8b47-46d4-8f23-20192329f982\",\"type\":\"LinearScale\"},\"y_range\":{\"id\":\"3b4bf6e8-3176-486d-89ad-641c768aff26\",\"type\":\"DataRange1d\"},\"y_scale\":{\"id\":\"7747fcc2-aeb8-46f4-84cc-c06856b22a30\",\"type\":\"LinearScale\"}},\"id\":\"66ad2b7e-0b0f-4d1c-b0e0-0dca02ceeb00\",\"subtype\":\"Figure\",\"type\":\"Plot\"},{\"attributes\":{\"bottom_units\":\"screen\",\"fill_alpha\":{\"value\":0.5},\"fill_color\":{\"value\":\"lightgrey\"},\"left_units\":\"screen\",\"level\":\"overlay\",\"line_alpha\":{\"value\":1.0},\"line_color\":{\"value\":\"black\"},\"line_dash\":[4,4],\"line_width\":{\"value\":2},\"plot\":null,\"render_mode\":\"css\",\"right_units\":\"screen\",\"top_units\":\"screen\"},\"id\":\"beaf0436-cbf5-4166-bd6d-4262c13f501b\",\"type\":\"BoxAnnotation\"},{\"attributes\":{},\"id\":\"cfbf779d-9182-4fec-9305-71f6551d954c\",\"type\":\"BasicTicker\"},{\"attributes\":{\"high\":899,\"low\":1,\"palette\":[\"#3288bd\",\"#99d594\",\"#e6f598\",\"#fee08b\",\"#fc8d59\",\"#d53e4f\"]},\"id\":\"14ad41de-6567-4bda-9437-50f6da0f44d3\",\"type\":\"LinearColorMapper\"},{\"attributes\":{\"callback\":null,\"data\":{\"Num_Acc\":[141,6,2,3,66,2,3,3,3,81,1,2,4,2,125,2,1,1,68,1,3,2,2,36,2,3,2,2,173,1,4,3,2,54,2,1,2,3,45,1,2,2,1,104,1,3,3,45,2,2,3,2,29,2,4,3,1,149,2,1,1,31,2,5,5,52,1,3,99,1,4,3,54,3,3,39,1,2,1,1,126,1,1,2,26,2,1,1,38,1,2,1,90,2,1,3,2,59,2,4,21,3,1,3,128,1,1,2,21,1,2,1,48,1,1,83,1,1,1,1,50,2,2,3,24,3,1,2,111,2,1,22,1,2,39,2,2,82,49,1,2,17,3,4,106,2,1,2,19,4,4,27,1,1,76,3,1,1,40,1,1,12,1,2,97,2,1,1,22,1,2,1,2,27,1,2,67,1,1,23,1,1,11,1,1,2,2,114,2,14,2,1,1,24,1,62,1,1,41,2,1,1,15,2,2,1,91,1,2,2,16,2,1,1,26,1,1,1,83,1,3,1,46,1,21,1,2,1,1,129,3,22,2,1,40,1,1,97,1,2,42,4,1,21,1,2,1,167,1,1,21,1,1,1,49,3,1,3,124,1,1,1,68,2,1,1,34,1,1,198,2,5,1,1,33,3,2,2,50,1,4,134,1,1,1,61,3,2,3,29,1,1,2,2,204,2,27,2,2,1,2,63,1,2,1,5,213,1,3,2,1,84,1,5,4,43,2,5,3,1,288,3,5,1,49,5,2,5,1,94,2,4,1,6,290,2,6,2,104,4,7,6,3,83,2,4,6,3,397,5,4,6,5,84,2,7,5,3,185,4,6,8,5,458,5,7,8,2,229,2,8,7,6,121,5,5,6,6,576,3,5,9,5,119,5,13,11,5,193,10,13,2,3,395,3,3,8,4,221,2,7,6,5,138,6,7,5,3,576,4,7,4,8,133,7,8,4,5,210,2,5,6,6,457,4,4,5,5,268,4,7,4,5,123,8,8,5,4,571,7,5,7,119,7,11,9,7,175,2,11,2,6,393,5,8,9,3,193,4,4,7,4,86,4,3,11,4,446,5,6,4,3,110,1,4,8,3,160,1,5,8,5,310,3,5,7,5,176,2,3,6,5,89,1,7,3,3,508,2,3,3,5,68,4,3,5,1,152,5,5,1,2,345,3,4,9,3,152,5,6,8,3,86,10,1,3,472,4,5,4,7,92,8,3,3,5,153,3,3,4,328,4,1,5,6,146,2,4,3,8,80,4,4,4,3,496,2,6,1,5,100,4,4,9,6,150,5,5,2,3,371,6,3,7,3,175,3,7,7,4,80,2,6,2,5,453,2,3,3,6,87,5,9,5,3,167,4,5,7,2,400,6,6,11,4,173,4,8,5,5,99,8,9,7,5,536,5,3,6,5,116,1,2,6,10,167,7,9,7,4,435,6,4,5,3,220,6,3,11,6,115,8,2,5,6,476,1,2,5,4,91,4,8,8,4,159,3,4,1,2,299,6,3,5,4,210,4,1,7,85,6,6,9,4,456,1,6,1,10,85,2,6,5,3,149,5,2,5,337,9,5,10,4,179,5,2,7,4,97,6,5,7,8,493,4,2,1,5,108,3,8,6,5,170,5,4,5,3,383,3,1,6,7,192,3,6,4,3,130,3,3,7,6,613,4,5,5,8,108,4,6,7,1,157,10,7,2,6,373,2,3,8,6,191,3,6,5,6,113,6,9,7,9,562,3,4,8,6,109,9,5,7,4,168,3,4,2,8,423,4,3,6,5,185,6,4,10,3,93,1,3,6,8,651,4,2,8,2,98,6,9,11,7,176,7,3,10,4,442,3,7,12,2,176,8,7,5,7,129,5,5,8,8,591,1,6,5,5,116,4,10,7,5,175,2,4,5,2,503,6,5,4,9,201,2,5,1,8,122,5,2,4,4,671,3,4,7,7,117,8,9,9,6,243,4,7,9,4,516,5,6,9,9,254,4,4,10,3,123,6,7,11,2,719,2,3,5,6,123,5,4,4,8,263,2,4,3,6,545,4,7,11,5,270,7,13,11,5,125,6,7,6,3,793,2,7,4,7,141,8,10,8,6,250,3,10,8,2,635,7,9,6,11,260,4,5,3,8,175,7,11,16,4,746,9,11,8,9,164,5,8,7,6,293,5,15,11,13,705,4,8,7,6,301,7,5,2,7,163,6,8,16,6,899,3,7,6,7,156,15,8,7,10,276,10,16,5,7,580,14,9,8,11,293,10,5,7,7,190,11,10,9,4,811,2,15,11,6,144,8,10,10,8,238,2,13,10,5,552,5,8,8,9,265,1,9,15,8,127,5,5,5,6,720,3,5,5,4,130,5,4,13,6,213,2,4,5,4,456,5,5,6,9,227,5,7,8,7,117,5,5,11,6,631,3,4,8,5,112,4,6,2,7,180,5,4,5,5,420,9,7,5,10,217,2,7,6,3,103,1,3,5,3,536,1,4,4,4,98,1,5,4,6,170,3,3,8,5,337,7,1,3,2,160,4,2,4,99,3,8,7,3,394,5,3,5,68,6,6,6,6,137,1,1,3,2,276,2,3,6,7,139,1,3,6,4,70,4,3,3,3,333,7,3,2,50,6,4,2,5,125,3,1,9,2,246,1,6,3,4,132,1,3,2,2,65,2,3,4,282,3,3,3,62,4,6,3,4,98,1,5,2,204,2,4,118,2,1,2,2,53,5,1,2,240,3,1,3,5,42,2,4,3,4,88,2,2,174,3,3,2,1,96,2,4,4,4,56,2,2,2,3,259,1,1,2,3,51,3,2,4,3,75,2,1,6,152,2,2,4,1,86,3,6,2,46,1,1,1,218,2,2,3,39,4,2,2,1,74,2,2,2,3,141,1,5,95,1,4,53,3,2,3,2,219,2,2,4,1,36,3,2,4,2,71,3,2,3,171,4,1,4,1,59,1,5,2,40,2,3,1,3],\"hrmn\":[1,2,3,4,5,6,7,8,9,10,11,12,13,14,15,16,17,19,20,21,22,23,24,25,26,27,28,29,30,31,32,33,34,35,36,37,38,39,40,41,42,43,44,45,46,48,49,50,51,52,53,54,55,56,57,58,59,100,101,102,104,105,106,108,109,110,112,114,115,117,118,119,120,122,123,125,126,127,128,129,130,131,132,134,135,136,138,139,140,142,143,144,145,146,147,148,149,150,153,154,155,156,157,158,200,201,202,204,205,206,207,208,210,212,214,215,216,217,218,219,220,221,223,224,225,227,228,229,230,231,233,235,237,238,240,242,244,245,250,251,252,255,256,258,300,301,302,303,305,307,308,310,312,314,315,317,318,319,320,321,324,325,328,329,330,331,332,333,335,336,337,338,339,340,343,344,345,347,348,350,351,353,355,356,357,358,359,400,404,405,407,408,409,410,414,415,416,417,420,422,423,424,425,426,427,429,430,432,433,434,435,436,437,438,440,441,442,444,445,446,447,448,450,452,455,456,457,458,459,500,502,505,507,508,510,511,513,515,516,517,520,522,523,525,526,528,529,530,531,534,535,537,538,539,540,542,543,544,545,546,547,549,550,552,553,554,555,556,558,600,601,602,603,604,605,607,608,609,610,611,613,615,616,618,619,620,621,623,624,625,626,627,628,629,630,634,635,636,637,638,639,640,641,642,643,644,645,646,647,648,649,650,651,652,654,655,656,657,658,659,700,702,703,704,705,706,707,708,709,710,711,712,713,714,715,717,718,719,720,721,722,723,724,725,726,727,728,729,730,731,732,733,734,735,736,737,738,739,740,741,742,743,744,745,746,747,748,749,750,751,752,753,754,755,756,757,758,759,800,801,802,803,804,805,806,807,808,809,810,811,812,813,814,815,816,817,818,819,820,821,822,823,824,825,826,827,828,829,830,831,832,833,834,835,836,837,838,839,840,841,842,843,844,845,846,847,848,849,850,851,852,853,854,855,856,857,858,859,900,902,903,904,905,906,907,908,909,910,911,912,913,914,915,916,917,918,919,920,921,922,923,924,925,926,927,928,929,930,931,932,933,934,935,936,937,938,939,940,941,942,943,944,945,946,947,948,949,950,951,952,953,954,955,956,957,958,959,1000,1001,1002,1003,1004,1005,1006,1007,1008,1009,1010,1011,1012,1013,1014,1015,1016,1017,1018,1019,1020,1021,1022,1023,1024,1025,1027,1028,1029,1030,1031,1032,1033,1034,1035,1036,1037,1038,1039,1040,1042,1043,1044,1045,1046,1047,1048,1049,1050,1051,1052,1053,1054,1055,1056,1057,1058,1059,1100,1101,1102,1103,1104,1105,1106,1107,1108,1109,1110,1111,1112,1113,1114,1115,1116,1117,1118,1119,1120,1121,1122,1123,1124,1125,1126,1127,1128,1129,1130,1131,1132,1133,1134,1135,1136,1137,1138,1139,1140,1141,1142,1143,1144,1145,1146,1147,1148,1149,1150,1151,1152,1153,1154,1155,1156,1157,1158,1159,1200,1201,1202,1203,1204,1205,1206,1207,1208,1209,1210,1211,1212,1213,1214,1215,1216,1217,1218,1219,1220,1221,1222,1223,1224,1225,1226,1227,1228,1229,1230,1231,1232,1233,1234,1235,1236,1237,1238,1239,1240,1241,1242,1243,1244,1245,1246,1247,1248,1249,1250,1252,1253,1254,1255,1256,1257,1258,1259,1300,1301,1302,1303,1304,1305,1306,1307,1308,1309,1310,1311,1312,1313,1315,1316,1317,1318,1319,1320,1321,1322,1323,1324,1325,1326,1327,1328,1329,1330,1331,1332,1333,1334,1335,1336,1337,1338,1339,1340,1341,1342,1343,1344,1345,1346,1347,1348,1349,1350,1351,1352,1353,1354,1355,1356,1357,1358,1359,1400,1401,1402,1403,1404,1405,1406,1407,1408,1409,1410,1411,1412,1413,1414,1415,1416,1417,1418,1419,1420,1421,1422,1423,1424,1425,1426,1427,1428,1429,1430,1431,1432,1433,1434,1435,1436,1437,1438,1439,1440,1441,1442,1443,1444,1445,1446,1447,1448,1449,1450,1451,1452,1453,1454,1455,1456,1457,1458,1459,1500,1501,1502,1503,1504,1505,1506,1507,1508,1509,1510,1511,1512,1513,1514,1515,1516,1517,1518,1519,1520,1521,1522,1523,1524,1525,1526,1527,1528,1529,1530,1531,1532,1533,1534,1535,1536,1537,1538,1539,1540,1541,1542,1543,1544,1545,1546,1547,1548,1549,1550,1551,1552,1553,1554,1555,1556,1557,1558,1559,1600,1601,1602,1603,1604,1605,1606,1607,1608,1609,1610,1611,1612,1613,1614,1615,1616,1617,1618,1619,1620,1621,1622,1623,1624,1625,1626,1627,1628,1629,1630,1631,1632,1633,1634,1635,1636,1637,1638,1639,1640,1641,1642,1643,1644,1645,1646,1647,1648,1649,1650,1651,1652,1653,1654,1655,1656,1657,1658,1659,1700,1701,1702,1703,1704,1705,1706,1707,1708,1709,1710,1711,1712,1713,1714,1715,1716,1717,1718,1719,1720,1721,1722,1723,1724,1725,1726,1727,1728,1729,1730,1731,1732,1733,1734,1735,1736,1737,1738,1739,1740,1741,1742,1743,1744,1745,1746,1747,1748,1749,1750,1751,1752,1753,1754,1755,1756,1757,1758,1759,1800,1801,1802,1803,1804,1805,1806,1807,1808,1809,1810,1811,1812,1813,1814,1815,1816,1817,1818,1819,1820,1821,1822,1823,1824,1825,1826,1827,1828,1829,1830,1831,1832,1833,1834,1835,1836,1837,1838,1839,1840,1841,1842,1843,1844,1845,1846,1847,1848,1849,1850,1851,1852,1853,1854,1855,1856,1857,1858,1859,1900,1901,1902,1903,1904,1905,1906,1907,1908,1909,1910,1911,1912,1913,1914,1915,1916,1917,1918,1919,1920,1921,1922,1923,1924,1925,1926,1927,1928,1929,1930,1931,1932,1933,1934,1935,1936,1937,1938,1939,1940,1941,1942,1943,1944,1945,1946,1947,1948,1949,1950,1951,1952,1953,1954,1955,1956,1957,1958,1959,2000,2001,2002,2003,2004,2005,2006,2007,2008,2009,2010,2011,2012,2013,2014,2015,2016,2017,2018,2019,2020,2022,2023,2024,2025,2026,2027,2028,2029,2030,2032,2033,2034,2035,2036,2037,2038,2039,2040,2041,2042,2043,2044,2045,2046,2047,2048,2049,2050,2051,2052,2053,2054,2055,2056,2057,2058,2059,2100,2102,2103,2104,2105,2106,2107,2108,2109,2110,2111,2112,2113,2114,2115,2116,2117,2118,2119,2120,2121,2122,2123,2124,2125,2126,2127,2128,2130,2132,2133,2134,2135,2136,2137,2138,2139,2140,2141,2143,2144,2145,2147,2148,2150,2151,2152,2153,2154,2155,2156,2157,2159,2200,2201,2202,2203,2204,2205,2206,2207,2208,2209,2210,2213,2214,2215,2216,2217,2218,2219,2220,2221,2222,2223,2224,2225,2226,2227,2228,2229,2230,2231,2232,2233,2234,2235,2236,2237,2238,2239,2240,2241,2242,2243,2245,2246,2247,2248,2249,2250,2251,2252,2253,2255,2256,2257,2259,2300,2302,2303,2304,2305,2306,2307,2308,2309,2310,2311,2312,2313,2314,2315,2316,2318,2320,2321,2324,2325,2326,2327,2328,2329,2330,2331,2332,2333,2334,2335,2336,2337,2338,2339,2340,2342,2343,2344,2345,2346,2347,2348,2349,2350,2352,2353,2354,2355,2356,2357,2358,2359],\"index\":[0,1,2,3,4,5,6,7,8,9,10,11,12,13,14,15,16,17,18,19,20,21,22,23,24,25,26,27,28,29,30,31,32,33,34,35,36,37,38,39,40,41,42,43,44,45,46,47,48,49,50,51,52,53,54,55,56,57,58,59,60,61,62,63,64,65,66,67,68,69,70,71,72,73,74,75,76,77,78,79,80,81,82,83,84,85,86,87,88,89,90,91,92,93,94,95,96,97,98,99,100,101,102,103,104,105,106,107,108,109,110,111,112,113,114,115,116,117,118,119,120,121,122,123,124,125,126,127,128,129,130,131,132,133,134,135,136,137,138,139,140,141,142,143,144,145,146,147,148,149,150,151,152,153,154,155,156,157,158,159,160,161,162,163,164,165,166,167,168,169,170,171,172,173,174,175,176,177,178,179,180,181,182,183,184,185,186,187,188,189,190,191,192,193,194,195,196,197,198,199,200,201,202,203,204,205,206,207,208,209,210,211,212,213,214,215,216,217,218,219,220,221,222,223,224,225,226,227,228,229,230,231,232,233,234,235,236,237,238,239,240,241,242,243,244,245,246,247,248,249,250,251,252,253,254,255,256,257,258,259,260,261,262,263,264,265,266,267,268,269,270,271,272,273,274,275,276,277,278,279,280,281,282,283,284,285,286,287,288,289,290,291,292,293,294,295,296,297,298,299,300,301,302,303,304,305,306,307,308,309,310,311,312,313,314,315,316,317,318,319,320,321,322,323,324,325,326,327,328,329,330,331,332,333,334,335,336,337,338,339,340,341,342,343,344,345,346,347,348,349,350,351,352,353,354,355,356,357,358,359,360,361,362,363,364,365,366,367,368,369,370,371,372,373,374,375,376,377,378,379,380,381,382,383,384,385,386,387,388,389,390,391,392,393,394,395,396,397,398,399,400,401,402,403,404,405,406,407,408,409,410,411,412,413,414,415,416,417,418,419,420,421,422,423,424,425,426,427,428,429,430,431,432,433,434,435,436,437,438,439,440,441,442,443,444,445,446,447,448,449,450,451,452,453,454,455,456,457,458,459,460,461,462,463,464,465,466,467,468,469,470,471,472,473,474,475,476,477,478,479,480,481,482,483,484,485,486,487,488,489,490,491,492,493,494,495,496,497,498,499,500,501,502,503,504,505,506,507,508,509,510,511,512,513,514,515,516,517,518,519,520,521,522,523,524,525,526,527,528,529,530,531,532,533,534,535,536,537,538,539,540,541,542,543,544,545,546,547,548,549,550,551,552,553,554,555,556,557,558,559,560,561,562,563,564,565,566,567,568,569,570,571,572,573,574,575,576,577,578,579,580,581,582,583,584,585,586,587,588,589,590,591,592,593,594,595,596,597,598,599,600,601,602,603,604,605,606,607,608,609,610,611,612,613,614,615,616,617,618,619,620,621,622,623,624,625,626,627,628,629,630,631,632,633,634,635,636,637,638,639,640,641,642,643,644,645,646,647,648,649,650,651,652,653,654,655,656,657,658,659,660,661,662,663,664,665,666,667,668,669,670,671,672,673,674,675,676,677,678,679,680,681,682,683,684,685,686,687,688,689,690,691,692,693,694,695,696,697,698,699,700,701,702,703,704,705,706,707,708,709,710,711,712,713,714,715,716,717,718,719,720,721,722,723,724,725,726,727,728,729,730,731,732,733,734,735,736,737,738,739,740,741,742,743,744,745,746,747,748,749,750,751,752,753,754,755,756,757,758,759,760,761,762,763,764,765,766,767,768,769,770,771,772,773,774,775,776,777,778,779,780,781,782,783,784,785,786,787,788,789,790,791,792,793,794,795,796,797,798,799,800,801,802,803,804,805,806,807,808,809,810,811,812,813,814,815,816,817,818,819,820,821,822,823,824,825,826,827,828,829,830,831,832,833,834,835,836,837,838,839,840,841,842,843,844,845,846,847,848,849,850,851,852,853,854,855,856,857,858,859,860,861,862,863,864,865,866,867,868,869,870,871,872,873,874,875,876,877,878,879,880,881,882,883,884,885,886,887,888,889,890,891,892,893,894,895,896,897,898,899,900,901,902,903,904,905,906,907,908,909,910,911,912,913,914,915,916,917,918,919,920,921,922,923,924,925,926,927,928,929,930,931,932,933,934,935,936,937,938,939,940,941,942,943,944,945,946,947,948,949,950,951,952,953,954,955,956,957,958,959,960,961,962,963,964,965,966,967,968,969,970,971,972,973,974,975,976,977,978,979,980,981,982,983,984,985,986,987,988,989,990,991,992,993,994,995,996,997,998,999,1000,1001,1002,1003,1004,1005,1006,1007,1008,1009,1010,1011,1012,1013,1014,1015,1016,1017,1018,1019,1020,1021,1022,1023,1024,1025,1026,1027,1028,1029,1030,1031,1032,1033,1034,1035,1036,1037,1038,1039,1040,1041,1042,1043,1044,1045,1046,1047,1048,1049,1050,1051,1052,1053,1054,1055,1056,1057,1058,1059,1060,1061,1062,1063,1064,1065,1066,1067,1068,1069,1070,1071,1072,1073,1074,1075,1076,1077,1078,1079,1080,1081,1082,1083,1084,1085,1086,1087,1088,1089,1090,1091,1092,1093,1094,1095,1096,1097,1098,1099,1100,1101,1102,1103,1104,1105,1106,1107,1108,1109,1110,1111,1112,1113,1114,1115,1116,1117,1118,1119,1120,1121,1122,1123,1124,1125,1126,1127,1128,1129,1130,1131,1132,1133,1134,1135,1136,1137,1138,1139,1140,1141,1142,1143,1144,1145,1146,1147,1148,1149,1150,1151,1152,1153,1154,1155,1156,1157,1158,1159,1160,1161,1162,1163,1164,1165,1166,1167,1168,1169,1170,1171,1172,1173,1174,1175,1176,1177,1178,1179,1180,1181,1182,1183,1184,1185,1186,1187,1188,1189,1190,1191,1192,1193,1194,1195,1196,1197,1198,1199,1200,1201,1202,1203,1204,1205,1206,1207,1208,1209,1210,1211,1212,1213,1214,1215,1216,1217,1218,1219,1220,1221,1222,1223,1224,1225,1226,1227,1228,1229,1230,1231,1232,1233,1234,1235,1236,1237,1238,1239,1240,1241,1242,1243,1244,1245,1246,1247,1248,1249,1250,1251,1252,1253,1254,1255,1256,1257,1258,1259,1260,1261,1262,1263,1264,1265,1266,1267,1268,1269,1270,1271,1272,1273,1274,1275,1276,1277,1278,1279,1280,1281,1282,1283,1284,1285,1286,1287,1288,1289,1290,1291,1292,1293,1294,1295,1296,1297,1298,1299,1300,1301,1302,1303,1304,1305,1306,1307,1308,1309,1310,1311]},\"selected\":{\"id\":\"d47b71a1-4a8a-4c58-ba81-1ab839d49667\",\"type\":\"Selection\"},\"selection_policy\":{\"id\":\"53340781-5cbf-40ab-9914-709f6f68b264\",\"type\":\"UnionRenderers\"}},\"id\":\"72db773f-d711-4012-b0f1-c144a0675d12\",\"type\":\"ColumnDataSource\"},{\"attributes\":{\"source\":{\"id\":\"72db773f-d711-4012-b0f1-c144a0675d12\",\"type\":\"ColumnDataSource\"}},\"id\":\"1c65f04d-475f-4855-9008-1422a6070206\",\"type\":\"CDSView\"},{\"attributes\":{\"formatter\":{\"id\":\"a6ba619b-765f-4453-96ea-db94a232f35f\",\"type\":\"BasicTickFormatter\"},\"plot\":{\"id\":\"66ad2b7e-0b0f-4d1c-b0e0-0dca02ceeb00\",\"subtype\":\"Figure\",\"type\":\"Plot\"},\"ticker\":{\"id\":\"e87f526f-2bd4-45b3-bb17-3efaa3f0fd08\",\"type\":\"BasicTicker\"}},\"id\":\"672c6e83-0fca-47a2-97ee-88f564d4d29c\",\"type\":\"LinearAxis\"},{\"attributes\":{},\"id\":\"71909264-95f7-42e1-90ef-2839a81d5309\",\"type\":\"WheelZoomTool\"},{\"attributes\":{\"data_source\":{\"id\":\"72db773f-d711-4012-b0f1-c144a0675d12\",\"type\":\"ColumnDataSource\"},\"glyph\":{\"id\":\"baafc268-c36d-4dbe-9865-35c6d961df9b\",\"type\":\"Circle\"},\"hover_glyph\":null,\"muted_glyph\":null,\"nonselection_glyph\":{\"id\":\"30e2fa0f-379f-4fa1-b86a-9d569e36e998\",\"type\":\"Circle\"},\"selection_glyph\":null,\"view\":{\"id\":\"1c65f04d-475f-4855-9008-1422a6070206\",\"type\":\"CDSView\"}},\"id\":\"462cd864-ce7d-4047-8ba2-62eb1677b2ee\",\"type\":\"GlyphRenderer\"},{\"attributes\":{\"callback\":null},\"id\":\"3b4bf6e8-3176-486d-89ad-641c768aff26\",\"type\":\"DataRange1d\"},{\"attributes\":{\"dimension\":1,\"plot\":{\"id\":\"66ad2b7e-0b0f-4d1c-b0e0-0dca02ceeb00\",\"subtype\":\"Figure\",\"type\":\"Plot\"},\"ticker\":{\"id\":\"e87f526f-2bd4-45b3-bb17-3efaa3f0fd08\",\"type\":\"BasicTicker\"}},\"id\":\"ed7dabbf-5f75-4a2c-b029-b30cd4a0838a\",\"type\":\"Grid\"},{\"attributes\":{},\"id\":\"80e94a03-9528-48fc-aede-777f03c6aa32\",\"type\":\"ResetTool\"},{\"attributes\":{\"plot\":null,\"text\":\"\"},\"id\":\"0be75167-ad77-4f93-b454-010bd6a5467e\",\"type\":\"Title\"},{\"attributes\":{\"callback\":null},\"id\":\"2087263f-3fa4-4ce3-ae8e-f7258c5e6772\",\"type\":\"DataRange1d\"}],\"root_ids\":[\"66ad2b7e-0b0f-4d1c-b0e0-0dca02ceeb00\"]},\"title\":\"Bokeh Application\",\"version\":\"0.13.0\"}};\n",
       "  var render_items = [{\"docid\":\"b2d8ef37-d1e5-45d0-b8c9-b71f55e829f6\",\"roots\":{\"66ad2b7e-0b0f-4d1c-b0e0-0dca02ceeb00\":\"dac80300-c42c-426d-92f6-5c6b80d3f054\"}}];\n",
       "  root.Bokeh.embed.embed_items_notebook(docs_json, render_items);\n",
       "\n",
       "  }\n",
       "  if (root.Bokeh !== undefined) {\n",
       "    embed_document(root);\n",
       "  } else {\n",
       "    var attempts = 0;\n",
       "    var timer = setInterval(function(root) {\n",
       "      if (root.Bokeh !== undefined) {\n",
       "        embed_document(root);\n",
       "        clearInterval(timer);\n",
       "      }\n",
       "      attempts++;\n",
       "      if (attempts > 100) {\n",
       "        console.log(\"Bokeh: ERROR: Unable to run BokehJS code because BokehJS library is missing\")\n",
       "        clearInterval(timer);\n",
       "      }\n",
       "    }, 10, root)\n",
       "  }\n",
       "})(window);"
      ],
      "application/vnd.bokehjs_exec.v0+json": ""
     },
     "metadata": {
      "application/vnd.bokehjs_exec.v0+json": {
       "id": "66ad2b7e-0b0f-4d1c-b0e0-0dca02ceeb00"
      }
     },
     "output_type": "display_data"
    }
   ],
   "source": [
    "p = figure(tooltips=tooltips)\n",
    "p.circle(x=\"hrmn\", y=\"Num_Acc\", source=_2, color=mapper)\n",
    "show(p)"
   ]
  },
  {
   "cell_type": "markdown",
   "metadata": {},
   "source": [
    "# 1) Modification des noms de colonnes"
   ]
  },
  {
   "cell_type": "code",
   "execution_count": 113,
   "metadata": {},
   "outputs": [
    {
     "data": {
      "text/plain": [
       "Index(['Num_Acc', 'an', 'mois', 'jour', 'hrmn', 'lum', 'agg', 'int', 'atm',\n",
       "       'col', 'com', 'adr', 'gps', 'lat', 'long', 'dep'],\n",
       "      dtype='object')"
      ]
     },
     "execution_count": 113,
     "metadata": {},
     "output_type": "execute_result"
    }
   ],
   "source": [
    "df.columns"
   ]
  },
  {
   "cell_type": "markdown",
   "metadata": {},
   "source": [
    "## 1.1) méthode 1"
   ]
  },
  {
   "cell_type": "code",
   "execution_count": null,
   "metadata": {},
   "outputs": [],
   "source": [
    "nouvelles_colonnes = [\"Num_Acc\", \"an\", \"mois\", \"jour\", \"hrmn\", \n",
    "                      \"lumiere\", \"agglomeration\", \"intersection\", \n",
    "                      \"meteo\", 'collision', 'num_commune', 'adr', \n",
    "                      'gps', 'lat', 'long', 'dep']"
   ]
  },
  {
   "cell_type": "code",
   "execution_count": 119,
   "metadata": {},
   "outputs": [],
   "source": [
    "df.columns = nouvelles_colonnes"
   ]
  },
  {
   "cell_type": "code",
   "execution_count": 120,
   "metadata": {},
   "outputs": [
    {
     "data": {
      "text/html": [
       "<div>\n",
       "<table border=\"1\" class=\"dataframe\">\n",
       "  <thead>\n",
       "    <tr style=\"text-align: right;\">\n",
       "      <th></th>\n",
       "      <th>35455</th>\n",
       "    </tr>\n",
       "  </thead>\n",
       "  <tbody>\n",
       "    <tr>\n",
       "      <th>Num_Acc</th>\n",
       "      <td>201600035456</td>\n",
       "    </tr>\n",
       "    <tr>\n",
       "      <th>an</th>\n",
       "      <td>16</td>\n",
       "    </tr>\n",
       "    <tr>\n",
       "      <th>mois</th>\n",
       "      <td>12</td>\n",
       "    </tr>\n",
       "    <tr>\n",
       "      <th>jour</th>\n",
       "      <td>21</td>\n",
       "    </tr>\n",
       "    <tr>\n",
       "      <th>hrmn</th>\n",
       "      <td>1620</td>\n",
       "    </tr>\n",
       "    <tr>\n",
       "      <th>lumiere</th>\n",
       "      <td>1</td>\n",
       "    </tr>\n",
       "    <tr>\n",
       "      <th>agglomeration</th>\n",
       "      <td>2</td>\n",
       "    </tr>\n",
       "    <tr>\n",
       "      <th>intersection</th>\n",
       "      <td>1</td>\n",
       "    </tr>\n",
       "    <tr>\n",
       "      <th>meteo</th>\n",
       "      <td>1</td>\n",
       "    </tr>\n",
       "    <tr>\n",
       "      <th>collision</th>\n",
       "      <td>3</td>\n",
       "    </tr>\n",
       "    <tr>\n",
       "      <th>num_commune</th>\n",
       "      <td>137</td>\n",
       "    </tr>\n",
       "    <tr>\n",
       "      <th>adr</th>\n",
       "      <td>774, FAVIERES (CHEMIN DE</td>\n",
       "    </tr>\n",
       "    <tr>\n",
       "      <th>gps</th>\n",
       "      <td>NaN</td>\n",
       "    </tr>\n",
       "    <tr>\n",
       "      <th>lat</th>\n",
       "      <td>NaN</td>\n",
       "    </tr>\n",
       "    <tr>\n",
       "      <th>long</th>\n",
       "      <td>NaN</td>\n",
       "    </tr>\n",
       "    <tr>\n",
       "      <th>dep</th>\n",
       "      <td>830</td>\n",
       "    </tr>\n",
       "  </tbody>\n",
       "</table>\n",
       "</div>"
      ],
      "text/plain": [
       "                                  35455\n",
       "Num_Acc                    201600035456\n",
       "an                                   16\n",
       "mois                                 12\n",
       "jour                                 21\n",
       "hrmn                               1620\n",
       "lumiere                               1\n",
       "agglomeration                         2\n",
       "intersection                          1\n",
       "meteo                                 1\n",
       "collision                             3\n",
       "num_commune                         137\n",
       "adr            774, FAVIERES (CHEMIN DE\n",
       "gps                                 NaN\n",
       "lat                                 NaN\n",
       "long                                NaN\n",
       "dep                                 830"
      ]
     },
     "execution_count": 120,
     "metadata": {},
     "output_type": "execute_result"
    }
   ],
   "source": [
    "df.sample().T"
   ]
  },
  {
   "cell_type": "code",
   "execution_count": 205,
   "metadata": {},
   "outputs": [
    {
     "name": "stdout",
     "output_type": "stream",
     "text": [
      "[master a639c58] next\n",
      " 1 file changed, 5 insertions(+), 5 deletions(-)\n",
      "Counting objects: 3, done.\n",
      "Delta compression using up to 8 threads.\n",
      "Compressing objects: 100% (3/3), done.\n",
      "Writing objects: 100% (3/3), 395 bytes | 395.00 KiB/s, done.\n",
      "Total 3 (delta 2), reused 0 (delta 0)\n",
      "remote: Resolving deltas: 100% (2/2), completed with 2 local objects.\u001b[K\n",
      "To https://github.com/romainjouin/formation_python\n",
      "   2c71f9f..a639c58  master -> master\n"
     ]
    }
   ],
   "source": [
    "!git add 20180914_TD_Python.ipynb\n",
    "!git commit -m \"next\"\n",
    "!git push origin"
   ]
  },
  {
   "cell_type": "markdown",
   "metadata": {},
   "source": [
    "## 1.1) méthode 2"
   ]
  },
  {
   "cell_type": "code",
   "execution_count": 125,
   "metadata": {},
   "outputs": [],
   "source": [
    "colonnes_a_changer = {\"lat\" :\"lattitude\", \"long\" : \"longitude\"}\n",
    "df.rename(columns=colonnes_a_changer, inplace=True)"
   ]
  },
  {
   "cell_type": "markdown",
   "metadata": {},
   "source": [
    "# 2) analyse"
   ]
  },
  {
   "cell_type": "code",
   "execution_count": 133,
   "metadata": {},
   "outputs": [
    {
     "data": {
      "text/plain": [
       "True"
      ]
     },
     "execution_count": 133,
     "metadata": {},
     "output_type": "execute_result"
    }
   ],
   "source": [
    "# les num acc sont ils uniques ? \n",
    "df.Num_Acc.is_unique()"
   ]
  },
  {
   "cell_type": "code",
   "execution_count": 152,
   "metadata": {},
   "outputs": [
    {
     "data": {
      "text/plain": [
       "meteo\n",
       "6      144\n",
       "4      159\n",
       "9      300\n",
       "5      621\n",
       "7      667\n",
       "3     1422\n",
       "8     1640\n",
       "2     6582\n",
       "1    47897\n",
       "Name: Num_Acc, dtype: int64"
      ]
     },
     "execution_count": 152,
     "metadata": {},
     "output_type": "execute_result"
    }
   ],
   "source": [
    "# nombre d'accidents par typologie meteo\n",
    "df.groupby(\"meteo\")[\"Num_Acc\"].count().sort_values()"
   ]
  },
  {
   "cell_type": "markdown",
   "metadata": {},
   "source": [
    "# 2.1) passer de catégories chiffrées à des labels"
   ]
  },
  {
   "cell_type": "code",
   "execution_count": 164,
   "metadata": {},
   "outputs": [],
   "source": [
    "label_meteo = {\n",
    "1 : \"Normale\",\n",
    "2 : \"Pluie légère\",\n",
    "3 : \"Pluie forte\",\n",
    "4 : \"Neige - grêle\",\n",
    "5 : \"Brouillard - fumée\",\n",
    "6 : \"Vent fort - tempête\",\n",
    "7 : \"Temps éblouissant\",\n",
    "8 : \"Temps couvert\",\n",
    "9 : \"Autre\",}"
   ]
  },
  {
   "cell_type": "code",
   "execution_count": 165,
   "metadata": {},
   "outputs": [
    {
     "data": {
      "text/plain": [
       "{1: 'Normale',\n",
       " 2: 'Pluie légère',\n",
       " 3: 'Pluie forte',\n",
       " 4: 'Neige - grêle',\n",
       " 5: 'Brouillard - fumée',\n",
       " 6: 'Vent fort - tempête',\n",
       " 7: 'Temps éblouissant',\n",
       " 8: 'Temps couvert',\n",
       " 9: 'Autre'}"
      ]
     },
     "execution_count": 165,
     "metadata": {},
     "output_type": "execute_result"
    }
   ],
   "source": [
    "label_meteo"
   ]
  },
  {
   "cell_type": "code",
   "execution_count": 158,
   "metadata": {},
   "outputs": [],
   "source": [
    "df[\"label_meteo\"] = df.meteo.map(label_meteo)"
   ]
  },
  {
   "cell_type": "code",
   "execution_count": 167,
   "metadata": {},
   "outputs": [
    {
     "data": {
      "text/html": [
       "<div>\n",
       "<table border=\"1\" class=\"dataframe\">\n",
       "  <thead>\n",
       "    <tr style=\"text-align: right;\">\n",
       "      <th></th>\n",
       "      <th>21216</th>\n",
       "      <th>39790</th>\n",
       "      <th>39433</th>\n",
       "    </tr>\n",
       "  </thead>\n",
       "  <tbody>\n",
       "    <tr>\n",
       "      <th>Num_Acc</th>\n",
       "      <td>201600021217</td>\n",
       "      <td>201600039791</td>\n",
       "      <td>201600039434</td>\n",
       "    </tr>\n",
       "    <tr>\n",
       "      <th>an</th>\n",
       "      <td>16</td>\n",
       "      <td>16</td>\n",
       "      <td>16</td>\n",
       "    </tr>\n",
       "    <tr>\n",
       "      <th>mois</th>\n",
       "      <td>10</td>\n",
       "      <td>9</td>\n",
       "      <td>3</td>\n",
       "    </tr>\n",
       "    <tr>\n",
       "      <th>jour</th>\n",
       "      <td>15</td>\n",
       "      <td>5</td>\n",
       "      <td>15</td>\n",
       "    </tr>\n",
       "    <tr>\n",
       "      <th>hrmn</th>\n",
       "      <td>1915</td>\n",
       "      <td>1450</td>\n",
       "      <td>1345</td>\n",
       "    </tr>\n",
       "    <tr>\n",
       "      <th>lumiere</th>\n",
       "      <td>3</td>\n",
       "      <td>1</td>\n",
       "      <td>1</td>\n",
       "    </tr>\n",
       "    <tr>\n",
       "      <th>agglomeration</th>\n",
       "      <td>1</td>\n",
       "      <td>2</td>\n",
       "      <td>2</td>\n",
       "    </tr>\n",
       "    <tr>\n",
       "      <th>intersection</th>\n",
       "      <td>1</td>\n",
       "      <td>6</td>\n",
       "      <td>2</td>\n",
       "    </tr>\n",
       "    <tr>\n",
       "      <th>meteo</th>\n",
       "      <td>1</td>\n",
       "      <td>2</td>\n",
       "      <td>1</td>\n",
       "    </tr>\n",
       "    <tr>\n",
       "      <th>collision</th>\n",
       "      <td>1</td>\n",
       "      <td>3</td>\n",
       "      <td>3</td>\n",
       "    </tr>\n",
       "    <tr>\n",
       "      <th>num_commune</th>\n",
       "      <td>33</td>\n",
       "      <td>5</td>\n",
       "      <td>46</td>\n",
       "    </tr>\n",
       "    <tr>\n",
       "      <th>adr</th>\n",
       "      <td>NaN</td>\n",
       "      <td>DROITS DE LHOMME (CARREF</td>\n",
       "      <td>AVAULEE (RUE)</td>\n",
       "    </tr>\n",
       "    <tr>\n",
       "      <th>gps</th>\n",
       "      <td>M</td>\n",
       "      <td>NaN</td>\n",
       "      <td>NaN</td>\n",
       "    </tr>\n",
       "    <tr>\n",
       "      <th>lattitude</th>\n",
       "      <td>0</td>\n",
       "      <td>NaN</td>\n",
       "      <td>NaN</td>\n",
       "    </tr>\n",
       "    <tr>\n",
       "      <th>longitude</th>\n",
       "      <td>0</td>\n",
       "      <td>NaN</td>\n",
       "      <td>NaN</td>\n",
       "    </tr>\n",
       "    <tr>\n",
       "      <th>dep</th>\n",
       "      <td>830</td>\n",
       "      <td>930</td>\n",
       "      <td>920</td>\n",
       "    </tr>\n",
       "    <tr>\n",
       "      <th>label_meteo</th>\n",
       "      <td>Normale</td>\n",
       "      <td>Pluie légère</td>\n",
       "      <td>Normale</td>\n",
       "    </tr>\n",
       "  </tbody>\n",
       "</table>\n",
       "</div>"
      ],
      "text/plain": [
       "                      21216                     39790          39433\n",
       "Num_Acc        201600021217              201600039791   201600039434\n",
       "an                       16                        16             16\n",
       "mois                     10                         9              3\n",
       "jour                     15                         5             15\n",
       "hrmn                   1915                      1450           1345\n",
       "lumiere                   3                         1              1\n",
       "agglomeration             1                         2              2\n",
       "intersection              1                         6              2\n",
       "meteo                     1                         2              1\n",
       "collision                 1                         3              3\n",
       "num_commune              33                         5             46\n",
       "adr                     NaN  DROITS DE LHOMME (CARREF  AVAULEE (RUE)\n",
       "gps                       M                       NaN            NaN\n",
       "lattitude                 0                       NaN            NaN\n",
       "longitude                 0                       NaN            NaN\n",
       "dep                     830                       930            920\n",
       "label_meteo         Normale              Pluie légère        Normale"
      ]
     },
     "execution_count": 167,
     "metadata": {},
     "output_type": "execute_result"
    }
   ],
   "source": [
    "df.sample(3).T"
   ]
  },
  {
   "cell_type": "code",
   "execution_count": 169,
   "metadata": {},
   "outputs": [
    {
     "data": {
      "text/plain": [
       "label_meteo\n",
       "Vent fort - tempête      144\n",
       "Neige - grêle            159\n",
       "Autre                    300\n",
       "Brouillard - fumée       621\n",
       "Temps éblouissant        667\n",
       "Pluie forte             1422\n",
       "Temps couvert           1640\n",
       "Pluie légère            6582\n",
       "Normale                47897\n",
       "Name: Num_Acc, dtype: int64"
      ]
     },
     "execution_count": 169,
     "metadata": {},
     "output_type": "execute_result"
    }
   ],
   "source": [
    "#compter le nombdre d'accident par type de label météo\n",
    "df.groupby(\"label_meteo\")[\"Num_Acc\"].count().sort_values()"
   ]
  },
  {
   "cell_type": "code",
   "execution_count": 170,
   "metadata": {},
   "outputs": [
    {
     "data": {
      "text/plain": [
       "59432"
      ]
     },
     "execution_count": 170,
     "metadata": {},
     "output_type": "execute_result"
    }
   ],
   "source": [
    "# nombre d'accidents ? \n",
    "df.Num_Acc.count()"
   ]
  },
  {
   "cell_type": "code",
   "execution_count": 173,
   "metadata": {},
   "outputs": [
    {
     "data": {
      "text/plain": [
       "1312"
      ]
     },
     "execution_count": 173,
     "metadata": {},
     "output_type": "execute_result"
    }
   ],
   "source": [
    "#nombre d'accidents par heure de la journee\n",
    "len(df.hrmn.unique())"
   ]
  },
  {
   "cell_type": "code",
   "execution_count": 174,
   "metadata": {},
   "outputs": [
    {
     "data": {
      "text/plain": [
       "1440"
      ]
     },
     "execution_count": 174,
     "metadata": {},
     "output_type": "execute_result"
    }
   ],
   "source": [
    "nb_de_minutes_par_jour = 60 * 24\n",
    "nb_de_minutes_par_jour"
   ]
  },
  {
   "cell_type": "code",
   "execution_count": 125,
   "metadata": {},
   "outputs": [
    {
     "data": {
      "text/html": [
       "<div>\n",
       "<table border=\"1\" class=\"dataframe\">\n",
       "  <thead>\n",
       "    <tr style=\"text-align: right;\">\n",
       "      <th></th>\n",
       "      <th>24070</th>\n",
       "      <th>7275</th>\n",
       "      <th>59353</th>\n",
       "    </tr>\n",
       "  </thead>\n",
       "  <tbody>\n",
       "    <tr>\n",
       "      <th>Num_Acc</th>\n",
       "      <td>201600024071</td>\n",
       "      <td>201600007276</td>\n",
       "      <td>201600059354</td>\n",
       "    </tr>\n",
       "    <tr>\n",
       "      <th>an</th>\n",
       "      <td>16</td>\n",
       "      <td>16</td>\n",
       "      <td>16</td>\n",
       "    </tr>\n",
       "    <tr>\n",
       "      <th>mois</th>\n",
       "      <td>8</td>\n",
       "      <td>9</td>\n",
       "      <td>6</td>\n",
       "    </tr>\n",
       "    <tr>\n",
       "      <th>jour</th>\n",
       "      <td>4</td>\n",
       "      <td>11</td>\n",
       "      <td>7</td>\n",
       "    </tr>\n",
       "    <tr>\n",
       "      <th>hrmn</th>\n",
       "      <td>1540</td>\n",
       "      <td>1730</td>\n",
       "      <td>1130</td>\n",
       "    </tr>\n",
       "    <tr>\n",
       "      <th>lum</th>\n",
       "      <td>1</td>\n",
       "      <td>1</td>\n",
       "      <td>1</td>\n",
       "    </tr>\n",
       "    <tr>\n",
       "      <th>agg</th>\n",
       "      <td>2</td>\n",
       "      <td>1</td>\n",
       "      <td>2</td>\n",
       "    </tr>\n",
       "    <tr>\n",
       "      <th>int</th>\n",
       "      <td>2</td>\n",
       "      <td>1</td>\n",
       "      <td>1</td>\n",
       "    </tr>\n",
       "    <tr>\n",
       "      <th>atm</th>\n",
       "      <td>2</td>\n",
       "      <td>1</td>\n",
       "      <td>1</td>\n",
       "    </tr>\n",
       "    <tr>\n",
       "      <th>col</th>\n",
       "      <td>3</td>\n",
       "      <td>1</td>\n",
       "      <td>3</td>\n",
       "    </tr>\n",
       "    <tr>\n",
       "      <th>com</th>\n",
       "      <td>63</td>\n",
       "      <td>139</td>\n",
       "      <td>611</td>\n",
       "    </tr>\n",
       "    <tr>\n",
       "      <th>adr</th>\n",
       "      <td>RUE KIESER/R.CHEVALIER</td>\n",
       "      <td>NaN</td>\n",
       "      <td>mamoudzou centre-Adrian</td>\n",
       "    </tr>\n",
       "    <tr>\n",
       "      <th>gps</th>\n",
       "      <td>M</td>\n",
       "      <td>M</td>\n",
       "      <td>NaN</td>\n",
       "    </tr>\n",
       "    <tr>\n",
       "      <th>lat</th>\n",
       "      <td>4.48427e+06</td>\n",
       "      <td>0</td>\n",
       "      <td>NaN</td>\n",
       "    </tr>\n",
       "    <tr>\n",
       "      <th>long</th>\n",
       "      <td>-59468</td>\n",
       "      <td>0</td>\n",
       "      <td>NaN</td>\n",
       "    </tr>\n",
       "    <tr>\n",
       "      <th>dep</th>\n",
       "      <td>330</td>\n",
       "      <td>580</td>\n",
       "      <td>976</td>\n",
       "    </tr>\n",
       "    <tr>\n",
       "      <th>is_in_quart_d_heure</th>\n",
       "      <td>False</td>\n",
       "      <td>True</td>\n",
       "      <td>True</td>\n",
       "    </tr>\n",
       "  </tbody>\n",
       "</table>\n",
       "</div>"
      ],
      "text/plain": [
       "                                      24070         7275   \\\n",
       "Num_Acc                        201600024071  201600007276   \n",
       "an                                       16            16   \n",
       "mois                                      8             9   \n",
       "jour                                      4            11   \n",
       "hrmn                                   1540          1730   \n",
       "lum                                       1             1   \n",
       "agg                                       2             1   \n",
       "int                                       2             1   \n",
       "atm                                       2             1   \n",
       "col                                       3             1   \n",
       "com                                      63           139   \n",
       "adr                  RUE KIESER/R.CHEVALIER           NaN   \n",
       "gps                                       M             M   \n",
       "lat                             4.48427e+06             0   \n",
       "long                                 -59468             0   \n",
       "dep                                     330           580   \n",
       "is_in_quart_d_heure                   False          True   \n",
       "\n",
       "                                       59353  \n",
       "Num_Acc                         201600059354  \n",
       "an                                        16  \n",
       "mois                                       6  \n",
       "jour                                       7  \n",
       "hrmn                                    1130  \n",
       "lum                                        1  \n",
       "agg                                        2  \n",
       "int                                        1  \n",
       "atm                                        1  \n",
       "col                                        3  \n",
       "com                                      611  \n",
       "adr                  mamoudzou centre-Adrian  \n",
       "gps                                      NaN  \n",
       "lat                                      NaN  \n",
       "long                                     NaN  \n",
       "dep                                      976  \n",
       "is_in_quart_d_heure                     True  "
      ]
     },
     "execution_count": 125,
     "metadata": {},
     "output_type": "execute_result"
    }
   ],
   "source": [
    "\n",
    "df.sample(3).T"
   ]
  },
  {
   "cell_type": "code",
   "execution_count": 127,
   "metadata": {},
   "outputs": [
    {
     "data": {
      "text/plain": [
       "<matplotlib.axes._subplots.AxesSubplot at 0x11e0575c0>"
      ]
     },
     "execution_count": 127,
     "metadata": {},
     "output_type": "execute_result"
    },
    {
     "data": {
      "image/png": "[encoded data removed]",
      "text/plain": [
       "<Figure size 432x288 with 1 Axes>"
      ]
     },
     "metadata": {},
     "output_type": "display_data"
    }
   ],
   "source": [
    "df.plot.scatter(x=\"long\", y=\"lat\")"
   ]
  },
  {
   "cell_type": "code",
   "execution_count": null,
   "metadata": {
    "scrolled": true
   },
   "outputs": [],
   "source": [
    "p = figure()\n",
    "p.circle(x=\"long\", y=\"lat\", source=df)\n",
    "show(p)"
   ]
  },
  {
   "cell_type": "markdown",
   "metadata": {},
   "source": [
    "# Analyse des départements"
   ]
  },
  {
   "cell_type": "code",
   "execution_count": 134,
   "metadata": {},
   "outputs": [
    {
     "data": {
      "text/plain": [
       "101"
      ]
     },
     "execution_count": 134,
     "metadata": {},
     "output_type": "execute_result"
    }
   ],
   "source": [
    "df.dep.nunique()"
   ]
  },
  {
   "cell_type": "code",
   "execution_count": 136,
   "metadata": {},
   "outputs": [
    {
     "data": {
      "text/plain": [
       "dep\n",
       "230      55\n",
       "480      59\n",
       "550      78\n",
       "150      92\n",
       "700      94\n",
       "90      100\n",
       "520     103\n",
       "460     105\n",
       "430     108\n",
       "900     109\n",
       "80      109\n",
       "50      113\n",
       "390     126\n",
       "810     132\n",
       "650     135\n",
       "530     136\n",
       "160     145\n",
       "730     152\n",
       "320     153\n",
       "820     161\n",
       "40      162\n",
       "201     167\n",
       "180     172\n",
       "190     186\n",
       "280     187\n",
       "880     188\n",
       "610     189\n",
       "120     194\n",
       "400     195\n",
       "976     195\n",
       "       ... \n",
       "560     584\n",
       "420     599\n",
       "620     617\n",
       "170     626\n",
       "290     629\n",
       "380     634\n",
       "540     660\n",
       "440     692\n",
       "370     708\n",
       "340     728\n",
       "640     741\n",
       "760     755\n",
       "490     756\n",
       "830     786\n",
       "670     818\n",
       "770     838\n",
       "780     854\n",
       "350     862\n",
       "310     965\n",
       "950    1120\n",
       "590    1181\n",
       "60     1409\n",
       "910    1419\n",
       "330    1641\n",
       "690    2026\n",
       "940    2721\n",
       "920    2873\n",
       "930    3031\n",
       "130    4110\n",
       "750    6466\n",
       "Name: Num_Acc, dtype: int64"
      ]
     },
     "execution_count": 136,
     "metadata": {},
     "output_type": "execute_result"
    }
   ],
   "source": [
    "# Nb d'accidents par département\n",
    "df.groupby(\"dep\")[\"Num_Acc\"].count().sort_values()"
   ]
  },
  {
   "cell_type": "code",
   "execution_count": 141,
   "metadata": {},
   "outputs": [],
   "source": [
    "df[\"h\"] = df.hrmn.apply(lambda x: x[:2])\n",
    "df[\"m\"] = df.hrmn.apply(lambda x: x[2:])"
   ]
  },
  {
   "cell_type": "markdown",
   "metadata": {},
   "source": [
    "# La notion d'axis dans les dessins matplotlib"
   ]
  },
  {
   "cell_type": "code",
   "execution_count": 156,
   "metadata": {},
   "outputs": [],
   "source": [
    "def despine_ax(ax):\n",
    "    \"\"\"\n",
    "    Enlève les contours d'un axe dans une figure.\n",
    "    \"\"\"\n",
    "    for spine in ax.spines.values():\n",
    "        spine.set_visible(False)"
   ]
  },
  {
   "cell_type": "code",
   "execution_count": 164,
   "metadata": {
    "scrolled": true
   },
   "outputs": [
    {
     "data": {
      "text/plain": [
       "<matplotlib.collections.PolyCollection at 0x12095beb8>"
      ]
     },
     "execution_count": 164,
     "metadata": {},
     "output_type": "execute_result"
    },
    {
     "data": {
      "image/png": "[encoded data removed]",
      "text/plain": [
       "<Figure size 432x288 with 1 Axes>"
      ]
     },
     "metadata": {},
     "output_type": "display_data"
    }
   ],
   "source": [
    "title    = \"Nombre d'accident par heure\"\n",
    "to_plot  = df.groupby(\"h\")[\"Num_Acc\"].count()\n",
    "ax       = to_plot.plot.bar(title=title)\n",
    "ax.hlines(to_plot.median(), 0, 24, colors=\"red\", linestyles=\"dashed\")\n",
    "despine_ax(ax)\n",
    "ax.fill_between(range(24), to_plot.quantile(0.25), to_plot.quantile(0.75), alpha=0.2)"
   ]
  },
  {
   "cell_type": "markdown",
   "metadata": {},
   "source": [
    "# Gestion des nuls"
   ]
  },
  {
   "cell_type": "code",
   "execution_count": 179,
   "metadata": {},
   "outputs": [
    {
     "data": {
      "text/plain": [
       "9169"
      ]
     },
     "execution_count": 179,
     "metadata": {},
     "output_type": "execute_result"
    }
   ],
   "source": [
    "# Compter les nuls\n",
    "df.adr.isnull().sum()"
   ]
  },
  {
   "cell_type": "code",
   "execution_count": 180,
   "metadata": {},
   "outputs": [
    {
     "data": {
      "text/plain": [
       "0                46, rue Sonneville\n",
       "1              1a rue du cimetiÃ¨re\n",
       "2                           inconnu\n",
       "3                52 rue victor hugo\n",
       "4                  rue Joliot curie\n",
       "5           Rue Jean-baptiste LEBAS\n",
       "6                   rue Jules FERRY\n",
       "7                           inconnu\n",
       "8                              rn41\n",
       "9                           inconnu\n",
       "10                141 rue nationale\n",
       "11                          inconnu\n",
       "12                 84 rue nationale\n",
       "13                           CD 917\n",
       "14                          inconnu\n",
       "15                          inconnu\n",
       "16                          inconnu\n",
       "17              RUE DE LA MOUSSERIE\n",
       "18                          inconnu\n",
       "19               rue Emile Macquart\n",
       "20             RD954 RUE EMILE ZOLA\n",
       "21                Rte de Lederzeele\n",
       "22                          inconnu\n",
       "23                          inconnu\n",
       "24                          inconnu\n",
       "25                56 RUE PAUL MACHY\n",
       "26         ave FranÃ§ois Mitterrand\n",
       "27                          inconnu\n",
       "28                          inconnu\n",
       "29                 rue de l'Ã©glise\n",
       "                    ...            \n",
       "59402      tsoundzou-KOUALE ( rue d\n",
       "59403      kaweni-Grande Traverse (\n",
       "59404      passamanty-M'hogoni (rue\n",
       "59405    m'tsapere-M'tsapÂrÂ- M't\n",
       "59406       cavani-Kavani sud ( rue\n",
       "59407             kaweni-GEOLE (la)\n",
       "59408      tsoundzou-Cadjifouteni (\n",
       "59409      tsoundzou-SIM ( rue de l\n",
       "59410      tsoundzou-Cadjifouteni (\n",
       "59411      mamoudzou centre-RP Pass\n",
       "59412     passamanty-VahibÂ ( rout\n",
       "59413      kaweni-Kaweni sud  (Z I)\n",
       "59414      kaweni-Kaweni sud  (Z I)\n",
       "59415      kaweni-Lazerevouni ( rue\n",
       "59416      kaweni-Poste ( rue de la\n",
       "59417       mamoudzou centre-Jardin\n",
       "59418    m'tsapere-M'tsapÂrÂ- M't\n",
       "59419      m'tsapere-Nationale 2 (r\n",
       "59420     passamanty-VahibÃ© ( rout\n",
       "59421       mamoudzou centre-Adrian\n",
       "59422      passamanty-Cavani-Be (ru\n",
       "59423      kaweni-Kaweni sud  (Z I)\n",
       "59424      kaweni-Kaweni nord ( Z I\n",
       "59425        mgombani-Baobab ( Bd )\n",
       "59426      convalescence/vetivers-S\n",
       "59427     passamanty-VahibÂ ( rout\n",
       "59428       mamoudzou centre-Adrian\n",
       "59429      kaweni-Kaweni sud  (Z I)\n",
       "59430      kaweni-Kaweni nord ( Z I\n",
       "59431      kaweni-Kaweni sud  (Z I)\n",
       "Name: adr, dtype: object"
      ]
     },
     "execution_count": 180,
     "metadata": {},
     "output_type": "execute_result"
    }
   ],
   "source": [
    "df.adr.fillna(\"inconnu\")"
   ]
  },
  {
   "cell_type": "markdown",
   "metadata": {},
   "source": [
    "# Regardons les départements"
   ]
  },
  {
   "cell_type": "code",
   "execution_count": 182,
   "metadata": {},
   "outputs": [
    {
     "data": {
      "text/plain": [
       "Index(['Num_Acc', 'an', 'mois', 'jour', 'hrmn', 'lum', 'agg', 'int', 'atm',\n",
       "       'col', 'com', 'adr', 'gps', 'lat', 'long', 'dep', 'is_in_quart_d_heure',\n",
       "       'h', 'm'],\n",
       "      dtype='object')"
      ]
     },
     "execution_count": 182,
     "metadata": {},
     "output_type": "execute_result"
    }
   ],
   "source": [
    "\n",
    "df.columns"
   ]
  },
  {
   "cell_type": "code",
   "execution_count": 190,
   "metadata": {},
   "outputs": [
    {
     "data": {
      "text/plain": [
       "<matplotlib.axes._subplots.AxesSubplot at 0x121636ef0>"
      ]
     },
     "execution_count": 190,
     "metadata": {},
     "output_type": "execute_result"
    },
    {
     "data": {
      "image/png": "[encoded data removed]",
      "text/plain": [
       "<Figure size 360x1080 with 1 Axes>"
      ]
     },
     "metadata": {},
     "output_type": "display_data"
    }
   ],
   "source": [
    "to_plot = df.groupby(\"dep\")[\"Num_Acc\"].count().sort_values()\n",
    "to_plot.plot.barh(figsize=(5,15))"
   ]
  },
  {
   "cell_type": "markdown",
   "metadata": {},
   "source": [
    "# Tableau croisé dynamique"
   ]
  },
  {
   "cell_type": "code",
   "execution_count": 210,
   "metadata": {},
   "outputs": [],
   "source": [
    "tab = df.pivot_table(index=\"dep\", \n",
    "               columns=\"h\", \n",
    "               values=\"Num_Acc\", \n",
    "               aggfunc=\"count\",\n",
    "               fill_value=0)"
   ]
  },
  {
   "cell_type": "code",
   "execution_count": 211,
   "metadata": {},
   "outputs": [
    {
     "data": {
      "text/plain": [
       "<matplotlib.axes._subplots.AxesSubplot at 0x12416c0b8>"
      ]
     },
     "execution_count": 211,
     "metadata": {},
     "output_type": "execute_result"
    },
    {
     "data": {
      "image/png": "[encoded data removed]",
      "text/plain": [
       "<Figure size 432x288 with 1 Axes>"
      ]
     },
     "metadata": {},
     "output_type": "display_data"
    }
   ],
   "source": [
    "tab.sum(axis=1).sort_index().plot.bar()"
   ]
  },
  {
   "cell_type": "code",
   "execution_count": 212,
   "metadata": {},
   "outputs": [],
   "source": [
    "import seaborn as sns"
   ]
  },
  {
   "cell_type": "code",
   "execution_count": 213,
   "metadata": {},
   "outputs": [],
   "source": [
    "from matplotlib.colors import LogNorm"
   ]
  },
  {
   "cell_type": "code",
   "execution_count": 217,
   "metadata": {},
   "outputs": [
    {
     "data": {
      "text/plain": [
       "450"
      ]
     },
     "execution_count": 217,
     "metadata": {},
     "output_type": "execute_result"
    }
   ],
   "source": [
    "tab.max().max()"
   ]
  },
  {
   "cell_type": "code",
   "execution_count": 227,
   "metadata": {},
   "outputs": [],
   "source": [
    "tab_sans_zero = tab.replace(0, 1)"
   ]
  },
  {
   "cell_type": "code",
   "execution_count": 240,
   "metadata": {},
   "outputs": [],
   "source": [
    "idf = tab_sans_zero[tab_sans_zero.index.isin([770, 780, 910, 920, 930, 940, 950, 750])]"
   ]
  },
  {
   "cell_type": "code",
   "execution_count": 249,
   "metadata": {},
   "outputs": [],
   "source": [
    "province = tab_sans_zero[~tab_sans_zero.index.isin([770, 780, 910, 920, 930, 940, 950, 750])]"
   ]
  },
  {
   "cell_type": "code",
   "execution_count": 250,
   "metadata": {},
   "outputs": [
    {
     "data": {
      "image/png": "[encoded data removed]",
      "text/plain": [
       "<Figure size 432x288 with 2 Axes>"
      ]
     },
     "metadata": {},
     "output_type": "display_data"
    }
   ],
   "source": [
    "title = \"Accidents en province, échelle log\"\n",
    "norm=LogNorm(vmin=2, vmax=8000)\n",
    "ax = sns.heatmap(province,norm=norm)\n",
    "ax.set_title(title);"
   ]
  },
  {
   "cell_type": "code",
   "execution_count": 251,
   "metadata": {},
   "outputs": [
    {
     "data": {
      "image/png": "[encoded data removed]",
      "text/plain": [
       "<Figure size 432x288 with 2 Axes>"
      ]
     },
     "metadata": {},
     "output_type": "display_data"
    }
   ],
   "source": [
    "title = \"Accidents en province,sans échelle log\"\n",
    "norm=LogNorm(vmin=2, vmax=8000)\n",
    "ax = sns.heatmap(province)\n",
    "ax.set_title(title);"
   ]
  },
  {
   "cell_type": "code",
   "execution_count": 247,
   "metadata": {},
   "outputs": [
    {
     "data": {
      "image/png": "[encoded data removed]",
      "text/plain": [
       "<Figure size 432x288 with 2 Axes>"
      ]
     },
     "metadata": {},
     "output_type": "display_data"
    }
   ],
   "source": [
    "title = \"Accidents en île de france, échelle log\"\n",
    "norm=LogNorm(vmin=2, vmax=8000)\n",
    "ax = sns.heatmap(idf,norm=norm)\n",
    "ax.set_title(title);"
   ]
  },
  {
   "cell_type": "code",
   "execution_count": 248,
   "metadata": {},
   "outputs": [
    {
     "data": {
      "image/png": "[encoded data removed]",
      "text/plain": [
       "<Figure size 432x288 with 2 Axes>"
      ]
     },
     "metadata": {},
     "output_type": "display_data"
    }
   ],
   "source": [
    "title = \"Accidents en île de france, sans échelle log\"\n",
    "norm=LogNorm(vmin=2, vmax=8000)\n",
    "ax = sns.heatmap(idf)#,norm=norm)\n",
    "ax.set_title(title);"
   ]
  },
  {
   "cell_type": "code",
   "execution_count": null,
   "metadata": {},
   "outputs": [],
   "source": []
  }
 ],
 "metadata": {
  "kernelspec": {
   "display_name": "Python [default]",
   "language": "python",
   "name": "python3"
  },
  "language_info": {
   "codemirror_mode": {
    "name": "ipython",
    "version": 3
   },
   "file_extension": ".py",
   "mimetype": "text/x-python",
   "name": "python",
   "nbconvert_exporter": "python",
   "pygments_lexer": "ipython3",
   "version": "3.6.0"
  }
 },
 "nbformat": 4,
 "nbformat_minor": 2
}
