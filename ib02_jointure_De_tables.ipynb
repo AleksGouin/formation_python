{
 "cells": [
  {
   "cell_type": "code",
   "execution_count": 36,
   "metadata": {},
   "outputs": [],
   "source": [
    "!git add ib02_jointure_De_tables.ipynb"
   ]
  },
  {
   "cell_type": "code",
   "execution_count": 37,
   "metadata": {},
   "outputs": [
    {
     "name": "stdout",
     "output_type": "stream",
     "text": [
      "[master 7416bbf] next\n",
      " 1 file changed, 1931 insertions(+), 16 deletions(-)\n"
     ]
    }
   ],
   "source": [
    "!git commit -m \"next\""
   ]
  },
  {
   "cell_type": "code",
   "execution_count": 38,
   "metadata": {},
   "outputs": [
    {
     "name": "stdout",
     "output_type": "stream",
     "text": [
      "Counting objects: 3, done.\n",
      "Delta compression using up to 8 threads.\n",
      "Compressing objects: 100% (3/3), done.\n",
      "Writing objects: 100% (3/3), 6.60 KiB | 6.60 MiB/s, done.\n",
      "Total 3 (delta 1), reused 0 (delta 0)\n",
      "remote: Resolving deltas: 100% (1/1), completed with 1 local object.\u001b[K\n",
      "To https://github.com/romainjouin/formation_python\n",
      "   353cc07..7416bbf  master -> master\n"
     ]
    }
   ],
   "source": [
    "!git push"
   ]
  },
  {
   "cell_type": "markdown",
   "metadata": {},
   "source": [
    "# Base de données accidents corporels de la circulation\n",
    "https://www.data.gouv.fr/fr/datasets/base-de-donnees-accidents-corporels-de-la-circulation/\n",
    "\n",
    "Ce jeu de données provient d'un service public certifié\n",
    " NEC MERGITUR\n",
    "Pour chaque accident corporel (soit un accident survenu sur une voie ouverte à la circulation publique, impliquant au moins un véhicule et ayant fait au moins une victime ayant nécessité des soins), des saisies d’information décrivant l’accident sont effectuées par l’unité des forces de l’ordre (police, gendarmerie, etc.) qui est intervenue sur le lieu de l’accident. Ces saisies sont rassemblées dans une fiche intitulée bulletin d’analyse des accidents corporels. L’ensemble de ces fiches constitue le fichier national des accidents corporels de la circulation dit \" Fichier BAAC \" administré par l’Observatoire national interministériel de la sécurité routière \"ONISR\".\n",
    "\n",
    "Les bases de données, extraites du fichier BAAC, répertorient l'intégralité des accidents corporels de la circulation intervenus durant une année précise en France métropolitaine ainsi que les départements d’Outre-mer (Guadeloupe, Guyane, Martinique, La Réunion et Mayotte depuis 2012) avec une description simplifiée. Cela comprend des informations de localisation de l’accident, telles que renseignées ainsi que des informations concernant les caractéristiques de l’accident et son lieu, les véhicules impliqués et leurs victimes.\n",
    "\n",
    "Par rapport aux bases de données agrégées 2005-2010 et 2006-2011 actuellement disponibles sur le site www.data.gouv.fr, les bases de données de 2005 à 2016 sont désormais annuelles et composées de 4 fichiers (Caractéristiques – Lieux – Véhicules – Usagers ) au format csv.\n",
    "\n",
    "Ces bases occultent néanmoins certaines données spécifiques relatives aux usagers et aux véhicules et à leur comportement dans la mesure où la divulgation de ces données porterait atteinte à la protection de la vie privée des personnes physiques aisément identifiables ou ferait apparaître le comportement de telles personnes alors que la divulgation de ce comportement pourrait leur porter préjudice (avis de la CADA – 2 janvier 2012)."
   ]
  },
  {
   "cell_type": "markdown",
   "metadata": {},
   "source": [
    "# Téléchargement de la documentation\n",
    "https://www.data.gouv.fr/fr/datasets/r/36496bab-a042-47bf-b08b-3c7467f2bddf"
   ]
  },
  {
   "cell_type": "markdown",
   "metadata": {},
   "source": [
    "# données\n",
    "https://www.data.gouv.fr/fr/datasets/r/be2191a6-a7cd-446f-a9fc-8d698688eb9e\n",
    "\n",
    "https://www.data.gouv.fr/fr/datasets/r/e4c6f4fe-7c68-4a1d-9bb6-b0f1f5d45526\n",
    "\n",
    "https://www.data.gouv.fr/fr/datasets/r/08b77510-39c4-4761-bf02-19457264790f\n",
    "\n",
    "https://www.data.gouv.fr/fr/datasets/r/96aadc9f-0b55-4e9a-a70e-c627ed97e6f7\n"
   ]
  },
  {
   "cell_type": "markdown",
   "metadata": {},
   "source": [
    "# -1) imports"
   ]
  },
  {
   "cell_type": "code",
   "execution_count": 2,
   "metadata": {},
   "outputs": [],
   "source": [
    "%matplotlib inline\n",
    "import seaborn as sns"
   ]
  },
  {
   "cell_type": "code",
   "execution_count": 3,
   "metadata": {},
   "outputs": [],
   "source": [
    "import pandas as pd"
   ]
  },
  {
   "cell_type": "code",
   "execution_count": 4,
   "metadata": {},
   "outputs": [],
   "source": [
    "import pandas as pd"
   ]
  },
  {
   "cell_type": "markdown",
   "metadata": {},
   "source": [
    "# 0) Téléchargement des données : base des lieux et des véhicules"
   ]
  },
  {
   "cell_type": "code",
   "execution_count": 58,
   "metadata": {},
   "outputs": [
    {
     "name": "stderr",
     "output_type": "stream",
     "text": [
      "/Users/romain/anaconda3/lib/python3.6/site-packages/IPython/core/interactiveshell.py:2785: DtypeWarning: Columns (2) have mixed types. Specify dtype option on import or set low_memory=False.\n",
      "  interactivity=interactivity, compiler=compiler, result=result)\n"
     ]
    }
   ],
   "source": [
    "base_des_lieux_2016 = \"https://www.data.gouv.fr/fr/datasets/r/08b77510-39c4-4761-bf02-19457264790f\" \n",
    "base_des_lieux_2017 = \"https://www.data.gouv.fr/fr/datasets/r/9b76a7b6-3eef-4864-b2da-1834417e305c\"\n",
    "path = base_des_lieux_2017\n",
    "lieux = pd.read_csv(path, encoding=\"latin1\")"
   ]
  },
  {
   "cell_type": "code",
   "execution_count": 65,
   "metadata": {},
   "outputs": [],
   "source": [
    "nouvelles_columns_lieux = [\"Num_Acc\", \n",
    "                     \"categorie_route\", \n",
    "                     \"numero_de_route\", \n",
    "                     \"indice_du_numero_de_route\", \n",
    "                     \"indice_alpha\", \n",
    "                     \"regime_de_circulation\", \n",
    "                     \"nb_de_voies\", \n",
    "                     \"numero_de_la_borne_de_rattachemen\",\n",
    "                     \"distance_a_la_borne\",\n",
    "                     \"existence_voie_reservee\", \n",
    "                     \"declivite\",\n",
    "                     \"trace_du_plan\",\n",
    "                     \"largeur_terre_plein\",\n",
    "                     \"largeur_chaussee\", \n",
    "                     \"etat_surface\", \n",
    "                     \"infrastructure\",\n",
    "                     \"endroit\", \n",
    "                     \"a_une_ecole\"]"
   ]
  },
  {
   "cell_type": "code",
   "execution_count": 66,
   "metadata": {},
   "outputs": [],
   "source": [
    "lieux.columns = nouvelles_columns_lieux"
   ]
  },
  {
   "cell_type": "code",
   "execution_count": 75,
   "metadata": {},
   "outputs": [],
   "source": [
    "nouvelles_columns_vehicules =  ['Num_Acc',\n",
    "             'sens de circulation',\n",
    "            'categorie',\n",
    "            'nb occupants transport commun',\n",
    "             'obsctacle fixe heurté',\n",
    "             'obstacle mobile heurté',\n",
    "             'point de choc init',\n",
    "             'manoeuvre principale avant laccident',\n",
    "             'numero véhicule']"
   ]
  },
  {
   "cell_type": "code",
   "execution_count": 76,
   "metadata": {},
   "outputs": [],
   "source": [
    "path_vehicules = \"https://www.data.gouv.fr/fr/datasets/r/109520e1-47ae-4294-a5b6-6d10c7bae9a6\""
   ]
  },
  {
   "cell_type": "code",
   "execution_count": 77,
   "metadata": {},
   "outputs": [],
   "source": [
    "vehicules = pd.read_csv(path_vehicules, encoding=\"latin1\")"
   ]
  },
  {
   "cell_type": "code",
   "execution_count": 78,
   "metadata": {},
   "outputs": [],
   "source": [
    "vehicules.columns = nouvelles_columns_vehicules"
   ]
  },
  {
   "cell_type": "code",
   "execution_count": 79,
   "metadata": {},
   "outputs": [
    {
     "data": {
      "text/html": [
       "<div>\n",
       "<style scoped>\n",
       "    .dataframe tbody tr th:only-of-type {\n",
       "        vertical-align: middle;\n",
       "    }\n",
       "\n",
       "    .dataframe tbody tr th {\n",
       "        vertical-align: top;\n",
       "    }\n",
       "\n",
       "    .dataframe thead th {\n",
       "        text-align: right;\n",
       "    }\n",
       "</style>\n",
       "<table border=\"1\" class=\"dataframe\">\n",
       "  <thead>\n",
       "    <tr style=\"text-align: right;\">\n",
       "      <th></th>\n",
       "      <th>Num_Acc</th>\n",
       "      <th>sens de circulation</th>\n",
       "      <th>categorie</th>\n",
       "      <th>nb occupants transport commun</th>\n",
       "      <th>obsctacle fixe heurté</th>\n",
       "      <th>obstacle mobile heurté</th>\n",
       "      <th>point de choc init</th>\n",
       "      <th>manoeuvre principale avant laccident</th>\n",
       "      <th>numero véhicule</th>\n",
       "    </tr>\n",
       "  </thead>\n",
       "  <tbody>\n",
       "    <tr>\n",
       "      <th>0</th>\n",
       "      <td>201700000001</td>\n",
       "      <td>0.0</td>\n",
       "      <td>7</td>\n",
       "      <td>0</td>\n",
       "      <td>0.0</td>\n",
       "      <td>2.0</td>\n",
       "      <td>3.0</td>\n",
       "      <td>9.0</td>\n",
       "      <td>B01</td>\n",
       "    </tr>\n",
       "    <tr>\n",
       "      <th>1</th>\n",
       "      <td>201700000001</td>\n",
       "      <td>0.0</td>\n",
       "      <td>10</td>\n",
       "      <td>0</td>\n",
       "      <td>0.0</td>\n",
       "      <td>2.0</td>\n",
       "      <td>3.0</td>\n",
       "      <td>13.0</td>\n",
       "      <td>A01</td>\n",
       "    </tr>\n",
       "    <tr>\n",
       "      <th>2</th>\n",
       "      <td>201700000002</td>\n",
       "      <td>0.0</td>\n",
       "      <td>7</td>\n",
       "      <td>0</td>\n",
       "      <td>0.0</td>\n",
       "      <td>0.0</td>\n",
       "      <td>1.0</td>\n",
       "      <td>16.0</td>\n",
       "      <td>A01</td>\n",
       "    </tr>\n",
       "    <tr>\n",
       "      <th>3</th>\n",
       "      <td>201700000002</td>\n",
       "      <td>0.0</td>\n",
       "      <td>1</td>\n",
       "      <td>0</td>\n",
       "      <td>0.0</td>\n",
       "      <td>0.0</td>\n",
       "      <td>7.0</td>\n",
       "      <td>1.0</td>\n",
       "      <td>B01</td>\n",
       "    </tr>\n",
       "    <tr>\n",
       "      <th>4</th>\n",
       "      <td>201700000003</td>\n",
       "      <td>0.0</td>\n",
       "      <td>10</td>\n",
       "      <td>0</td>\n",
       "      <td>0.0</td>\n",
       "      <td>2.0</td>\n",
       "      <td>1.0</td>\n",
       "      <td>1.0</td>\n",
       "      <td>C01</td>\n",
       "    </tr>\n",
       "  </tbody>\n",
       "</table>\n",
       "</div>"
      ],
      "text/plain": [
       "        Num_Acc  sens de circulation  categorie  \\\n",
       "0  201700000001                  0.0          7   \n",
       "1  201700000001                  0.0         10   \n",
       "2  201700000002                  0.0          7   \n",
       "3  201700000002                  0.0          1   \n",
       "4  201700000003                  0.0         10   \n",
       "\n",
       "   nb occupants transport commun  obsctacle fixe heurté  \\\n",
       "0                              0                    0.0   \n",
       "1                              0                    0.0   \n",
       "2                              0                    0.0   \n",
       "3                              0                    0.0   \n",
       "4                              0                    0.0   \n",
       "\n",
       "   obstacle mobile heurté  point de choc init  \\\n",
       "0                     2.0                 3.0   \n",
       "1                     2.0                 3.0   \n",
       "2                     0.0                 1.0   \n",
       "3                     0.0                 7.0   \n",
       "4                     2.0                 1.0   \n",
       "\n",
       "   manoeuvre principale avant laccident numero véhicule  \n",
       "0                                   9.0             B01  \n",
       "1                                  13.0             A01  \n",
       "2                                  16.0             A01  \n",
       "3                                   1.0             B01  \n",
       "4                                   1.0             C01  "
      ]
     },
     "execution_count": 79,
     "metadata": {},
     "output_type": "execute_result"
    }
   ],
   "source": [
    "vehicules.head()"
   ]
  },
  {
   "cell_type": "code",
   "execution_count": 80,
   "metadata": {},
   "outputs": [
    {
     "data": {
      "text/html": [
       "<div>\n",
       "<style scoped>\n",
       "    .dataframe tbody tr th:only-of-type {\n",
       "        vertical-align: middle;\n",
       "    }\n",
       "\n",
       "    .dataframe tbody tr th {\n",
       "        vertical-align: top;\n",
       "    }\n",
       "\n",
       "    .dataframe thead th {\n",
       "        text-align: right;\n",
       "    }\n",
       "</style>\n",
       "<table border=\"1\" class=\"dataframe\">\n",
       "  <thead>\n",
       "    <tr style=\"text-align: right;\">\n",
       "      <th></th>\n",
       "      <th>Num_Acc</th>\n",
       "      <th>categorie_route</th>\n",
       "      <th>numero_de_route</th>\n",
       "      <th>indice_du_numero_de_route</th>\n",
       "      <th>indice_alpha</th>\n",
       "      <th>regime_de_circulation</th>\n",
       "      <th>nb_de_voies</th>\n",
       "      <th>numero_de_la_borne_de_rattachemen</th>\n",
       "      <th>distance_a_la_borne</th>\n",
       "      <th>existence_voie_reservee</th>\n",
       "      <th>declivite</th>\n",
       "      <th>trace_du_plan</th>\n",
       "      <th>largeur_terre_plein</th>\n",
       "      <th>largeur_chaussee</th>\n",
       "      <th>etat_surface</th>\n",
       "      <th>infrastructure</th>\n",
       "      <th>endroit</th>\n",
       "      <th>a_une_ecole</th>\n",
       "    </tr>\n",
       "  </thead>\n",
       "  <tbody>\n",
       "    <tr>\n",
       "      <th>0</th>\n",
       "      <td>201700000001</td>\n",
       "      <td>3</td>\n",
       "      <td>39</td>\n",
       "      <td>NaN</td>\n",
       "      <td>NaN</td>\n",
       "      <td>2.0</td>\n",
       "      <td>2.0</td>\n",
       "      <td>NaN</td>\n",
       "      <td>NaN</td>\n",
       "      <td>2.0</td>\n",
       "      <td>1.0</td>\n",
       "      <td>1.0</td>\n",
       "      <td>0.0</td>\n",
       "      <td>70.0</td>\n",
       "      <td>1.0</td>\n",
       "      <td>0.0</td>\n",
       "      <td>1.0</td>\n",
       "      <td>99.0</td>\n",
       "    </tr>\n",
       "    <tr>\n",
       "      <th>1</th>\n",
       "      <td>201700000002</td>\n",
       "      <td>3</td>\n",
       "      <td>39</td>\n",
       "      <td>NaN</td>\n",
       "      <td>NaN</td>\n",
       "      <td>2.0</td>\n",
       "      <td>2.0</td>\n",
       "      <td>NaN</td>\n",
       "      <td>NaN</td>\n",
       "      <td>0.0</td>\n",
       "      <td>1.0</td>\n",
       "      <td>0.0</td>\n",
       "      <td>6.0</td>\n",
       "      <td>10.0</td>\n",
       "      <td>1.0</td>\n",
       "      <td>NaN</td>\n",
       "      <td>NaN</td>\n",
       "      <td>NaN</td>\n",
       "    </tr>\n",
       "    <tr>\n",
       "      <th>2</th>\n",
       "      <td>201700000003</td>\n",
       "      <td>3</td>\n",
       "      <td>39</td>\n",
       "      <td>NaN</td>\n",
       "      <td>NaN</td>\n",
       "      <td>2.0</td>\n",
       "      <td>2.0</td>\n",
       "      <td>NaN</td>\n",
       "      <td>NaN</td>\n",
       "      <td>0.0</td>\n",
       "      <td>1.0</td>\n",
       "      <td>0.0</td>\n",
       "      <td>0.0</td>\n",
       "      <td>10.0</td>\n",
       "      <td>1.0</td>\n",
       "      <td>NaN</td>\n",
       "      <td>NaN</td>\n",
       "      <td>NaN</td>\n",
       "    </tr>\n",
       "    <tr>\n",
       "      <th>3</th>\n",
       "      <td>201700000004</td>\n",
       "      <td>3</td>\n",
       "      <td>39</td>\n",
       "      <td>NaN</td>\n",
       "      <td>D</td>\n",
       "      <td>2.0</td>\n",
       "      <td>2.0</td>\n",
       "      <td>NaN</td>\n",
       "      <td>NaN</td>\n",
       "      <td>0.0</td>\n",
       "      <td>1.0</td>\n",
       "      <td>0.0</td>\n",
       "      <td>0.0</td>\n",
       "      <td>10.0</td>\n",
       "      <td>1.0</td>\n",
       "      <td>NaN</td>\n",
       "      <td>NaN</td>\n",
       "      <td>NaN</td>\n",
       "    </tr>\n",
       "    <tr>\n",
       "      <th>4</th>\n",
       "      <td>201700000005</td>\n",
       "      <td>3</td>\n",
       "      <td>39</td>\n",
       "      <td>NaN</td>\n",
       "      <td>NaN</td>\n",
       "      <td>2.0</td>\n",
       "      <td>2.0</td>\n",
       "      <td>NaN</td>\n",
       "      <td>NaN</td>\n",
       "      <td>0.0</td>\n",
       "      <td>1.0</td>\n",
       "      <td>0.0</td>\n",
       "      <td>0.0</td>\n",
       "      <td>0.0</td>\n",
       "      <td>1.0</td>\n",
       "      <td>0.0</td>\n",
       "      <td>1.0</td>\n",
       "      <td>99.0</td>\n",
       "    </tr>\n",
       "  </tbody>\n",
       "</table>\n",
       "</div>"
      ],
      "text/plain": [
       "        Num_Acc  categorie_route numero_de_route  indice_du_numero_de_route  \\\n",
       "0  201700000001                3              39                        NaN   \n",
       "1  201700000002                3              39                        NaN   \n",
       "2  201700000003                3              39                        NaN   \n",
       "3  201700000004                3              39                        NaN   \n",
       "4  201700000005                3              39                        NaN   \n",
       "\n",
       "  indice_alpha  regime_de_circulation  nb_de_voies  \\\n",
       "0          NaN                    2.0          2.0   \n",
       "1          NaN                    2.0          2.0   \n",
       "2          NaN                    2.0          2.0   \n",
       "3            D                    2.0          2.0   \n",
       "4          NaN                    2.0          2.0   \n",
       "\n",
       "   numero_de_la_borne_de_rattachemen  distance_a_la_borne  \\\n",
       "0                                NaN                  NaN   \n",
       "1                                NaN                  NaN   \n",
       "2                                NaN                  NaN   \n",
       "3                                NaN                  NaN   \n",
       "4                                NaN                  NaN   \n",
       "\n",
       "   existence_voie_reservee  declivite  trace_du_plan  largeur_terre_plein  \\\n",
       "0                      2.0        1.0            1.0                  0.0   \n",
       "1                      0.0        1.0            0.0                  6.0   \n",
       "2                      0.0        1.0            0.0                  0.0   \n",
       "3                      0.0        1.0            0.0                  0.0   \n",
       "4                      0.0        1.0            0.0                  0.0   \n",
       "\n",
       "   largeur_chaussee  etat_surface  infrastructure  endroit  a_une_ecole  \n",
       "0              70.0           1.0             0.0      1.0         99.0  \n",
       "1              10.0           1.0             NaN      NaN          NaN  \n",
       "2              10.0           1.0             NaN      NaN          NaN  \n",
       "3              10.0           1.0             NaN      NaN          NaN  \n",
       "4               0.0           1.0             0.0      1.0         99.0  "
      ]
     },
     "execution_count": 80,
     "metadata": {},
     "output_type": "execute_result"
    }
   ],
   "source": [
    "lieux.head()"
   ]
  },
  {
   "cell_type": "markdown",
   "metadata": {},
   "source": [
    "# Les jointures en python se font sur les index"
   ]
  },
  {
   "cell_type": "code",
   "execution_count": 70,
   "metadata": {},
   "outputs": [],
   "source": [
    "jointure = vehicules.join(lieux,rsuffix=\"_from_vehicule\")"
   ]
  },
  {
   "cell_type": "code",
   "execution_count": 71,
   "metadata": {},
   "outputs": [
    {
     "data": {
      "text/plain": [
       "(103546, 27)"
      ]
     },
     "execution_count": 71,
     "metadata": {},
     "output_type": "execute_result"
    }
   ],
   "source": [
    "jointure.shape"
   ]
  },
  {
   "cell_type": "markdown",
   "metadata": {},
   "source": [
    "\n",
    "# il faut setter les index : \n",
    "Attention : on va perdre les colonnes de l'index par défaut\n",
    "\n",
    "surtout si on fait inplace = True"
   ]
  },
  {
   "cell_type": "code",
   "execution_count": 81,
   "metadata": {},
   "outputs": [],
   "source": [
    "v1 = vehicules.set_index(\"Num_Acc\", inplace=False)"
   ]
  },
  {
   "cell_type": "code",
   "execution_count": 82,
   "metadata": {},
   "outputs": [],
   "source": [
    "l1 = lieux.set_index(\"Num_Acc\", inplace=False)"
   ]
  },
  {
   "cell_type": "code",
   "execution_count": 83,
   "metadata": {},
   "outputs": [
    {
     "name": "stdout",
     "output_type": "stream",
     "text": [
      "left (103546, 25)\n",
      "right (103546, 25)\n",
      "inner (103546, 25)\n"
     ]
    }
   ],
   "source": [
    "for type_jointure in [\"left\", \"right\", \"inner\"]:\n",
    "    jointure= v1.join(l1, how=type_jointure)\n",
    "    print(type_jointure, jointure.shape)"
   ]
  },
  {
   "cell_type": "code",
   "execution_count": 84,
   "metadata": {},
   "outputs": [
    {
     "data": {
      "text/html": [
       "<div>\n",
       "<style scoped>\n",
       "    .dataframe tbody tr th:only-of-type {\n",
       "        vertical-align: middle;\n",
       "    }\n",
       "\n",
       "    .dataframe tbody tr th {\n",
       "        vertical-align: top;\n",
       "    }\n",
       "\n",
       "    .dataframe thead th {\n",
       "        text-align: right;\n",
       "    }\n",
       "</style>\n",
       "<table border=\"1\" class=\"dataframe\">\n",
       "  <thead>\n",
       "    <tr style=\"text-align: right;\">\n",
       "      <th>Num_Acc</th>\n",
       "      <th>201700000001</th>\n",
       "      <th>201700000001</th>\n",
       "      <th>201700000002</th>\n",
       "      <th>201700000002</th>\n",
       "      <th>201700000003</th>\n",
       "    </tr>\n",
       "  </thead>\n",
       "  <tbody>\n",
       "    <tr>\n",
       "      <th>sens de circulation</th>\n",
       "      <td>0</td>\n",
       "      <td>0</td>\n",
       "      <td>0</td>\n",
       "      <td>0</td>\n",
       "      <td>0</td>\n",
       "    </tr>\n",
       "    <tr>\n",
       "      <th>categorie</th>\n",
       "      <td>7</td>\n",
       "      <td>10</td>\n",
       "      <td>7</td>\n",
       "      <td>1</td>\n",
       "      <td>10</td>\n",
       "    </tr>\n",
       "    <tr>\n",
       "      <th>nb occupants transport commun</th>\n",
       "      <td>0</td>\n",
       "      <td>0</td>\n",
       "      <td>0</td>\n",
       "      <td>0</td>\n",
       "      <td>0</td>\n",
       "    </tr>\n",
       "    <tr>\n",
       "      <th>obsctacle fixe heurté</th>\n",
       "      <td>0</td>\n",
       "      <td>0</td>\n",
       "      <td>0</td>\n",
       "      <td>0</td>\n",
       "      <td>0</td>\n",
       "    </tr>\n",
       "    <tr>\n",
       "      <th>obstacle mobile heurté</th>\n",
       "      <td>2</td>\n",
       "      <td>2</td>\n",
       "      <td>0</td>\n",
       "      <td>0</td>\n",
       "      <td>2</td>\n",
       "    </tr>\n",
       "    <tr>\n",
       "      <th>point de choc init</th>\n",
       "      <td>3</td>\n",
       "      <td>3</td>\n",
       "      <td>1</td>\n",
       "      <td>7</td>\n",
       "      <td>1</td>\n",
       "    </tr>\n",
       "    <tr>\n",
       "      <th>manoeuvre principale avant laccident</th>\n",
       "      <td>9</td>\n",
       "      <td>13</td>\n",
       "      <td>16</td>\n",
       "      <td>1</td>\n",
       "      <td>1</td>\n",
       "    </tr>\n",
       "    <tr>\n",
       "      <th>numero véhicule</th>\n",
       "      <td>B01</td>\n",
       "      <td>A01</td>\n",
       "      <td>A01</td>\n",
       "      <td>B01</td>\n",
       "      <td>C01</td>\n",
       "    </tr>\n",
       "    <tr>\n",
       "      <th>categorie_route</th>\n",
       "      <td>3</td>\n",
       "      <td>3</td>\n",
       "      <td>3</td>\n",
       "      <td>3</td>\n",
       "      <td>3</td>\n",
       "    </tr>\n",
       "    <tr>\n",
       "      <th>numero_de_route</th>\n",
       "      <td>39</td>\n",
       "      <td>39</td>\n",
       "      <td>39</td>\n",
       "      <td>39</td>\n",
       "      <td>39</td>\n",
       "    </tr>\n",
       "    <tr>\n",
       "      <th>indice_du_numero_de_route</th>\n",
       "      <td>NaN</td>\n",
       "      <td>NaN</td>\n",
       "      <td>NaN</td>\n",
       "      <td>NaN</td>\n",
       "      <td>NaN</td>\n",
       "    </tr>\n",
       "    <tr>\n",
       "      <th>indice_alpha</th>\n",
       "      <td>NaN</td>\n",
       "      <td>NaN</td>\n",
       "      <td>NaN</td>\n",
       "      <td>NaN</td>\n",
       "      <td>NaN</td>\n",
       "    </tr>\n",
       "    <tr>\n",
       "      <th>regime_de_circulation</th>\n",
       "      <td>2</td>\n",
       "      <td>2</td>\n",
       "      <td>2</td>\n",
       "      <td>2</td>\n",
       "      <td>2</td>\n",
       "    </tr>\n",
       "    <tr>\n",
       "      <th>nb_de_voies</th>\n",
       "      <td>2</td>\n",
       "      <td>2</td>\n",
       "      <td>2</td>\n",
       "      <td>2</td>\n",
       "      <td>2</td>\n",
       "    </tr>\n",
       "    <tr>\n",
       "      <th>numero_de_la_borne_de_rattachemen</th>\n",
       "      <td>NaN</td>\n",
       "      <td>NaN</td>\n",
       "      <td>NaN</td>\n",
       "      <td>NaN</td>\n",
       "      <td>NaN</td>\n",
       "    </tr>\n",
       "    <tr>\n",
       "      <th>distance_a_la_borne</th>\n",
       "      <td>NaN</td>\n",
       "      <td>NaN</td>\n",
       "      <td>NaN</td>\n",
       "      <td>NaN</td>\n",
       "      <td>NaN</td>\n",
       "    </tr>\n",
       "    <tr>\n",
       "      <th>existence_voie_reservee</th>\n",
       "      <td>2</td>\n",
       "      <td>2</td>\n",
       "      <td>0</td>\n",
       "      <td>0</td>\n",
       "      <td>0</td>\n",
       "    </tr>\n",
       "    <tr>\n",
       "      <th>declivite</th>\n",
       "      <td>1</td>\n",
       "      <td>1</td>\n",
       "      <td>1</td>\n",
       "      <td>1</td>\n",
       "      <td>1</td>\n",
       "    </tr>\n",
       "    <tr>\n",
       "      <th>trace_du_plan</th>\n",
       "      <td>1</td>\n",
       "      <td>1</td>\n",
       "      <td>0</td>\n",
       "      <td>0</td>\n",
       "      <td>0</td>\n",
       "    </tr>\n",
       "    <tr>\n",
       "      <th>largeur_terre_plein</th>\n",
       "      <td>0</td>\n",
       "      <td>0</td>\n",
       "      <td>6</td>\n",
       "      <td>6</td>\n",
       "      <td>0</td>\n",
       "    </tr>\n",
       "    <tr>\n",
       "      <th>largeur_chaussee</th>\n",
       "      <td>70</td>\n",
       "      <td>70</td>\n",
       "      <td>10</td>\n",
       "      <td>10</td>\n",
       "      <td>10</td>\n",
       "    </tr>\n",
       "    <tr>\n",
       "      <th>etat_surface</th>\n",
       "      <td>1</td>\n",
       "      <td>1</td>\n",
       "      <td>1</td>\n",
       "      <td>1</td>\n",
       "      <td>1</td>\n",
       "    </tr>\n",
       "    <tr>\n",
       "      <th>infrastructure</th>\n",
       "      <td>0</td>\n",
       "      <td>0</td>\n",
       "      <td>NaN</td>\n",
       "      <td>NaN</td>\n",
       "      <td>NaN</td>\n",
       "    </tr>\n",
       "    <tr>\n",
       "      <th>endroit</th>\n",
       "      <td>1</td>\n",
       "      <td>1</td>\n",
       "      <td>NaN</td>\n",
       "      <td>NaN</td>\n",
       "      <td>NaN</td>\n",
       "    </tr>\n",
       "    <tr>\n",
       "      <th>a_une_ecole</th>\n",
       "      <td>99</td>\n",
       "      <td>99</td>\n",
       "      <td>NaN</td>\n",
       "      <td>NaN</td>\n",
       "      <td>NaN</td>\n",
       "    </tr>\n",
       "  </tbody>\n",
       "</table>\n",
       "</div>"
      ],
      "text/plain": [
       "Num_Acc                              201700000001 201700000001 201700000002  \\\n",
       "sens de circulation                             0            0            0   \n",
       "categorie                                       7           10            7   \n",
       "nb occupants transport commun                   0            0            0   \n",
       "obsctacle fixe heurté                           0            0            0   \n",
       "obstacle mobile heurté                          2            2            0   \n",
       "point de choc init                              3            3            1   \n",
       "manoeuvre principale avant laccident            9           13           16   \n",
       "numero véhicule                               B01          A01          A01   \n",
       "categorie_route                                 3            3            3   \n",
       "numero_de_route                                39           39           39   \n",
       "indice_du_numero_de_route                     NaN          NaN          NaN   \n",
       "indice_alpha                                  NaN          NaN          NaN   \n",
       "regime_de_circulation                           2            2            2   \n",
       "nb_de_voies                                     2            2            2   \n",
       "numero_de_la_borne_de_rattachemen             NaN          NaN          NaN   \n",
       "distance_a_la_borne                           NaN          NaN          NaN   \n",
       "existence_voie_reservee                         2            2            0   \n",
       "declivite                                       1            1            1   \n",
       "trace_du_plan                                   1            1            0   \n",
       "largeur_terre_plein                             0            0            6   \n",
       "largeur_chaussee                               70           70           10   \n",
       "etat_surface                                    1            1            1   \n",
       "infrastructure                                  0            0          NaN   \n",
       "endroit                                         1            1          NaN   \n",
       "a_une_ecole                                    99           99          NaN   \n",
       "\n",
       "Num_Acc                              201700000002 201700000003  \n",
       "sens de circulation                             0            0  \n",
       "categorie                                       1           10  \n",
       "nb occupants transport commun                   0            0  \n",
       "obsctacle fixe heurté                           0            0  \n",
       "obstacle mobile heurté                          0            2  \n",
       "point de choc init                              7            1  \n",
       "manoeuvre principale avant laccident            1            1  \n",
       "numero véhicule                               B01          C01  \n",
       "categorie_route                                 3            3  \n",
       "numero_de_route                                39           39  \n",
       "indice_du_numero_de_route                     NaN          NaN  \n",
       "indice_alpha                                  NaN          NaN  \n",
       "regime_de_circulation                           2            2  \n",
       "nb_de_voies                                     2            2  \n",
       "numero_de_la_borne_de_rattachemen             NaN          NaN  \n",
       "distance_a_la_borne                           NaN          NaN  \n",
       "existence_voie_reservee                         0            0  \n",
       "declivite                                       1            1  \n",
       "trace_du_plan                                   0            0  \n",
       "largeur_terre_plein                             6            0  \n",
       "largeur_chaussee                               10           10  \n",
       "etat_surface                                    1            1  \n",
       "infrastructure                                NaN          NaN  \n",
       "endroit                                       NaN          NaN  \n",
       "a_une_ecole                                   NaN          NaN  "
      ]
     },
     "execution_count": 84,
     "metadata": {},
     "output_type": "execute_result"
    }
   ],
   "source": [
    "jointure.head().T"
   ]
  },
  {
   "cell_type": "code",
   "execution_count": 85,
   "metadata": {},
   "outputs": [
    {
     "data": {
      "text/plain": [
       "sens de circulation                     float64\n",
       "categorie                                 int64\n",
       "nb occupants transport commun             int64\n",
       "obsctacle fixe heurté                   float64\n",
       "obstacle mobile heurté                  float64\n",
       "point de choc init                      float64\n",
       "manoeuvre principale avant laccident    float64\n",
       "numero véhicule                          object\n",
       "categorie_route                           int64\n",
       "numero_de_route                          object\n",
       "indice_du_numero_de_route               float64\n",
       "indice_alpha                             object\n",
       "regime_de_circulation                   float64\n",
       "nb_de_voies                             float64\n",
       "numero_de_la_borne_de_rattachemen       float64\n",
       "distance_a_la_borne                     float64\n",
       "existence_voie_reservee                 float64\n",
       "declivite                               float64\n",
       "trace_du_plan                           float64\n",
       "largeur_terre_plein                     float64\n",
       "largeur_chaussee                        float64\n",
       "etat_surface                            float64\n",
       "infrastructure                          float64\n",
       "endroit                                 float64\n",
       "a_une_ecole                             float64\n",
       "dtype: object"
      ]
     },
     "execution_count": 85,
     "metadata": {},
     "output_type": "execute_result"
    }
   ],
   "source": [
    "jointure.dtypes"
   ]
  },
  {
   "cell_type": "code",
   "execution_count": 91,
   "metadata": {},
   "outputs": [],
   "source": [
    "nb_ligne = jointure.shape[0]"
   ]
  },
  {
   "cell_type": "code",
   "execution_count": 116,
   "metadata": {},
   "outputs": [
    {
     "name": "stdout",
     "output_type": "stream",
     "text": [
      "sens de circulation                      :        68 soit 0.00 %\n",
      "categorie                                :         0 soit 0.00 %\n",
      "nb occupants transport commun            :         0 soit 0.00 %\n",
      "obsctacle fixe heurté                    :        55 soit 0.00 %\n",
      "obstacle mobile heurté                   :        42 soit 0.00 %\n",
      "point de choc init                       :        35 soit 0.00 %\n",
      "manoeuvre principale avant laccident     :        30 soit 0.00 %\n",
      "numero véhicule                          :         0 soit 0.00 %\n",
      "categorie_route                          :         0 soit 0.00 %\n",
      "numero_de_route                          :     16089 soit 0.16 %\n",
      "indice_du_numero_de_route                :    102893 soit 0.99 %\n",
      "indice_alpha                             :     98835 soit 0.95 %\n",
      "regime_de_circulation                    :       636 soit 0.01 %\n",
      "nb_de_voies                              :       749 soit 0.01 %\n",
      "numero_de_la_borne_de_rattachemen        :     56421 soit 0.54 %\n",
      "distance_a_la_borne                      :     56822 soit 0.55 %\n",
      "existence_voie_reservee                  :      1063 soit 0.01 %\n",
      "declivite                                :       788 soit 0.01 %\n",
      "trace_du_plan                            :      1471 soit 0.01 %\n",
      "largeur_terre_plein                      :      3731 soit 0.04 %\n",
      "largeur_chaussee                         :      3507 soit 0.03 %\n",
      "etat_surface                             :       819 soit 0.01 %\n",
      "infrastructure                           :      6593 soit 0.06 %\n",
      "endroit                                  :      6256 soit 0.06 %\n",
      "a_une_ecole                              :      6674 soit 0.06 %\n"
     ]
    }
   ],
   "source": [
    "for col in jointure.columns:\n",
    "    nb_null  = jointure[col].isnull().sum()\n",
    "    pct_null = nb_null/nb_ligne\n",
    "    to_print =\"{nom_col:40} : {nb_null: >#09} soit {pct_null:.2f} %\".format(nom_col=col,\n",
    "                                                         nb_null=nb_null,\n",
    "                                                         pct_null=pct_null)\n",
    "    print(to_print)"
   ]
  },
  {
   "cell_type": "code",
   "execution_count": 88,
   "metadata": {},
   "outputs": [
    {
     "data": {
      "text/plain": [
       "6674"
      ]
     },
     "execution_count": 88,
     "metadata": {},
     "output_type": "execute_result"
    }
   ],
   "source": [
    "jointure.a_une_ecole"
   ]
  },
  {
   "cell_type": "code",
   "execution_count": null,
   "metadata": {},
   "outputs": [],
   "source": []
  },
  {
   "cell_type": "code",
   "execution_count": null,
   "metadata": {},
   "outputs": [],
   "source": []
  },
  {
   "cell_type": "code",
   "execution_count": null,
   "metadata": {},
   "outputs": [],
   "source": []
  },
  {
   "cell_type": "code",
   "execution_count": null,
   "metadata": {},
   "outputs": [],
   "source": []
  },
  {
   "cell_type": "code",
   "execution_count": null,
   "metadata": {},
   "outputs": [],
   "source": []
  },
  {
   "cell_type": "code",
   "execution_count": null,
   "metadata": {},
   "outputs": [],
   "source": []
  },
  {
   "cell_type": "code",
   "execution_count": null,
   "metadata": {},
   "outputs": [],
   "source": []
  }
 ],
 "metadata": {
  "kernelspec": {
   "display_name": "Python 3",
   "language": "python",
   "name": "python3"
  },
  "language_info": {
   "codemirror_mode": {
    "name": "ipython",
    "version": 3
   },
   "file_extension": ".py",
   "mimetype": "text/x-python",
   "name": "python",
   "nbconvert_exporter": "python",
   "pygments_lexer": "ipython3",
   "version": "3.6.5"
  }
 },
 "nbformat": 4,
 "nbformat_minor": 2
}
