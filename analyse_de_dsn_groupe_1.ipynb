{
 "cells": [
  {
   "cell_type": "markdown",
   "metadata": {},
   "source": [
    "# Analyse de données\n",
    "\n",
    "On vous fournit une base déjà reformatée en tableau, qui est un extrait de DSN.\n",
    "Voici la documentation de la DSN : http://www.dsn-info.fr/documentation/dsn_cahier_technique_p3.5.pdf\n",
    "\n",
    "On vous demande de faire la data-prep et de prévoir l'absentéisme."
   ]
  },
  {
   "cell_type": "code",
   "execution_count": 1,
   "metadata": {},
   "outputs": [],
   "source": [
    "import pandas as pd"
   ]
  },
  {
   "cell_type": "code",
   "execution_count": 2,
   "metadata": {},
   "outputs": [],
   "source": [
    "df = pd.read_csv(\"subset_dsn.csv\")"
   ]
  },
  {
   "cell_type": "code",
   "execution_count": 4,
   "metadata": {},
   "outputs": [
    {
     "data": {
      "text/plain": [
       "(2617, 93)"
      ]
     },
     "execution_count": 4,
     "metadata": {},
     "output_type": "execute_result"
    }
   ],
   "source": [
    "df.shape"
   ]
  },
  {
   "cell_type": "markdown",
   "metadata": {},
   "source": [
    "# 1) regarder une ligne"
   ]
  },
  {
   "cell_type": "code",
   "execution_count": 25,
   "metadata": {},
   "outputs": [],
   "source": [
    "colonnes = df.columns"
   ]
  },
  {
   "cell_type": "code",
   "execution_count": 27,
   "metadata": {},
   "outputs": [
    {
     "name": "stdout",
     "output_type": "stream",
     "text": [
      "('S21.G00.40.001', 'Date de début du contrat')\n"
     ]
    }
   ],
   "source": [
    "colone_voulue = 8\n",
    "nom_colonne = colonnes[colone_voulue]\n",
    "print(nom_colonne)"
   ]
  },
  {
   "cell_type": "code",
   "execution_count": null,
   "metadata": {},
   "outputs": [],
   "source": [
    "une_ligne = df.sample()"
   ]
  },
  {
   "cell_type": "code",
   "execution_count": 28,
   "metadata": {},
   "outputs": [
    {
     "name": "stdout",
     "output_type": "stream",
     "text": [
      "['01102017']\n"
     ]
    }
   ],
   "source": [
    "# les dataframes sont composées d'objets de type \"serie\"\n",
    "serie = une_ligne[nom_colonne]\n",
    "# une série contient un tableau de valeur\n",
    "print(serie.values)"
   ]
  },
  {
   "cell_type": "code",
   "execution_count": 16,
   "metadata": {},
   "outputs": [
    {
     "data": {
      "text/plain": [
       "str"
      ]
     },
     "execution_count": 16,
     "metadata": {},
     "output_type": "execute_result"
    }
   ],
   "source": [
    "type(nom_de_colonne)"
   ]
  },
  {
   "cell_type": "code",
   "execution_count": 195,
   "metadata": {},
   "outputs": [
    {
     "name": "stdout",
     "output_type": "stream",
     "text": [
      "[master 6900d7b] next\n",
      " 1 file changed, 1688 insertions(+)\n",
      " create mode 100644 analyse_de_dsn_groupe_1.ipynb\n",
      "Counting objects: 3, done.\n",
      "Delta compression using up to 8 threads.\n",
      "Compressing objects: 100% (3/3), done.\n",
      "Writing objects: 100% (3/3), 6.78 KiB | 6.78 MiB/s, done.\n",
      "Total 3 (delta 1), reused 0 (delta 0)\n",
      "remote: Resolving deltas: 100% (1/1), completed with 1 local object.\u001b[K\n",
      "To https://github.com/romainjouin/formation_python\n",
      "   9f1f179..6900d7b  master -> master\n"
     ]
    }
   ],
   "source": [
    "!git add analyse_de_dsn_groupe_1.ipynb\n",
    "!git commit -m \"next\"\n",
    "!git push "
   ]
  },
  {
   "cell_type": "markdown",
   "metadata": {},
   "source": [
    "# Lister une ligne "
   ]
  },
  {
   "cell_type": "code",
   "execution_count": 15,
   "metadata": {
    "scrolled": false
   },
   "outputs": [
    {
     "name": "stdout",
     "output_type": "stream",
     "text": [
      "0 Unnamed: 0 [802]\n",
      "1 Unnamed: 0.1 [802]\n",
      "2 Unnamed: 0.1.1 [802]\n",
      "3 ('S21.G00.30.005', 'Sexe') [1]\n",
      "4 ('S21.G00.30.006', 'Date de naissance') [31081982]\n",
      "5 ('S21.G00.30.020', 'Numéro technique temporaire') [nan]\n",
      "6 ('S21.G00.30.023', 'Embauche') [1]\n",
      "7 ('S21.G00.31.001', 'Date de la modification') [nan]\n",
      "8 ('S21.G00.40.001', 'Date de début du contrat') ['27022017']\n",
      "9 ('S21.G00.40.002', 'Statut du salarié (conventionnel)') ['06']\n",
      "10 ('S21.G00.40.003', 'Code statut catégoriel Retraite Complémentaire obligatoire') ['04']\n",
      "11 ('S21.G00.40.004', 'Code profession et catégorie socioprofessionnelle (PCS-ESE)') ['551A']\n",
      "12 ('S21.G00.40.005', 'Code complément PCS-ESE') [nan]\n",
      "13 ('S21.G00.40.006', \"Libellé de l'emploi\") ['MANUTENTIONNAIRE']\n",
      "14 ('S21.G00.40.007', 'Nature du contrat') ['01']\n",
      "15 ('S21.G00.40.008', 'Dispositif de politique publique et conventionnel') ['99']\n",
      "16 ('S21.G00.40.009', 'Numéro du contrat') [8266833611804748366]\n",
      "17 ('S21.G00.40.010', 'Date de fin prévisionnelle du contrat') [nan]\n",
      "18 ('S21.G00.40.011', 'Unité de mesure de la quotité de travail') ['10']\n",
      "19 ('S21.G00.40.012', \"Quotité de travail de référence de l'entreprise pour la catégorie de salarié\") ['162.50']\n",
      "20 ('S21.G00.40.013', 'Quotité de travail du contrat') ['162.50']\n",
      "21 ('S21.G00.40.014', \"Modalité d'exercice du temps de travail\") ['10']\n",
      "22 ('S21.G00.40.016', 'Complément de base au régime obligatoire') ['99']\n",
      "23 ('S21.G00.40.017', 'Code convention collective applicable') ['1760']\n",
      "24 ('S21.G00.40.018', 'Code régime de base risque maladie') ['200']\n",
      "25 ('S21.G00.40.019', 'Identifiant du lieu de travail') [4850340338228169722]\n",
      "26 ('S21.G00.40.020', 'Code régime de base risque vieillesse') ['200']\n",
      "27 ('S21.G00.40.021', 'Motif de recours') [nan]\n",
      "28 ('S21.G00.40.024', \"Travailleur à l'étranger au sens du code de la Sécurité Sociale\") ['99']\n",
      "29 ('S21.G00.40.026', \"Statut d'emploi du salarié\") ['99']\n",
      "30 ('S21.G00.40.036', 'Code emplois multiples') ['01']\n",
      "31 ('S21.G00.40.037', 'Code employeurs multiples') ['01']\n",
      "32 ('S21.G00.40.039', 'Code régime de base risque accident du travail') ['200']\n",
      "33 ('S21.G00.40.040', 'Code risque accident du travail') ['524XB']\n",
      "34 ('S21.G00.40.041', 'Positionnement dans la convention collective') ['EMPLOYE/TECHNICIEN      COEFFICIENT 00155,00']\n",
      "35 ('S21.G00.40.043', 'Taux de cotisation accident du travail') ['2.77']\n",
      "36 ('S21.G00.40.044', 'Salarié à temps partiel cotisant à temps plein') [nan]\n",
      "37 ('S21.G00.41.001', 'Date de la modification') [nan]\n",
      "38 ('S21.G00.41.003', 'Ancien Code statut catégoriel Retraite Complémentaire obligatoire') [nan]\n",
      "39 ('S21.G00.41.007', 'Ancienne Quotité de travail du contrat') [nan]\n",
      "40 ('S21.G00.41.008', \"Ancienne Modalité d'exercice du temps de travail\") [nan]\n",
      "41 ('S21.G00.41.012', \"SIRET ancien établissement d'affectation\") [0]\n",
      "42 ('S21.G00.41.013', 'Ancien Identifiant du lieu de travail') [nan]\n",
      "43 ('S21.G00.41.019', 'Ancien Code profession et catégorie socioprofessionnelle (PCS-ESE) ') [nan]\n",
      "44 ('S21.G00.41.022', \"Ancienne Quotité de travail de référence de l'entreprise pour la catégorie de salarié\") [nan]\n",
      "45 ('S21.G00.41.027', 'Ancien Salarié à temps partiel cotisant à temps plein') [nan]\n",
      "46 ('S21.G00.50.001', 'Date de versement') ['30092018']\n",
      "47 ('S21.G00.50.002', 'Rémunération nette fiscale') ['1339.20']\n",
      "48 ('S21.G00.50.003', 'Numéro de versement') ['01']\n",
      "49 ('S21.G00.50.004', 'Montant net versé') ['1226.97']\n",
      "50 ('S21.G00.51.001', 'Date de début de période de paie') [\"['01092018', '01092018', '01092018', '01092018', '01092018']\"]\n",
      "51 ('S21.G00.51.002', 'Date de fin de période de paie') [\"['30092018', '30092018', '30092018', '30092018', '30092018']\"]\n",
      "52 ('S21.G00.51.010', 'Numéro du contrat') [8021507954474317089]\n",
      "53 ('S21.G00.51.011', 'Type') [\"['001', '002', '003', '010', '011']\"]\n",
      "54 ('S21.G00.51.012', \"Nombre d'heures\") ['11.83']\n",
      "55 ('S21.G00.51.013', 'Montant') [\"['1637.55', '1637.55', '1637.55', '1498.50', '118.12']\"]\n",
      "56 ('S21.G00.52.001', 'Type') [nan]\n",
      "57 ('S21.G00.52.002', 'Montant') [nan]\n",
      "58 ('S21.G00.52.003', 'Date de début de la période de rattachement') [nan]\n",
      "59 ('S21.G00.52.004', 'Date de fin de la période de rattachement') [nan]\n",
      "60 ('S21.G00.53.001', 'Type') [\"['01', '01', '01', '01', '01']\"]\n",
      "61 ('S21.G00.53.002', 'Mesure') [\"['163.50', '163.50', '163.50', '163.50', '163.50']\"]\n",
      "62 ('S21.G00.53.003', 'Unité de mesure') [\"['10', '10', '10', '10', '10']\"]\n",
      "63 ('S21.G00.54.001', 'Type') ['17']\n",
      "64 ('S21.G00.54.002', 'Montant') ['54.60']\n",
      "65 ('S21.G00.54.003', 'Date de début de période de rattachement') ['01092018']\n",
      "66 ('S21.G00.54.004', 'Date de fin de période de rattachement') ['30092018']\n",
      "67 ('S21.G00.60.001', \"Motif de l'arrêt\") [nan]\n",
      "68 ('S21.G00.60.002', 'Date du dernier jour travaillé') [nan]\n",
      "69 ('S21.G00.60.003', 'Date de fin prévisionnelle') [nan]\n",
      "70 ('S21.G00.60.010', 'Date de la reprise') [nan]\n",
      "71 ('S21.G00.60.011', 'Motif de la reprise') [nan]\n",
      "72 ('S21.G00.62.001', 'Date de fin du contrat') [nan]\n",
      "73 ('S21.G00.62.002', 'Motif de la rupture du contrat') [nan]\n",
      "74 ('S21.G00.62.006', 'Dernier jour travaillé et payé au salaire habituel') [nan]\n",
      "75 ('S21.G00.65.001', 'Motif de suspension') [nan]\n",
      "76 ('S21.G00.65.002', 'Date de début de la suspension') [nan]\n",
      "77 ('S21.G00.65.003', 'Date de fin de la suspension') [nan]\n",
      "78 ('S21.G00.70.004', 'Code option retenue par le salarié') [\"['P00006497101', 'P00004844902']\"]\n",
      "79 ('S21.G00.70.005', 'Code population de rattachement') [\"['001200', '060200']\"]\n",
      "80 ('S21.G00.70.007', \"Nombre d'enfants à charge\") [\"['0', '0']\"]\n",
      "81 ('S21.G00.70.008', \"Nombre d'adultes ayants-droit (conjoint, concubin, ...) \") [\"['0', '0']\"]\n",
      "82 ('S21.G00.70.009', \"Nombre d'ayants-droit\") [\"['0', '0']\"]\n",
      "83 ('S21.G00.70.010', \"Nombre d'ayants-droit autres (ascendants, collatéraux...)\") [\"['0', '0']\"]\n",
      "84 ('S21.G00.70.011', \"Nombre d'enfants ayants-droit\") [\"['0', '0']\"]\n",
      "85 ('S21.G00.70.012', 'Identifiant technique Affiliation') [3459048255974703064]\n",
      "86 ('S21.G00.70.013', 'Identifiant technique Adhésion') [8151159325541050343]\n",
      "87 ('S21.G00.70.014', nan) [nan]\n",
      "88 ('S21.G00.86.001', 'Type') [\"['01', '02']\"]\n",
      "89 ('S21.G00.86.002', 'Unité de mesure') [\"['01', '01']\"]\n",
      "90 ('S21.G00.86.003', 'Valeur') [\"['581', '735']\"]\n",
      "91 ('S21.G00.86.005', 'Numéro du contrat') [6586170110074774951]\n",
      "92 Unnamed: 0.1.1.1 [802]\n"
     ]
    }
   ],
   "source": [
    "for numero_col, nom_de_colonne in enumerate(une_ligne):\n",
    "    serie = une_ligne[nom_de_colonne]\n",
    "    print(numero_col, nom_de_colonne, serie.values)"
   ]
  },
  {
   "cell_type": "markdown",
   "metadata": {},
   "source": [
    "# Réduire la vue sur un sous ensemble de colonnes "
   ]
  },
  {
   "cell_type": "code",
   "execution_count": 41,
   "metadata": {},
   "outputs": [
    {
     "data": {
      "text/plain": [
       "[\"('S21.G00.51.001', 'Date de début de période de paie')\",\n",
       " \"('S21.G00.51.002', 'Date de fin de période de paie')\",\n",
       " \"('S21.G00.51.010', 'Numéro du contrat')\",\n",
       " \"('S21.G00.51.011', 'Type')\",\n",
       " '(\\'S21.G00.51.012\\', \"Nombre d\\'heures\")',\n",
       " \"('S21.G00.51.013', 'Montant')\"]"
      ]
     },
     "execution_count": 41,
     "metadata": {},
     "output_type": "execute_result"
    }
   ],
   "source": [
    "block = 'S21.G00.51'\n",
    "section = 'S21.G00.51.011'\n",
    "\n",
    "# comprehension list\n",
    "subset_cols = [x for x in une_ligne if block in x]\n",
    "subset_cols"
   ]
  },
  {
   "cell_type": "markdown",
   "metadata": {},
   "source": [
    "# Transformer les strings en tableaux"
   ]
  },
  {
   "cell_type": "code",
   "execution_count": 73,
   "metadata": {},
   "outputs": [],
   "source": [
    "\n",
    "listes = list(map(eval, subset_df[subset_df.columns[3]].values))"
   ]
  },
  {
   "cell_type": "code",
   "execution_count": 90,
   "metadata": {},
   "outputs": [
    {
     "data": {
      "text/plain": [
       "(['001', '002', '003', '010'], 'vs', \"['001', '002', '003', '010']\")"
      ]
     },
     "execution_count": 90,
     "metadata": {},
     "output_type": "execute_result"
    }
   ],
   "source": [
    "string = subset_df[colonne_voulue].values[0]\n",
    "tableau  = eval(string)\n",
    "tableau, \"vs\", string"
   ]
  },
  {
   "cell_type": "code",
   "execution_count": 91,
   "metadata": {},
   "outputs": [
    {
     "data": {
      "text/plain": [
       "(list, str)"
      ]
     },
     "execution_count": 91,
     "metadata": {},
     "output_type": "execute_result"
    }
   ],
   "source": [
    "type(tableau), type(string)"
   ]
  },
  {
   "cell_type": "markdown",
   "metadata": {},
   "source": [
    "# Feature ingeneering : rajouter une colonne booléenne s'il y a des heures sup"
   ]
  },
  {
   "cell_type": "code",
   "execution_count": 76,
   "metadata": {},
   "outputs": [],
   "source": [
    "colonne_voulue = subset_df.columns[3]\n",
    "new_serie = subset_df[colonne_voulue].map(eval)"
   ]
  },
  {
   "cell_type": "code",
   "execution_count": 80,
   "metadata": {},
   "outputs": [],
   "source": [
    "has_heure_sup_2 = new_serie.map(lambda x: '011' in x)"
   ]
  },
  {
   "cell_type": "code",
   "execution_count": 81,
   "metadata": {},
   "outputs": [],
   "source": [
    "df[\"has_heure_sup_2\"] = has_heure_sup_2"
   ]
  },
  {
   "cell_type": "code",
   "execution_count": 82,
   "metadata": {},
   "outputs": [
    {
     "data": {
      "text/html": [
       "<div>\n",
       "<style scoped>\n",
       "    .dataframe tbody tr th:only-of-type {\n",
       "        vertical-align: middle;\n",
       "    }\n",
       "\n",
       "    .dataframe tbody tr th {\n",
       "        vertical-align: top;\n",
       "    }\n",
       "\n",
       "    .dataframe thead th {\n",
       "        text-align: right;\n",
       "    }\n",
       "</style>\n",
       "<table border=\"1\" class=\"dataframe\">\n",
       "  <thead>\n",
       "    <tr style=\"text-align: right;\">\n",
       "      <th></th>\n",
       "      <th>has_heure_sup</th>\n",
       "      <th>has_heure_sup_2</th>\n",
       "    </tr>\n",
       "  </thead>\n",
       "  <tbody>\n",
       "    <tr>\n",
       "      <th>0</th>\n",
       "      <td>False</td>\n",
       "      <td>False</td>\n",
       "    </tr>\n",
       "    <tr>\n",
       "      <th>1</th>\n",
       "      <td>True</td>\n",
       "      <td>True</td>\n",
       "    </tr>\n",
       "    <tr>\n",
       "      <th>2</th>\n",
       "      <td>True</td>\n",
       "      <td>True</td>\n",
       "    </tr>\n",
       "    <tr>\n",
       "      <th>3</th>\n",
       "      <td>True</td>\n",
       "      <td>True</td>\n",
       "    </tr>\n",
       "    <tr>\n",
       "      <th>4</th>\n",
       "      <td>True</td>\n",
       "      <td>True</td>\n",
       "    </tr>\n",
       "    <tr>\n",
       "      <th>5</th>\n",
       "      <td>True</td>\n",
       "      <td>True</td>\n",
       "    </tr>\n",
       "    <tr>\n",
       "      <th>6</th>\n",
       "      <td>False</td>\n",
       "      <td>False</td>\n",
       "    </tr>\n",
       "    <tr>\n",
       "      <th>7</th>\n",
       "      <td>True</td>\n",
       "      <td>True</td>\n",
       "    </tr>\n",
       "    <tr>\n",
       "      <th>8</th>\n",
       "      <td>True</td>\n",
       "      <td>True</td>\n",
       "    </tr>\n",
       "    <tr>\n",
       "      <th>9</th>\n",
       "      <td>False</td>\n",
       "      <td>False</td>\n",
       "    </tr>\n",
       "    <tr>\n",
       "      <th>10</th>\n",
       "      <td>False</td>\n",
       "      <td>False</td>\n",
       "    </tr>\n",
       "    <tr>\n",
       "      <th>11</th>\n",
       "      <td>True</td>\n",
       "      <td>True</td>\n",
       "    </tr>\n",
       "    <tr>\n",
       "      <th>12</th>\n",
       "      <td>True</td>\n",
       "      <td>True</td>\n",
       "    </tr>\n",
       "    <tr>\n",
       "      <th>13</th>\n",
       "      <td>True</td>\n",
       "      <td>True</td>\n",
       "    </tr>\n",
       "    <tr>\n",
       "      <th>14</th>\n",
       "      <td>True</td>\n",
       "      <td>True</td>\n",
       "    </tr>\n",
       "    <tr>\n",
       "      <th>15</th>\n",
       "      <td>True</td>\n",
       "      <td>True</td>\n",
       "    </tr>\n",
       "    <tr>\n",
       "      <th>16</th>\n",
       "      <td>False</td>\n",
       "      <td>False</td>\n",
       "    </tr>\n",
       "    <tr>\n",
       "      <th>17</th>\n",
       "      <td>True</td>\n",
       "      <td>True</td>\n",
       "    </tr>\n",
       "    <tr>\n",
       "      <th>18</th>\n",
       "      <td>True</td>\n",
       "      <td>True</td>\n",
       "    </tr>\n",
       "    <tr>\n",
       "      <th>19</th>\n",
       "      <td>True</td>\n",
       "      <td>True</td>\n",
       "    </tr>\n",
       "    <tr>\n",
       "      <th>20</th>\n",
       "      <td>True</td>\n",
       "      <td>True</td>\n",
       "    </tr>\n",
       "    <tr>\n",
       "      <th>21</th>\n",
       "      <td>True</td>\n",
       "      <td>True</td>\n",
       "    </tr>\n",
       "    <tr>\n",
       "      <th>22</th>\n",
       "      <td>True</td>\n",
       "      <td>True</td>\n",
       "    </tr>\n",
       "    <tr>\n",
       "      <th>23</th>\n",
       "      <td>True</td>\n",
       "      <td>True</td>\n",
       "    </tr>\n",
       "    <tr>\n",
       "      <th>24</th>\n",
       "      <td>False</td>\n",
       "      <td>False</td>\n",
       "    </tr>\n",
       "    <tr>\n",
       "      <th>25</th>\n",
       "      <td>True</td>\n",
       "      <td>True</td>\n",
       "    </tr>\n",
       "    <tr>\n",
       "      <th>26</th>\n",
       "      <td>True</td>\n",
       "      <td>True</td>\n",
       "    </tr>\n",
       "    <tr>\n",
       "      <th>27</th>\n",
       "      <td>True</td>\n",
       "      <td>True</td>\n",
       "    </tr>\n",
       "    <tr>\n",
       "      <th>28</th>\n",
       "      <td>True</td>\n",
       "      <td>True</td>\n",
       "    </tr>\n",
       "    <tr>\n",
       "      <th>29</th>\n",
       "      <td>True</td>\n",
       "      <td>True</td>\n",
       "    </tr>\n",
       "    <tr>\n",
       "      <th>...</th>\n",
       "      <td>...</td>\n",
       "      <td>...</td>\n",
       "    </tr>\n",
       "    <tr>\n",
       "      <th>2587</th>\n",
       "      <td>True</td>\n",
       "      <td>True</td>\n",
       "    </tr>\n",
       "    <tr>\n",
       "      <th>2588</th>\n",
       "      <td>True</td>\n",
       "      <td>True</td>\n",
       "    </tr>\n",
       "    <tr>\n",
       "      <th>2589</th>\n",
       "      <td>True</td>\n",
       "      <td>True</td>\n",
       "    </tr>\n",
       "    <tr>\n",
       "      <th>2590</th>\n",
       "      <td>True</td>\n",
       "      <td>True</td>\n",
       "    </tr>\n",
       "    <tr>\n",
       "      <th>2591</th>\n",
       "      <td>True</td>\n",
       "      <td>True</td>\n",
       "    </tr>\n",
       "    <tr>\n",
       "      <th>2592</th>\n",
       "      <td>True</td>\n",
       "      <td>True</td>\n",
       "    </tr>\n",
       "    <tr>\n",
       "      <th>2593</th>\n",
       "      <td>True</td>\n",
       "      <td>True</td>\n",
       "    </tr>\n",
       "    <tr>\n",
       "      <th>2594</th>\n",
       "      <td>True</td>\n",
       "      <td>True</td>\n",
       "    </tr>\n",
       "    <tr>\n",
       "      <th>2595</th>\n",
       "      <td>True</td>\n",
       "      <td>True</td>\n",
       "    </tr>\n",
       "    <tr>\n",
       "      <th>2596</th>\n",
       "      <td>True</td>\n",
       "      <td>True</td>\n",
       "    </tr>\n",
       "    <tr>\n",
       "      <th>2597</th>\n",
       "      <td>True</td>\n",
       "      <td>True</td>\n",
       "    </tr>\n",
       "    <tr>\n",
       "      <th>2598</th>\n",
       "      <td>True</td>\n",
       "      <td>True</td>\n",
       "    </tr>\n",
       "    <tr>\n",
       "      <th>2599</th>\n",
       "      <td>True</td>\n",
       "      <td>True</td>\n",
       "    </tr>\n",
       "    <tr>\n",
       "      <th>2600</th>\n",
       "      <td>True</td>\n",
       "      <td>True</td>\n",
       "    </tr>\n",
       "    <tr>\n",
       "      <th>2601</th>\n",
       "      <td>True</td>\n",
       "      <td>True</td>\n",
       "    </tr>\n",
       "    <tr>\n",
       "      <th>2602</th>\n",
       "      <td>False</td>\n",
       "      <td>False</td>\n",
       "    </tr>\n",
       "    <tr>\n",
       "      <th>2603</th>\n",
       "      <td>False</td>\n",
       "      <td>False</td>\n",
       "    </tr>\n",
       "    <tr>\n",
       "      <th>2604</th>\n",
       "      <td>True</td>\n",
       "      <td>True</td>\n",
       "    </tr>\n",
       "    <tr>\n",
       "      <th>2605</th>\n",
       "      <td>False</td>\n",
       "      <td>False</td>\n",
       "    </tr>\n",
       "    <tr>\n",
       "      <th>2606</th>\n",
       "      <td>True</td>\n",
       "      <td>True</td>\n",
       "    </tr>\n",
       "    <tr>\n",
       "      <th>2607</th>\n",
       "      <td>True</td>\n",
       "      <td>True</td>\n",
       "    </tr>\n",
       "    <tr>\n",
       "      <th>2608</th>\n",
       "      <td>False</td>\n",
       "      <td>False</td>\n",
       "    </tr>\n",
       "    <tr>\n",
       "      <th>2609</th>\n",
       "      <td>True</td>\n",
       "      <td>True</td>\n",
       "    </tr>\n",
       "    <tr>\n",
       "      <th>2610</th>\n",
       "      <td>True</td>\n",
       "      <td>True</td>\n",
       "    </tr>\n",
       "    <tr>\n",
       "      <th>2611</th>\n",
       "      <td>True</td>\n",
       "      <td>True</td>\n",
       "    </tr>\n",
       "    <tr>\n",
       "      <th>2612</th>\n",
       "      <td>True</td>\n",
       "      <td>True</td>\n",
       "    </tr>\n",
       "    <tr>\n",
       "      <th>2613</th>\n",
       "      <td>True</td>\n",
       "      <td>True</td>\n",
       "    </tr>\n",
       "    <tr>\n",
       "      <th>2614</th>\n",
       "      <td>True</td>\n",
       "      <td>True</td>\n",
       "    </tr>\n",
       "    <tr>\n",
       "      <th>2615</th>\n",
       "      <td>True</td>\n",
       "      <td>True</td>\n",
       "    </tr>\n",
       "    <tr>\n",
       "      <th>2616</th>\n",
       "      <td>True</td>\n",
       "      <td>True</td>\n",
       "    </tr>\n",
       "  </tbody>\n",
       "</table>\n",
       "<p>2617 rows × 2 columns</p>\n",
       "</div>"
      ],
      "text/plain": [
       "      has_heure_sup  has_heure_sup_2\n",
       "0             False            False\n",
       "1              True             True\n",
       "2              True             True\n",
       "3              True             True\n",
       "4              True             True\n",
       "5              True             True\n",
       "6             False            False\n",
       "7              True             True\n",
       "8              True             True\n",
       "9             False            False\n",
       "10            False            False\n",
       "11             True             True\n",
       "12             True             True\n",
       "13             True             True\n",
       "14             True             True\n",
       "15             True             True\n",
       "16            False            False\n",
       "17             True             True\n",
       "18             True             True\n",
       "19             True             True\n",
       "20             True             True\n",
       "21             True             True\n",
       "22             True             True\n",
       "23             True             True\n",
       "24            False            False\n",
       "25             True             True\n",
       "26             True             True\n",
       "27             True             True\n",
       "28             True             True\n",
       "29             True             True\n",
       "...             ...              ...\n",
       "2587           True             True\n",
       "2588           True             True\n",
       "2589           True             True\n",
       "2590           True             True\n",
       "2591           True             True\n",
       "2592           True             True\n",
       "2593           True             True\n",
       "2594           True             True\n",
       "2595           True             True\n",
       "2596           True             True\n",
       "2597           True             True\n",
       "2598           True             True\n",
       "2599           True             True\n",
       "2600           True             True\n",
       "2601           True             True\n",
       "2602          False            False\n",
       "2603          False            False\n",
       "2604           True             True\n",
       "2605          False            False\n",
       "2606           True             True\n",
       "2607           True             True\n",
       "2608          False            False\n",
       "2609           True             True\n",
       "2610           True             True\n",
       "2611           True             True\n",
       "2612           True             True\n",
       "2613           True             True\n",
       "2614           True             True\n",
       "2615           True             True\n",
       "2616           True             True\n",
       "\n",
       "[2617 rows x 2 columns]"
      ]
     },
     "execution_count": 82,
     "metadata": {},
     "output_type": "execute_result"
    }
   ],
   "source": [
    "df[[\"has_heure_sup\", \"has_heure_sup_2\"]]"
   ]
  },
  {
   "cell_type": "code",
   "execution_count": 45,
   "metadata": {},
   "outputs": [],
   "source": [
    "subset_df = df[subset_cols]"
   ]
  },
  {
   "cell_type": "code",
   "execution_count": 50,
   "metadata": {},
   "outputs": [],
   "source": [
    "colonne_voulue = subset_df.columns[4]\n",
    "serie_nb_d_heures = subset_df[colonne_voulue]"
   ]
  },
  {
   "cell_type": "code",
   "execution_count": 56,
   "metadata": {},
   "outputs": [],
   "source": [
    "pd.DataFrame([serie_nb_d_heures, ~serie_nb_d_heures.isnull()]).T;"
   ]
  },
  {
   "cell_type": "code",
   "execution_count": 57,
   "metadata": {},
   "outputs": [],
   "source": [
    "df[\"has_heure_sup\"] = ~serie_nb_d_heures.isnull()"
   ]
  },
  {
   "cell_type": "code",
   "execution_count": 58,
   "metadata": {},
   "outputs": [
    {
     "data": {
      "text/plain": [
       "0       False\n",
       "1        True\n",
       "2        True\n",
       "3        True\n",
       "4        True\n",
       "5        True\n",
       "6       False\n",
       "7        True\n",
       "8        True\n",
       "9       False\n",
       "10      False\n",
       "11       True\n",
       "12       True\n",
       "13       True\n",
       "14       True\n",
       "15       True\n",
       "16      False\n",
       "17       True\n",
       "18       True\n",
       "19       True\n",
       "20       True\n",
       "21       True\n",
       "22       True\n",
       "23       True\n",
       "24      False\n",
       "25       True\n",
       "26       True\n",
       "27       True\n",
       "28       True\n",
       "29       True\n",
       "        ...  \n",
       "2587     True\n",
       "2588     True\n",
       "2589     True\n",
       "2590     True\n",
       "2591     True\n",
       "2592     True\n",
       "2593     True\n",
       "2594     True\n",
       "2595     True\n",
       "2596     True\n",
       "2597     True\n",
       "2598     True\n",
       "2599     True\n",
       "2600     True\n",
       "2601     True\n",
       "2602    False\n",
       "2603    False\n",
       "2604     True\n",
       "2605    False\n",
       "2606     True\n",
       "2607     True\n",
       "2608    False\n",
       "2609     True\n",
       "2610     True\n",
       "2611     True\n",
       "2612     True\n",
       "2613     True\n",
       "2614     True\n",
       "2615     True\n",
       "2616     True\n",
       "Name: has_heure_sup, Length: 2617, dtype: bool"
      ]
     },
     "execution_count": 58,
     "metadata": {},
     "output_type": "execute_result"
    }
   ],
   "source": [
    "df.has_heure_sup"
   ]
  },
  {
   "cell_type": "markdown",
   "metadata": {},
   "source": [
    "# Trouver les salaires de base"
   ]
  },
  {
   "cell_type": "code",
   "execution_count": 103,
   "metadata": {},
   "outputs": [],
   "source": [
    "\n",
    "col_type = subset_df.columns[3]\n",
    "col_montant = subset_df.columns[5]\n",
    "deux_colonnes = [col_type,col_montant]\n",
    "subset_df[deux_colonnes];"
   ]
  },
  {
   "cell_type": "code",
   "execution_count": 149,
   "metadata": {},
   "outputs": [],
   "source": [
    "# le champ 010 indique le Salaire de base\n",
    "df_de_listes = subset_df[col_type].map(eval)\n",
    "index_de_010 = df_de_listes.map(lambda liste : liste.index(\"010\"))\n",
    "\n",
    "df[\"index_de_010\"] = index_de_010"
   ]
  },
  {
   "cell_type": "code",
   "execution_count": 130,
   "metadata": {},
   "outputs": [
    {
     "data": {
      "text/plain": [
       "['1028.56', '1515.18', '1500.02']"
      ]
     },
     "execution_count": 130,
     "metadata": {},
     "output_type": "execute_result"
    }
   ],
   "source": [
    "iterateur = zip(index_de_010.values, subset_df[col_montant].map(eval))\n",
    "[x[1][x[0]] for x in iterateur][:3]"
   ]
  },
  {
   "cell_type": "code",
   "execution_count": 129,
   "metadata": {},
   "outputs": [
    {
     "data": {
      "text/plain": [
       "['1028.56', '1515.18', '1500.02']"
      ]
     },
     "execution_count": 129,
     "metadata": {},
     "output_type": "execute_result"
    }
   ],
   "source": [
    "iterateur = zip(index_de_010.values, subset_df[col_montant].map(eval))\n",
    "[liste[index] for index,liste in iterateur][:3]"
   ]
  },
  {
   "cell_type": "code",
   "execution_count": 131,
   "metadata": {},
   "outputs": [],
   "source": [
    "iterateur = zip(index_de_010.values, subset_df[col_montant].map(eval))\n",
    "df[\"salaire_de_base\"] = [liste[index] for index,liste in iterateur]"
   ]
  },
  {
   "cell_type": "code",
   "execution_count": 128,
   "metadata": {},
   "outputs": [
    {
     "data": {
      "text/plain": [
       "0    1028.56\n",
       "1    1515.18\n",
       "2    1500.02\n",
       "Name: salaire_de_base, dtype: object"
      ]
     },
     "execution_count": 128,
     "metadata": {},
     "output_type": "execute_result"
    }
   ],
   "source": [
    "df.salaire_de_base.head(3)"
   ]
  },
  {
   "cell_type": "markdown",
   "metadata": {},
   "source": [
    "#### lister les attributs/ méthodes d'un objet\n",
    "objet + \".\" + TAB\n",
    "#### lister la documentation d'une fonction\n",
    "objet.fonction+\"(|)\" => avec le curseur entre les parenthèses + MAJ+TAB\n",
    "#### code complétion => TAB"
   ]
  },
  {
   "cell_type": "code",
   "execution_count": 152,
   "metadata": {},
   "outputs": [],
   "source": [
    "# le champ 010 indique le Salaire de base\n",
    "df_de_listes = subset_df[col_type].map(eval)\n",
    "index_de_010 = df_de_listes.map(lambda liste : liste.index(\"010\"))\n",
    "df[\"index_de_010\"] = index_de_010"
   ]
  },
  {
   "cell_type": "code",
   "execution_count": 153,
   "metadata": {},
   "outputs": [
    {
     "data": {
      "text/html": [
       "<div>\n",
       "<style scoped>\n",
       "    .dataframe tbody tr th:only-of-type {\n",
       "        vertical-align: middle;\n",
       "    }\n",
       "\n",
       "    .dataframe tbody tr th {\n",
       "        vertical-align: top;\n",
       "    }\n",
       "\n",
       "    .dataframe thead th {\n",
       "        text-align: right;\n",
       "    }\n",
       "</style>\n",
       "<table border=\"1\" class=\"dataframe\">\n",
       "  <thead>\n",
       "    <tr style=\"text-align: right;\">\n",
       "      <th></th>\n",
       "      <th>('S21.G00.51.013', 'Montant')</th>\n",
       "      <th>index_de_010</th>\n",
       "    </tr>\n",
       "  </thead>\n",
       "  <tbody>\n",
       "    <tr>\n",
       "      <th>0</th>\n",
       "      <td>['1147.39', '1147.39', '1147.39', '1028.56']</td>\n",
       "      <td>3</td>\n",
       "    </tr>\n",
       "    <tr>\n",
       "      <th>1</th>\n",
       "      <td>['1908.47', '1908.47', '1908.47', '1515.18', '...</td>\n",
       "      <td>3</td>\n",
       "    </tr>\n",
       "  </tbody>\n",
       "</table>\n",
       "</div>"
      ],
      "text/plain": [
       "                       ('S21.G00.51.013', 'Montant')  index_de_010\n",
       "0       ['1147.39', '1147.39', '1147.39', '1028.56']             3\n",
       "1  ['1908.47', '1908.47', '1908.47', '1515.18', '...             3"
      ]
     },
     "execution_count": 153,
     "metadata": {},
     "output_type": "execute_result"
    }
   ],
   "source": [
    "_ = df[[col_montant, \"index_de_010\"]]#.itertuples()\n",
    "_.head(2)"
   ]
  },
  {
   "cell_type": "markdown",
   "metadata": {},
   "source": [
    "# Pandas style"
   ]
  },
  {
   "cell_type": "code",
   "execution_count": 179,
   "metadata": {},
   "outputs": [
    {
     "name": "stdout",
     "output_type": "stream",
     "text": [
      "salaire_de_base =  1028.56\n",
      "salaire_de_base =  1515.18\n"
     ]
    }
   ],
   "source": [
    "for local_tuple in _.head(2).iterrows():\n",
    "    local_serie       = local_tuple[1]\n",
    "    liste_de_montants = eval(local_serie[0])\n",
    "    indice_de_010     = local_serie[1]\n",
    "    salaire_de_base   = liste_de_montants[indice_de_010]\n",
    "    print(\"salaire_de_base = \", salaire_de_base)"
   ]
  },
  {
   "cell_type": "code",
   "execution_count": 182,
   "metadata": {},
   "outputs": [],
   "source": [
    "def get_salaire_de_base(row):\n",
    "    local_serie       = row[1]\n",
    "    liste_de_montants = eval(local_serie[0])\n",
    "    indice_de_010     = local_serie[1]\n",
    "    salaire_de_base   = liste_de_montants[indice_de_010]\n",
    "    return salaire_de_base"
   ]
  },
  {
   "cell_type": "code",
   "execution_count": 193,
   "metadata": {},
   "outputs": [],
   "source": [
    "df[\"salaire_de_base_3\"] = list(map(get_salaire_de_base, _.iterrows()))"
   ]
  },
  {
   "cell_type": "code",
   "execution_count": 194,
   "metadata": {},
   "outputs": [
    {
     "data": {
      "text/html": [
       "<div>\n",
       "<style scoped>\n",
       "    .dataframe tbody tr th:only-of-type {\n",
       "        vertical-align: middle;\n",
       "    }\n",
       "\n",
       "    .dataframe tbody tr th {\n",
       "        vertical-align: top;\n",
       "    }\n",
       "\n",
       "    .dataframe thead th {\n",
       "        text-align: right;\n",
       "    }\n",
       "</style>\n",
       "<table border=\"1\" class=\"dataframe\">\n",
       "  <thead>\n",
       "    <tr style=\"text-align: right;\">\n",
       "      <th></th>\n",
       "      <th>salaire_de_base</th>\n",
       "      <th>salaire_de_base_3</th>\n",
       "    </tr>\n",
       "  </thead>\n",
       "  <tbody>\n",
       "    <tr>\n",
       "      <th>0</th>\n",
       "      <td>1028.56</td>\n",
       "      <td>1028.56</td>\n",
       "    </tr>\n",
       "    <tr>\n",
       "      <th>1</th>\n",
       "      <td>1515.18</td>\n",
       "      <td>1515.18</td>\n",
       "    </tr>\n",
       "    <tr>\n",
       "      <th>2</th>\n",
       "      <td>1500.02</td>\n",
       "      <td>1500.02</td>\n",
       "    </tr>\n",
       "    <tr>\n",
       "      <th>3</th>\n",
       "      <td>1500.02</td>\n",
       "      <td>1500.02</td>\n",
       "    </tr>\n",
       "    <tr>\n",
       "      <th>4</th>\n",
       "      <td>1500.02</td>\n",
       "      <td>1500.02</td>\n",
       "    </tr>\n",
       "    <tr>\n",
       "      <th>5</th>\n",
       "      <td>1616.80</td>\n",
       "      <td>1616.80</td>\n",
       "    </tr>\n",
       "    <tr>\n",
       "      <th>6</th>\n",
       "      <td>1516.56</td>\n",
       "      <td>1516.56</td>\n",
       "    </tr>\n",
       "    <tr>\n",
       "      <th>7</th>\n",
       "      <td>1539.45</td>\n",
       "      <td>1539.45</td>\n",
       "    </tr>\n",
       "    <tr>\n",
       "      <th>8</th>\n",
       "      <td>1802.43</td>\n",
       "      <td>1802.43</td>\n",
       "    </tr>\n",
       "    <tr>\n",
       "      <th>9</th>\n",
       "      <td>2537.30</td>\n",
       "      <td>2537.30</td>\n",
       "    </tr>\n",
       "    <tr>\n",
       "      <th>10</th>\n",
       "      <td>3960.00</td>\n",
       "      <td>3960.00</td>\n",
       "    </tr>\n",
       "    <tr>\n",
       "      <th>11</th>\n",
       "      <td>1539.45</td>\n",
       "      <td>1539.45</td>\n",
       "    </tr>\n",
       "    <tr>\n",
       "      <th>12</th>\n",
       "      <td>1616.80</td>\n",
       "      <td>1616.80</td>\n",
       "    </tr>\n",
       "    <tr>\n",
       "      <th>13</th>\n",
       "      <td>1727.53</td>\n",
       "      <td>1727.53</td>\n",
       "    </tr>\n",
       "    <tr>\n",
       "      <th>14</th>\n",
       "      <td>1569.78</td>\n",
       "      <td>1569.78</td>\n",
       "    </tr>\n",
       "    <tr>\n",
       "      <th>15</th>\n",
       "      <td>1500.02</td>\n",
       "      <td>1500.02</td>\n",
       "    </tr>\n",
       "    <tr>\n",
       "      <th>16</th>\n",
       "      <td>1321.22</td>\n",
       "      <td>1321.22</td>\n",
       "    </tr>\n",
       "    <tr>\n",
       "      <th>17</th>\n",
       "      <td>1539.45</td>\n",
       "      <td>1539.45</td>\n",
       "    </tr>\n",
       "    <tr>\n",
       "      <th>18</th>\n",
       "      <td>1610.74</td>\n",
       "      <td>1610.74</td>\n",
       "    </tr>\n",
       "    <tr>\n",
       "      <th>19</th>\n",
       "      <td>1515.18</td>\n",
       "      <td>1515.18</td>\n",
       "    </tr>\n",
       "    <tr>\n",
       "      <th>20</th>\n",
       "      <td>1515.18</td>\n",
       "      <td>1515.18</td>\n",
       "    </tr>\n",
       "    <tr>\n",
       "      <th>21</th>\n",
       "      <td>1569.78</td>\n",
       "      <td>1569.78</td>\n",
       "    </tr>\n",
       "    <tr>\n",
       "      <th>22</th>\n",
       "      <td>1539.45</td>\n",
       "      <td>1539.45</td>\n",
       "    </tr>\n",
       "    <tr>\n",
       "      <th>23</th>\n",
       "      <td>1515.18</td>\n",
       "      <td>1515.18</td>\n",
       "    </tr>\n",
       "    <tr>\n",
       "      <th>24</th>\n",
       "      <td>4500.00</td>\n",
       "      <td>4500.00</td>\n",
       "    </tr>\n",
       "    <tr>\n",
       "      <th>25</th>\n",
       "      <td>1500.02</td>\n",
       "      <td>1500.02</td>\n",
       "    </tr>\n",
       "    <tr>\n",
       "      <th>26</th>\n",
       "      <td>1539.45</td>\n",
       "      <td>1539.45</td>\n",
       "    </tr>\n",
       "    <tr>\n",
       "      <th>27</th>\n",
       "      <td>1569.78</td>\n",
       "      <td>1569.78</td>\n",
       "    </tr>\n",
       "    <tr>\n",
       "      <th>28</th>\n",
       "      <td>1539.38</td>\n",
       "      <td>1539.38</td>\n",
       "    </tr>\n",
       "    <tr>\n",
       "      <th>29</th>\n",
       "      <td>1539.45</td>\n",
       "      <td>1539.45</td>\n",
       "    </tr>\n",
       "    <tr>\n",
       "      <th>...</th>\n",
       "      <td>...</td>\n",
       "      <td>...</td>\n",
       "    </tr>\n",
       "    <tr>\n",
       "      <th>2587</th>\n",
       "      <td>1569.78</td>\n",
       "      <td>1569.78</td>\n",
       "    </tr>\n",
       "    <tr>\n",
       "      <th>2588</th>\n",
       "      <td>1371.47</td>\n",
       "      <td>1371.47</td>\n",
       "    </tr>\n",
       "    <tr>\n",
       "      <th>2589</th>\n",
       "      <td>1597.78</td>\n",
       "      <td>1597.78</td>\n",
       "    </tr>\n",
       "    <tr>\n",
       "      <th>2590</th>\n",
       "      <td>1515.18</td>\n",
       "      <td>1515.18</td>\n",
       "    </tr>\n",
       "    <tr>\n",
       "      <th>2591</th>\n",
       "      <td>1569.78</td>\n",
       "      <td>1569.78</td>\n",
       "    </tr>\n",
       "    <tr>\n",
       "      <th>2592</th>\n",
       "      <td>2258.72</td>\n",
       "      <td>2258.72</td>\n",
       "    </tr>\n",
       "    <tr>\n",
       "      <th>2593</th>\n",
       "      <td>1500.02</td>\n",
       "      <td>1500.02</td>\n",
       "    </tr>\n",
       "    <tr>\n",
       "      <th>2594</th>\n",
       "      <td>1500.02</td>\n",
       "      <td>1500.02</td>\n",
       "    </tr>\n",
       "    <tr>\n",
       "      <th>2595</th>\n",
       "      <td>1500.02</td>\n",
       "      <td>1500.02</td>\n",
       "    </tr>\n",
       "    <tr>\n",
       "      <th>2596</th>\n",
       "      <td>1515.18</td>\n",
       "      <td>1515.18</td>\n",
       "    </tr>\n",
       "    <tr>\n",
       "      <th>2597</th>\n",
       "      <td>1500.02</td>\n",
       "      <td>1500.02</td>\n",
       "    </tr>\n",
       "    <tr>\n",
       "      <th>2598</th>\n",
       "      <td>1539.45</td>\n",
       "      <td>1539.45</td>\n",
       "    </tr>\n",
       "    <tr>\n",
       "      <th>2599</th>\n",
       "      <td>1500.02</td>\n",
       "      <td>1500.02</td>\n",
       "    </tr>\n",
       "    <tr>\n",
       "      <th>2600</th>\n",
       "      <td>1515.18</td>\n",
       "      <td>1515.18</td>\n",
       "    </tr>\n",
       "    <tr>\n",
       "      <th>2601</th>\n",
       "      <td>1500.02</td>\n",
       "      <td>1500.02</td>\n",
       "    </tr>\n",
       "    <tr>\n",
       "      <th>2602</th>\n",
       "      <td>615.00</td>\n",
       "      <td>615.00</td>\n",
       "    </tr>\n",
       "    <tr>\n",
       "      <th>2603</th>\n",
       "      <td>685.66</td>\n",
       "      <td>685.66</td>\n",
       "    </tr>\n",
       "    <tr>\n",
       "      <th>2604</th>\n",
       "      <td>1522.77</td>\n",
       "      <td>1522.77</td>\n",
       "    </tr>\n",
       "    <tr>\n",
       "      <th>2605</th>\n",
       "      <td>4500.00</td>\n",
       "      <td>4500.00</td>\n",
       "    </tr>\n",
       "    <tr>\n",
       "      <th>2606</th>\n",
       "      <td>1796.94</td>\n",
       "      <td>1796.94</td>\n",
       "    </tr>\n",
       "    <tr>\n",
       "      <th>2607</th>\n",
       "      <td>1539.45</td>\n",
       "      <td>1539.45</td>\n",
       "    </tr>\n",
       "    <tr>\n",
       "      <th>2608</th>\n",
       "      <td>1053.84</td>\n",
       "      <td>1053.84</td>\n",
       "    </tr>\n",
       "    <tr>\n",
       "      <th>2609</th>\n",
       "      <td>1616.80</td>\n",
       "      <td>1616.80</td>\n",
       "    </tr>\n",
       "    <tr>\n",
       "      <th>2610</th>\n",
       "      <td>1553.34</td>\n",
       "      <td>1553.34</td>\n",
       "    </tr>\n",
       "    <tr>\n",
       "      <th>2611</th>\n",
       "      <td>1683.42</td>\n",
       "      <td>1683.42</td>\n",
       "    </tr>\n",
       "    <tr>\n",
       "      <th>2612</th>\n",
       "      <td>1913.38</td>\n",
       "      <td>1913.38</td>\n",
       "    </tr>\n",
       "    <tr>\n",
       "      <th>2613</th>\n",
       "      <td>1735.46</td>\n",
       "      <td>1735.46</td>\n",
       "    </tr>\n",
       "    <tr>\n",
       "      <th>2614</th>\n",
       "      <td>1539.45</td>\n",
       "      <td>1539.45</td>\n",
       "    </tr>\n",
       "    <tr>\n",
       "      <th>2615</th>\n",
       "      <td>1616.80</td>\n",
       "      <td>1616.80</td>\n",
       "    </tr>\n",
       "    <tr>\n",
       "      <th>2616</th>\n",
       "      <td>1500.02</td>\n",
       "      <td>1500.02</td>\n",
       "    </tr>\n",
       "  </tbody>\n",
       "</table>\n",
       "<p>2617 rows × 2 columns</p>\n",
       "</div>"
      ],
      "text/plain": [
       "     salaire_de_base salaire_de_base_3\n",
       "0            1028.56           1028.56\n",
       "1            1515.18           1515.18\n",
       "2            1500.02           1500.02\n",
       "3            1500.02           1500.02\n",
       "4            1500.02           1500.02\n",
       "5            1616.80           1616.80\n",
       "6            1516.56           1516.56\n",
       "7            1539.45           1539.45\n",
       "8            1802.43           1802.43\n",
       "9            2537.30           2537.30\n",
       "10           3960.00           3960.00\n",
       "11           1539.45           1539.45\n",
       "12           1616.80           1616.80\n",
       "13           1727.53           1727.53\n",
       "14           1569.78           1569.78\n",
       "15           1500.02           1500.02\n",
       "16           1321.22           1321.22\n",
       "17           1539.45           1539.45\n",
       "18           1610.74           1610.74\n",
       "19           1515.18           1515.18\n",
       "20           1515.18           1515.18\n",
       "21           1569.78           1569.78\n",
       "22           1539.45           1539.45\n",
       "23           1515.18           1515.18\n",
       "24           4500.00           4500.00\n",
       "25           1500.02           1500.02\n",
       "26           1539.45           1539.45\n",
       "27           1569.78           1569.78\n",
       "28           1539.38           1539.38\n",
       "29           1539.45           1539.45\n",
       "...              ...               ...\n",
       "2587         1569.78           1569.78\n",
       "2588         1371.47           1371.47\n",
       "2589         1597.78           1597.78\n",
       "2590         1515.18           1515.18\n",
       "2591         1569.78           1569.78\n",
       "2592         2258.72           2258.72\n",
       "2593         1500.02           1500.02\n",
       "2594         1500.02           1500.02\n",
       "2595         1500.02           1500.02\n",
       "2596         1515.18           1515.18\n",
       "2597         1500.02           1500.02\n",
       "2598         1539.45           1539.45\n",
       "2599         1500.02           1500.02\n",
       "2600         1515.18           1515.18\n",
       "2601         1500.02           1500.02\n",
       "2602          615.00            615.00\n",
       "2603          685.66            685.66\n",
       "2604         1522.77           1522.77\n",
       "2605         4500.00           4500.00\n",
       "2606         1796.94           1796.94\n",
       "2607         1539.45           1539.45\n",
       "2608         1053.84           1053.84\n",
       "2609         1616.80           1616.80\n",
       "2610         1553.34           1553.34\n",
       "2611         1683.42           1683.42\n",
       "2612         1913.38           1913.38\n",
       "2613         1735.46           1735.46\n",
       "2614         1539.45           1539.45\n",
       "2615         1616.80           1616.80\n",
       "2616         1500.02           1500.02\n",
       "\n",
       "[2617 rows x 2 columns]"
      ]
     },
     "execution_count": 194,
     "metadata": {},
     "output_type": "execute_result"
    }
   ],
   "source": [
    "df[[\"salaire_de_base\", \"salaire_de_base_3\"]]"
   ]
  },
  {
   "cell_type": "code",
   "execution_count": 181,
   "metadata": {},
   "outputs": [
    {
     "name": "stdout",
     "output_type": "stream",
     "text": [
      "1028.56\n",
      "1515.18\n"
     ]
    }
   ],
   "source": [
    "for row in _.head(2).iterrows():\n",
    "    print(salaire_de_base(row))"
   ]
  },
  {
   "cell_type": "code",
   "execution_count": 146,
   "metadata": {},
   "outputs": [
    {
     "data": {
      "text/plain": [
       "Index(['('S21.G00.51.013', 'Montant')', '('S21.G00.51.011', 'Type')'], dtype='object')"
      ]
     },
     "execution_count": 146,
     "metadata": {},
     "output_type": "execute_result"
    }
   ],
   "source": [
    "local_tuple[1].index # le nom des colonnes est devenu l'index de la série"
   ]
  },
  {
   "cell_type": "code",
   "execution_count": 148,
   "metadata": {},
   "outputs": [
    {
     "name": "stdout",
     "output_type": "stream",
     "text": [
      "--------------------\n",
      "Pandas(Index=0, _1=\"['1147.39', '1147.39', '1147.39', '1028.56']\", _2=\"['001', '002', '003', '010']\")\n",
      "--------------------\n",
      "Pandas(Index=1, _1=\"['1908.47', '1908.47', '1908.47', '1515.18', '108.19']\", _2=\"['001', '002', '003', '010', '011']\")\n"
     ]
    }
   ],
   "source": [
    "for local_tuple in _.head(2).itertuples():\n",
    "    print(\"-\"*20)\n",
    "    print(local_tuple)\n",
    "    #print(type(local_tuple[1]))\n",
    "    #print(local_tuple[1])\n"
   ]
  },
  {
   "cell_type": "code",
   "execution_count": null,
   "metadata": {},
   "outputs": [],
   "source": []
  }
 ],
 "metadata": {
  "kernelspec": {
   "display_name": "Python 3",
   "language": "python",
   "name": "python3"
  },
  "language_info": {
   "codemirror_mode": {
    "name": "ipython",
    "version": 3
   },
   "file_extension": ".py",
   "mimetype": "text/x-python",
   "name": "python",
   "nbconvert_exporter": "python",
   "pygments_lexer": "ipython3",
   "version": "3.6.5"
  }
 },
 "nbformat": 4,
 "nbformat_minor": 2
}
