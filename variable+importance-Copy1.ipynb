{
 "cells": [
  {
   "cell_type": "markdown",
   "metadata": {},
   "source": [
    "### -1) import and functions"
   ]
  },
  {
   "cell_type": "code",
   "execution_count": 2,
   "metadata": {
    "collapsed": true
   },
   "outputs": [],
   "source": [
    "import sklearn"
   ]
  },
  {
   "cell_type": "code",
   "execution_count": 3,
   "metadata": {
    "collapsed": true
   },
   "outputs": [],
   "source": [
    "from sklearn.tree import _tree\n",
    "from scipy import stats\n",
    "import numpy as np\n",
    "from sklearn import datasets\n",
    "from collections import OrderedDict"
   ]
  },
  {
   "cell_type": "code",
   "execution_count": 4,
   "metadata": {
    "collapsed": true
   },
   "outputs": [],
   "source": [
    "import random"
   ]
  },
  {
   "cell_type": "code",
   "execution_count": 6,
   "metadata": {
    "collapsed": true
   },
   "outputs": [],
   "source": [
    "import pandas as pd"
   ]
  },
  {
   "cell_type": "markdown",
   "metadata": {},
   "source": [
    "# création d'une dataframe jeu"
   ]
  },
  {
   "cell_type": "code",
   "execution_count": 7,
   "metadata": {},
   "outputs": [],
   "source": [
    "# il y a des 1 sur la colonne 0 uniquement pour les \"low\", sur la col 2 pour les \"m-\", sur la 3e pour les \"m+\" et la dernière pour les \"h\"\n",
    "# trois colonnes aléatoire au milieu\n",
    "# il y a 75% de la 1ère classe, 15% de la seconde, 10% de la 3e, 5% de la 4e\n",
    "n = 100\n",
    "m = 1000\n",
    "low      = pd.DataFrame([[1, 0, 0, random.randint(0,10), random.randint(0,10), random.randint(0,10), 0, \"l\" ] for i in range(70*m)])\n",
    "medium_1 = pd.DataFrame([[0, 1, 0, random.randint(0,10), random.randint(0,10), random.randint(0,10), 0, \"m-\"] for i in range(15*m)])\n",
    "medium_2 = pd.DataFrame([[0, 0, 1, random.randint(0,10), random.randint(0,10), random.randint(0,10), 0, \"m+\"] for i in range(10*m)])\n",
    "high     = pd.DataFrame([[0, 0, 0, random.randint(0,10), random.randint(0,10), random.randint(0,10), 1, \"h\" ] for i in range( 5*m)])\n",
    "\n",
    "df   = pd.concat([low, medium_1, medium_2, high])"
   ]
  },
  {
   "cell_type": "code",
   "execution_count": 10,
   "metadata": {},
   "outputs": [
    {
     "data": {
      "text/html": [
       "<div>\n",
       "<table border=\"1\" class=\"dataframe\">\n",
       "  <thead>\n",
       "    <tr style=\"text-align: right;\">\n",
       "      <th></th>\n",
       "      <th>0</th>\n",
       "      <th>1</th>\n",
       "      <th>2</th>\n",
       "      <th>3</th>\n",
       "      <th>4</th>\n",
       "      <th>5</th>\n",
       "      <th>6</th>\n",
       "      <th>7</th>\n",
       "    </tr>\n",
       "  </thead>\n",
       "  <tbody>\n",
       "    <tr>\n",
       "      <th>66071</th>\n",
       "      <td>1</td>\n",
       "      <td>0</td>\n",
       "      <td>0</td>\n",
       "      <td>10</td>\n",
       "      <td>4</td>\n",
       "      <td>9</td>\n",
       "      <td>0</td>\n",
       "      <td>l</td>\n",
       "    </tr>\n",
       "    <tr>\n",
       "      <th>69665</th>\n",
       "      <td>1</td>\n",
       "      <td>0</td>\n",
       "      <td>0</td>\n",
       "      <td>7</td>\n",
       "      <td>9</td>\n",
       "      <td>2</td>\n",
       "      <td>0</td>\n",
       "      <td>l</td>\n",
       "    </tr>\n",
       "    <tr>\n",
       "      <th>3545</th>\n",
       "      <td>1</td>\n",
       "      <td>0</td>\n",
       "      <td>0</td>\n",
       "      <td>4</td>\n",
       "      <td>10</td>\n",
       "      <td>2</td>\n",
       "      <td>0</td>\n",
       "      <td>l</td>\n",
       "    </tr>\n",
       "    <tr>\n",
       "      <th>62337</th>\n",
       "      <td>1</td>\n",
       "      <td>0</td>\n",
       "      <td>0</td>\n",
       "      <td>4</td>\n",
       "      <td>0</td>\n",
       "      <td>6</td>\n",
       "      <td>0</td>\n",
       "      <td>l</td>\n",
       "    </tr>\n",
       "    <tr>\n",
       "      <th>6516</th>\n",
       "      <td>0</td>\n",
       "      <td>1</td>\n",
       "      <td>0</td>\n",
       "      <td>8</td>\n",
       "      <td>0</td>\n",
       "      <td>0</td>\n",
       "      <td>0</td>\n",
       "      <td>m-</td>\n",
       "    </tr>\n",
       "    <tr>\n",
       "      <th>13508</th>\n",
       "      <td>1</td>\n",
       "      <td>0</td>\n",
       "      <td>0</td>\n",
       "      <td>10</td>\n",
       "      <td>9</td>\n",
       "      <td>3</td>\n",
       "      <td>0</td>\n",
       "      <td>l</td>\n",
       "    </tr>\n",
       "    <tr>\n",
       "      <th>9642</th>\n",
       "      <td>0</td>\n",
       "      <td>1</td>\n",
       "      <td>0</td>\n",
       "      <td>4</td>\n",
       "      <td>8</td>\n",
       "      <td>7</td>\n",
       "      <td>0</td>\n",
       "      <td>m-</td>\n",
       "    </tr>\n",
       "    <tr>\n",
       "      <th>8913</th>\n",
       "      <td>0</td>\n",
       "      <td>1</td>\n",
       "      <td>0</td>\n",
       "      <td>10</td>\n",
       "      <td>8</td>\n",
       "      <td>10</td>\n",
       "      <td>0</td>\n",
       "      <td>m-</td>\n",
       "    </tr>\n",
       "    <tr>\n",
       "      <th>6630</th>\n",
       "      <td>0</td>\n",
       "      <td>0</td>\n",
       "      <td>1</td>\n",
       "      <td>1</td>\n",
       "      <td>10</td>\n",
       "      <td>2</td>\n",
       "      <td>0</td>\n",
       "      <td>m+</td>\n",
       "    </tr>\n",
       "    <tr>\n",
       "      <th>7106</th>\n",
       "      <td>0</td>\n",
       "      <td>1</td>\n",
       "      <td>0</td>\n",
       "      <td>5</td>\n",
       "      <td>7</td>\n",
       "      <td>4</td>\n",
       "      <td>0</td>\n",
       "      <td>m-</td>\n",
       "    </tr>\n",
       "  </tbody>\n",
       "</table>\n",
       "</div>"
      ],
      "text/plain": [
       "       0  1  2   3   4   5  6   7\n",
       "66071  1  0  0  10   4   9  0   l\n",
       "69665  1  0  0   7   9   2  0   l\n",
       "3545   1  0  0   4  10   2  0   l\n",
       "62337  1  0  0   4   0   6  0   l\n",
       "6516   0  1  0   8   0   0  0  m-\n",
       "13508  1  0  0  10   9   3  0   l\n",
       "9642   0  1  0   4   8   7  0  m-\n",
       "8913   0  1  0  10   8  10  0  m-\n",
       "6630   0  0  1   1  10   2  0  m+\n",
       "7106   0  1  0   5   7   4  0  m-"
      ]
     },
     "execution_count": 10,
     "metadata": {},
     "output_type": "execute_result"
    }
   ],
   "source": [
    "df.sample(10) # labels = \"l / m- / m+ / h\" en colonne 7"
   ]
  },
  {
   "cell_type": "markdown",
   "metadata": {},
   "source": [
    "# extraction x, y"
   ]
  },
  {
   "cell_type": "code",
   "execution_count": 11,
   "metadata": {
    "collapsed": true
   },
   "outputs": [],
   "source": [
    "x = df.iloc[:, 0:7]\n",
    "y = df.iloc[:, 7]"
   ]
  },
  {
   "cell_type": "code",
   "execution_count": 12,
   "metadata": {},
   "outputs": [
    {
     "data": {
      "text/plain": [
       "l     70000\n",
       "m-    15000\n",
       "m+    10000\n",
       "h      5000\n",
       "Name: 7, dtype: int64"
      ]
     },
     "execution_count": 12,
     "metadata": {},
     "output_type": "execute_result"
    }
   ],
   "source": [
    "pd.Series(y).value_counts()"
   ]
  },
  {
   "cell_type": "markdown",
   "metadata": {},
   "source": [
    "# changement des labels en chiffres (0,1,2,3)"
   ]
  },
  {
   "cell_type": "code",
   "execution_count": 13,
   "metadata": {},
   "outputs": [
    {
     "data": {
      "text/plain": [
       "1    70000\n",
       "3    15000\n",
       "2    10000\n",
       "0     5000\n",
       "dtype: int64"
      ]
     },
     "execution_count": 13,
     "metadata": {},
     "output_type": "execute_result"
    }
   ],
   "source": [
    "from sklearn import preprocessing\n",
    "le = preprocessing.LabelEncoder()\n",
    "le.fit(y)\n",
    "y = le.transform(y)\n",
    "pd.Series(y).value_counts()"
   ]
  },
  {
   "cell_type": "code",
   "execution_count": 14,
   "metadata": {},
   "outputs": [
    {
     "data": {
      "text/plain": [
       "array(['h', 'l', 'm+', 'm-'], dtype=object)"
      ]
     },
     "execution_count": 14,
     "metadata": {},
     "output_type": "execute_result"
    }
   ],
   "source": [
    "le.inverse_transform([0,1,2,3])"
   ]
  },
  {
   "cell_type": "markdown",
   "metadata": {},
   "source": [
    "# modélisation"
   ]
  },
  {
   "cell_type": "code",
   "execution_count": 15,
   "metadata": {
    "collapsed": true
   },
   "outputs": [],
   "source": [
    "import statsmodels.api as sm"
   ]
  },
  {
   "cell_type": "code",
   "execution_count": 16,
   "metadata": {},
   "outputs": [
    {
     "name": "stdout",
     "output_type": "stream",
     "text": [
      "                            OLS Regression Results                            \n",
      "==============================================================================\n",
      "Dep. Variable:                      y   R-squared:                       1.000\n",
      "Model:                            OLS   Adj. R-squared:                  1.000\n",
      "Method:                 Least Squares   F-statistic:                 6.931e+11\n",
      "Date:                Mon, 23 Apr 2018   Prob (F-statistic):               0.00\n",
      "Time:                        02:23:06   Log-Likelihood:             7.6628e+05\n",
      "No. Observations:              100000   AIC:                        -1.533e+06\n",
      "Df Residuals:                   99992   BIC:                        -1.532e+06\n",
      "Df Model:                           7                                         \n",
      "Covariance Type:            nonrobust                                         \n",
      "==============================================================================\n",
      "                 coef    std err          t      P>|t|      [95.0% Conf. Int.]\n",
      "------------------------------------------------------------------------------\n",
      "const          0.8886   1.09e+06   8.16e-07      1.000     -2.13e+06  2.13e+06\n",
      "0              0.1114   1.09e+06   1.02e-07      1.000     -2.13e+06  2.13e+06\n",
      "1              2.1117   1.09e+06   1.94e-06      1.000     -2.13e+06  2.13e+06\n",
      "2              1.1115   1.09e+06   1.02e-06      1.000     -2.13e+06  2.13e+06\n",
      "3          -5.746e-18   1.14e-07  -5.05e-11      1.000     -2.23e-07  2.23e-07\n",
      "4          -2.292e-16   1.14e-07  -2.02e-09      1.000     -2.23e-07  2.23e-07\n",
      "5           4.665e-16   1.14e-07   4.11e-09      1.000     -2.23e-07  2.23e-07\n",
      "6             -0.8885   1.09e+06  -8.16e-07      1.000     -2.13e+06  2.13e+06\n",
      "==============================================================================\n",
      "Omnibus:                    20607.043   Durbin-Watson:                   0.000\n",
      "Prob(Omnibus):                  0.000   Jarque-Bera (JB):            36106.256\n",
      "Skew:                          -1.450   Prob(JB):                         0.00\n",
      "Kurtosis:                       3.509   Cond. No.                     6.29e+13\n",
      "==============================================================================\n",
      "\n",
      "Warnings:\n",
      "[1] Standard Errors assume that the covariance matrix of the errors is correctly specified.\n",
      "[2] The smallest eigenvalue is 2.18e-21. This might indicate that there are\n",
      "strong multicollinearity problems or that the design matrix is singular.\n"
     ]
    }
   ],
   "source": [
    "intercept_x = sm.add_constant(x)     # Ajout d'une colonne à 1 pour l'intercept (au début de x)\n",
    "estimateur  = sm.OLS(y, intercept_x) # création d'une Régression linéaire ordinaire\n",
    "modele      = estimateur.fit()\n",
    "print(modele.summary())"
   ]
  },
  {
   "cell_type": "code",
   "execution_count": 19,
   "metadata": {},
   "outputs": [
    {
     "name": "stdout",
     "output_type": "stream",
     "text": [
      "1 Vs 0.999980211258\n",
      "3 Vs 3.00027275085\n",
      "2 Vs 2.00009036064\n",
      "0 Vs 0.000116825103763\n"
     ]
    }
   ],
   "source": [
    "tests = [50000, 80000, 90000, 98000]\n",
    "for n in tests:\n",
    "    a_predire = sm.add_constant(x).iloc[n]\n",
    "    vrai = y[n]\n",
    "    print vrai,\"Vs\", modele.predict(a_predire)[0]"
   ]
  },
  {
   "cell_type": "code",
   "execution_count": null,
   "metadata": {
    "collapsed": true
   },
   "outputs": [],
   "source": []
  }
 ],
 "metadata": {
  "kernelspec": {
   "display_name": "Python 2",
   "language": "python",
   "name": "python2"
  },
  "language_info": {
   "codemirror_mode": {
    "name": "ipython",
    "version": 2
   },
   "file_extension": ".py",
   "mimetype": "text/x-python",
   "name": "python",
   "nbconvert_exporter": "python",
   "pygments_lexer": "ipython2",
   "version": "2.7.11"
  }
 },
 "nbformat": 4,
 "nbformat_minor": 1
}
