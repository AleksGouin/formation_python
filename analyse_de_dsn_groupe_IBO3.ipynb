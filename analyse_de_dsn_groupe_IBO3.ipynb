{
 "cells": [
  {
   "cell_type": "code",
   "execution_count": 75,
   "metadata": {},
   "outputs": [
    {
     "name": "stdout",
     "output_type": "stream",
     "text": [
      "[master 6292fc5d] first\n",
      " 1 file changed, 707 insertions(+)\n",
      " create mode 100644 analyse_de_dsn_groupe_IBO3.ipynb\n",
      "Counting objects: 3, done.\n",
      "Delta compression using up to 8 threads.\n",
      "Compressing objects: 100% (3/3), done.\n",
      "Writing objects: 100% (3/3), 4.44 KiB | 4.44 MiB/s, done.\n",
      "Total 3 (delta 1), reused 0 (delta 0)\n",
      "remote: Resolving deltas: 100% (1/1), completed with 1 local object.\u001b[K\n",
      "To https://github.com/romainjouin/formation_python\n",
      "   51c407c1..6292fc5d  master -> master\n"
     ]
    }
   ],
   "source": [
    "!git add analyse_de_dsn_groupe_IBO3.ipynb\n",
    "!git commit -m \"first\"\n",
    "!git push"
   ]
  },
  {
   "cell_type": "markdown",
   "metadata": {},
   "source": [
    "# Analyse de données\n",
    "\n",
    "On vous fournit une base déjà reformatée en tableau, qui est un extrait de DSN.\n",
    "Voici la documentation de la DSN : http://www.dsn-info.fr/documentation/dsn_cahier_technique_p3.5.pdf\n",
    "\n",
    "On vous demande de faire la data-prep et de prévoir l'absentéisme."
   ]
  },
  {
   "cell_type": "code",
   "execution_count": 1,
   "metadata": {},
   "outputs": [],
   "source": [
    "import pandas as pd"
   ]
  },
  {
   "cell_type": "code",
   "execution_count": 2,
   "metadata": {},
   "outputs": [],
   "source": [
    "df = pd.read_csv(\"subset_dsn.csv\")"
   ]
  },
  {
   "cell_type": "markdown",
   "metadata": {},
   "source": [
    "# 0) comprendre les données : EDA / Exploratory Data Analysis"
   ]
  },
  {
   "cell_type": "code",
   "execution_count": 12,
   "metadata": {},
   "outputs": [
    {
     "data": {
      "text/plain": [
       "(2617, 93)"
      ]
     },
     "execution_count": 12,
     "metadata": {},
     "output_type": "execute_result"
    }
   ],
   "source": [
    "# taille\n",
    "df.shape"
   ]
  },
  {
   "cell_type": "code",
   "execution_count": 13,
   "metadata": {
    "scrolled": true
   },
   "outputs": [
    {
     "name": "stdout",
     "output_type": "stream",
     "text": [
      "0 : Unnamed: 0\n",
      "1 : Unnamed: 0.1\n",
      "2 : Unnamed: 0.1.1\n",
      "3 : ('S21.G00.30.005', 'Sexe')\n",
      "4 : ('S21.G00.30.006', 'Date de naissance')\n",
      "5 : ('S21.G00.30.020', 'Numéro technique temporaire')\n",
      "6 : ('S21.G00.30.023', 'Embauche')\n",
      "7 : ('S21.G00.31.001', 'Date de la modification')\n",
      "8 : ('S21.G00.40.001', 'Date de début du contrat')\n",
      "9 : ('S21.G00.40.002', 'Statut du salarié (conventionnel)')\n",
      "10 : ('S21.G00.40.003', 'Code statut catégoriel Retraite Complémentaire obligatoire')\n",
      "11 : ('S21.G00.40.004', 'Code profession et catégorie socioprofessionnelle (PCS-ESE)')\n",
      "12 : ('S21.G00.40.005', 'Code complément PCS-ESE')\n",
      "13 : ('S21.G00.40.006', \"Libellé de l'emploi\")\n",
      "14 : ('S21.G00.40.007', 'Nature du contrat')\n",
      "15 : ('S21.G00.40.008', 'Dispositif de politique publique et conventionnel')\n",
      "16 : ('S21.G00.40.009', 'Numéro du contrat')\n",
      "17 : ('S21.G00.40.010', 'Date de fin prévisionnelle du contrat')\n",
      "18 : ('S21.G00.40.011', 'Unité de mesure de la quotité de travail')\n",
      "19 : ('S21.G00.40.012', \"Quotité de travail de référence de l'entreprise pour la catégorie de salarié\")\n",
      "20 : ('S21.G00.40.013', 'Quotité de travail du contrat')\n",
      "21 : ('S21.G00.40.014', \"Modalité d'exercice du temps de travail\")\n",
      "22 : ('S21.G00.40.016', 'Complément de base au régime obligatoire')\n",
      "23 : ('S21.G00.40.017', 'Code convention collective applicable')\n",
      "24 : ('S21.G00.40.018', 'Code régime de base risque maladie')\n",
      "25 : ('S21.G00.40.019', 'Identifiant du lieu de travail')\n",
      "26 : ('S21.G00.40.020', 'Code régime de base risque vieillesse')\n",
      "27 : ('S21.G00.40.021', 'Motif de recours')\n",
      "28 : ('S21.G00.40.024', \"Travailleur à l'étranger au sens du code de la Sécurité Sociale\")\n",
      "29 : ('S21.G00.40.026', \"Statut d'emploi du salarié\")\n",
      "30 : ('S21.G00.40.036', 'Code emplois multiples')\n",
      "31 : ('S21.G00.40.037', 'Code employeurs multiples')\n",
      "32 : ('S21.G00.40.039', 'Code régime de base risque accident du travail')\n",
      "33 : ('S21.G00.40.040', 'Code risque accident du travail')\n",
      "34 : ('S21.G00.40.041', 'Positionnement dans la convention collective')\n",
      "35 : ('S21.G00.40.043', 'Taux de cotisation accident du travail')\n",
      "36 : ('S21.G00.40.044', 'Salarié à temps partiel cotisant à temps plein')\n",
      "37 : ('S21.G00.41.001', 'Date de la modification')\n",
      "38 : ('S21.G00.41.003', 'Ancien Code statut catégoriel Retraite Complémentaire obligatoire')\n",
      "39 : ('S21.G00.41.007', 'Ancienne Quotité de travail du contrat')\n",
      "40 : ('S21.G00.41.008', \"Ancienne Modalité d'exercice du temps de travail\")\n",
      "41 : ('S21.G00.41.012', \"SIRET ancien établissement d'affectation\")\n",
      "42 : ('S21.G00.41.013', 'Ancien Identifiant du lieu de travail')\n",
      "43 : ('S21.G00.41.019', 'Ancien Code profession et catégorie socioprofessionnelle (PCS-ESE) ')\n",
      "44 : ('S21.G00.41.022', \"Ancienne Quotité de travail de référence de l'entreprise pour la catégorie de salarié\")\n",
      "45 : ('S21.G00.41.027', 'Ancien Salarié à temps partiel cotisant à temps plein')\n",
      "46 : ('S21.G00.50.001', 'Date de versement')\n",
      "47 : ('S21.G00.50.002', 'Rémunération nette fiscale')\n",
      "48 : ('S21.G00.50.003', 'Numéro de versement')\n",
      "49 : ('S21.G00.50.004', 'Montant net versé')\n",
      "50 : ('S21.G00.51.001', 'Date de début de période de paie')\n",
      "51 : ('S21.G00.51.002', 'Date de fin de période de paie')\n",
      "52 : ('S21.G00.51.010', 'Numéro du contrat')\n",
      "53 : ('S21.G00.51.011', 'Type')\n",
      "54 : ('S21.G00.51.012', \"Nombre d'heures\")\n",
      "55 : ('S21.G00.51.013', 'Montant')\n",
      "56 : ('S21.G00.52.001', 'Type')\n",
      "57 : ('S21.G00.52.002', 'Montant')\n",
      "58 : ('S21.G00.52.003', 'Date de début de la période de rattachement')\n",
      "59 : ('S21.G00.52.004', 'Date de fin de la période de rattachement')\n",
      "60 : ('S21.G00.53.001', 'Type')\n",
      "61 : ('S21.G00.53.002', 'Mesure')\n",
      "62 : ('S21.G00.53.003', 'Unité de mesure')\n",
      "63 : ('S21.G00.54.001', 'Type')\n",
      "64 : ('S21.G00.54.002', 'Montant')\n",
      "65 : ('S21.G00.54.003', 'Date de début de période de rattachement')\n",
      "66 : ('S21.G00.54.004', 'Date de fin de période de rattachement')\n",
      "67 : ('S21.G00.60.001', \"Motif de l'arrêt\")\n",
      "68 : ('S21.G00.60.002', 'Date du dernier jour travaillé')\n",
      "69 : ('S21.G00.60.003', 'Date de fin prévisionnelle')\n",
      "70 : ('S21.G00.60.010', 'Date de la reprise')\n",
      "71 : ('S21.G00.60.011', 'Motif de la reprise')\n",
      "72 : ('S21.G00.62.001', 'Date de fin du contrat')\n",
      "73 : ('S21.G00.62.002', 'Motif de la rupture du contrat')\n",
      "74 : ('S21.G00.62.006', 'Dernier jour travaillé et payé au salaire habituel')\n",
      "75 : ('S21.G00.65.001', 'Motif de suspension')\n",
      "76 : ('S21.G00.65.002', 'Date de début de la suspension')\n",
      "77 : ('S21.G00.65.003', 'Date de fin de la suspension')\n",
      "78 : ('S21.G00.70.004', 'Code option retenue par le salarié')\n",
      "79 : ('S21.G00.70.005', 'Code population de rattachement')\n",
      "80 : ('S21.G00.70.007', \"Nombre d'enfants à charge\")\n",
      "81 : ('S21.G00.70.008', \"Nombre d'adultes ayants-droit (conjoint, concubin, ...) \")\n",
      "82 : ('S21.G00.70.009', \"Nombre d'ayants-droit\")\n",
      "83 : ('S21.G00.70.010', \"Nombre d'ayants-droit autres (ascendants, collatéraux...)\")\n",
      "84 : ('S21.G00.70.011', \"Nombre d'enfants ayants-droit\")\n",
      "85 : ('S21.G00.70.012', 'Identifiant technique Affiliation')\n",
      "86 : ('S21.G00.70.013', 'Identifiant technique Adhésion')\n",
      "87 : ('S21.G00.70.014', nan)\n",
      "88 : ('S21.G00.86.001', 'Type')\n",
      "89 : ('S21.G00.86.002', 'Unité de mesure')\n",
      "90 : ('S21.G00.86.003', 'Valeur')\n",
      "91 : ('S21.G00.86.005', 'Numéro du contrat')\n",
      "92 : Unnamed: 0.1.1.1\n"
     ]
    }
   ],
   "source": [
    "# nom des colonnes\n",
    "for indice, col in enumerate(df.columns):\n",
    "    print(\"{indice} : {col}\".format(**locals()))"
   ]
  },
  {
   "cell_type": "code",
   "execution_count": 18,
   "metadata": {
    "scrolled": true
   },
   "outputs": [
    {
     "name": "stdout",
     "output_type": "stream",
     "text": [
      "('S21.G00.40.004', 'Code profession et catégorie socioprofessionnelle (PCS-ESE)')\n"
     ]
    },
    {
     "data": {
      "text/plain": [
       "0    554D\n",
       "1    554D\n",
       "Name: ('S21.G00.40.004', 'Code profession et catégorie socioprofessionnelle (PCS-ESE)'), dtype: object"
      ]
     },
     "execution_count": 18,
     "metadata": {},
     "output_type": "execute_result"
    }
   ],
   "source": [
    "# Choisir une colonne par son indice\n",
    "colonnes              = df.columns\n",
    "indice_colonne_voulue = 11\n",
    "colonne_voulue        = colonnes[indice_colonne_voulue]\n",
    "print(colonne_voulue)\n",
    "df[colonne_voulue].head(2)"
   ]
  },
  {
   "cell_type": "markdown",
   "metadata": {},
   "source": [
    "# 1) Data prép : récupérer des sous éléments d'une colonne"
   ]
  },
  {
   "cell_type": "markdown",
   "metadata": {},
   "source": [
    "## 1.1) version basique : un à un "
   ]
  },
  {
   "cell_type": "code",
   "execution_count": 36,
   "metadata": {},
   "outputs": [],
   "source": [
    "df[\"groupe sociopro\"] = df[colonne_voulue].map(lambda x: x[0])\n",
    "\n",
    "new_col = \"catégories socio\"\n",
    "df[new_col] = df[colonne_voulue].map(lambda x: x[1])\n",
    "\n",
    "new_col = \"profession\"\n",
    "df[new_col] = df[colonne_voulue].map(lambda x: x[:-2])\n",
    "\n",
    "new_col = \"caractères\"\n",
    "df[new_col] = df[colonne_voulue].map(lambda x: x[3])\n",
    "\n",
    "\n",
    "\n",
    "\n",
    "  "
   ]
  },
  {
   "cell_type": "markdown",
   "metadata": {},
   "source": [
    "## 1.2) évolution : selon un dico paramétrant"
   ]
  },
  {
   "cell_type": "code",
   "execution_count": 39,
   "metadata": {},
   "outputs": [],
   "source": [
    "def split_categorie_pro(name,index,colonne_voulue):\n",
    "    if index<0:\n",
    "        df[name] = df[colonne_voulue].map(lambda x: x[-index:])\n",
    "    else:\n",
    "        df[name] = df[colonne_voulue].map(lambda x: x[index])\n",
    "\n",
    "categories_pro={\n",
    "                \"groupe sociopro\":0,\n",
    "                \"catégories socio\":1,\n",
    "                \"profession\":-2\n",
    "                }\n",
    "\n",
    "for name,index in categories_pro.items():\n",
    "    split_categorie_pro(name,index,colonne_voulue)"
   ]
  },
  {
   "cell_type": "code",
   "execution_count": 64,
   "metadata": {},
   "outputs": [],
   "source": [
    "# suppression d'une colonne (axis=1)\n",
    "try: df.drop(\"caractères\",axis=1,inplace=True)\n",
    "except : pass"
   ]
  },
  {
   "cell_type": "code",
   "execution_count": 62,
   "metadata": {},
   "outputs": [
    {
     "data": {
      "text/html": [
       "<div>\n",
       "<style scoped>\n",
       "    .dataframe tbody tr th:only-of-type {\n",
       "        vertical-align: middle;\n",
       "    }\n",
       "\n",
       "    .dataframe tbody tr th {\n",
       "        vertical-align: top;\n",
       "    }\n",
       "\n",
       "    .dataframe thead th {\n",
       "        text-align: right;\n",
       "    }\n",
       "</style>\n",
       "<table border=\"1\" class=\"dataframe\">\n",
       "  <thead>\n",
       "    <tr style=\"text-align: right;\">\n",
       "      <th></th>\n",
       "      <th>Unnamed: 0.1.1.1</th>\n",
       "      <th>groupe sociopro</th>\n",
       "      <th>catégories socio</th>\n",
       "      <th>profession</th>\n",
       "    </tr>\n",
       "  </thead>\n",
       "  <tbody>\n",
       "    <tr>\n",
       "      <th>1206</th>\n",
       "      <td>1206</td>\n",
       "      <td>5</td>\n",
       "      <td>5</td>\n",
       "      <td>2A</td>\n",
       "    </tr>\n",
       "    <tr>\n",
       "      <th>1902</th>\n",
       "      <td>1902</td>\n",
       "      <td>5</td>\n",
       "      <td>5</td>\n",
       "      <td>2A</td>\n",
       "    </tr>\n",
       "  </tbody>\n",
       "</table>\n",
       "</div>"
      ],
      "text/plain": [
       "      Unnamed: 0.1.1.1 groupe sociopro catégories socio profession\n",
       "1206              1206               5                5         2A\n",
       "1902              1902               5                5         2A"
      ]
     },
     "execution_count": 62,
     "metadata": {},
     "output_type": "execute_result"
    }
   ],
   "source": [
    "df[df.columns[-4:]].sample(2)"
   ]
  },
  {
   "cell_type": "markdown",
   "metadata": {},
   "source": [
    "# 2) gestion des dates"
   ]
  },
  {
   "cell_type": "code",
   "execution_count": 46,
   "metadata": {},
   "outputs": [],
   "source": [
    "from datetime import datetime"
   ]
  },
  {
   "cell_type": "code",
   "execution_count": 65,
   "metadata": {},
   "outputs": [
    {
     "data": {
      "text/plain": [
       "(2001, 1, 1)"
      ]
     },
     "execution_count": 65,
     "metadata": {},
     "output_type": "execute_result"
    }
   ],
   "source": [
    "test_date   = \"01012001\"\n",
    "format_date = \"%d%M%Y\"\n",
    "objet_date  = datetime.strptime(test_date, format_date)\n",
    "objet_date.year, objet_date.month, objet_date.day"
   ]
  },
  {
   "cell_type": "markdown",
   "metadata": {},
   "source": [
    "## 2.1) Filtrer les colonnes de dates"
   ]
  },
  {
   "cell_type": "code",
   "execution_count": 66,
   "metadata": {},
   "outputs": [
    {
     "data": {
      "text/html": [
       "<div>\n",
       "<style scoped>\n",
       "    .dataframe tbody tr th:only-of-type {\n",
       "        vertical-align: middle;\n",
       "    }\n",
       "\n",
       "    .dataframe tbody tr th {\n",
       "        vertical-align: top;\n",
       "    }\n",
       "\n",
       "    .dataframe thead th {\n",
       "        text-align: right;\n",
       "    }\n",
       "</style>\n",
       "<table border=\"1\" class=\"dataframe\">\n",
       "  <thead>\n",
       "    <tr style=\"text-align: right;\">\n",
       "      <th></th>\n",
       "      <th>1305</th>\n",
       "    </tr>\n",
       "  </thead>\n",
       "  <tbody>\n",
       "    <tr>\n",
       "      <th>('S21.G00.30.006', 'Date de naissance')</th>\n",
       "      <td>28041977</td>\n",
       "    </tr>\n",
       "    <tr>\n",
       "      <th>('S21.G00.31.001', 'Date de la modification')</th>\n",
       "      <td>NaN</td>\n",
       "    </tr>\n",
       "    <tr>\n",
       "      <th>('S21.G00.40.001', 'Date de début du contrat')</th>\n",
       "      <td>['20082018', '03092018']</td>\n",
       "    </tr>\n",
       "    <tr>\n",
       "      <th>('S21.G00.40.010', 'Date de fin prévisionnelle du contrat')</th>\n",
       "      <td>['02092018', '30092018']</td>\n",
       "    </tr>\n",
       "    <tr>\n",
       "      <th>('S21.G00.41.001', 'Date de la modification')</th>\n",
       "      <td>NaN</td>\n",
       "    </tr>\n",
       "    <tr>\n",
       "      <th>('S21.G00.50.001', 'Date de versement')</th>\n",
       "      <td>['30092018', '30092018']</td>\n",
       "    </tr>\n",
       "    <tr>\n",
       "      <th>('S21.G00.51.001', 'Date de début de période de paie')</th>\n",
       "      <td>['01092018', '01092018', '01092018', '01092018...</td>\n",
       "    </tr>\n",
       "    <tr>\n",
       "      <th>('S21.G00.51.002', 'Date de fin de période de paie')</th>\n",
       "      <td>['02092018', '02092018', '02092018', '02092018...</td>\n",
       "    </tr>\n",
       "    <tr>\n",
       "      <th>('S21.G00.52.003', 'Date de début de la période de rattachement')</th>\n",
       "      <td>NaN</td>\n",
       "    </tr>\n",
       "    <tr>\n",
       "      <th>('S21.G00.52.004', 'Date de fin de la période de rattachement')</th>\n",
       "      <td>NaN</td>\n",
       "    </tr>\n",
       "    <tr>\n",
       "      <th>('S21.G00.54.003', 'Date de début de période de rattachement')</th>\n",
       "      <td>NaN</td>\n",
       "    </tr>\n",
       "    <tr>\n",
       "      <th>('S21.G00.54.004', 'Date de fin de période de rattachement')</th>\n",
       "      <td>NaN</td>\n",
       "    </tr>\n",
       "    <tr>\n",
       "      <th>('S21.G00.60.002', 'Date du dernier jour travaillé')</th>\n",
       "      <td>NaN</td>\n",
       "    </tr>\n",
       "    <tr>\n",
       "      <th>('S21.G00.60.003', 'Date de fin prévisionnelle')</th>\n",
       "      <td>NaN</td>\n",
       "    </tr>\n",
       "    <tr>\n",
       "      <th>('S21.G00.60.010', 'Date de la reprise')</th>\n",
       "      <td>NaN</td>\n",
       "    </tr>\n",
       "    <tr>\n",
       "      <th>('S21.G00.62.001', 'Date de fin du contrat')</th>\n",
       "      <td>02092018</td>\n",
       "    </tr>\n",
       "    <tr>\n",
       "      <th>('S21.G00.65.002', 'Date de début de la suspension')</th>\n",
       "      <td>NaN</td>\n",
       "    </tr>\n",
       "    <tr>\n",
       "      <th>('S21.G00.65.003', 'Date de fin de la suspension')</th>\n",
       "      <td>NaN</td>\n",
       "    </tr>\n",
       "  </tbody>\n",
       "</table>\n",
       "</div>"
      ],
      "text/plain": [
       "                                                                                                 1305\n",
       "('S21.G00.30.006', 'Date de naissance')                                                      28041977\n",
       "('S21.G00.31.001', 'Date de la modification')                                                     NaN\n",
       "('S21.G00.40.001', 'Date de début du contrat')                               ['20082018', '03092018']\n",
       "('S21.G00.40.010', 'Date de fin prévisionnelle ...                           ['02092018', '30092018']\n",
       "('S21.G00.41.001', 'Date de la modification')                                                     NaN\n",
       "('S21.G00.50.001', 'Date de versement')                                      ['30092018', '30092018']\n",
       "('S21.G00.51.001', 'Date de début de période de...  ['01092018', '01092018', '01092018', '01092018...\n",
       "('S21.G00.51.002', 'Date de fin de période de p...  ['02092018', '02092018', '02092018', '02092018...\n",
       "('S21.G00.52.003', 'Date de début de la période...                                                NaN\n",
       "('S21.G00.52.004', 'Date de fin de la période d...                                                NaN\n",
       "('S21.G00.54.003', 'Date de début de période de...                                                NaN\n",
       "('S21.G00.54.004', 'Date de fin de période de r...                                                NaN\n",
       "('S21.G00.60.002', 'Date du dernier jour travai...                                                NaN\n",
       "('S21.G00.60.003', 'Date de fin prévisionnelle')                                                  NaN\n",
       "('S21.G00.60.010', 'Date de la reprise')                                                          NaN\n",
       "('S21.G00.62.001', 'Date de fin du contrat')                                                 02092018\n",
       "('S21.G00.65.002', 'Date de début de la suspens...                                                NaN\n",
       "('S21.G00.65.003', 'Date de fin de la suspension')                                                NaN"
      ]
     },
     "execution_count": 66,
     "metadata": {},
     "output_type": "execute_result"
    }
   ],
   "source": [
    "date_cols = list(filter(lambda x: \"date\" in x.lower(), df.columns))\n",
    "df[date_cols].sample().T"
   ]
  },
  {
   "cell_type": "markdown",
   "metadata": {},
   "source": [
    "# 2.2) gérer des listes de dates"
   ]
  },
  {
   "cell_type": "markdown",
   "metadata": {},
   "source": [
    "### 2.2.1) on se limite à un block"
   ]
  },
  {
   "cell_type": "code",
   "execution_count": 74,
   "metadata": {},
   "outputs": [
    {
     "data": {
      "text/html": [
       "<div>\n",
       "<style scoped>\n",
       "    .dataframe tbody tr th:only-of-type {\n",
       "        vertical-align: middle;\n",
       "    }\n",
       "\n",
       "    .dataframe tbody tr th {\n",
       "        vertical-align: top;\n",
       "    }\n",
       "\n",
       "    .dataframe thead th {\n",
       "        text-align: right;\n",
       "    }\n",
       "</style>\n",
       "<table border=\"1\" class=\"dataframe\">\n",
       "  <thead>\n",
       "    <tr style=\"text-align: right;\">\n",
       "      <th></th>\n",
       "      <th>617</th>\n",
       "    </tr>\n",
       "  </thead>\n",
       "  <tbody>\n",
       "    <tr>\n",
       "      <th>('S21.G00.51.001', 'Date de début de période de paie')</th>\n",
       "      <td>['01092018', '01092018', '01092018', '01092018...</td>\n",
       "    </tr>\n",
       "    <tr>\n",
       "      <th>('S21.G00.51.002', 'Date de fin de période de paie')</th>\n",
       "      <td>['30092018', '30092018', '30092018', '30092018...</td>\n",
       "    </tr>\n",
       "    <tr>\n",
       "      <th>('S21.G00.51.010', 'Numéro du contrat')</th>\n",
       "      <td>3944841678313081876</td>\n",
       "    </tr>\n",
       "    <tr>\n",
       "      <th>('S21.G00.51.011', 'Type')</th>\n",
       "      <td>['001', '002', '003', '010', '011']</td>\n",
       "    </tr>\n",
       "    <tr>\n",
       "      <th>('S21.G00.51.012', \"Nombre d'heures\")</th>\n",
       "      <td>10.83</td>\n",
       "    </tr>\n",
       "    <tr>\n",
       "      <th>('S21.G00.51.013', 'Montant')</th>\n",
       "      <td>['1990.28', '1990.28', '1990.28', '1691.12', '...</td>\n",
       "    </tr>\n",
       "  </tbody>\n",
       "</table>\n",
       "</div>"
      ],
      "text/plain": [
       "                                                                                                  617\n",
       "('S21.G00.51.001', 'Date de début de période de...  ['01092018', '01092018', '01092018', '01092018...\n",
       "('S21.G00.51.002', 'Date de fin de période de p...  ['30092018', '30092018', '30092018', '30092018...\n",
       "('S21.G00.51.010', 'Numéro du contrat')                                           3944841678313081876\n",
       "('S21.G00.51.011', 'Type')                                        ['001', '002', '003', '010', '011']\n",
       "('S21.G00.51.012', \"Nombre d'heures\")                                                           10.83\n",
       "('S21.G00.51.013', 'Montant')                       ['1990.28', '1990.28', '1990.28', '1691.12', '..."
      ]
     },
     "execution_count": 74,
     "metadata": {},
     "output_type": "execute_result"
    }
   ],
   "source": [
    "block = \"S21.G00.51\"\n",
    "block_cols = list(filter(lambda x: block.lower() in x.lower(), df.columns))\n",
    "df[block_cols].sample().T"
   ]
  },
  {
   "cell_type": "markdown",
   "metadata": {},
   "source": [
    "### 2.2.2) on évalue les chaines de caractères pour les transformer en listes python"
   ]
  },
  {
   "cell_type": "code",
   "execution_count": 121,
   "metadata": {},
   "outputs": [],
   "source": [
    "col_a_evaluer       = [0, 1, 3, 5]\n",
    "col_avec_des_listes = [block_cols[n] for n in col_a_evaluer]\n",
    "for col in col_avec_des_listes:\n",
    "    df[col]=df[col].apply(eval)\n",
    "df[block_cols];"
   ]
  },
  {
   "cell_type": "markdown",
   "metadata": {},
   "source": [
    "### 2.2.3) on va itérer sur les lignes : iterrows"
   ]
  },
  {
   "cell_type": "code",
   "execution_count": 162,
   "metadata": {},
   "outputs": [],
   "source": [
    "# fonction iterrows\n",
    "n = 0\n",
    "results =[]\n",
    "for indice, ligne_courante in df[col_avec_des_listes].iterrows():    \n",
    "    n = n+1\n",
    "    # (1) on récupère les listes de chaque colonne\n",
    "    valeurs = []\n",
    "    for nom_colonne in ligne_courante.index:\n",
    "        valeurs.append(ligne_courante[nom_colonne])\n",
    "    # (2) on va rapprocher les valeurs une à une \n",
    "    rapprochements = []\n",
    "    for i in range(4):# on sait qu'il y a 4 valeurs à récupérer\n",
    "        new_rapprochement = [] # on va trouver toutes les infos pour la nème valeur\n",
    "        for liste in valeurs:# on repasse en revue toutes les listes récupérées\n",
    "            new_rapprochement.append(liste[i]) # on récupère la nème valeur de la liste\n",
    "        rapprochements.append(new_rapprochement)# on enregistre la liste des nème valeur\n",
    "    # 3 on crée un dico de nouvelles colonnes : \n",
    "    dico = {}\n",
    "    for rapprochement in rapprochements:\n",
    "        nom_col = \"_\".join(rapprochement[:3])\n",
    "        dico[nom_col] = rapprochement[3]\n",
    "    # résultat :\n",
    "    #print(dico)\n",
    "    results.append(dico)"
   ]
  },
  {
   "cell_type": "code",
   "execution_count": 167,
   "metadata": {},
   "outputs": [],
   "source": [
    "df = pd.concat([df, pd.DataFrame(results)], axis=1)"
   ]
  },
  {
   "cell_type": "code",
   "execution_count": 168,
   "metadata": {},
   "outputs": [
    {
     "data": {
      "text/plain": [
       "(2617, 418)"
      ]
     },
     "execution_count": 168,
     "metadata": {},
     "output_type": "execute_result"
    }
   ],
   "source": [
    "df.shape"
   ]
  }
 ],
 "metadata": {
  "kernelspec": {
   "display_name": "Python 3",
   "language": "python",
   "name": "python3"
  },
  "language_info": {
   "codemirror_mode": {
    "name": "ipython",
    "version": 3
   },
   "file_extension": ".py",
   "mimetype": "text/x-python",
   "name": "python",
   "nbconvert_exporter": "python",
   "pygments_lexer": "ipython3",
   "version": "3.6.5"
  }
 },
 "nbformat": 4,
 "nbformat_minor": 2
}
