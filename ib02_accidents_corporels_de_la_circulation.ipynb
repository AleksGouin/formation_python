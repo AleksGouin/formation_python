{
 "cells": [
  {
   "cell_type": "markdown",
   "metadata": {},
   "source": [
    "# Base de données accidents corporels de la circulation\n",
    "https://www.data.gouv.fr/fr/datasets/base-de-donnees-accidents-corporels-de-la-circulation/\n",
    "\n",
    "Ce jeu de données provient d'un service public certifié\n",
    " NEC MERGITUR\n",
    "Pour chaque accident corporel (soit un accident survenu sur une voie ouverte à la circulation publique, impliquant au moins un véhicule et ayant fait au moins une victime ayant nécessité des soins), des saisies d’information décrivant l’accident sont effectuées par l’unité des forces de l’ordre (police, gendarmerie, etc.) qui est intervenue sur le lieu de l’accident. Ces saisies sont rassemblées dans une fiche intitulée bulletin d’analyse des accidents corporels. L’ensemble de ces fiches constitue le fichier national des accidents corporels de la circulation dit \" Fichier BAAC \" administré par l’Observatoire national interministériel de la sécurité routière \"ONISR\".\n",
    "\n",
    "Les bases de données, extraites du fichier BAAC, répertorient l'intégralité des accidents corporels de la circulation intervenus durant une année précise en France métropolitaine ainsi que les départements d’Outre-mer (Guadeloupe, Guyane, Martinique, La Réunion et Mayotte depuis 2012) avec une description simplifiée. Cela comprend des informations de localisation de l’accident, telles que renseignées ainsi que des informations concernant les caractéristiques de l’accident et son lieu, les véhicules impliqués et leurs victimes.\n",
    "\n",
    "Par rapport aux bases de données agrégées 2005-2010 et 2006-2011 actuellement disponibles sur le site www.data.gouv.fr, les bases de données de 2005 à 2016 sont désormais annuelles et composées de 4 fichiers (Caractéristiques – Lieux – Véhicules – Usagers ) au format csv.\n",
    "\n",
    "Ces bases occultent néanmoins certaines données spécifiques relatives aux usagers et aux véhicules et à leur comportement dans la mesure où la divulgation de ces données porterait atteinte à la protection de la vie privée des personnes physiques aisément identifiables ou ferait apparaître le comportement de telles personnes alors que la divulgation de ce comportement pourrait leur porter préjudice (avis de la CADA – 2 janvier 2012)."
   ]
  },
  {
   "cell_type": "markdown",
   "metadata": {},
   "source": [
    "# Téléchargement de la documentation\n",
    "https://www.data.gouv.fr/fr/datasets/r/36496bab-a042-47bf-b08b-3c7467f2bddf"
   ]
  },
  {
   "cell_type": "markdown",
   "metadata": {},
   "source": [
    "# données\n",
    "https://www.data.gouv.fr/fr/datasets/r/be2191a6-a7cd-446f-a9fc-8d698688eb9e\n",
    "\n",
    "https://www.data.gouv.fr/fr/datasets/r/e4c6f4fe-7c68-4a1d-9bb6-b0f1f5d45526\n",
    "\n",
    "https://www.data.gouv.fr/fr/datasets/r/08b77510-39c4-4761-bf02-19457264790f\n",
    "\n",
    "https://www.data.gouv.fr/fr/datasets/r/96aadc9f-0b55-4e9a-a70e-c627ed97e6f7\n"
   ]
  },
  {
   "cell_type": "code",
   "execution_count": 197,
   "metadata": {},
   "outputs": [
    {
     "name": "stdout",
     "output_type": "stream",
     "text": [
      "[master 6c654c3] ibo2_next\n",
      " 1 file changed, 546 insertions(+), 14 deletions(-)\n",
      "Counting objects: 3, done.\n",
      "Delta compression using up to 8 threads.\n",
      "Compressing objects: 100% (3/3), done.\n",
      "Writing objects: 100% (3/3), 88.67 KiB | 14.78 MiB/s, done.\n",
      "Total 3 (delta 1), reused 0 (delta 0)\n",
      "remote: Resolving deltas: 100% (1/1), completed with 1 local object.\u001b[K\n",
      "To https://github.com/romainjouin/formation_python/\n",
      "   eb6cc35..6c654c3  master -> master\n"
     ]
    }
   ],
   "source": [
    "!git add ib02_accidents_corporels_de_la_circulation.ipynb\n",
    "!git commit -m \"ibo2_next\"\n",
    "!git push origin"
   ]
  },
  {
   "cell_type": "markdown",
   "metadata": {},
   "source": [
    "# -1) imports"
   ]
  },
  {
   "cell_type": "code",
   "execution_count": null,
   "metadata": {},
   "outputs": [],
   "source": []
  },
  {
   "cell_type": "code",
   "execution_count": 9,
   "metadata": {},
   "outputs": [],
   "source": [
    "%matplotlib inline\n",
    "import seaborn as sns"
   ]
  },
  {
   "cell_type": "code",
   "execution_count": 10,
   "metadata": {},
   "outputs": [],
   "source": [
    "import pandas as pd"
   ]
  },
  {
   "cell_type": "code",
   "execution_count": 11,
   "metadata": {},
   "outputs": [],
   "source": [
    "import pandas as pd"
   ]
  },
  {
   "cell_type": "markdown",
   "metadata": {},
   "source": [
    "# 0) Téléchargement des données : base des lieux"
   ]
  },
  {
   "cell_type": "code",
   "execution_count": 54,
   "metadata": {},
   "outputs": [
    {
     "name": "stderr",
     "output_type": "stream",
     "text": [
      "/Users/romain/anaconda3/lib/python3.6/site-packages/IPython/core/interactiveshell.py:2785: DtypeWarning: Columns (2) have mixed types. Specify dtype option on import or set low_memory=False.\n",
      "  interactivity=interactivity, compiler=compiler, result=result)\n"
     ]
    }
   ],
   "source": [
    "base_des_lieux = \"https://www.data.gouv.fr/fr/datasets/r/08b77510-39c4-4761-bf02-19457264790f\" \n",
    "path = base_des_lieux\n",
    "lieux = pd.read_csv(path, encoding=\"latin1\")"
   ]
  },
  {
   "cell_type": "code",
   "execution_count": 55,
   "metadata": {},
   "outputs": [
    {
     "data": {
      "text/html": [
       "<div>\n",
       "<style scoped>\n",
       "    .dataframe tbody tr th:only-of-type {\n",
       "        vertical-align: middle;\n",
       "    }\n",
       "\n",
       "    .dataframe tbody tr th {\n",
       "        vertical-align: top;\n",
       "    }\n",
       "\n",
       "    .dataframe thead th {\n",
       "        text-align: right;\n",
       "    }\n",
       "</style>\n",
       "<table border=\"1\" class=\"dataframe\">\n",
       "  <thead>\n",
       "    <tr style=\"text-align: right;\">\n",
       "      <th></th>\n",
       "      <th>0</th>\n",
       "      <th>1</th>\n",
       "      <th>2</th>\n",
       "      <th>3</th>\n",
       "      <th>4</th>\n",
       "    </tr>\n",
       "  </thead>\n",
       "  <tbody>\n",
       "    <tr>\n",
       "      <th>Num_Acc</th>\n",
       "      <td>201600000001</td>\n",
       "      <td>201600000002</td>\n",
       "      <td>201600000003</td>\n",
       "      <td>201600000004</td>\n",
       "      <td>201600000005</td>\n",
       "    </tr>\n",
       "    <tr>\n",
       "      <th>catr</th>\n",
       "      <td>3</td>\n",
       "      <td>3</td>\n",
       "      <td>3</td>\n",
       "      <td>4</td>\n",
       "      <td>4</td>\n",
       "    </tr>\n",
       "    <tr>\n",
       "      <th>voie</th>\n",
       "      <td>39</td>\n",
       "      <td>39</td>\n",
       "      <td>1</td>\n",
       "      <td>0</td>\n",
       "      <td>0</td>\n",
       "    </tr>\n",
       "    <tr>\n",
       "      <th>v1</th>\n",
       "      <td>NaN</td>\n",
       "      <td>NaN</td>\n",
       "      <td>NaN</td>\n",
       "      <td>NaN</td>\n",
       "      <td>NaN</td>\n",
       "    </tr>\n",
       "    <tr>\n",
       "      <th>v2</th>\n",
       "      <td>NaN</td>\n",
       "      <td>NaN</td>\n",
       "      <td>NaN</td>\n",
       "      <td>NaN</td>\n",
       "      <td>NaN</td>\n",
       "    </tr>\n",
       "    <tr>\n",
       "      <th>circ</th>\n",
       "      <td>2</td>\n",
       "      <td>1</td>\n",
       "      <td>2</td>\n",
       "      <td>2</td>\n",
       "      <td>0</td>\n",
       "    </tr>\n",
       "    <tr>\n",
       "      <th>nbv</th>\n",
       "      <td>0</td>\n",
       "      <td>0</td>\n",
       "      <td>2</td>\n",
       "      <td>0</td>\n",
       "      <td>0</td>\n",
       "    </tr>\n",
       "    <tr>\n",
       "      <th>pr</th>\n",
       "      <td>NaN</td>\n",
       "      <td>NaN</td>\n",
       "      <td>NaN</td>\n",
       "      <td>NaN</td>\n",
       "      <td>NaN</td>\n",
       "    </tr>\n",
       "    <tr>\n",
       "      <th>pr1</th>\n",
       "      <td>NaN</td>\n",
       "      <td>NaN</td>\n",
       "      <td>NaN</td>\n",
       "      <td>NaN</td>\n",
       "      <td>NaN</td>\n",
       "    </tr>\n",
       "    <tr>\n",
       "      <th>vosp</th>\n",
       "      <td>0</td>\n",
       "      <td>0</td>\n",
       "      <td>0</td>\n",
       "      <td>0</td>\n",
       "      <td>0</td>\n",
       "    </tr>\n",
       "    <tr>\n",
       "      <th>prof</th>\n",
       "      <td>1</td>\n",
       "      <td>1</td>\n",
       "      <td>1</td>\n",
       "      <td>1</td>\n",
       "      <td>0</td>\n",
       "    </tr>\n",
       "    <tr>\n",
       "      <th>plan</th>\n",
       "      <td>3</td>\n",
       "      <td>2</td>\n",
       "      <td>3</td>\n",
       "      <td>1</td>\n",
       "      <td>1</td>\n",
       "    </tr>\n",
       "    <tr>\n",
       "      <th>lartpc</th>\n",
       "      <td>0</td>\n",
       "      <td>0</td>\n",
       "      <td>0</td>\n",
       "      <td>0</td>\n",
       "      <td>0</td>\n",
       "    </tr>\n",
       "    <tr>\n",
       "      <th>larrout</th>\n",
       "      <td>0</td>\n",
       "      <td>58</td>\n",
       "      <td>68</td>\n",
       "      <td>0</td>\n",
       "      <td>0</td>\n",
       "    </tr>\n",
       "    <tr>\n",
       "      <th>surf</th>\n",
       "      <td>1</td>\n",
       "      <td>1</td>\n",
       "      <td>2</td>\n",
       "      <td>1</td>\n",
       "      <td>1</td>\n",
       "    </tr>\n",
       "    <tr>\n",
       "      <th>infra</th>\n",
       "      <td>0</td>\n",
       "      <td>0</td>\n",
       "      <td>0</td>\n",
       "      <td>0</td>\n",
       "      <td>0</td>\n",
       "    </tr>\n",
       "    <tr>\n",
       "      <th>situ</th>\n",
       "      <td>1</td>\n",
       "      <td>1</td>\n",
       "      <td>3</td>\n",
       "      <td>1</td>\n",
       "      <td>1</td>\n",
       "    </tr>\n",
       "    <tr>\n",
       "      <th>env1</th>\n",
       "      <td>0</td>\n",
       "      <td>0</td>\n",
       "      <td>99</td>\n",
       "      <td>99</td>\n",
       "      <td>3</td>\n",
       "    </tr>\n",
       "  </tbody>\n",
       "</table>\n",
       "</div>"
      ],
      "text/plain": [
       "                    0             1             2             3             4\n",
       "Num_Acc  201600000001  201600000002  201600000003  201600000004  201600000005\n",
       "catr                3             3             3             4             4\n",
       "voie               39            39             1             0             0\n",
       "v1                NaN           NaN           NaN           NaN           NaN\n",
       "v2                NaN           NaN           NaN           NaN           NaN\n",
       "circ                2             1             2             2             0\n",
       "nbv                 0             0             2             0             0\n",
       "pr                NaN           NaN           NaN           NaN           NaN\n",
       "pr1               NaN           NaN           NaN           NaN           NaN\n",
       "vosp                0             0             0             0             0\n",
       "prof                1             1             1             1             0\n",
       "plan                3             2             3             1             1\n",
       "lartpc              0             0             0             0             0\n",
       "larrout             0            58            68             0             0\n",
       "surf                1             1             2             1             1\n",
       "infra               0             0             0             0             0\n",
       "situ                1             1             3             1             1\n",
       "env1                0             0            99            99             3"
      ]
     },
     "execution_count": 55,
     "metadata": {},
     "output_type": "execute_result"
    }
   ],
   "source": [
    "lieux.head().T"
   ]
  },
  {
   "cell_type": "markdown",
   "metadata": {},
   "source": [
    "# Renommage des colonnes"
   ]
  },
  {
   "cell_type": "code",
   "execution_count": 56,
   "metadata": {},
   "outputs": [
    {
     "data": {
      "text/plain": [
       "Index(['Num_Acc', 'catr', 'voie', 'v1', 'v2', 'circ', 'nbv', 'pr', 'pr1',\n",
       "       'vosp', 'prof', 'plan', 'lartpc', 'larrout', 'surf', 'infra', 'situ',\n",
       "       'env1'],\n",
       "      dtype='object')"
      ]
     },
     "execution_count": 56,
     "metadata": {},
     "output_type": "execute_result"
    }
   ],
   "source": [
    "lieux.columns"
   ]
  },
  {
   "cell_type": "code",
   "execution_count": 76,
   "metadata": {},
   "outputs": [],
   "source": [
    "nouvelles_columns = [\"Num_Acc\", \n",
    "                     \"categorie_route\", \n",
    "                     \"numero_de_route\", \n",
    "                     \"indice_du_numero_de_route\", \n",
    "                     \"indice_alpha\", \n",
    "                     \"regime_de_circulation\", \n",
    "                     \"nb_de_voies\", \n",
    "                     \"numero_de_la_borne_de_rattachemen\",\n",
    "                     \"distance_a_la_borne\",\n",
    "                     \"existence_voie_reservee\", \n",
    "                     \"declivite\",\n",
    "                     \"trace_du_plan\",\n",
    "                     \"largeur_terre_plein\",\n",
    "                     \"largeur_chaussee\", \n",
    "                     \"etat_surface\", \n",
    "                     \"infrastructure\",\n",
    "                     \"endroit\", \"a_une_ecole\"]"
   ]
  },
  {
   "cell_type": "code",
   "execution_count": 77,
   "metadata": {},
   "outputs": [
    {
     "data": {
      "text/plain": [
       "[('Num_Acc', 'Num_Acc'),\n",
       " ('categorie_route', 'catr'),\n",
       " ('numero_de_route', 'voie'),\n",
       " ('indice_du_numero_de_route', 'v1'),\n",
       " ('indice_alpha', 'v2'),\n",
       " ('regime_de_circulation', 'circ'),\n",
       " ('nb_de_voies', 'nbv'),\n",
       " ('numero_de_la_borne_de_rattachemen', 'pr'),\n",
       " ('distance_a_la_borne', 'pr1'),\n",
       " ('existence_voie_reservee', 'vosp'),\n",
       " ('declivite', 'prof'),\n",
       " ('trace_du_plan', 'plan'),\n",
       " ('largeur_terre_plein', 'lartpc'),\n",
       " ('largeur_chaussee', 'larrout'),\n",
       " ('etat_surface', 'surf'),\n",
       " ('infrastructure', 'infra'),\n",
       " ('endroit', 'situ'),\n",
       " ('a_une_ecole', 'env1')]"
      ]
     },
     "execution_count": 77,
     "metadata": {},
     "output_type": "execute_result"
    }
   ],
   "source": [
    "list(zip(nouvelles_columns, lieux.columns))"
   ]
  },
  {
   "cell_type": "code",
   "execution_count": 78,
   "metadata": {},
   "outputs": [],
   "source": [
    "df.columns = nouvelles_columns"
   ]
  },
  {
   "cell_type": "code",
   "execution_count": 79,
   "metadata": {},
   "outputs": [
    {
     "data": {
      "text/html": [
       "<div>\n",
       "<style scoped>\n",
       "    .dataframe tbody tr th:only-of-type {\n",
       "        vertical-align: middle;\n",
       "    }\n",
       "\n",
       "    .dataframe tbody tr th {\n",
       "        vertical-align: top;\n",
       "    }\n",
       "\n",
       "    .dataframe thead th {\n",
       "        text-align: right;\n",
       "    }\n",
       "</style>\n",
       "<table border=\"1\" class=\"dataframe\">\n",
       "  <thead>\n",
       "    <tr style=\"text-align: right;\">\n",
       "      <th></th>\n",
       "      <th>0</th>\n",
       "      <th>1</th>\n",
       "      <th>2</th>\n",
       "      <th>3</th>\n",
       "      <th>4</th>\n",
       "    </tr>\n",
       "  </thead>\n",
       "  <tbody>\n",
       "    <tr>\n",
       "      <th>Num_Acc</th>\n",
       "      <td>201600000001</td>\n",
       "      <td>201600000002</td>\n",
       "      <td>201600000003</td>\n",
       "      <td>201600000004</td>\n",
       "      <td>201600000005</td>\n",
       "    </tr>\n",
       "    <tr>\n",
       "      <th>categorie_route</th>\n",
       "      <td>3</td>\n",
       "      <td>3</td>\n",
       "      <td>3</td>\n",
       "      <td>4</td>\n",
       "      <td>4</td>\n",
       "    </tr>\n",
       "    <tr>\n",
       "      <th>numero_de_route</th>\n",
       "      <td>39</td>\n",
       "      <td>39</td>\n",
       "      <td>1</td>\n",
       "      <td>0</td>\n",
       "      <td>0</td>\n",
       "    </tr>\n",
       "    <tr>\n",
       "      <th>indice_du_numero_de_route</th>\n",
       "      <td>NaN</td>\n",
       "      <td>NaN</td>\n",
       "      <td>NaN</td>\n",
       "      <td>NaN</td>\n",
       "      <td>NaN</td>\n",
       "    </tr>\n",
       "    <tr>\n",
       "      <th>indice_alpha</th>\n",
       "      <td>NaN</td>\n",
       "      <td>NaN</td>\n",
       "      <td>NaN</td>\n",
       "      <td>NaN</td>\n",
       "      <td>NaN</td>\n",
       "    </tr>\n",
       "    <tr>\n",
       "      <th>regime_de_circulation</th>\n",
       "      <td>2</td>\n",
       "      <td>1</td>\n",
       "      <td>2</td>\n",
       "      <td>2</td>\n",
       "      <td>0</td>\n",
       "    </tr>\n",
       "    <tr>\n",
       "      <th>nb_de_voies</th>\n",
       "      <td>0</td>\n",
       "      <td>0</td>\n",
       "      <td>2</td>\n",
       "      <td>0</td>\n",
       "      <td>0</td>\n",
       "    </tr>\n",
       "    <tr>\n",
       "      <th>numero_de_la_borne_de_rattachemen</th>\n",
       "      <td>NaN</td>\n",
       "      <td>NaN</td>\n",
       "      <td>NaN</td>\n",
       "      <td>NaN</td>\n",
       "      <td>NaN</td>\n",
       "    </tr>\n",
       "    <tr>\n",
       "      <th>distance_a_la_borne</th>\n",
       "      <td>NaN</td>\n",
       "      <td>NaN</td>\n",
       "      <td>NaN</td>\n",
       "      <td>NaN</td>\n",
       "      <td>NaN</td>\n",
       "    </tr>\n",
       "    <tr>\n",
       "      <th>existence_voie_reservee</th>\n",
       "      <td>0</td>\n",
       "      <td>0</td>\n",
       "      <td>0</td>\n",
       "      <td>0</td>\n",
       "      <td>0</td>\n",
       "    </tr>\n",
       "    <tr>\n",
       "      <th>declivite</th>\n",
       "      <td>1</td>\n",
       "      <td>1</td>\n",
       "      <td>1</td>\n",
       "      <td>1</td>\n",
       "      <td>0</td>\n",
       "    </tr>\n",
       "    <tr>\n",
       "      <th>trace_du_plan</th>\n",
       "      <td>3</td>\n",
       "      <td>2</td>\n",
       "      <td>3</td>\n",
       "      <td>1</td>\n",
       "      <td>1</td>\n",
       "    </tr>\n",
       "    <tr>\n",
       "      <th>largeur_terre_plein</th>\n",
       "      <td>0</td>\n",
       "      <td>0</td>\n",
       "      <td>0</td>\n",
       "      <td>0</td>\n",
       "      <td>0</td>\n",
       "    </tr>\n",
       "    <tr>\n",
       "      <th>largeur_chaussee</th>\n",
       "      <td>0</td>\n",
       "      <td>58</td>\n",
       "      <td>68</td>\n",
       "      <td>0</td>\n",
       "      <td>0</td>\n",
       "    </tr>\n",
       "    <tr>\n",
       "      <th>etat_surface</th>\n",
       "      <td>1</td>\n",
       "      <td>1</td>\n",
       "      <td>2</td>\n",
       "      <td>1</td>\n",
       "      <td>1</td>\n",
       "    </tr>\n",
       "    <tr>\n",
       "      <th>infrastructure</th>\n",
       "      <td>0</td>\n",
       "      <td>0</td>\n",
       "      <td>0</td>\n",
       "      <td>0</td>\n",
       "      <td>0</td>\n",
       "    </tr>\n",
       "    <tr>\n",
       "      <th>endroit</th>\n",
       "      <td>1</td>\n",
       "      <td>1</td>\n",
       "      <td>3</td>\n",
       "      <td>1</td>\n",
       "      <td>1</td>\n",
       "    </tr>\n",
       "    <tr>\n",
       "      <th>a_une_ecole</th>\n",
       "      <td>0</td>\n",
       "      <td>0</td>\n",
       "      <td>99</td>\n",
       "      <td>99</td>\n",
       "      <td>3</td>\n",
       "    </tr>\n",
       "  </tbody>\n",
       "</table>\n",
       "</div>"
      ],
      "text/plain": [
       "                                              0             1             2  \\\n",
       "Num_Acc                            201600000001  201600000002  201600000003   \n",
       "categorie_route                               3             3             3   \n",
       "numero_de_route                              39            39             1   \n",
       "indice_du_numero_de_route                   NaN           NaN           NaN   \n",
       "indice_alpha                                NaN           NaN           NaN   \n",
       "regime_de_circulation                         2             1             2   \n",
       "nb_de_voies                                   0             0             2   \n",
       "numero_de_la_borne_de_rattachemen           NaN           NaN           NaN   \n",
       "distance_a_la_borne                         NaN           NaN           NaN   \n",
       "existence_voie_reservee                       0             0             0   \n",
       "declivite                                     1             1             1   \n",
       "trace_du_plan                                 3             2             3   \n",
       "largeur_terre_plein                           0             0             0   \n",
       "largeur_chaussee                              0            58            68   \n",
       "etat_surface                                  1             1             2   \n",
       "infrastructure                                0             0             0   \n",
       "endroit                                       1             1             3   \n",
       "a_une_ecole                                   0             0            99   \n",
       "\n",
       "                                              3             4  \n",
       "Num_Acc                            201600000004  201600000005  \n",
       "categorie_route                               4             4  \n",
       "numero_de_route                               0             0  \n",
       "indice_du_numero_de_route                   NaN           NaN  \n",
       "indice_alpha                                NaN           NaN  \n",
       "regime_de_circulation                         2             0  \n",
       "nb_de_voies                                   0             0  \n",
       "numero_de_la_borne_de_rattachemen           NaN           NaN  \n",
       "distance_a_la_borne                         NaN           NaN  \n",
       "existence_voie_reservee                       0             0  \n",
       "declivite                                     1             0  \n",
       "trace_du_plan                                 1             1  \n",
       "largeur_terre_plein                           0             0  \n",
       "largeur_chaussee                              0             0  \n",
       "etat_surface                                  1             1  \n",
       "infrastructure                                0             0  \n",
       "endroit                                       1             1  \n",
       "a_une_ecole                                  99             3  "
      ]
     },
     "execution_count": 79,
     "metadata": {},
     "output_type": "execute_result"
    }
   ],
   "source": [
    "df.head().T"
   ]
  },
  {
   "cell_type": "markdown",
   "metadata": {},
   "source": [
    "# Etudions le nb_de_voie"
   ]
  },
  {
   "cell_type": "code",
   "execution_count": 39,
   "metadata": {},
   "outputs": [
    {
     "data": {
      "text/plain": [
       "array([ 0.,  2.,  1.,  4.,  3., nan,  5.,  6., 10.,  8., 12.,  7., 13.,\n",
       "       11.,  9.])"
      ]
     },
     "execution_count": 39,
     "metadata": {},
     "output_type": "execute_result"
    }
   ],
   "source": [
    "df.nb_de_voies.unique()"
   ]
  },
  {
   "cell_type": "code",
   "execution_count": 41,
   "metadata": {},
   "outputs": [
    {
     "data": {
      "text/plain": [
       " 2.0     31250\n",
       " 0.0      7886\n",
       " 1.0      7452\n",
       " 4.0      5656\n",
       " 3.0      4689\n",
       " 6.0      1383\n",
       " 5.0       575\n",
       " 8.0       259\n",
       "NaN        164\n",
       " 7.0        78\n",
       " 10.0       21\n",
       " 9.0         8\n",
       " 11.0        6\n",
       " 12.0        3\n",
       " 13.0        2\n",
       "Name: nb_de_voies, dtype: int64"
      ]
     },
     "execution_count": 41,
     "metadata": {},
     "output_type": "execute_result"
    }
   ],
   "source": [
    "df.nb_de_voies.value_counts(dropna=False)"
   ]
  },
  {
   "cell_type": "code",
   "execution_count": 42,
   "metadata": {},
   "outputs": [
    {
     "data": {
      "text/plain": [
       "15"
      ]
     },
     "execution_count": 42,
     "metadata": {},
     "output_type": "execute_result"
    }
   ],
   "source": [
    "len(df.nb_de_voies.unique())"
   ]
  },
  {
   "cell_type": "code",
   "execution_count": 47,
   "metadata": {},
   "outputs": [
    {
     "data": {
      "text/plain": [
       "<matplotlib.axes._subplots.AxesSubplot at 0x1a1203fda0>"
      ]
     },
     "execution_count": 47,
     "metadata": {},
     "output_type": "execute_result"
    },
    {
     "data": {
      "image/png": "[encoded data removed]",
      "text/plain": [
       "<Figure size 432x288 with 1 Axes>"
      ]
     },
     "metadata": {},
     "output_type": "display_data"
    }
   ],
   "source": [
    "\n",
    "df.nb_de_voies.plot.hist()"
   ]
  },
  {
   "cell_type": "code",
   "execution_count": 82,
   "metadata": {},
   "outputs": [
    {
     "data": {
      "text/plain": [
       "<matplotlib.axes._subplots.AxesSubplot at 0x1a140aaa90>"
      ]
     },
     "execution_count": 82,
     "metadata": {},
     "output_type": "execute_result"
    },
    {
     "data": {
      "image/png": "[encoded data removed]",
      "text/plain": [
       "<Figure size 432x288 with 1 Axes>"
      ]
     },
     "metadata": {},
     "output_type": "display_data"
    }
   ],
   "source": [
    "title = \"Nombre d'accident par nombre de voies\"\n",
    "to_plot = df.nb_de_voies.value_counts(dropna=False)\n",
    "to_plot.plot.bar(title=title)"
   ]
  },
  {
   "cell_type": "markdown",
   "metadata": {},
   "source": [
    "# analysons la declivite"
   ]
  },
  {
   "cell_type": "markdown",
   "metadata": {},
   "source": [
    "## Multi cursor :\n",
    "\n",
    "1) créer le multi cursor = ALT + clic souris\n",
    "\n",
    "2) se déplacer à droite de toutes les lignes : \n",
    "CMD + flèche droite (sur mac)\n",
    "\n",
    "3) se déplacer à gauche de toutes les lignes : \n",
    "CMD + flèche gauche (sur mac)\n",
    "\n",
    "4) se déplacer d'un mot en le sélectionnant : MAJ + flèche\n",
    "\n",
    "5) rajouter des guillements autour de la sélection : guillemets"
   ]
  },
  {
   "cell_type": "markdown",
   "metadata": {},
   "source": [
    "## Appliquer un dictionnaire pour changer des codes en noms descriptives (par exemple)"
   ]
  },
  {
   "cell_type": "code",
   "execution_count": 87,
   "metadata": {},
   "outputs": [],
   "source": [
    "dico = {\n",
    "0 : \"inconnue\",\n",
    "1 : \"Partie rectiligne\",\n",
    "2 : \"En courbe à gauche \",\n",
    "3 : \"En courbe à droite\",\n",
    "4 : \"En « S »\",\n",
    "}"
   ]
  },
  {
   "cell_type": "code",
   "execution_count": 91,
   "metadata": {},
   "outputs": [],
   "source": [
    "df[\"declivite_enc\"] = df.declivite.map(dico)"
   ]
  },
  {
   "cell_type": "code",
   "execution_count": 92,
   "metadata": {},
   "outputs": [
    {
     "data": {
      "text/plain": [
       "Partie rectiligne       43956\n",
       "En courbe à gauche      8226\n",
       "inconnue                 5431\n",
       "En courbe à droite      1015\n",
       "En « S »                  648\n",
       "Name: declivite_enc, dtype: int64"
      ]
     },
     "execution_count": 92,
     "metadata": {},
     "output_type": "execute_result"
    }
   ],
   "source": [
    "df.declivite_enc.value_counts()"
   ]
  },
  {
   "cell_type": "code",
   "execution_count": 96,
   "metadata": {},
   "outputs": [
    {
     "data": {
      "text/plain": [
       "<matplotlib.axes._subplots.AxesSubplot at 0x1a15acdf60>"
      ]
     },
     "execution_count": 96,
     "metadata": {},
     "output_type": "execute_result"
    },
    {
     "data": {
      "image/png": "[encoded data removed]",
      "text/plain": [
       "<Figure size 432x288 with 1 Axes>"
      ]
     },
     "metadata": {},
     "output_type": "display_data"
    }
   ],
   "source": [
    "title = \"Nb d'accidents par déclivité\"\n",
    "df.declivite_enc.value_counts().plot.barh(title=title)"
   ]
  },
  {
   "cell_type": "code",
   "execution_count": 84,
   "metadata": {},
   "outputs": [
    {
     "data": {
      "text/plain": [
       " 1.0    43956\n",
       " 2.0     8226\n",
       " 0.0     5431\n",
       " 3.0     1015\n",
       " 4.0      648\n",
       "NaN       156\n",
       "Name: declivite, dtype: int64"
      ]
     },
     "execution_count": 84,
     "metadata": {},
     "output_type": "execute_result"
    }
   ],
   "source": [
    "df.declivite.value_counts(dropna=False)"
   ]
  },
  {
   "cell_type": "markdown",
   "metadata": {},
   "source": [
    "# Situation de l'accident"
   ]
  },
  {
   "cell_type": "code",
   "execution_count": 108,
   "metadata": {},
   "outputs": [],
   "source": [
    "dico = {\n",
    "None : \"inconnue\",\n",
    "0 : \"inconnue\",\n",
    "1 : \"Sur chaussée\",\n",
    "2 : \"Sur bande d’arrêt d’urgence \",\n",
    "3 : \"Sur accotement\",\n",
    "4 : \"Sur trottoir\",\n",
    "5 : \"Sur piste cyclable\",\n",
    "}"
   ]
  },
  {
   "cell_type": "code",
   "execution_count": 109,
   "metadata": {},
   "outputs": [
    {
     "data": {
      "text/plain": [
       " 1.0    49199\n",
       " 0.0     4618\n",
       " 3.0     3479\n",
       " 4.0     1008\n",
       " 5.0      427\n",
       " 2.0      408\n",
       "NaN       293\n",
       "Name: endroit, dtype: int64"
      ]
     },
     "execution_count": 109,
     "metadata": {},
     "output_type": "execute_result"
    }
   ],
   "source": [
    "df.endroit.value_counts(dropna=False)"
   ]
  },
  {
   "cell_type": "code",
   "execution_count": 110,
   "metadata": {},
   "outputs": [],
   "source": [
    "df[\"endroit_enc\"] = df.endroit.map(dico)"
   ]
  },
  {
   "cell_type": "code",
   "execution_count": 111,
   "metadata": {},
   "outputs": [
    {
     "data": {
      "text/plain": [
       "Sur chaussée                    49199\n",
       "inconnue                          4911\n",
       "Sur accotement                    3479\n",
       "Sur trottoir                      1008\n",
       "Sur piste cyclable                 427\n",
       "Sur bande d’arrêt d’urgence       408\n",
       "Name: endroit_enc, dtype: int64"
      ]
     },
     "execution_count": 111,
     "metadata": {},
     "output_type": "execute_result"
    }
   ],
   "source": [
    "df.endroit_enc.value_counts(dropna=False)"
   ]
  },
  {
   "cell_type": "code",
   "execution_count": 117,
   "metadata": {},
   "outputs": [],
   "source": [
    "dico = {\n",
    "1 : \"normale \",\n",
    "2 : \"mouillée\",\n",
    "3 : \"flaques\",\n",
    "4 : \"inondée\",\n",
    "5 : \"enneigée\",\n",
    "6 : \"boue\",\n",
    "7 : \"verglacée\",\n",
    "8 : \"corps gras - huile \",\n",
    "9 : \"autre\",\n",
    "}"
   ]
  },
  {
   "cell_type": "code",
   "execution_count": 118,
   "metadata": {},
   "outputs": [],
   "source": [
    "df[\"etat_surface_enc\"]= df.etat_surface.map(dico)"
   ]
  },
  {
   "cell_type": "markdown",
   "metadata": {},
   "source": [
    "# Influence de l'état de la surface sur le lieu de l'accident"
   ]
  },
  {
   "cell_type": "code",
   "execution_count": 112,
   "metadata": {},
   "outputs": [
    {
     "data": {
      "text/plain": [
       "Index(['Num_Acc', 'categorie_route', 'numero_de_route',\n",
       "       'indice_du_numero_de_route', 'indice_alpha', 'regime_de_circulation',\n",
       "       'nb_de_voies', 'numero_de_la_borne_de_rattachemen',\n",
       "       'distance_a_la_borne', 'existence_voie_reservee', 'declivite',\n",
       "       'trace_du_plan', 'largeur_terre_plein', 'largeur_chaussee',\n",
       "       'etat_surface', 'infrastructure', 'endroit', 'a_une_ecole',\n",
       "       'declivite_enc', 'endroit_enc'],\n",
       "      dtype='object')"
      ]
     },
     "execution_count": 112,
     "metadata": {},
     "output_type": "execute_result"
    }
   ],
   "source": [
    "df.columns"
   ]
  },
  {
   "cell_type": "code",
   "execution_count": 120,
   "metadata": {},
   "outputs": [],
   "source": [
    "gp_count = df.groupby([\"etat_surface_enc\", \"endroit_enc\"])[\"Num_Acc\"].count()"
   ]
  },
  {
   "cell_type": "code",
   "execution_count": 124,
   "metadata": {},
   "outputs": [],
   "source": [
    "import numpy as np"
   ]
  },
  {
   "cell_type": "code",
   "execution_count": 131,
   "metadata": {},
   "outputs": [
    {
     "data": {
      "text/plain": [
       "56073"
      ]
     },
     "execution_count": 131,
     "metadata": {},
     "output_type": "execute_result"
    }
   ],
   "source": [
    "somme = gp_count.values.sum()\n",
    "somme"
   ]
  },
  {
   "cell_type": "code",
   "execution_count": 144,
   "metadata": {},
   "outputs": [],
   "source": [
    "taille_des_cercles = [500*(x / max_) for x in gp_count.values]"
   ]
  },
  {
   "cell_type": "code",
   "execution_count": 145,
   "metadata": {},
   "outputs": [
    {
     "data": {
      "text/plain": [
       "<matplotlib.axes._subplots.AxesSubplot at 0x1a24821ba8>"
      ]
     },
     "execution_count": 145,
     "metadata": {},
     "output_type": "execute_result"
    },
    {
     "data": {
      "image/png": "[encoded data removed]",
      "text/plain": [
       "<Figure size 432x288 with 1 Axes>"
      ]
     },
     "metadata": {},
     "output_type": "display_data"
    }
   ],
   "source": [
    "df.plot.scatter(\"etat_surface\", \"endroit\",s=taille_des_cercles)"
   ]
  },
  {
   "cell_type": "code",
   "execution_count": 237,
   "metadata": {},
   "outputs": [
    {
     "data": {
      "text/plain": [
       "<matplotlib.axes._subplots.AxesSubplot at 0x1a2842afd0>"
      ]
     },
     "execution_count": 237,
     "metadata": {},
     "output_type": "execute_result"
    },
    {
     "data": {
      "image/png": "[encoded data removed]",
      "text/plain": [
       "<Figure size 432x288 with 1 Axes>"
      ]
     },
     "metadata": {},
     "output_type": "display_data"
    }
   ],
   "source": [
    "df.plot.scatter(\"etat_surface\", \"endroit\",alpha=0.01)"
   ]
  },
  {
   "cell_type": "markdown",
   "metadata": {},
   "source": [
    "# Scatter plot en seaborn"
   ]
  },
  {
   "cell_type": "code",
   "execution_count": 253,
   "metadata": {},
   "outputs": [],
   "source": [
    "_ = ax.get_xticklabels()[0]"
   ]
  },
  {
   "cell_type": "code",
   "execution_count": 257,
   "metadata": {},
   "outputs": [
    {
     "data": {
      "text/plain": [
       "{1: 'normale ',\n",
       " 2: 'mouillée',\n",
       " 3: 'flaques',\n",
       " 4: 'inondée',\n",
       " 5: 'enneigée',\n",
       " 6: 'boue',\n",
       " 7: 'verglacée',\n",
       " 8: 'corps gras - huile ',\n",
       " 9: 'autre'}"
      ]
     },
     "execution_count": 257,
     "metadata": {},
     "output_type": "execute_result"
    }
   ],
   "source": [
    "dico"
   ]
  },
  {
   "cell_type": "code",
   "execution_count": 263,
   "metadata": {},
   "outputs": [
    {
     "data": {
      "text/plain": [
       "['',\n",
       " 'normale ',\n",
       " 'mouillée',\n",
       " 'flaques',\n",
       " 'inondée',\n",
       " 'enneigée',\n",
       " 'boue',\n",
       " 'verglacée',\n",
       " 'corps gras - huile ',\n",
       " 'autre']"
      ]
     },
     "execution_count": 263,
     "metadata": {},
     "output_type": "execute_result"
    }
   ],
   "source": []
  },
  {
   "cell_type": "code",
   "execution_count": 267,
   "metadata": {},
   "outputs": [
    {
     "data": {
      "text/plain": [
       "[Text(0,0,''),\n",
       " Text(0,0,'normale '),\n",
       " Text(0,0,'mouillée'),\n",
       " Text(0,0,'flaques'),\n",
       " Text(0,0,'inondée'),\n",
       " Text(0,0,'enneigée'),\n",
       " Text(0,0,'boue'),\n",
       " Text(0,0,'verglacée'),\n",
       " Text(0,0,'corps gras - huile '),\n",
       " Text(0,0,'autre')]"
      ]
     },
     "execution_count": 267,
     "metadata": {},
     "output_type": "execute_result"
    },
    {
     "data": {
      "image/png": "[encoded data removed]",
      "text/plain": [
       "<Figure size 432x288 with 1 Axes>"
      ]
     },
     "metadata": {},
     "output_type": "display_data"
    }
   ],
   "source": [
    "ax = sns.stripplot(x=\"etat_surface\", y=\"endroit\", data=df, jitter=True, alpha=0.1)\n",
    "ax.set_xticklabels([dico.get(int(x.get_text().replace(\".0\", \"\")), \"\") for x in ax.get_xticklabels()], rotation=45)\n"
   ]
  },
  {
   "cell_type": "markdown",
   "metadata": {},
   "source": [
    "# Seaborn"
   ]
  },
  {
   "cell_type": "code",
   "execution_count": 148,
   "metadata": {},
   "outputs": [],
   "source": [
    "import seaborn as sns"
   ]
  },
  {
   "cell_type": "code",
   "execution_count": 150,
   "metadata": {},
   "outputs": [
    {
     "data": {
      "text/html": [
       "<div>\n",
       "<style scoped>\n",
       "    .dataframe tbody tr th:only-of-type {\n",
       "        vertical-align: middle;\n",
       "    }\n",
       "\n",
       "    .dataframe tbody tr th {\n",
       "        vertical-align: top;\n",
       "    }\n",
       "\n",
       "    .dataframe thead th {\n",
       "        text-align: right;\n",
       "    }\n",
       "</style>\n",
       "<table border=\"1\" class=\"dataframe\">\n",
       "  <thead>\n",
       "    <tr style=\"text-align: right;\">\n",
       "      <th>etat_surface_enc</th>\n",
       "      <th>autre</th>\n",
       "      <th>boue</th>\n",
       "      <th>corps gras - huile</th>\n",
       "      <th>enneigée</th>\n",
       "      <th>flaques</th>\n",
       "      <th>inondée</th>\n",
       "      <th>mouillée</th>\n",
       "      <th>normale</th>\n",
       "      <th>verglacée</th>\n",
       "    </tr>\n",
       "    <tr>\n",
       "      <th>endroit_enc</th>\n",
       "      <th></th>\n",
       "      <th></th>\n",
       "      <th></th>\n",
       "      <th></th>\n",
       "      <th></th>\n",
       "      <th></th>\n",
       "      <th></th>\n",
       "      <th></th>\n",
       "      <th></th>\n",
       "    </tr>\n",
       "  </thead>\n",
       "  <tbody>\n",
       "    <tr>\n",
       "      <th>Sur accotement</th>\n",
       "      <td>52.0</td>\n",
       "      <td>10.0</td>\n",
       "      <td>9.0</td>\n",
       "      <td>12.0</td>\n",
       "      <td>11.0</td>\n",
       "      <td>2.0</td>\n",
       "      <td>844.0</td>\n",
       "      <td>2364.0</td>\n",
       "      <td>82.0</td>\n",
       "    </tr>\n",
       "    <tr>\n",
       "      <th>Sur bande d’arrêt d’urgence</th>\n",
       "      <td>3.0</td>\n",
       "      <td>NaN</td>\n",
       "      <td>1.0</td>\n",
       "      <td>1.0</td>\n",
       "      <td>2.0</td>\n",
       "      <td>1.0</td>\n",
       "      <td>107.0</td>\n",
       "      <td>280.0</td>\n",
       "      <td>1.0</td>\n",
       "    </tr>\n",
       "    <tr>\n",
       "      <th>Sur chaussée</th>\n",
       "      <td>176.0</td>\n",
       "      <td>22.0</td>\n",
       "      <td>106.0</td>\n",
       "      <td>43.0</td>\n",
       "      <td>55.0</td>\n",
       "      <td>14.0</td>\n",
       "      <td>8980.0</td>\n",
       "      <td>37566.0</td>\n",
       "      <td>156.0</td>\n",
       "    </tr>\n",
       "    <tr>\n",
       "      <th>Sur piste cyclable</th>\n",
       "      <td>1.0</td>\n",
       "      <td>NaN</td>\n",
       "      <td>NaN</td>\n",
       "      <td>NaN</td>\n",
       "      <td>1.0</td>\n",
       "      <td>NaN</td>\n",
       "      <td>58.0</td>\n",
       "      <td>346.0</td>\n",
       "      <td>NaN</td>\n",
       "    </tr>\n",
       "    <tr>\n",
       "      <th>Sur trottoir</th>\n",
       "      <td>4.0</td>\n",
       "      <td>2.0</td>\n",
       "      <td>1.0</td>\n",
       "      <td>2.0</td>\n",
       "      <td>1.0</td>\n",
       "      <td>NaN</td>\n",
       "      <td>163.0</td>\n",
       "      <td>779.0</td>\n",
       "      <td>3.0</td>\n",
       "    </tr>\n",
       "    <tr>\n",
       "      <th>inconnue</th>\n",
       "      <td>32.0</td>\n",
       "      <td>1.0</td>\n",
       "      <td>6.0</td>\n",
       "      <td>2.0</td>\n",
       "      <td>9.0</td>\n",
       "      <td>4.0</td>\n",
       "      <td>629.0</td>\n",
       "      <td>3116.0</td>\n",
       "      <td>13.0</td>\n",
       "    </tr>\n",
       "  </tbody>\n",
       "</table>\n",
       "</div>"
      ],
      "text/plain": [
       "etat_surface_enc               autre  boue  corps gras - huile   enneigée  \\\n",
       "endroit_enc                                                                  \n",
       "Sur accotement                  52.0  10.0                  9.0       12.0   \n",
       "Sur bande d’arrêt d’urgence     3.0   NaN                  1.0        1.0   \n",
       "Sur chaussée                  176.0  22.0                106.0       43.0   \n",
       "Sur piste cyclable               1.0   NaN                  NaN        NaN   \n",
       "Sur trottoir                     4.0   2.0                  1.0        2.0   \n",
       "inconnue                        32.0   1.0                  6.0        2.0   \n",
       "\n",
       "etat_surface_enc               flaques  inondée  mouillée  normale   \\\n",
       "endroit_enc                                                             \n",
       "Sur accotement                    11.0       2.0      844.0    2364.0   \n",
       "Sur bande d’arrêt d’urgence       2.0       1.0      107.0     280.0   \n",
       "Sur chaussée                     55.0      14.0     8980.0   37566.0   \n",
       "Sur piste cyclable                 1.0       NaN       58.0     346.0   \n",
       "Sur trottoir                       1.0       NaN      163.0     779.0   \n",
       "inconnue                           9.0       4.0      629.0    3116.0   \n",
       "\n",
       "etat_surface_enc               verglacée  \n",
       "endroit_enc                                \n",
       "Sur accotement                       82.0  \n",
       "Sur bande d’arrêt d’urgence          1.0  \n",
       "Sur chaussée                       156.0  \n",
       "Sur piste cyclable                    NaN  \n",
       "Sur trottoir                          3.0  \n",
       "inconnue                             13.0  "
      ]
     },
     "execution_count": 150,
     "metadata": {},
     "output_type": "execute_result"
    }
   ],
   "source": [
    "tab = df.pivot_table(                      columns=\"etat_surface_enc\", \n",
    "               index=\"endroit_enc\",   values=\"Num_Acc\",\n",
    "                                      aggfunc=\"count\")\n",
    "tab"
   ]
  },
  {
   "cell_type": "code",
   "execution_count": 170,
   "metadata": {},
   "outputs": [],
   "source": [
    "gp_count = df.groupby([\"etat_surface_enc\", \"endroit_enc\"])[\"Num_Acc\"].count()"
   ]
  },
  {
   "cell_type": "code",
   "execution_count": 171,
   "metadata": {},
   "outputs": [
    {
     "data": {
      "text/plain": [
       "array([   52,     3,   176,     1,     4,    32,    10,    22,     2,\n",
       "           1,     9,     1,   106,     1,     6,    12,     1,    43,\n",
       "           2,     2,    11,     2,    55,     1,     1,     9,     2,\n",
       "           1,    14,     4,   844,   107,  8980,    58,   163,   629,\n",
       "        2364,   280, 37566,   346,   779,  3116,    82,     1,   156,\n",
       "           3,    13])"
      ]
     },
     "execution_count": 171,
     "metadata": {},
     "output_type": "execute_result"
    }
   ],
   "source": [
    "gp_count.values"
   ]
  },
  {
   "cell_type": "code",
   "execution_count": 167,
   "metadata": {},
   "outputs": [],
   "source": [
    "s = pd.Series(gp_count.values)"
   ]
  },
  {
   "cell_type": "code",
   "execution_count": 176,
   "metadata": {},
   "outputs": [],
   "source": [
    "_n_eme_centile = s.quantile(0.93)"
   ]
  },
  {
   "cell_type": "markdown",
   "metadata": {},
   "source": [
    "# Changer la taille d'une figure"
   ]
  },
  {
   "cell_type": "code",
   "execution_count": 188,
   "metadata": {},
   "outputs": [],
   "source": [
    "from matplotlib import pyplot as plt"
   ]
  },
  {
   "cell_type": "code",
   "execution_count": 196,
   "metadata": {},
   "outputs": [
    {
     "data": {
      "image/png": "[encoded data removed]",
      "text/plain": [
       "<Figure size 720x360 with 2 Axes>"
      ]
     },
     "metadata": {},
     "output_type": "display_data"
    }
   ],
   "source": [
    "title = \"Nombre d'accidents en fonction de l'endroit et de la surface\"\n",
    "sns.heatmap(tab, vmax=_n_eme_centile, annot=True, fmt=\"\", cmap=\"Reds\")\n",
    "fig = plt.gcf()\n",
    "fig.set_size_inches(10,5)\n",
    "fig.suptitle(title);"
   ]
  },
  {
   "cell_type": "code",
   "execution_count": 219,
   "metadata": {},
   "outputs": [
    {
     "data": {
      "image/png": "[encoded data removed]",
      "text/plain": [
       "<Figure size 720x360 with 2 Axes>"
      ]
     },
     "metadata": {},
     "output_type": "display_data"
    }
   ],
   "source": [
    "title = \"% d'accidents en fonction de l'endroit et de la surface\"\n",
    "sns.heatmap(tab.div(tab.sum().sum()),  annot=True,cmap=\"Reds\", fmt=\".1%\")\n",
    "fig = plt.gcf()\n",
    "fig.set_size_inches(10,5)\n",
    "fig.suptitle(title);\n"
   ]
  },
  {
   "cell_type": "code",
   "execution_count": 224,
   "metadata": {},
   "outputs": [
    {
     "data": {
      "image/png": "[encoded data removed]",
      "text/plain": [
       "<Figure size 720x360 with 2 Axes>"
      ]
     },
     "metadata": {},
     "output_type": "display_data"
    }
   ],
   "source": [
    "title = \"% d'accidents par typologie de surface et d'endroit\"\n",
    "sns.heatmap(tab.div(tab.sum()),  annot=True,cmap=\"Reds\", fmt=\".1%\")\n",
    "fig = plt.gcf()\n",
    "fig.set_size_inches(10,5)\n",
    "fig.suptitle(title);"
   ]
  },
  {
   "cell_type": "code",
   "execution_count": 236,
   "metadata": {},
   "outputs": [
    {
     "data": {
      "image/png": "[encoded data removed]",
      "text/plain": [
       "<Figure size 720x360 with 2 Axes>"
      ]
     },
     "metadata": {},
     "output_type": "display_data"
    }
   ],
   "source": [
    "title = \"% d'accidents par typologie d'endroit et de surface\"\n",
    "sns.heatmap(tab.div(tab.sum(axis=1), axis=0),  annot=True,cmap=\"Reds\", fmt=\".1%\")\n",
    "fig = plt.gcf()\n",
    "fig.set_size_inches(10,5)\n",
    "fig.suptitle(title);"
   ]
  },
  {
   "cell_type": "markdown",
   "metadata": {},
   "source": [
    "# Taille du dataset"
   ]
  },
  {
   "cell_type": "code",
   "execution_count": 27,
   "metadata": {},
   "outputs": [
    {
     "data": {
      "text/plain": [
       "(59432, 18)"
      ]
     },
     "execution_count": 27,
     "metadata": {},
     "output_type": "execute_result"
    }
   ],
   "source": [
    "lieux.shape"
   ]
  },
  {
   "cell_type": "code",
   "execution_count": 24,
   "metadata": {},
   "outputs": [
    {
     "data": {
      "text/plain": [
       "(133422, 12)"
      ]
     },
     "execution_count": 24,
     "metadata": {},
     "output_type": "execute_result"
    }
   ],
   "source": [
    "url_usagers = \"https://www.data.gouv.fr/fr/datasets/r/e4c6f4fe-7c68-4a1d-9bb6-b0f1f5d45526\"\n",
    "usagers =pd.read_csv(url_usagers, encoding=\"latin1\")\n",
    "usagers.shape"
   ]
  },
  {
   "cell_type": "code",
   "execution_count": null,
   "metadata": {},
   "outputs": [],
   "source": []
  }
 ],
 "metadata": {
  "kernelspec": {
   "display_name": "Python 3",
   "language": "python",
   "name": "python3"
  },
  "language_info": {
   "codemirror_mode": {
    "name": "ipython",
    "version": 3
   },
   "file_extension": ".py",
   "mimetype": "text/x-python",
   "name": "python",
   "nbconvert_exporter": "python",
   "pygments_lexer": "ipython3",
   "version": "3.6.5"
  }
 },
 "nbformat": 4,
 "nbformat_minor": 2
}
