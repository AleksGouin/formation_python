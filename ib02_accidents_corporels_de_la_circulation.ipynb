{
 "cells": [
  {
   "cell_type": "markdown",
   "metadata": {},
   "source": [
    "# Base de données accidents corporels de la circulation\n",
    "https://www.data.gouv.fr/fr/datasets/base-de-donnees-accidents-corporels-de-la-circulation/\n",
    "\n",
    "Ce jeu de données provient d'un service public certifié\n",
    " NEC MERGITUR\n",
    "Pour chaque accident corporel (soit un accident survenu sur une voie ouverte à la circulation publique, impliquant au moins un véhicule et ayant fait au moins une victime ayant nécessité des soins), des saisies d’information décrivant l’accident sont effectuées par l’unité des forces de l’ordre (police, gendarmerie, etc.) qui est intervenue sur le lieu de l’accident. Ces saisies sont rassemblées dans une fiche intitulée bulletin d’analyse des accidents corporels. L’ensemble de ces fiches constitue le fichier national des accidents corporels de la circulation dit \" Fichier BAAC \" administré par l’Observatoire national interministériel de la sécurité routière \"ONISR\".\n",
    "\n",
    "Les bases de données, extraites du fichier BAAC, répertorient l'intégralité des accidents corporels de la circulation intervenus durant une année précise en France métropolitaine ainsi que les départements d’Outre-mer (Guadeloupe, Guyane, Martinique, La Réunion et Mayotte depuis 2012) avec une description simplifiée. Cela comprend des informations de localisation de l’accident, telles que renseignées ainsi que des informations concernant les caractéristiques de l’accident et son lieu, les véhicules impliqués et leurs victimes.\n",
    "\n",
    "Par rapport aux bases de données agrégées 2005-2010 et 2006-2011 actuellement disponibles sur le site www.data.gouv.fr, les bases de données de 2005 à 2016 sont désormais annuelles et composées de 4 fichiers (Caractéristiques – Lieux – Véhicules – Usagers ) au format csv.\n",
    "\n",
    "Ces bases occultent néanmoins certaines données spécifiques relatives aux usagers et aux véhicules et à leur comportement dans la mesure où la divulgation de ces données porterait atteinte à la protection de la vie privée des personnes physiques aisément identifiables ou ferait apparaître le comportement de telles personnes alors que la divulgation de ce comportement pourrait leur porter préjudice (avis de la CADA – 2 janvier 2012)."
   ]
  },
  {
   "cell_type": "markdown",
   "metadata": {},
   "source": [
    "# Téléchargement de la documentation\n",
    "https://www.data.gouv.fr/fr/datasets/r/36496bab-a042-47bf-b08b-3c7467f2bddf"
   ]
  },
  {
   "cell_type": "markdown",
   "metadata": {},
   "source": [
    "# données\n",
    "https://www.data.gouv.fr/fr/datasets/r/be2191a6-a7cd-446f-a9fc-8d698688eb9e\n",
    "\n",
    "https://www.data.gouv.fr/fr/datasets/r/e4c6f4fe-7c68-4a1d-9bb6-b0f1f5d45526\n",
    "\n",
    "https://www.data.gouv.fr/fr/datasets/r/08b77510-39c4-4761-bf02-19457264790f\n",
    "\n",
    "https://www.data.gouv.fr/fr/datasets/r/96aadc9f-0b55-4e9a-a70e-c627ed97e6f7\n"
   ]
  },
  {
   "cell_type": "code",
   "execution_count": 81,
   "metadata": {},
   "outputs": [
    {
     "name": "stdout",
     "output_type": "stream",
     "text": [
      "[master e90b6a6] ibo2_next\n",
      " 1 file changed, 185 insertions(+), 84 deletions(-)\n",
      "Counting objects: 9, done.\n",
      "Delta compression using up to 8 threads.\n",
      "Compressing objects: 100% (9/9), done.\n",
      "Writing objects: 100% (9/9), 20.22 KiB | 10.11 MiB/s, done.\n",
      "Total 9 (delta 5), reused 0 (delta 0)\n",
      "remote: Resolving deltas: 100% (5/5), completed with 1 local object.\u001b[K\n",
      "To https://github.com/romainjouin/formation_python/\n",
      "   abdc538..e90b6a6  master -> master\n"
     ]
    }
   ],
   "source": [
    "!git add ib02_accidents_corporels_de_la_circulation.ipynb\n",
    "!git commit -m \"ibo2_next\"\n",
    "!git push origin"
   ]
  },
  {
   "cell_type": "markdown",
   "metadata": {},
   "source": [
    "# -1) imports"
   ]
  },
  {
   "cell_type": "code",
   "execution_count": null,
   "metadata": {},
   "outputs": [],
   "source": []
  },
  {
   "cell_type": "code",
   "execution_count": 9,
   "metadata": {},
   "outputs": [],
   "source": [
    "%matplotlib inline\n",
    "import seaborn as sns"
   ]
  },
  {
   "cell_type": "code",
   "execution_count": 10,
   "metadata": {},
   "outputs": [],
   "source": [
    "import pandas as pd"
   ]
  },
  {
   "cell_type": "code",
   "execution_count": 11,
   "metadata": {},
   "outputs": [],
   "source": [
    "import pandas as pd"
   ]
  },
  {
   "cell_type": "markdown",
   "metadata": {},
   "source": [
    "# 0) Téléchargement des données : base des lieux"
   ]
  },
  {
   "cell_type": "code",
   "execution_count": 54,
   "metadata": {},
   "outputs": [
    {
     "name": "stderr",
     "output_type": "stream",
     "text": [
      "/Users/romain/anaconda3/lib/python3.6/site-packages/IPython/core/interactiveshell.py:2785: DtypeWarning: Columns (2) have mixed types. Specify dtype option on import or set low_memory=False.\n",
      "  interactivity=interactivity, compiler=compiler, result=result)\n"
     ]
    }
   ],
   "source": [
    "base_des_lieux = \"https://www.data.gouv.fr/fr/datasets/r/08b77510-39c4-4761-bf02-19457264790f\" \n",
    "path = base_des_lieux\n",
    "lieux = pd.read_csv(path, encoding=\"latin1\")"
   ]
  },
  {
   "cell_type": "code",
   "execution_count": 55,
   "metadata": {},
   "outputs": [
    {
     "data": {
      "text/html": [
       "<div>\n",
       "<style scoped>\n",
       "    .dataframe tbody tr th:only-of-type {\n",
       "        vertical-align: middle;\n",
       "    }\n",
       "\n",
       "    .dataframe tbody tr th {\n",
       "        vertical-align: top;\n",
       "    }\n",
       "\n",
       "    .dataframe thead th {\n",
       "        text-align: right;\n",
       "    }\n",
       "</style>\n",
       "<table border=\"1\" class=\"dataframe\">\n",
       "  <thead>\n",
       "    <tr style=\"text-align: right;\">\n",
       "      <th></th>\n",
       "      <th>0</th>\n",
       "      <th>1</th>\n",
       "      <th>2</th>\n",
       "      <th>3</th>\n",
       "      <th>4</th>\n",
       "    </tr>\n",
       "  </thead>\n",
       "  <tbody>\n",
       "    <tr>\n",
       "      <th>Num_Acc</th>\n",
       "      <td>201600000001</td>\n",
       "      <td>201600000002</td>\n",
       "      <td>201600000003</td>\n",
       "      <td>201600000004</td>\n",
       "      <td>201600000005</td>\n",
       "    </tr>\n",
       "    <tr>\n",
       "      <th>catr</th>\n",
       "      <td>3</td>\n",
       "      <td>3</td>\n",
       "      <td>3</td>\n",
       "      <td>4</td>\n",
       "      <td>4</td>\n",
       "    </tr>\n",
       "    <tr>\n",
       "      <th>voie</th>\n",
       "      <td>39</td>\n",
       "      <td>39</td>\n",
       "      <td>1</td>\n",
       "      <td>0</td>\n",
       "      <td>0</td>\n",
       "    </tr>\n",
       "    <tr>\n",
       "      <th>v1</th>\n",
       "      <td>NaN</td>\n",
       "      <td>NaN</td>\n",
       "      <td>NaN</td>\n",
       "      <td>NaN</td>\n",
       "      <td>NaN</td>\n",
       "    </tr>\n",
       "    <tr>\n",
       "      <th>v2</th>\n",
       "      <td>NaN</td>\n",
       "      <td>NaN</td>\n",
       "      <td>NaN</td>\n",
       "      <td>NaN</td>\n",
       "      <td>NaN</td>\n",
       "    </tr>\n",
       "    <tr>\n",
       "      <th>circ</th>\n",
       "      <td>2</td>\n",
       "      <td>1</td>\n",
       "      <td>2</td>\n",
       "      <td>2</td>\n",
       "      <td>0</td>\n",
       "    </tr>\n",
       "    <tr>\n",
       "      <th>nbv</th>\n",
       "      <td>0</td>\n",
       "      <td>0</td>\n",
       "      <td>2</td>\n",
       "      <td>0</td>\n",
       "      <td>0</td>\n",
       "    </tr>\n",
       "    <tr>\n",
       "      <th>pr</th>\n",
       "      <td>NaN</td>\n",
       "      <td>NaN</td>\n",
       "      <td>NaN</td>\n",
       "      <td>NaN</td>\n",
       "      <td>NaN</td>\n",
       "    </tr>\n",
       "    <tr>\n",
       "      <th>pr1</th>\n",
       "      <td>NaN</td>\n",
       "      <td>NaN</td>\n",
       "      <td>NaN</td>\n",
       "      <td>NaN</td>\n",
       "      <td>NaN</td>\n",
       "    </tr>\n",
       "    <tr>\n",
       "      <th>vosp</th>\n",
       "      <td>0</td>\n",
       "      <td>0</td>\n",
       "      <td>0</td>\n",
       "      <td>0</td>\n",
       "      <td>0</td>\n",
       "    </tr>\n",
       "    <tr>\n",
       "      <th>prof</th>\n",
       "      <td>1</td>\n",
       "      <td>1</td>\n",
       "      <td>1</td>\n",
       "      <td>1</td>\n",
       "      <td>0</td>\n",
       "    </tr>\n",
       "    <tr>\n",
       "      <th>plan</th>\n",
       "      <td>3</td>\n",
       "      <td>2</td>\n",
       "      <td>3</td>\n",
       "      <td>1</td>\n",
       "      <td>1</td>\n",
       "    </tr>\n",
       "    <tr>\n",
       "      <th>lartpc</th>\n",
       "      <td>0</td>\n",
       "      <td>0</td>\n",
       "      <td>0</td>\n",
       "      <td>0</td>\n",
       "      <td>0</td>\n",
       "    </tr>\n",
       "    <tr>\n",
       "      <th>larrout</th>\n",
       "      <td>0</td>\n",
       "      <td>58</td>\n",
       "      <td>68</td>\n",
       "      <td>0</td>\n",
       "      <td>0</td>\n",
       "    </tr>\n",
       "    <tr>\n",
       "      <th>surf</th>\n",
       "      <td>1</td>\n",
       "      <td>1</td>\n",
       "      <td>2</td>\n",
       "      <td>1</td>\n",
       "      <td>1</td>\n",
       "    </tr>\n",
       "    <tr>\n",
       "      <th>infra</th>\n",
       "      <td>0</td>\n",
       "      <td>0</td>\n",
       "      <td>0</td>\n",
       "      <td>0</td>\n",
       "      <td>0</td>\n",
       "    </tr>\n",
       "    <tr>\n",
       "      <th>situ</th>\n",
       "      <td>1</td>\n",
       "      <td>1</td>\n",
       "      <td>3</td>\n",
       "      <td>1</td>\n",
       "      <td>1</td>\n",
       "    </tr>\n",
       "    <tr>\n",
       "      <th>env1</th>\n",
       "      <td>0</td>\n",
       "      <td>0</td>\n",
       "      <td>99</td>\n",
       "      <td>99</td>\n",
       "      <td>3</td>\n",
       "    </tr>\n",
       "  </tbody>\n",
       "</table>\n",
       "</div>"
      ],
      "text/plain": [
       "                    0             1             2             3             4\n",
       "Num_Acc  201600000001  201600000002  201600000003  201600000004  201600000005\n",
       "catr                3             3             3             4             4\n",
       "voie               39            39             1             0             0\n",
       "v1                NaN           NaN           NaN           NaN           NaN\n",
       "v2                NaN           NaN           NaN           NaN           NaN\n",
       "circ                2             1             2             2             0\n",
       "nbv                 0             0             2             0             0\n",
       "pr                NaN           NaN           NaN           NaN           NaN\n",
       "pr1               NaN           NaN           NaN           NaN           NaN\n",
       "vosp                0             0             0             0             0\n",
       "prof                1             1             1             1             0\n",
       "plan                3             2             3             1             1\n",
       "lartpc              0             0             0             0             0\n",
       "larrout             0            58            68             0             0\n",
       "surf                1             1             2             1             1\n",
       "infra               0             0             0             0             0\n",
       "situ                1             1             3             1             1\n",
       "env1                0             0            99            99             3"
      ]
     },
     "execution_count": 55,
     "metadata": {},
     "output_type": "execute_result"
    }
   ],
   "source": [
    "lieux.head().T"
   ]
  },
  {
   "cell_type": "markdown",
   "metadata": {},
   "source": [
    "# Renommage des colonnes"
   ]
  },
  {
   "cell_type": "code",
   "execution_count": 56,
   "metadata": {},
   "outputs": [
    {
     "data": {
      "text/plain": [
       "Index(['Num_Acc', 'catr', 'voie', 'v1', 'v2', 'circ', 'nbv', 'pr', 'pr1',\n",
       "       'vosp', 'prof', 'plan', 'lartpc', 'larrout', 'surf', 'infra', 'situ',\n",
       "       'env1'],\n",
       "      dtype='object')"
      ]
     },
     "execution_count": 56,
     "metadata": {},
     "output_type": "execute_result"
    }
   ],
   "source": [
    "lieux.columns"
   ]
  },
  {
   "cell_type": "code",
   "execution_count": 76,
   "metadata": {},
   "outputs": [],
   "source": [
    "nouvelles_columns = [\"Num_Acc\", \n",
    "                     \"categorie_route\", \n",
    "                     \"numero_de_route\", \n",
    "                     \"indice_du_numero_de_route\", \n",
    "                     \"indice_alpha\", \n",
    "                     \"regime_de_circulation\", \n",
    "                     \"nb_de_voies\", \n",
    "                     \"numero_de_la_borne_de_rattachemen\",\n",
    "                     \"distance_a_la_borne\",\n",
    "                     \"existence_voie_reservee\", \n",
    "                     \"declivite\",\n",
    "                     \"trace_du_plan\",\n",
    "                     \"largeur_terre_plein\",\n",
    "                     \"largeur_chaussee\", \n",
    "                     \"etat_surface\", \n",
    "                     \"infrastructure\",\n",
    "                     \"endroit\", \"a_une_ecole\"]"
   ]
  },
  {
   "cell_type": "code",
   "execution_count": 77,
   "metadata": {},
   "outputs": [
    {
     "data": {
      "text/plain": [
       "[('Num_Acc', 'Num_Acc'),\n",
       " ('categorie_route', 'catr'),\n",
       " ('numero_de_route', 'voie'),\n",
       " ('indice_du_numero_de_route', 'v1'),\n",
       " ('indice_alpha', 'v2'),\n",
       " ('regime_de_circulation', 'circ'),\n",
       " ('nb_de_voies', 'nbv'),\n",
       " ('numero_de_la_borne_de_rattachemen', 'pr'),\n",
       " ('distance_a_la_borne', 'pr1'),\n",
       " ('existence_voie_reservee', 'vosp'),\n",
       " ('declivite', 'prof'),\n",
       " ('trace_du_plan', 'plan'),\n",
       " ('largeur_terre_plein', 'lartpc'),\n",
       " ('largeur_chaussee', 'larrout'),\n",
       " ('etat_surface', 'surf'),\n",
       " ('infrastructure', 'infra'),\n",
       " ('endroit', 'situ'),\n",
       " ('a_une_ecole', 'env1')]"
      ]
     },
     "execution_count": 77,
     "metadata": {},
     "output_type": "execute_result"
    }
   ],
   "source": [
    "list(zip(nouvelles_columns, lieux.columns))"
   ]
  },
  {
   "cell_type": "code",
   "execution_count": 78,
   "metadata": {},
   "outputs": [],
   "source": [
    "df.columns = nouvelles_columns"
   ]
  },
  {
   "cell_type": "code",
   "execution_count": 79,
   "metadata": {},
   "outputs": [
    {
     "data": {
      "text/html": [
       "<div>\n",
       "<style scoped>\n",
       "    .dataframe tbody tr th:only-of-type {\n",
       "        vertical-align: middle;\n",
       "    }\n",
       "\n",
       "    .dataframe tbody tr th {\n",
       "        vertical-align: top;\n",
       "    }\n",
       "\n",
       "    .dataframe thead th {\n",
       "        text-align: right;\n",
       "    }\n",
       "</style>\n",
       "<table border=\"1\" class=\"dataframe\">\n",
       "  <thead>\n",
       "    <tr style=\"text-align: right;\">\n",
       "      <th></th>\n",
       "      <th>0</th>\n",
       "      <th>1</th>\n",
       "      <th>2</th>\n",
       "      <th>3</th>\n",
       "      <th>4</th>\n",
       "    </tr>\n",
       "  </thead>\n",
       "  <tbody>\n",
       "    <tr>\n",
       "      <th>Num_Acc</th>\n",
       "      <td>201600000001</td>\n",
       "      <td>201600000002</td>\n",
       "      <td>201600000003</td>\n",
       "      <td>201600000004</td>\n",
       "      <td>201600000005</td>\n",
       "    </tr>\n",
       "    <tr>\n",
       "      <th>categorie_route</th>\n",
       "      <td>3</td>\n",
       "      <td>3</td>\n",
       "      <td>3</td>\n",
       "      <td>4</td>\n",
       "      <td>4</td>\n",
       "    </tr>\n",
       "    <tr>\n",
       "      <th>numero_de_route</th>\n",
       "      <td>39</td>\n",
       "      <td>39</td>\n",
       "      <td>1</td>\n",
       "      <td>0</td>\n",
       "      <td>0</td>\n",
       "    </tr>\n",
       "    <tr>\n",
       "      <th>indice_du_numero_de_route</th>\n",
       "      <td>NaN</td>\n",
       "      <td>NaN</td>\n",
       "      <td>NaN</td>\n",
       "      <td>NaN</td>\n",
       "      <td>NaN</td>\n",
       "    </tr>\n",
       "    <tr>\n",
       "      <th>indice_alpha</th>\n",
       "      <td>NaN</td>\n",
       "      <td>NaN</td>\n",
       "      <td>NaN</td>\n",
       "      <td>NaN</td>\n",
       "      <td>NaN</td>\n",
       "    </tr>\n",
       "    <tr>\n",
       "      <th>regime_de_circulation</th>\n",
       "      <td>2</td>\n",
       "      <td>1</td>\n",
       "      <td>2</td>\n",
       "      <td>2</td>\n",
       "      <td>0</td>\n",
       "    </tr>\n",
       "    <tr>\n",
       "      <th>nb_de_voies</th>\n",
       "      <td>0</td>\n",
       "      <td>0</td>\n",
       "      <td>2</td>\n",
       "      <td>0</td>\n",
       "      <td>0</td>\n",
       "    </tr>\n",
       "    <tr>\n",
       "      <th>numero_de_la_borne_de_rattachemen</th>\n",
       "      <td>NaN</td>\n",
       "      <td>NaN</td>\n",
       "      <td>NaN</td>\n",
       "      <td>NaN</td>\n",
       "      <td>NaN</td>\n",
       "    </tr>\n",
       "    <tr>\n",
       "      <th>distance_a_la_borne</th>\n",
       "      <td>NaN</td>\n",
       "      <td>NaN</td>\n",
       "      <td>NaN</td>\n",
       "      <td>NaN</td>\n",
       "      <td>NaN</td>\n",
       "    </tr>\n",
       "    <tr>\n",
       "      <th>existence_voie_reservee</th>\n",
       "      <td>0</td>\n",
       "      <td>0</td>\n",
       "      <td>0</td>\n",
       "      <td>0</td>\n",
       "      <td>0</td>\n",
       "    </tr>\n",
       "    <tr>\n",
       "      <th>declivite</th>\n",
       "      <td>1</td>\n",
       "      <td>1</td>\n",
       "      <td>1</td>\n",
       "      <td>1</td>\n",
       "      <td>0</td>\n",
       "    </tr>\n",
       "    <tr>\n",
       "      <th>trace_du_plan</th>\n",
       "      <td>3</td>\n",
       "      <td>2</td>\n",
       "      <td>3</td>\n",
       "      <td>1</td>\n",
       "      <td>1</td>\n",
       "    </tr>\n",
       "    <tr>\n",
       "      <th>largeur_terre_plein</th>\n",
       "      <td>0</td>\n",
       "      <td>0</td>\n",
       "      <td>0</td>\n",
       "      <td>0</td>\n",
       "      <td>0</td>\n",
       "    </tr>\n",
       "    <tr>\n",
       "      <th>largeur_chaussee</th>\n",
       "      <td>0</td>\n",
       "      <td>58</td>\n",
       "      <td>68</td>\n",
       "      <td>0</td>\n",
       "      <td>0</td>\n",
       "    </tr>\n",
       "    <tr>\n",
       "      <th>etat_surface</th>\n",
       "      <td>1</td>\n",
       "      <td>1</td>\n",
       "      <td>2</td>\n",
       "      <td>1</td>\n",
       "      <td>1</td>\n",
       "    </tr>\n",
       "    <tr>\n",
       "      <th>infrastructure</th>\n",
       "      <td>0</td>\n",
       "      <td>0</td>\n",
       "      <td>0</td>\n",
       "      <td>0</td>\n",
       "      <td>0</td>\n",
       "    </tr>\n",
       "    <tr>\n",
       "      <th>endroit</th>\n",
       "      <td>1</td>\n",
       "      <td>1</td>\n",
       "      <td>3</td>\n",
       "      <td>1</td>\n",
       "      <td>1</td>\n",
       "    </tr>\n",
       "    <tr>\n",
       "      <th>a_une_ecole</th>\n",
       "      <td>0</td>\n",
       "      <td>0</td>\n",
       "      <td>99</td>\n",
       "      <td>99</td>\n",
       "      <td>3</td>\n",
       "    </tr>\n",
       "  </tbody>\n",
       "</table>\n",
       "</div>"
      ],
      "text/plain": [
       "                                              0             1             2  \\\n",
       "Num_Acc                            201600000001  201600000002  201600000003   \n",
       "categorie_route                               3             3             3   \n",
       "numero_de_route                              39            39             1   \n",
       "indice_du_numero_de_route                   NaN           NaN           NaN   \n",
       "indice_alpha                                NaN           NaN           NaN   \n",
       "regime_de_circulation                         2             1             2   \n",
       "nb_de_voies                                   0             0             2   \n",
       "numero_de_la_borne_de_rattachemen           NaN           NaN           NaN   \n",
       "distance_a_la_borne                         NaN           NaN           NaN   \n",
       "existence_voie_reservee                       0             0             0   \n",
       "declivite                                     1             1             1   \n",
       "trace_du_plan                                 3             2             3   \n",
       "largeur_terre_plein                           0             0             0   \n",
       "largeur_chaussee                              0            58            68   \n",
       "etat_surface                                  1             1             2   \n",
       "infrastructure                                0             0             0   \n",
       "endroit                                       1             1             3   \n",
       "a_une_ecole                                   0             0            99   \n",
       "\n",
       "                                              3             4  \n",
       "Num_Acc                            201600000004  201600000005  \n",
       "categorie_route                               4             4  \n",
       "numero_de_route                               0             0  \n",
       "indice_du_numero_de_route                   NaN           NaN  \n",
       "indice_alpha                                NaN           NaN  \n",
       "regime_de_circulation                         2             0  \n",
       "nb_de_voies                                   0             0  \n",
       "numero_de_la_borne_de_rattachemen           NaN           NaN  \n",
       "distance_a_la_borne                         NaN           NaN  \n",
       "existence_voie_reservee                       0             0  \n",
       "declivite                                     1             0  \n",
       "trace_du_plan                                 1             1  \n",
       "largeur_terre_plein                           0             0  \n",
       "largeur_chaussee                              0             0  \n",
       "etat_surface                                  1             1  \n",
       "infrastructure                                0             0  \n",
       "endroit                                       1             1  \n",
       "a_une_ecole                                  99             3  "
      ]
     },
     "execution_count": 79,
     "metadata": {},
     "output_type": "execute_result"
    }
   ],
   "source": [
    "df.head().T"
   ]
  },
  {
   "cell_type": "markdown",
   "metadata": {},
   "source": [
    "# Etudions le nb_de_voie"
   ]
  },
  {
   "cell_type": "code",
   "execution_count": 39,
   "metadata": {},
   "outputs": [
    {
     "data": {
      "text/plain": [
       "array([ 0.,  2.,  1.,  4.,  3., nan,  5.,  6., 10.,  8., 12.,  7., 13.,\n",
       "       11.,  9.])"
      ]
     },
     "execution_count": 39,
     "metadata": {},
     "output_type": "execute_result"
    }
   ],
   "source": [
    "df.nb_de_voies.unique()"
   ]
  },
  {
   "cell_type": "code",
   "execution_count": 41,
   "metadata": {},
   "outputs": [
    {
     "data": {
      "text/plain": [
       " 2.0     31250\n",
       " 0.0      7886\n",
       " 1.0      7452\n",
       " 4.0      5656\n",
       " 3.0      4689\n",
       " 6.0      1383\n",
       " 5.0       575\n",
       " 8.0       259\n",
       "NaN        164\n",
       " 7.0        78\n",
       " 10.0       21\n",
       " 9.0         8\n",
       " 11.0        6\n",
       " 12.0        3\n",
       " 13.0        2\n",
       "Name: nb_de_voies, dtype: int64"
      ]
     },
     "execution_count": 41,
     "metadata": {},
     "output_type": "execute_result"
    }
   ],
   "source": [
    "df.nb_de_voies.value_counts(dropna=False)"
   ]
  },
  {
   "cell_type": "code",
   "execution_count": 42,
   "metadata": {},
   "outputs": [
    {
     "data": {
      "text/plain": [
       "15"
      ]
     },
     "execution_count": 42,
     "metadata": {},
     "output_type": "execute_result"
    }
   ],
   "source": [
    "len(df.nb_de_voies.unique())"
   ]
  },
  {
   "cell_type": "code",
   "execution_count": 47,
   "metadata": {},
   "outputs": [
    {
     "data": {
      "text/plain": [
       "<matplotlib.axes._subplots.AxesSubplot at 0x1a1203fda0>"
      ]
     },
     "execution_count": 47,
     "metadata": {},
     "output_type": "execute_result"
    },
    {
     "data": {
      "image/png": "[encoded data removed]",
      "text/plain": [
       "<Figure size 432x288 with 1 Axes>"
      ]
     },
     "metadata": {},
     "output_type": "display_data"
    }
   ],
   "source": [
    "\n",
    "df.nb_de_voies.plot.hist()"
   ]
  },
  {
   "cell_type": "code",
   "execution_count": 82,
   "metadata": {},
   "outputs": [
    {
     "data": {
      "text/plain": [
       "<matplotlib.axes._subplots.AxesSubplot at 0x1a140aaa90>"
      ]
     },
     "execution_count": 82,
     "metadata": {},
     "output_type": "execute_result"
    },
    {
     "data": {
      "image/png": "[encoded data removed]",
      "text/plain": [
       "<Figure size 432x288 with 1 Axes>"
      ]
     },
     "metadata": {},
     "output_type": "display_data"
    }
   ],
   "source": [
    "title = \"Nombre d'accident par nombre de voies\"\n",
    "to_plot = df.nb_de_voies.value_counts(dropna=False)\n",
    "to_plot.plot.bar(title=title)"
   ]
  },
  {
   "cell_type": "markdown",
   "metadata": {},
   "source": [
    "# analysons la declivite"
   ]
  },
  {
   "cell_type": "markdown",
   "metadata": {},
   "source": [
    "## Multi cursor :\n",
    "\n",
    "1) créer le multi cursor = ALT + clic souris\n",
    "\n",
    "2) se déplacer à droite de toutes les lignes : \n",
    "CMD + flèche droite (sur mac)\n",
    "\n",
    "3) se déplacer à gauche de toutes les lignes : \n",
    "CMD + flèche gauche (sur mac)\n",
    "\n",
    "4) se déplacer d'un mot en le sélectionnant : MAJ + flèche\n",
    "\n",
    "5) rajouter des guillements autour de la sélection : guillemets"
   ]
  },
  {
   "cell_type": "markdown",
   "metadata": {},
   "source": [
    "## Appliquer un dictionnaire pour changer des codes en noms descriptives (par exemple)"
   ]
  },
  {
   "cell_type": "code",
   "execution_count": 87,
   "metadata": {},
   "outputs": [],
   "source": [
    "dico = {\n",
    "0 : \"inconnue\",\n",
    "1 : \"Partie rectiligne\",\n",
    "2 : \"En courbe à gauche \",\n",
    "3 : \"En courbe à droite\",\n",
    "4 : \"En « S »\",\n",
    "}"
   ]
  },
  {
   "cell_type": "code",
   "execution_count": 91,
   "metadata": {},
   "outputs": [],
   "source": [
    "df[\"declivite_enc\"] = df.declivite.map(dico)"
   ]
  },
  {
   "cell_type": "code",
   "execution_count": 92,
   "metadata": {},
   "outputs": [
    {
     "data": {
      "text/plain": [
       "Partie rectiligne       43956\n",
       "En courbe à gauche      8226\n",
       "inconnue                 5431\n",
       "En courbe à droite      1015\n",
       "En « S »                  648\n",
       "Name: declivite_enc, dtype: int64"
      ]
     },
     "execution_count": 92,
     "metadata": {},
     "output_type": "execute_result"
    }
   ],
   "source": [
    "df.declivite_enc.value_counts()"
   ]
  },
  {
   "cell_type": "code",
   "execution_count": 94,
   "metadata": {},
   "outputs": [
    {
     "data": {
      "text/plain": [
       "<matplotlib.axes._subplots.AxesSubplot at 0x1a13bba080>"
      ]
     },
     "execution_count": 94,
     "metadata": {},
     "output_type": "execute_result"
    },
    {
     "data": {
      "image/png": "[encoded data removed]",
      "text/plain": [
       "<Figure size 432x288 with 1 Axes>"
      ]
     },
     "metadata": {},
     "output_type": "display_data"
    }
   ],
   "source": [
    "df.declivite_enc.value_counts().plot.barh()"
   ]
  },
  {
   "cell_type": "code",
   "execution_count": 84,
   "metadata": {},
   "outputs": [
    {
     "data": {
      "text/plain": [
       " 1.0    43956\n",
       " 2.0     8226\n",
       " 0.0     5431\n",
       " 3.0     1015\n",
       " 4.0      648\n",
       "NaN       156\n",
       "Name: declivite, dtype: int64"
      ]
     },
     "execution_count": 84,
     "metadata": {},
     "output_type": "execute_result"
    }
   ],
   "source": [
    "df.declivite.value_counts(dropna=False)"
   ]
  },
  {
   "cell_type": "markdown",
   "metadata": {},
   "source": [
    "# Taille du dataset"
   ]
  },
  {
   "cell_type": "code",
   "execution_count": 27,
   "metadata": {},
   "outputs": [
    {
     "data": {
      "text/plain": [
       "(59432, 18)"
      ]
     },
     "execution_count": 27,
     "metadata": {},
     "output_type": "execute_result"
    }
   ],
   "source": [
    "lieux.shape"
   ]
  },
  {
   "cell_type": "code",
   "execution_count": 24,
   "metadata": {},
   "outputs": [
    {
     "data": {
      "text/plain": [
       "(133422, 12)"
      ]
     },
     "execution_count": 24,
     "metadata": {},
     "output_type": "execute_result"
    }
   ],
   "source": [
    "url_usagers = \"https://www.data.gouv.fr/fr/datasets/r/e4c6f4fe-7c68-4a1d-9bb6-b0f1f5d45526\"\n",
    "usagers =pd.read_csv(url_usagers, encoding=\"latin1\")\n",
    "usagers.shape"
   ]
  },
  {
   "cell_type": "code",
   "execution_count": null,
   "metadata": {},
   "outputs": [],
   "source": []
  }
 ],
 "metadata": {
  "kernelspec": {
   "display_name": "Python 3",
   "language": "python",
   "name": "python3"
  },
  "language_info": {
   "codemirror_mode": {
    "name": "ipython",
    "version": 3
   },
   "file_extension": ".py",
   "mimetype": "text/x-python",
   "name": "python",
   "nbconvert_exporter": "python",
   "pygments_lexer": "ipython3",
   "version": "3.6.5"
  }
 },
 "nbformat": 4,
 "nbformat_minor": 2
}
